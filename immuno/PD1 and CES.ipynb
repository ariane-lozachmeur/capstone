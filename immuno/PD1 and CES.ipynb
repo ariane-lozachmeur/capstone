{
 "cells": [
  {
   "cell_type": "code",
   "execution_count": 1,
   "metadata": {},
   "outputs": [],
   "source": [
    "import pandas as pd\n",
    "import numpy as np\n",
    "from math import *\n",
    "import matplotlib.pyplot as plt\n",
    "import matplotlib\n",
    "import scipy.stats\n",
    "\n",
    "import sys\n",
    "sys.path.append('../')\n",
    "import tools"
   ]
  },
  {
   "cell_type": "code",
   "execution_count": 85,
   "metadata": {},
   "outputs": [],
   "source": [
    "def boxplot(column1, column2='ces', ylim=None):\n",
    "    tmp = df[[column1, column2]].dropna()\n",
    "    low_q = np.percentile(tmp[column2],25)\n",
    "    high_q = np.percentile(tmp[column2],75)\n",
    "    low = tmp[tmp[column2]<low_q]\n",
    "    high = tmp[tmp[column2]>high_q]\n",
    "    plt.boxplot([low[column1].dropna(),high[column1].dropna()])\n",
    "    if ylim:\n",
    "        plt.ylim(ylim)\n",
    "    plt.title(str(column1)+' for low and high '+column2+' tumors')\n",
    "    print('Pvalue of t-test on high and low: ', scipy.stats.mannwhitneyu(low[column1], high[column1]))\n",
    "    plt.show()"
   ]
  },
  {
   "cell_type": "code",
   "execution_count": 86,
   "metadata": {},
   "outputs": [],
   "source": [
    "cancers = ['lung_adeno', 'head_neck_SCC','colorectal']\n",
    "cancer = cancers[2]"
   ]
  },
  {
   "cell_type": "code",
   "execution_count": 88,
   "metadata": {},
   "outputs": [],
   "source": [
    "df1 = tools.load_aggr('../data/'+cancer+'/ces.txt', column='ces')\n",
    "df2 = tools.load_mutation('../data/'+cancer+'/mutation.txt')\n",
    "df3 = tools.load_data('../data/'+cancer+'/pd1_mut.txt', cat='mut')\n",
    "df4 = tools.load_data('../data/'+cancer+'/pd1_expr.txt', cat='expr')"
   ]
  },
  {
   "cell_type": "code",
   "execution_count": 89,
   "metadata": {},
   "outputs": [
    {
     "data": {
      "text/html": [
       "<div>\n",
       "<style>\n",
       "    .dataframe thead tr:only-child th {\n",
       "        text-align: right;\n",
       "    }\n",
       "\n",
       "    .dataframe thead th {\n",
       "        text-align: left;\n",
       "    }\n",
       "\n",
       "    .dataframe tbody tr th {\n",
       "        vertical-align: top;\n",
       "    }\n",
       "</style>\n",
       "<table border=\"1\" class=\"dataframe\">\n",
       "  <thead>\n",
       "    <tr style=\"text-align: right;\">\n",
       "      <th></th>\n",
       "      <th>Mutation Count</th>\n",
       "      <th>CNA</th>\n",
       "      <th>ces</th>\n",
       "      <th>PDCD1_mut</th>\n",
       "      <th>PDCD1_expr</th>\n",
       "    </tr>\n",
       "    <tr>\n",
       "      <th>Sample ID</th>\n",
       "      <th></th>\n",
       "      <th></th>\n",
       "      <th></th>\n",
       "      <th></th>\n",
       "      <th></th>\n",
       "    </tr>\n",
       "  </thead>\n",
       "  <tbody>\n",
       "    <tr>\n",
       "      <th>TCGA-A6-2675-01</th>\n",
       "      <td>NaN</td>\n",
       "      <td>0.220794</td>\n",
       "      <td>2249.65</td>\n",
       "      <td>NaN</td>\n",
       "      <td>32.9063</td>\n",
       "    </tr>\n",
       "    <tr>\n",
       "      <th>TCGA-A6-5667-01</th>\n",
       "      <td>NaN</td>\n",
       "      <td>0.546520</td>\n",
       "      <td>4956.45</td>\n",
       "      <td>NaN</td>\n",
       "      <td>15.6863</td>\n",
       "    </tr>\n",
       "    <tr>\n",
       "      <th>TCGA-AA-3655-01</th>\n",
       "      <td>NaN</td>\n",
       "      <td>0.139335</td>\n",
       "      <td>6215.71</td>\n",
       "      <td>NaN</td>\n",
       "      <td>24.1076</td>\n",
       "    </tr>\n",
       "    <tr>\n",
       "      <th>TCGA-AA-3660-01</th>\n",
       "      <td>NaN</td>\n",
       "      <td>0.338368</td>\n",
       "      <td>6201.61</td>\n",
       "      <td>NaN</td>\n",
       "      <td>26.087</td>\n",
       "    </tr>\n",
       "    <tr>\n",
       "      <th>TCGA-AA-3662-01</th>\n",
       "      <td>NaN</td>\n",
       "      <td>0.441361</td>\n",
       "      <td>5130.71</td>\n",
       "      <td>NaN</td>\n",
       "      <td>25.3165</td>\n",
       "    </tr>\n",
       "  </tbody>\n",
       "</table>\n",
       "</div>"
      ],
      "text/plain": [
       "                 Mutation Count       CNA      ces PDCD1_mut PDCD1_expr\n",
       "Sample ID                                                              \n",
       "TCGA-A6-2675-01             NaN  0.220794  2249.65       NaN    32.9063\n",
       "TCGA-A6-5667-01             NaN  0.546520  4956.45       NaN    15.6863\n",
       "TCGA-AA-3655-01             NaN  0.139335  6215.71       NaN    24.1076\n",
       "TCGA-AA-3660-01             NaN  0.338368  6201.61       NaN     26.087\n",
       "TCGA-AA-3662-01             NaN  0.441361  5130.71       NaN    25.3165"
      ]
     },
     "execution_count": 89,
     "metadata": {},
     "output_type": "execute_result"
    }
   ],
   "source": [
    "df = df2.merge(df1, how='outer', left_on='Sample ID', right_index=True)\n",
    "df = df.merge(df3, how='outer', left_on='Sample ID', right_index=True)\n",
    "df = df.merge(df4, how='outer', left_on='Sample ID', right_index=True)\n",
    "df = df.set_index('Sample ID')\n",
    "df.head()"
   ]
  },
  {
   "cell_type": "code",
   "execution_count": 90,
   "metadata": {},
   "outputs": [
    {
     "data": {
      "image/png": "[encoded data removed]",
      "text/plain": [
       "<matplotlib.figure.Figure at 0x7fd2583f79b0>"
      ]
     },
     "metadata": {},
     "output_type": "display_data"
    },
    {
     "name": "stdout",
     "output_type": "stream",
     "text": [
      "Correlation: -0.0694325198386\n",
      "pvalue: 0.17566185252\n"
     ]
    }
   ],
   "source": [
    "plt.figure()\n",
    "plt.scatter(df['ces'],df['PDCD1_expr'], marker='.')\n",
    "plt.xlabel('CES')\n",
    "plt.ylabel('PD1')\n",
    "plt.show()\n",
    "tmp = df[['ces','PDCD1_expr']].dropna()\n",
    "correlation, pvalue = scipy.stats.spearmanr(tmp['ces'], tmp['PDCD1_expr'])\n",
    "print('Correlation: %s' % correlation)\n",
    "print('pvalue: %s' %pvalue)"
   ]
  },
  {
   "cell_type": "code",
   "execution_count": 95,
   "metadata": {},
   "outputs": [
    {
     "name": "stdout",
     "output_type": "stream",
     "text": [
      "Pvalue of t-test on high and low:  MannwhitneyuResult(statistic=4267.0, pvalue=0.18823515166915766)\n"
     ]
    },
    {
     "data": {
      "image/png": "[encoded data removed]",
      "text/plain": [
       "<matplotlib.figure.Figure at 0x7fd2583d7e48>"
      ]
     },
     "metadata": {},
     "output_type": "display_data"
    }
   ],
   "source": [
    "boxplot('PDCD1_expr')"
   ]
  },
  {
   "cell_type": "code",
   "execution_count": 92,
   "metadata": {},
   "outputs": [
    {
     "name": "stdout",
     "output_type": "stream",
     "text": [
      "1.0 1.0\n"
     ]
    }
   ],
   "source": [
    "df['ces_n'] = df['ces'] / np.sqrt(np.var(df['ces']))\n",
    "df['PDCD1_expr_n'] = df['PDCD1_expr'] / np.sqrt(np.var(df['PDCD1_expr']))\n",
    "print(np.var(df['ces_n']), np.var(df['PDCD1_expr_n']))"
   ]
  },
  {
   "cell_type": "code",
   "execution_count": 93,
   "metadata": {},
   "outputs": [
    {
     "data": {
      "image/png": "[encoded data removed]",
      "text/plain": [
       "<matplotlib.figure.Figure at 0x7fd258080b70>"
      ]
     },
     "metadata": {},
     "output_type": "display_data"
    }
   ],
   "source": [
    "plt.figure()\n",
    "plt.hist(df['ces_n'].dropna())\n",
    "plt.title('CES distribution')\n",
    "plt.show()"
   ]
  },
  {
   "cell_type": "code",
   "execution_count": 94,
   "metadata": {},
   "outputs": [
    {
     "data": {
      "image/png": "[encoded data removed]",
      "text/plain": [
       "<matplotlib.figure.Figure at 0x7fd2586e9780>"
      ]
     },
     "metadata": {},
     "output_type": "display_data"
    }
   ],
   "source": [
    "plt.figure()\n",
    "plt.hist(df['PDCD1_expr_n'].dropna())\n",
    "plt.title('PD1 expression distribution')\n",
    "plt.show()"
   ]
  },
  {
   "cell_type": "code",
   "execution_count": null,
   "metadata": {},
   "outputs": [],
   "source": []
  },
  {
   "cell_type": "code",
   "execution_count": null,
   "metadata": {},
   "outputs": [],
   "source": []
  }
 ],
 "metadata": {
  "kernelspec": {
   "display_name": "Python 3",
   "language": "python",
   "name": "python3"
  },
  "language_info": {
   "codemirror_mode": {
    "name": "ipython",
    "version": 3
   },
   "file_extension": ".py",
   "mimetype": "text/x-python",
   "name": "python",
   "nbconvert_exporter": "python",
   "pygments_lexer": "ipython3",
   "version": "3.5.2"
  }
 },
 "nbformat": 4,
 "nbformat_minor": 2
}
