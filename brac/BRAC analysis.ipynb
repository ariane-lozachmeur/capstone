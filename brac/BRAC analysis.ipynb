{
 "cells": [
  {
   "cell_type": "code",
   "execution_count": 2,
   "metadata": {},
   "outputs": [],
   "source": [
    "import pandas as pd\n",
    "import numpy as np\n",
    "from math import *\n",
    "import matplotlib.pyplot as plt\n",
    "import matplotlib\n",
    "import scipy.stats\n",
    "import tools"
   ]
  },
  {
   "cell_type": "code",
   "execution_count": 3,
   "metadata": {},
   "outputs": [],
   "source": [
    "def boxplot(column1, column2='ces'):\n",
    "    tmp = df[[column1, column2]].dropna()\n",
    "    low_q = np.percentile(tmp[column2],25)\n",
    "    high_q = np.percentile(tmp[column2],75)\n",
    "    low = tmp[tmp[column2]<low_q]\n",
    "    high = tmp[tmp[column2]>high_q]\n",
    "    plt.boxplot([low[column1].dropna(),high[column1].dropna()])\n",
    "    plt.title('Expression levels of '+str(column1)+' for low and high '+column2+' tumors')\n",
    "    print('Pvalue of t-test on high and low: ', scipy.stats.ttest_ind(low[column1], high[column1]).pvalue)\n",
    "    plt.show()"
   ]
  },
  {
   "cell_type": "code",
   "execution_count": 10,
   "metadata": {},
   "outputs": [],
   "source": [
    "cancers = ['lung_adenocarcinoma','skin','head_neck_SCC','lung_scc' ]\n",
    "cancer = cancers[1]"
   ]
  },
  {
   "cell_type": "code",
   "execution_count": 11,
   "metadata": {},
   "outputs": [],
   "source": [
    "df1 = tools.load_aggr('data/'+cancer+'/ces.txt', column='ces')\n",
    "df2 = tools.load_data('data/'+cancer+'/mmr.txt', cat='mmr')\n",
    "df3 = tools.load_data('data/'+cancer+'/infl.txt', cat='infl')\n",
    "df6 = tools.load_data('data/'+cancer+'/cgas.txt', cat='cgas')\n",
    "df4 = tools.load_mutation('data/'+cancer+'/mutation.txt')\n",
    "df5 = tools.load_aggr('data/'+cancer+'/infl.txt', column='infl')\n",
    "df7 = tools.load_aggr('data/'+cancer+'/cgas.txt', column='cgas')\n",
    "df8 = tools.load_data('data/'+cancer+'/brac.txt',cat='brac')\n",
    "df9 = tools.load_aggr('data/'+cancer+'/brac.txt',column='brac')"
   ]
  },
  {
   "cell_type": "code",
   "execution_count": 12,
   "metadata": {},
   "outputs": [
    {
     "data": {
      "text/html": [
       "<div>\n",
       "<style>\n",
       "    .dataframe thead tr:only-child th {\n",
       "        text-align: right;\n",
       "    }\n",
       "\n",
       "    .dataframe thead th {\n",
       "        text-align: left;\n",
       "    }\n",
       "\n",
       "    .dataframe tbody tr th {\n",
       "        vertical-align: top;\n",
       "    }\n",
       "</style>\n",
       "<table border=\"1\" class=\"dataframe\">\n",
       "  <thead>\n",
       "    <tr style=\"text-align: right;\">\n",
       "      <th></th>\n",
       "      <th>Sample ID</th>\n",
       "      <th>Mutation Count</th>\n",
       "      <th>CNA</th>\n",
       "      <th>ces</th>\n",
       "      <th>MLH1_mmr</th>\n",
       "      <th>MLH3_mmr</th>\n",
       "      <th>MSH2_mmr</th>\n",
       "      <th>MSH3_mmr</th>\n",
       "      <th>MSH6_mmr</th>\n",
       "      <th>PCNA_mmr</th>\n",
       "      <th>...</th>\n",
       "      <th>FANCF_brac</th>\n",
       "      <th>MRE11_brac</th>\n",
       "      <th>NLRP2_brac</th>\n",
       "      <th>PALB2_brac</th>\n",
       "      <th>RAD51B_brac</th>\n",
       "      <th>RAD51C_brac</th>\n",
       "      <th>RAD51D_brac</th>\n",
       "      <th>TP53_brac</th>\n",
       "      <th>WRN_brac</th>\n",
       "      <th>brac</th>\n",
       "    </tr>\n",
       "  </thead>\n",
       "  <tbody>\n",
       "    <tr>\n",
       "      <th>0</th>\n",
       "      <td>TCGA-3N-A9WC-06</td>\n",
       "      <td>NaN</td>\n",
       "      <td>0.350241</td>\n",
       "      <td>2968.47</td>\n",
       "      <td>826.257</td>\n",
       "      <td>170.631</td>\n",
       "      <td>806.584</td>\n",
       "      <td>539.175</td>\n",
       "      <td>1115.73</td>\n",
       "      <td>1956.44</td>\n",
       "      <td>...</td>\n",
       "      <td>321.59</td>\n",
       "      <td>476.563</td>\n",
       "      <td>56.208</td>\n",
       "      <td>375.389</td>\n",
       "      <td>61.0258</td>\n",
       "      <td>355.315</td>\n",
       "      <td>178.26</td>\n",
       "      <td>343.27</td>\n",
       "      <td>144.535</td>\n",
       "      <td>11031.2</td>\n",
       "    </tr>\n",
       "    <tr>\n",
       "      <th>1</th>\n",
       "      <td>TCGA-3N-A9WD-06</td>\n",
       "      <td>NaN</td>\n",
       "      <td>0.252234</td>\n",
       "      <td>3720.01</td>\n",
       "      <td>567.376</td>\n",
       "      <td>373.759</td>\n",
       "      <td>592.199</td>\n",
       "      <td>290.206</td>\n",
       "      <td>999.291</td>\n",
       "      <td>2922.7</td>\n",
       "      <td>...</td>\n",
       "      <td>492.908</td>\n",
       "      <td>374.468</td>\n",
       "      <td>3.5461</td>\n",
       "      <td>311.348</td>\n",
       "      <td>195.745</td>\n",
       "      <td>219.858</td>\n",
       "      <td>99.305</td>\n",
       "      <td>1140.43</td>\n",
       "      <td>239.716</td>\n",
       "      <td>12049.9</td>\n",
       "    </tr>\n",
       "    <tr>\n",
       "      <th>2</th>\n",
       "      <td>TCGA-BF-A1PU-01</td>\n",
       "      <td>73.0</td>\n",
       "      <td>0.682543</td>\n",
       "      <td>4544.35</td>\n",
       "      <td>1467.21</td>\n",
       "      <td>358.442</td>\n",
       "      <td>369.805</td>\n",
       "      <td>316.438</td>\n",
       "      <td>746.429</td>\n",
       "      <td>3877.27</td>\n",
       "      <td>...</td>\n",
       "      <td>249.351</td>\n",
       "      <td>201.948</td>\n",
       "      <td>2.5974</td>\n",
       "      <td>316.558</td>\n",
       "      <td>77.5974</td>\n",
       "      <td>411.039</td>\n",
       "      <td>324.351</td>\n",
       "      <td>5618.83</td>\n",
       "      <td>200.325</td>\n",
       "      <td>17151.1</td>\n",
       "    </tr>\n",
       "    <tr>\n",
       "      <th>3</th>\n",
       "      <td>TCGA-BF-A1PV-01</td>\n",
       "      <td>253.0</td>\n",
       "      <td>0.186543</td>\n",
       "      <td>4006.68</td>\n",
       "      <td>770.771</td>\n",
       "      <td>762.702</td>\n",
       "      <td>1142.86</td>\n",
       "      <td>487.46</td>\n",
       "      <td>1510.76</td>\n",
       "      <td>2852.06</td>\n",
       "      <td>...</td>\n",
       "      <td>534.668</td>\n",
       "      <td>485.356</td>\n",
       "      <td>1.4943</td>\n",
       "      <td>480.873</td>\n",
       "      <td>40.6455</td>\n",
       "      <td>248.655</td>\n",
       "      <td>315.003</td>\n",
       "      <td>2230.13</td>\n",
       "      <td>796.473</td>\n",
       "      <td>15486.3</td>\n",
       "    </tr>\n",
       "    <tr>\n",
       "      <th>4</th>\n",
       "      <td>TCGA-BF-A1PX-01</td>\n",
       "      <td>309.0</td>\n",
       "      <td>0.000762</td>\n",
       "      <td>4895.79</td>\n",
       "      <td>1044.84</td>\n",
       "      <td>171.359</td>\n",
       "      <td>641.641</td>\n",
       "      <td>239.659</td>\n",
       "      <td>1376.78</td>\n",
       "      <td>3324.99</td>\n",
       "      <td>...</td>\n",
       "      <td>239.833</td>\n",
       "      <td>214.112</td>\n",
       "      <td>704.553</td>\n",
       "      <td>340.285</td>\n",
       "      <td>72.9927</td>\n",
       "      <td>387.209</td>\n",
       "      <td>204.727</td>\n",
       "      <td>2622.52</td>\n",
       "      <td>125.478</td>\n",
       "      <td>12738.7</td>\n",
       "    </tr>\n",
       "  </tbody>\n",
       "</table>\n",
       "<p>5 rows × 119 columns</p>\n",
       "</div>"
      ],
      "text/plain": [
       "         Sample ID  Mutation Count       CNA      ces MLH1_mmr MLH3_mmr  \\\n",
       "0  TCGA-3N-A9WC-06             NaN  0.350241  2968.47  826.257  170.631   \n",
       "1  TCGA-3N-A9WD-06             NaN  0.252234  3720.01  567.376  373.759   \n",
       "2  TCGA-BF-A1PU-01            73.0  0.682543  4544.35  1467.21  358.442   \n",
       "3  TCGA-BF-A1PV-01           253.0  0.186543  4006.68  770.771  762.702   \n",
       "4  TCGA-BF-A1PX-01           309.0  0.000762  4895.79  1044.84  171.359   \n",
       "\n",
       "  MSH2_mmr MSH3_mmr MSH6_mmr PCNA_mmr   ...    FANCF_brac MRE11_brac  \\\n",
       "0  806.584  539.175  1115.73  1956.44   ...        321.59    476.563   \n",
       "1  592.199  290.206  999.291   2922.7   ...       492.908    374.468   \n",
       "2  369.805  316.438  746.429  3877.27   ...       249.351    201.948   \n",
       "3  1142.86   487.46  1510.76  2852.06   ...       534.668    485.356   \n",
       "4  641.641  239.659  1376.78  3324.99   ...       239.833    214.112   \n",
       "\n",
       "  NLRP2_brac PALB2_brac RAD51B_brac RAD51C_brac RAD51D_brac TP53_brac  \\\n",
       "0     56.208    375.389     61.0258     355.315      178.26    343.27   \n",
       "1     3.5461    311.348     195.745     219.858      99.305   1140.43   \n",
       "2     2.5974    316.558     77.5974     411.039     324.351   5618.83   \n",
       "3     1.4943    480.873     40.6455     248.655     315.003   2230.13   \n",
       "4    704.553    340.285     72.9927     387.209     204.727   2622.52   \n",
       "\n",
       "  WRN_brac     brac  \n",
       "0  144.535  11031.2  \n",
       "1  239.716  12049.9  \n",
       "2  200.325  17151.1  \n",
       "3  796.473  15486.3  \n",
       "4  125.478  12738.7  \n",
       "\n",
       "[5 rows x 119 columns]"
      ]
     },
     "execution_count": 12,
     "metadata": {},
     "output_type": "execute_result"
    }
   ],
   "source": [
    "df = df4.merge(df1, how='outer', left_on='Sample ID', right_index=True)\n",
    "df = df.merge(df2, how='outer', left_on='Sample ID', right_index=True)\n",
    "df = df.merge(df3, how='outer', left_on='Sample ID', right_index=True)\n",
    "df = df.merge(df5, how='outer', left_on='Sample ID', right_index=True)\n",
    "df = df.merge(df6, how='outer', left_on='Sample ID', right_index=True)\n",
    "df = df.merge(df7, how='outer', left_on='Sample ID', right_index=True)\n",
    "df = df.merge(df8, how='outer', left_on='Sample ID', right_index=True)\n",
    "df = df.merge(df9, how='outer', left_on='Sample ID', right_index=True)\n",
    "df.head()"
   ]
  },
  {
   "cell_type": "code",
   "execution_count": 13,
   "metadata": {},
   "outputs": [
    {
     "data": {
      "image/png": "[encoded data removed]",
      "text/plain": [
       "<matplotlib.figure.Figure at 0x7f00e8d23128>"
      ]
     },
     "metadata": {},
     "output_type": "display_data"
    },
    {
     "name": "stdout",
     "output_type": "stream",
     "text": [
      "Correlation p value: \n"
     ]
    },
    {
     "ename": "NameError",
     "evalue": "name 'tmp' is not defined",
     "output_type": "error",
     "traceback": [
      "\u001b[0;31m---------------------------------------------------------------------------\u001b[0m",
      "\u001b[0;31mNameError\u001b[0m                                 Traceback (most recent call last)",
      "\u001b[0;32m<ipython-input-13-ca4dba3dbbe0>\u001b[0m in \u001b[0;36m<module>\u001b[0;34m()\u001b[0m\n\u001b[1;32m      5\u001b[0m \u001b[0mplt\u001b[0m\u001b[0;34m.\u001b[0m\u001b[0mshow\u001b[0m\u001b[0;34m(\u001b[0m\u001b[0;34m)\u001b[0m\u001b[0;34m\u001b[0m\u001b[0m\n\u001b[1;32m      6\u001b[0m \u001b[0mprint\u001b[0m\u001b[0;34m(\u001b[0m\u001b[0;34m'Correlation p value: '\u001b[0m\u001b[0;34m)\u001b[0m\u001b[0;34m\u001b[0m\u001b[0m\n\u001b[0;32m----> 7\u001b[0;31m \u001b[0mprint\u001b[0m\u001b[0;34m(\u001b[0m\u001b[0mscipy\u001b[0m\u001b[0;34m.\u001b[0m\u001b[0mstats\u001b[0m\u001b[0;34m.\u001b[0m\u001b[0mspearmanr\u001b[0m\u001b[0;34m(\u001b[0m\u001b[0mtmp\u001b[0m\u001b[0;34m[\u001b[0m\u001b[0;34m'ces'\u001b[0m\u001b[0;34m]\u001b[0m\u001b[0;34m,\u001b[0m \u001b[0mtmp\u001b[0m\u001b[0;34m[\u001b[0m\u001b[0;34m'brac'\u001b[0m\u001b[0;34m]\u001b[0m\u001b[0;34m)\u001b[0m\u001b[0;34m)\u001b[0m\u001b[0;34m\u001b[0m\u001b[0m\n\u001b[0m",
      "\u001b[0;31mNameError\u001b[0m: name 'tmp' is not defined"
     ]
    }
   ],
   "source": [
    "plt.figure()\n",
    "plt.scatter(df['ces'],df['brac'])\n",
    "plt.xlabel('CES')\n",
    "plt.ylabel('BRAC score')\n",
    "plt.show()\n",
    "print('Correlation p value: ')\n",
    "print(scipy.stats.spearmanr(tmp['ces'], tmp['brac']))"
   ]
  },
  {
   "cell_type": "code",
   "execution_count": 14,
   "metadata": {},
   "outputs": [
    {
     "name": "stdout",
     "output_type": "stream",
     "text": [
      "Correlation with  ATR_brac  :  0.111100133516\n",
      "Correlation with  BAP1_brac  :  -0.102040124627\n",
      "Correlation with  BLM_brac  :  0.662786817635\n",
      "Correlation with  BRCA1_brac  :  0.499584721684\n",
      "Correlation with  BRCA2_brac  :  0.485724765081\n",
      "Correlation with  BRIP1_brac  :  0.510434566676\n",
      "Correlation with  CHEK1_brac  :  0.556867338492\n",
      "Correlation with  CHEK2_brac  :  0.52288762456\n",
      "Correlation with  FANCA_brac  :  0.616220184466\n",
      "Correlation with  FANCC_brac  :  0.266247721333\n",
      "Correlation with  FANCD2_brac  :  0.634233038351\n",
      "Correlation with  FANCE_brac  :  0.18170189476\n",
      "Correlation with  FANCF_brac  :  0.0949845015257\n",
      "Correlation with  MRE11_brac  :  0.22212345874\n",
      "Correlation with  PALB2_brac  :  0.270370719489\n",
      "Correlation with  RAD51B_brac  :  0.142293933969\n",
      "Correlation with  RAD51C_brac  :  0.386317703546\n",
      "Correlation with  TP53_brac  :  -0.202552654985\n",
      "Correlation with  WRN_brac  :  0.187129499048\n",
      "Correlation with  brac  :  0.362770544294\n"
     ]
    }
   ],
   "source": [
    "corr_brac = pd.DataFrame([])\n",
    "for c in df.columns.values:\n",
    "    if 'brac' in c:\n",
    "        tmp = df[['ces',c]].dropna()\n",
    "        correlation, pvalue = scipy.stats.spearmanr(tmp['ces'], tmp[c])\n",
    "        corr_brac = corr_brac.append(pd.Series([c, correlation,  pvalue]), ignore_index=True)\n",
    "        if pvalue<0.05:\n",
    "            print('Correlation with ',c ,' : ',correlation)        \n",
    "corr_brac.columns=['gene', 'correlation','pvalue']\n",
    "corr_brac.to_csv('data/'+cancer+'/correlation_brac_with_ces.csv')"
   ]
  },
  {
   "cell_type": "code",
   "execution_count": 15,
   "metadata": {},
   "outputs": [],
   "source": [
    "df['new_brac'] = np.zeros(len(df))\n",
    "selected_genes = corr_brac[corr_brac['pvalue']<0.005]['gene']\n",
    "corr_brac.index=corr_brac['gene']\n",
    "for g in selected_genes:\n",
    "    if corr_brac.loc[g]['correlation']<0:\n",
    "        sign = -1\n",
    "    else:\n",
    "        sign = 1\n",
    "    df['new_brac'] += sign*df[g]"
   ]
  },
  {
   "cell_type": "code",
   "execution_count": 16,
   "metadata": {},
   "outputs": [
    {
     "data": {
      "image/png": "[encoded data removed]",
      "text/plain": [
       "<matplotlib.figure.Figure at 0x7f00e8c93828>"
      ]
     },
     "metadata": {},
     "output_type": "display_data"
    },
    {
     "name": "stdout",
     "output_type": "stream",
     "text": [
      "Correlation p value: \n",
      "SpearmanrResult(correlation=0.54880507344800145, pvalue=1.7740287290285897e-38)\n"
     ]
    }
   ],
   "source": [
    "plt.figure()\n",
    "plt.scatter(df['ces'],df['new_brac'])\n",
    "plt.xlabel('CES')\n",
    "plt.ylabel('BRAC score')\n",
    "plt.show()\n",
    "print('Correlation p value: ')\n",
    "tmp = df[['ces','new_brac']].dropna()\n",
    "print(scipy.stats.spearmanr(tmp['ces'], tmp['new_brac']))"
   ]
  },
  {
   "cell_type": "code",
   "execution_count": 17,
   "metadata": {},
   "outputs": [
    {
     "data": {
      "image/png": "[encoded data removed]",
      "text/plain": [
       "<matplotlib.figure.Figure at 0x7f00e69a9c50>"
      ]
     },
     "metadata": {},
     "output_type": "display_data"
    }
   ],
   "source": [
    "tmp = df[['ces','new_brac']].dropna()\n",
    "low = np.percentile(tmp['ces'],25)\n",
    "high = np.percentile(tmp['ces'],75)\n",
    "l1  = list(tmp[tmp['ces']<low]['new_brac'])\n",
    "l2  = list(tmp[tmp['ces']>high]['new_brac'])\n",
    "plt.boxplot([l1,l2],labels=['Low CES','High CES'])\n",
    "plt.ylabel('BRAC score')\n",
    "plt.ylim(5000,40000)\n",
    "plt.title('Comparison of BRAC score in low and high CES patients')\n",
    "plt.show()\n"
   ]
  },
  {
   "cell_type": "code",
   "execution_count": 18,
   "metadata": {},
   "outputs": [
    {
     "name": "stdout",
     "output_type": "stream",
     "text": [
      "Pvalue of t-test on high and low:  0.194603878627\n"
     ]
    },
    {
     "data": {
      "image/png": "[encoded data removed]",
      "text/plain": [
       "<matplotlib.figure.Figure at 0x7f00e69a9400>"
      ]
     },
     "metadata": {},
     "output_type": "display_data"
    }
   ],
   "source": [
    "boxplot('Mutation Count','new_brac')"
   ]
  },
  {
   "cell_type": "code",
   "execution_count": 19,
   "metadata": {},
   "outputs": [
    {
     "name": "stdout",
     "output_type": "stream",
     "text": [
      "Pvalue of t-test on high and low:  0.0127227944108\n"
     ]
    },
    {
     "data": {
      "image/png": "[encoded data removed]",
      "text/plain": [
       "<matplotlib.figure.Figure at 0x7f00e6847e48>"
      ]
     },
     "metadata": {},
     "output_type": "display_data"
    }
   ],
   "source": [
    "boxplot('Mutation Count','ces')"
   ]
  },
  {
   "cell_type": "code",
   "execution_count": null,
   "metadata": {},
   "outputs": [],
   "source": []
  }
 ],
 "metadata": {
  "kernelspec": {
   "display_name": "Python 3",
   "language": "python",
   "name": "python3"
  },
  "language_info": {
   "codemirror_mode": {
    "name": "ipython",
    "version": 3
   },
   "file_extension": ".py",
   "mimetype": "text/x-python",
   "name": "python",
   "nbconvert_exporter": "python",
   "pygments_lexer": "ipython3",
   "version": "3.5.2"
  }
 },
 "nbformat": 4,
 "nbformat_minor": 2
}
