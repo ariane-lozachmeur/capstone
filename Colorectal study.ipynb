{
 "cells": [
  {
   "cell_type": "code",
   "execution_count": 132,
   "metadata": {},
   "outputs": [],
   "source": [
    "import pandas as pd\n",
    "import numpy as np\n",
    "from math import *\n",
    "import matplotlib.pyplot as plt\n",
    "import matplotlib\n",
    "import matplotlib\n",
    "import scipy.stats"
   ]
  },
  {
   "cell_type": "markdown",
   "metadata": {},
   "source": [
    "# CES"
   ]
  },
  {
   "cell_type": "markdown",
   "metadata": {},
   "source": [
    "Load the dataset containing mRNA experession (Z-score) for the CES genes"
   ]
  },
  {
   "cell_type": "code",
   "execution_count": 133,
   "metadata": {},
   "outputs": [
    {
     "data": {
      "text/html": [
       "<div>\n",
       "<style>\n",
       "    .dataframe thead tr:only-child th {\n",
       "        text-align: right;\n",
       "    }\n",
       "\n",
       "    .dataframe thead th {\n",
       "        text-align: left;\n",
       "    }\n",
       "\n",
       "    .dataframe tbody tr th {\n",
       "        vertical-align: top;\n",
       "    }\n",
       "</style>\n",
       "<table border=\"1\" class=\"dataframe\">\n",
       "  <thead>\n",
       "    <tr style=\"text-align: right;\">\n",
       "      <th></th>\n",
       "      <th>GENE_ID</th>\n",
       "      <th>COMMON</th>\n",
       "      <th>TCGA-D5-6531-01</th>\n",
       "      <th>TCGA-DM-A28A-01</th>\n",
       "      <th>TCGA-DC-5869-01</th>\n",
       "      <th>TCGA-F4-6460-01</th>\n",
       "      <th>TCGA-DY-A1DC-01</th>\n",
       "      <th>TCGA-CM-5862-01</th>\n",
       "      <th>TCGA-CK-4947-01</th>\n",
       "      <th>TCGA-AH-6544-01</th>\n",
       "      <th>...</th>\n",
       "      <th>TCGA-QG-A5YW-01</th>\n",
       "      <th>TCGA-AF-6672-01</th>\n",
       "      <th>TCGA-F5-6464-01</th>\n",
       "      <th>TCGA-AA-3663-01</th>\n",
       "      <th>TCGA-G4-6299-01</th>\n",
       "      <th>TCGA-5M-AAT6-01</th>\n",
       "      <th>TCGA-CK-4950-01</th>\n",
       "      <th>TCGA-G4-6314-01</th>\n",
       "      <th>TCGA-F5-6810-01</th>\n",
       "      <th>Unnamed: 384</th>\n",
       "    </tr>\n",
       "  </thead>\n",
       "  <tbody>\n",
       "    <tr>\n",
       "      <th>0</th>\n",
       "      <td>1058</td>\n",
       "      <td>CENPA</td>\n",
       "      <td>-0.0301</td>\n",
       "      <td>0.2179</td>\n",
       "      <td>1.4571</td>\n",
       "      <td>-0.7924</td>\n",
       "      <td>1.5764</td>\n",
       "      <td>0.3559</td>\n",
       "      <td>-0.0643</td>\n",
       "      <td>1.9212</td>\n",
       "      <td>...</td>\n",
       "      <td>-0.7800</td>\n",
       "      <td>-0.9124</td>\n",
       "      <td>-1.3433</td>\n",
       "      <td>0.1516</td>\n",
       "      <td>-0.4601</td>\n",
       "      <td>-0.5838</td>\n",
       "      <td>0.8886</td>\n",
       "      <td>-0.2891</td>\n",
       "      <td>0.4476</td>\n",
       "      <td>NaN</td>\n",
       "    </tr>\n",
       "    <tr>\n",
       "      <th>1</th>\n",
       "      <td>64105</td>\n",
       "      <td>CENPK</td>\n",
       "      <td>-0.5824</td>\n",
       "      <td>0.0206</td>\n",
       "      <td>1.2963</td>\n",
       "      <td>-0.0141</td>\n",
       "      <td>0.1650</td>\n",
       "      <td>-0.0158</td>\n",
       "      <td>0.0376</td>\n",
       "      <td>0.4544</td>\n",
       "      <td>...</td>\n",
       "      <td>-0.4578</td>\n",
       "      <td>-0.8575</td>\n",
       "      <td>-1.0678</td>\n",
       "      <td>0.6655</td>\n",
       "      <td>-0.2055</td>\n",
       "      <td>-0.2768</td>\n",
       "      <td>-0.5189</td>\n",
       "      <td>-0.0711</td>\n",
       "      <td>1.1868</td>\n",
       "      <td>NaN</td>\n",
       "    </tr>\n",
       "    <tr>\n",
       "      <th>2</th>\n",
       "      <td>91687</td>\n",
       "      <td>CENPL</td>\n",
       "      <td>0.1716</td>\n",
       "      <td>1.6052</td>\n",
       "      <td>0.9938</td>\n",
       "      <td>0.2612</td>\n",
       "      <td>-0.2121</td>\n",
       "      <td>1.4827</td>\n",
       "      <td>-0.2989</td>\n",
       "      <td>1.1545</td>\n",
       "      <td>...</td>\n",
       "      <td>-0.5931</td>\n",
       "      <td>-0.0485</td>\n",
       "      <td>-0.5470</td>\n",
       "      <td>0.8234</td>\n",
       "      <td>0.9041</td>\n",
       "      <td>0.6755</td>\n",
       "      <td>-0.0181</td>\n",
       "      <td>-0.3901</td>\n",
       "      <td>1.4739</td>\n",
       "      <td>NaN</td>\n",
       "    </tr>\n",
       "    <tr>\n",
       "      <th>3</th>\n",
       "      <td>79019</td>\n",
       "      <td>CENPM</td>\n",
       "      <td>0.1191</td>\n",
       "      <td>-0.7380</td>\n",
       "      <td>-0.5356</td>\n",
       "      <td>-0.7788</td>\n",
       "      <td>-0.1759</td>\n",
       "      <td>-0.9800</td>\n",
       "      <td>-0.3044</td>\n",
       "      <td>0.0333</td>\n",
       "      <td>...</td>\n",
       "      <td>-0.9764</td>\n",
       "      <td>-1.4288</td>\n",
       "      <td>-1.4406</td>\n",
       "      <td>3.3740</td>\n",
       "      <td>-0.0877</td>\n",
       "      <td>0.4225</td>\n",
       "      <td>0.7416</td>\n",
       "      <td>0.3123</td>\n",
       "      <td>-0.5262</td>\n",
       "      <td>NaN</td>\n",
       "    </tr>\n",
       "    <tr>\n",
       "      <th>4</th>\n",
       "      <td>55839</td>\n",
       "      <td>CENPN</td>\n",
       "      <td>1.2855</td>\n",
       "      <td>1.4574</td>\n",
       "      <td>1.3967</td>\n",
       "      <td>1.5256</td>\n",
       "      <td>0.1120</td>\n",
       "      <td>-0.3345</td>\n",
       "      <td>-0.9970</td>\n",
       "      <td>1.3151</td>\n",
       "      <td>...</td>\n",
       "      <td>-0.7026</td>\n",
       "      <td>-1.5847</td>\n",
       "      <td>-1.6145</td>\n",
       "      <td>0.6347</td>\n",
       "      <td>-1.1639</td>\n",
       "      <td>0.5376</td>\n",
       "      <td>-0.0977</td>\n",
       "      <td>-0.3397</td>\n",
       "      <td>2.9461</td>\n",
       "      <td>NaN</td>\n",
       "    </tr>\n",
       "  </tbody>\n",
       "</table>\n",
       "<p>5 rows × 385 columns</p>\n",
       "</div>"
      ],
      "text/plain": [
       "   GENE_ID COMMON  TCGA-D5-6531-01  TCGA-DM-A28A-01  TCGA-DC-5869-01  \\\n",
       "0     1058  CENPA          -0.0301           0.2179           1.4571   \n",
       "1    64105  CENPK          -0.5824           0.0206           1.2963   \n",
       "2    91687  CENPL           0.1716           1.6052           0.9938   \n",
       "3    79019  CENPM           0.1191          -0.7380          -0.5356   \n",
       "4    55839  CENPN           1.2855           1.4574           1.3967   \n",
       "\n",
       "   TCGA-F4-6460-01  TCGA-DY-A1DC-01  TCGA-CM-5862-01  TCGA-CK-4947-01  \\\n",
       "0          -0.7924           1.5764           0.3559          -0.0643   \n",
       "1          -0.0141           0.1650          -0.0158           0.0376   \n",
       "2           0.2612          -0.2121           1.4827          -0.2989   \n",
       "3          -0.7788          -0.1759          -0.9800          -0.3044   \n",
       "4           1.5256           0.1120          -0.3345          -0.9970   \n",
       "\n",
       "   TCGA-AH-6544-01      ...       TCGA-QG-A5YW-01  TCGA-AF-6672-01  \\\n",
       "0           1.9212      ...               -0.7800          -0.9124   \n",
       "1           0.4544      ...               -0.4578          -0.8575   \n",
       "2           1.1545      ...               -0.5931          -0.0485   \n",
       "3           0.0333      ...               -0.9764          -1.4288   \n",
       "4           1.3151      ...               -0.7026          -1.5847   \n",
       "\n",
       "   TCGA-F5-6464-01  TCGA-AA-3663-01  TCGA-G4-6299-01  TCGA-5M-AAT6-01  \\\n",
       "0          -1.3433           0.1516          -0.4601          -0.5838   \n",
       "1          -1.0678           0.6655          -0.2055          -0.2768   \n",
       "2          -0.5470           0.8234           0.9041           0.6755   \n",
       "3          -1.4406           3.3740          -0.0877           0.4225   \n",
       "4          -1.6145           0.6347          -1.1639           0.5376   \n",
       "\n",
       "   TCGA-CK-4950-01  TCGA-G4-6314-01  TCGA-F5-6810-01  Unnamed: 384  \n",
       "0           0.8886          -0.2891           0.4476           NaN  \n",
       "1          -0.5189          -0.0711           1.1868           NaN  \n",
       "2          -0.0181          -0.3901           1.4739           NaN  \n",
       "3           0.7416           0.3123          -0.5262           NaN  \n",
       "4          -0.0977          -0.3397           2.9461           NaN  \n",
       "\n",
       "[5 rows x 385 columns]"
      ]
     },
     "execution_count": 133,
     "metadata": {},
     "output_type": "execute_result"
    }
   ],
   "source": [
    "df_ces = pd.read_table('data/colorectal/cBioPortal_data.txt')\n",
    "df_ces.head()"
   ]
  },
  {
   "cell_type": "markdown",
   "metadata": {},
   "source": [
    "Calculate CES for each patient"
   ]
  },
  {
   "cell_type": "code",
   "execution_count": 134,
   "metadata": {},
   "outputs": [
    {
     "data": {
      "text/html": [
       "<div>\n",
       "<style>\n",
       "    .dataframe thead tr:only-child th {\n",
       "        text-align: right;\n",
       "    }\n",
       "\n",
       "    .dataframe thead th {\n",
       "        text-align: left;\n",
       "    }\n",
       "\n",
       "    .dataframe tbody tr th {\n",
       "        vertical-align: top;\n",
       "    }\n",
       "</style>\n",
       "<table border=\"1\" class=\"dataframe\">\n",
       "  <thead>\n",
       "    <tr style=\"text-align: right;\">\n",
       "      <th></th>\n",
       "      <th>id</th>\n",
       "      <th>ces</th>\n",
       "    </tr>\n",
       "  </thead>\n",
       "  <tbody>\n",
       "    <tr>\n",
       "      <th>0</th>\n",
       "      <td>TCGA-D5-6531-01</td>\n",
       "      <td>1.8834</td>\n",
       "    </tr>\n",
       "    <tr>\n",
       "      <th>1</th>\n",
       "      <td>TCGA-DM-A28A-01</td>\n",
       "      <td>6.4499</td>\n",
       "    </tr>\n",
       "    <tr>\n",
       "      <th>2</th>\n",
       "      <td>TCGA-DC-5869-01</td>\n",
       "      <td>7.8741</td>\n",
       "    </tr>\n",
       "    <tr>\n",
       "      <th>3</th>\n",
       "      <td>TCGA-F4-6460-01</td>\n",
       "      <td>-4.8967</td>\n",
       "    </tr>\n",
       "    <tr>\n",
       "      <th>4</th>\n",
       "      <td>TCGA-DY-A1DC-01</td>\n",
       "      <td>1.8764</td>\n",
       "    </tr>\n",
       "  </tbody>\n",
       "</table>\n",
       "</div>"
      ],
      "text/plain": [
       "                id     ces\n",
       "0  TCGA-D5-6531-01  1.8834\n",
       "1  TCGA-DM-A28A-01  6.4499\n",
       "2  TCGA-DC-5869-01  7.8741\n",
       "3  TCGA-F4-6460-01 -4.8967\n",
       "4  TCGA-DY-A1DC-01  1.8764"
      ]
     },
     "execution_count": 134,
     "metadata": {},
     "output_type": "execute_result"
    }
   ],
   "source": [
    "patients = []\n",
    "for p in df_ces.columns[2:]:\n",
    "    patients.append([p,df_ces[p].sum()])\n",
    "\n",
    "patients = pd.DataFrame(patients)\n",
    "patients.columns = ['id','ces']\n",
    "patients.head()"
   ]
  },
  {
   "cell_type": "markdown",
   "metadata": {},
   "source": [
    "# MMR deficiency determination"
   ]
  },
  {
   "cell_type": "markdown",
   "metadata": {},
   "source": [
    "The genes upreg are upregulated in MSS tumors, downreg are downregulated in MSS tumors"
   ]
  },
  {
   "cell_type": "code",
   "execution_count": 135,
   "metadata": {},
   "outputs": [],
   "source": [
    "upreg = ['ANG','TFF2','SRSF6','SET','EIF5A','RARRES1' ,'CRIP1','CD55','IQGAP2','P4HA1',\n",
    "         'TYMS','GLRX','NUCB2','FUT8','HNRNPL','PCCB','EIF5A','POLR2L','GTF2A2','GALNT1',\n",
    "         'NDUFA9','TNNT1','AHR','PRKAR2B','ATP5A1','AMFR','OSTF1','CALM1','MANF','EWSR1',\n",
    "         'SSR1','MFAP1','GNAQ','PPP2R5E','USP14','GCH1','KIF11','CASP2','SLC1A1','PGGT1B','RAB27B']\n",
    "downreg = ['FTO','PLAGL1','STK38','DMD','NONO','CSNK1E','TCF7','POFUT1','OCRL','ELF1','LRP1','MLH1',\n",
    "           'MARCKS','JUN','ELN','RAB32','TSC22D1','YWHAB','SEMA3C','GABRE','NEK3','PRKCI','TGFBR2',\n",
    "           'FCGRT','CFTR','SERINC3','HSPH1','TDGF1','CYP2B7P']"
   ]
  },
  {
   "cell_type": "code",
   "execution_count": 136,
   "metadata": {},
   "outputs": [
    {
     "data": {
      "text/html": [
       "<div>\n",
       "<style>\n",
       "    .dataframe thead tr:only-child th {\n",
       "        text-align: right;\n",
       "    }\n",
       "\n",
       "    .dataframe thead th {\n",
       "        text-align: left;\n",
       "    }\n",
       "\n",
       "    .dataframe tbody tr th {\n",
       "        vertical-align: top;\n",
       "    }\n",
       "</style>\n",
       "<table border=\"1\" class=\"dataframe\">\n",
       "  <thead>\n",
       "    <tr style=\"text-align: right;\">\n",
       "      <th></th>\n",
       "      <th>GENE_ID</th>\n",
       "      <th>COMMON</th>\n",
       "      <th>TCGA-D5-6531-01</th>\n",
       "      <th>TCGA-DM-A28A-01</th>\n",
       "      <th>TCGA-DC-5869-01</th>\n",
       "      <th>TCGA-F4-6460-01</th>\n",
       "      <th>TCGA-DY-A1DC-01</th>\n",
       "      <th>TCGA-CM-5862-01</th>\n",
       "      <th>TCGA-CK-4947-01</th>\n",
       "      <th>TCGA-AH-6544-01</th>\n",
       "      <th>...</th>\n",
       "      <th>TCGA-QG-A5YW-01</th>\n",
       "      <th>TCGA-AF-6672-01</th>\n",
       "      <th>TCGA-F5-6464-01</th>\n",
       "      <th>TCGA-AA-3663-01</th>\n",
       "      <th>TCGA-G4-6299-01</th>\n",
       "      <th>TCGA-5M-AAT6-01</th>\n",
       "      <th>TCGA-CK-4950-01</th>\n",
       "      <th>TCGA-G4-6314-01</th>\n",
       "      <th>TCGA-F5-6810-01</th>\n",
       "      <th>Unnamed: 384</th>\n",
       "    </tr>\n",
       "  </thead>\n",
       "  <tbody>\n",
       "    <tr>\n",
       "      <th>0</th>\n",
       "      <td>196</td>\n",
       "      <td>AHR</td>\n",
       "      <td>-0.2984</td>\n",
       "      <td>-1.0773</td>\n",
       "      <td>0.3750</td>\n",
       "      <td>-0.3260</td>\n",
       "      <td>-0.4386</td>\n",
       "      <td>0.1220</td>\n",
       "      <td>-0.3814</td>\n",
       "      <td>-0.1834</td>\n",
       "      <td>...</td>\n",
       "      <td>-0.9691</td>\n",
       "      <td>0.2356</td>\n",
       "      <td>1.4572</td>\n",
       "      <td>2.6877</td>\n",
       "      <td>0.6835</td>\n",
       "      <td>0.5541</td>\n",
       "      <td>-0.8253</td>\n",
       "      <td>0.1854</td>\n",
       "      <td>0.0946</td>\n",
       "      <td>NaN</td>\n",
       "    </tr>\n",
       "    <tr>\n",
       "      <th>1</th>\n",
       "      <td>267</td>\n",
       "      <td>AMFR</td>\n",
       "      <td>-0.6495</td>\n",
       "      <td>-0.5238</td>\n",
       "      <td>-0.1860</td>\n",
       "      <td>0.6383</td>\n",
       "      <td>0.7650</td>\n",
       "      <td>0.7976</td>\n",
       "      <td>-0.6584</td>\n",
       "      <td>0.6131</td>\n",
       "      <td>...</td>\n",
       "      <td>-0.6123</td>\n",
       "      <td>-2.1334</td>\n",
       "      <td>0.3610</td>\n",
       "      <td>1.4784</td>\n",
       "      <td>-1.2680</td>\n",
       "      <td>-0.1026</td>\n",
       "      <td>0.1404</td>\n",
       "      <td>-0.5809</td>\n",
       "      <td>-0.2820</td>\n",
       "      <td>NaN</td>\n",
       "    </tr>\n",
       "    <tr>\n",
       "      <th>2</th>\n",
       "      <td>283</td>\n",
       "      <td>ANG</td>\n",
       "      <td>-0.8204</td>\n",
       "      <td>-0.5854</td>\n",
       "      <td>-0.6932</td>\n",
       "      <td>-0.3655</td>\n",
       "      <td>-0.4288</td>\n",
       "      <td>-0.6588</td>\n",
       "      <td>-0.2356</td>\n",
       "      <td>-0.2301</td>\n",
       "      <td>...</td>\n",
       "      <td>-0.1548</td>\n",
       "      <td>0.3685</td>\n",
       "      <td>-0.4977</td>\n",
       "      <td>0.5362</td>\n",
       "      <td>-0.5201</td>\n",
       "      <td>-0.6622</td>\n",
       "      <td>-0.1426</td>\n",
       "      <td>-0.5349</td>\n",
       "      <td>-0.2083</td>\n",
       "      <td>NaN</td>\n",
       "    </tr>\n",
       "    <tr>\n",
       "      <th>3</th>\n",
       "      <td>498</td>\n",
       "      <td>ATP5A1</td>\n",
       "      <td>0.9265</td>\n",
       "      <td>-2.0746</td>\n",
       "      <td>-1.7211</td>\n",
       "      <td>-2.3986</td>\n",
       "      <td>-1.8909</td>\n",
       "      <td>-1.9642</td>\n",
       "      <td>0.0254</td>\n",
       "      <td>-2.1067</td>\n",
       "      <td>...</td>\n",
       "      <td>1.0781</td>\n",
       "      <td>-2.7523</td>\n",
       "      <td>-1.0694</td>\n",
       "      <td>0.1599</td>\n",
       "      <td>0.9668</td>\n",
       "      <td>-0.2835</td>\n",
       "      <td>0.0748</td>\n",
       "      <td>-1.8582</td>\n",
       "      <td>-2.1273</td>\n",
       "      <td>NaN</td>\n",
       "    </tr>\n",
       "    <tr>\n",
       "      <th>4</th>\n",
       "      <td>801</td>\n",
       "      <td>CALM1</td>\n",
       "      <td>-1.7234</td>\n",
       "      <td>-0.7818</td>\n",
       "      <td>-1.3100</td>\n",
       "      <td>-0.5795</td>\n",
       "      <td>0.1764</td>\n",
       "      <td>-0.6586</td>\n",
       "      <td>0.1324</td>\n",
       "      <td>-0.0313</td>\n",
       "      <td>...</td>\n",
       "      <td>0.1410</td>\n",
       "      <td>-0.4145</td>\n",
       "      <td>-0.2971</td>\n",
       "      <td>-0.4164</td>\n",
       "      <td>-0.6538</td>\n",
       "      <td>-1.3549</td>\n",
       "      <td>1.4396</td>\n",
       "      <td>-0.2014</td>\n",
       "      <td>-0.8057</td>\n",
       "      <td>NaN</td>\n",
       "    </tr>\n",
       "  </tbody>\n",
       "</table>\n",
       "<p>5 rows × 385 columns</p>\n",
       "</div>"
      ],
      "text/plain": [
       "   GENE_ID  COMMON  TCGA-D5-6531-01  TCGA-DM-A28A-01  TCGA-DC-5869-01  \\\n",
       "0      196     AHR          -0.2984          -1.0773           0.3750   \n",
       "1      267    AMFR          -0.6495          -0.5238          -0.1860   \n",
       "2      283     ANG          -0.8204          -0.5854          -0.6932   \n",
       "3      498  ATP5A1           0.9265          -2.0746          -1.7211   \n",
       "4      801   CALM1          -1.7234          -0.7818          -1.3100   \n",
       "\n",
       "   TCGA-F4-6460-01  TCGA-DY-A1DC-01  TCGA-CM-5862-01  TCGA-CK-4947-01  \\\n",
       "0          -0.3260          -0.4386           0.1220          -0.3814   \n",
       "1           0.6383           0.7650           0.7976          -0.6584   \n",
       "2          -0.3655          -0.4288          -0.6588          -0.2356   \n",
       "3          -2.3986          -1.8909          -1.9642           0.0254   \n",
       "4          -0.5795           0.1764          -0.6586           0.1324   \n",
       "\n",
       "   TCGA-AH-6544-01      ...       TCGA-QG-A5YW-01  TCGA-AF-6672-01  \\\n",
       "0          -0.1834      ...               -0.9691           0.2356   \n",
       "1           0.6131      ...               -0.6123          -2.1334   \n",
       "2          -0.2301      ...               -0.1548           0.3685   \n",
       "3          -2.1067      ...                1.0781          -2.7523   \n",
       "4          -0.0313      ...                0.1410          -0.4145   \n",
       "\n",
       "   TCGA-F5-6464-01  TCGA-AA-3663-01  TCGA-G4-6299-01  TCGA-5M-AAT6-01  \\\n",
       "0           1.4572           2.6877           0.6835           0.5541   \n",
       "1           0.3610           1.4784          -1.2680          -0.1026   \n",
       "2          -0.4977           0.5362          -0.5201          -0.6622   \n",
       "3          -1.0694           0.1599           0.9668          -0.2835   \n",
       "4          -0.2971          -0.4164          -0.6538          -1.3549   \n",
       "\n",
       "   TCGA-CK-4950-01  TCGA-G4-6314-01  TCGA-F5-6810-01  Unnamed: 384  \n",
       "0          -0.8253           0.1854           0.0946           NaN  \n",
       "1           0.1404          -0.5809          -0.2820           NaN  \n",
       "2          -0.1426          -0.5349          -0.2083           NaN  \n",
       "3           0.0748          -1.8582          -2.1273           NaN  \n",
       "4           1.4396          -0.2014          -0.8057           NaN  \n",
       "\n",
       "[5 rows x 385 columns]"
      ]
     },
     "execution_count": 136,
     "metadata": {},
     "output_type": "execute_result"
    }
   ],
   "source": [
    "mmr_patients = pd.read_table('data/colorectal/colorectal_msi_expr.txt')\n",
    "mmr_patients.head()"
   ]
  },
  {
   "cell_type": "markdown",
   "metadata": {},
   "source": [
    "Sum the expression scores for the upregulated and downregulated genes separately"
   ]
  },
  {
   "cell_type": "code",
   "execution_count": 137,
   "metadata": {},
   "outputs": [
    {
     "data": {
      "text/html": [
       "<div>\n",
       "<style>\n",
       "    .dataframe thead tr:only-child th {\n",
       "        text-align: right;\n",
       "    }\n",
       "\n",
       "    .dataframe thead th {\n",
       "        text-align: left;\n",
       "    }\n",
       "\n",
       "    .dataframe tbody tr th {\n",
       "        vertical-align: top;\n",
       "    }\n",
       "</style>\n",
       "<table border=\"1\" class=\"dataframe\">\n",
       "  <thead>\n",
       "    <tr style=\"text-align: right;\">\n",
       "      <th></th>\n",
       "      <th>id</th>\n",
       "      <th>upscore</th>\n",
       "      <th>downscore</th>\n",
       "    </tr>\n",
       "  </thead>\n",
       "  <tbody>\n",
       "    <tr>\n",
       "      <th>0</th>\n",
       "      <td>TCGA-D5-6531-01</td>\n",
       "      <td>-7.6179</td>\n",
       "      <td>12.6261</td>\n",
       "    </tr>\n",
       "    <tr>\n",
       "      <th>1</th>\n",
       "      <td>TCGA-DM-A28A-01</td>\n",
       "      <td>-15.5637</td>\n",
       "      <td>25.9099</td>\n",
       "    </tr>\n",
       "    <tr>\n",
       "      <th>2</th>\n",
       "      <td>TCGA-DC-5869-01</td>\n",
       "      <td>-9.0183</td>\n",
       "      <td>33.6345</td>\n",
       "    </tr>\n",
       "    <tr>\n",
       "      <th>3</th>\n",
       "      <td>TCGA-F4-6460-01</td>\n",
       "      <td>-25.3454</td>\n",
       "      <td>28.9109</td>\n",
       "    </tr>\n",
       "    <tr>\n",
       "      <th>4</th>\n",
       "      <td>TCGA-DY-A1DC-01</td>\n",
       "      <td>-14.6653</td>\n",
       "      <td>20.8919</td>\n",
       "    </tr>\n",
       "  </tbody>\n",
       "</table>\n",
       "</div>"
      ],
      "text/plain": [
       "                id  upscore  downscore\n",
       "0  TCGA-D5-6531-01  -7.6179    12.6261\n",
       "1  TCGA-DM-A28A-01 -15.5637    25.9099\n",
       "2  TCGA-DC-5869-01  -9.0183    33.6345\n",
       "3  TCGA-F4-6460-01 -25.3454    28.9109\n",
       "4  TCGA-DY-A1DC-01 -14.6653    20.8919"
      ]
     },
     "execution_count": 137,
     "metadata": {},
     "output_type": "execute_result"
    }
   ],
   "source": [
    "mmr_scores = []\n",
    "for p in mmr_patients.columns[2:]:\n",
    "    up_score = 0\n",
    "    for g in upreg:\n",
    "        score = mmr_patients[mmr_patients['COMMON']==g][p]\n",
    "        if not len(score)==1:\n",
    "            score = np.mean(score)\n",
    "        else:\n",
    "            try:\n",
    "                score = float(score)\n",
    "            except:\n",
    "                print (score)\n",
    "        up_score += score\n",
    "        \n",
    "    down_score = 0\n",
    "    for g in downreg:\n",
    "        score = mmr_patients[mmr_patients['COMMON']==g][p]\n",
    "        if not len(score)==1:\n",
    "            score = np.mean(score)\n",
    "        else:\n",
    "            try:\n",
    "                score = float(score)\n",
    "            except:\n",
    "                print(score)\n",
    "        down_score+= score\n",
    "        \n",
    "    mmr_scores.append([p,up_score,down_score])  \n",
    "    \n",
    "mmr_scores = pd.DataFrame(mmr_scores)\n",
    "mmr_scores.columns = ['id','upscore','downscore']\n",
    "mmr_scores.head()"
   ]
  },
  {
   "cell_type": "code",
   "execution_count": 138,
   "metadata": {},
   "outputs": [
    {
     "data": {
      "text/html": [
       "<div>\n",
       "<style>\n",
       "    .dataframe thead tr:only-child th {\n",
       "        text-align: right;\n",
       "    }\n",
       "\n",
       "    .dataframe thead th {\n",
       "        text-align: left;\n",
       "    }\n",
       "\n",
       "    .dataframe tbody tr th {\n",
       "        vertical-align: top;\n",
       "    }\n",
       "</style>\n",
       "<table border=\"1\" class=\"dataframe\">\n",
       "  <thead>\n",
       "    <tr style=\"text-align: right;\">\n",
       "      <th></th>\n",
       "      <th>id</th>\n",
       "      <th>upscore</th>\n",
       "      <th>downscore</th>\n",
       "      <th>ces</th>\n",
       "    </tr>\n",
       "  </thead>\n",
       "  <tbody>\n",
       "    <tr>\n",
       "      <th>0</th>\n",
       "      <td>TCGA-D5-6531-01</td>\n",
       "      <td>-7.6179</td>\n",
       "      <td>12.6261</td>\n",
       "      <td>1.8834</td>\n",
       "    </tr>\n",
       "    <tr>\n",
       "      <th>1</th>\n",
       "      <td>TCGA-DM-A28A-01</td>\n",
       "      <td>-15.5637</td>\n",
       "      <td>25.9099</td>\n",
       "      <td>6.4499</td>\n",
       "    </tr>\n",
       "    <tr>\n",
       "      <th>2</th>\n",
       "      <td>TCGA-DC-5869-01</td>\n",
       "      <td>-9.0183</td>\n",
       "      <td>33.6345</td>\n",
       "      <td>7.8741</td>\n",
       "    </tr>\n",
       "    <tr>\n",
       "      <th>3</th>\n",
       "      <td>TCGA-F4-6460-01</td>\n",
       "      <td>-25.3454</td>\n",
       "      <td>28.9109</td>\n",
       "      <td>-4.8967</td>\n",
       "    </tr>\n",
       "    <tr>\n",
       "      <th>4</th>\n",
       "      <td>TCGA-DY-A1DC-01</td>\n",
       "      <td>-14.6653</td>\n",
       "      <td>20.8919</td>\n",
       "      <td>1.8764</td>\n",
       "    </tr>\n",
       "  </tbody>\n",
       "</table>\n",
       "</div>"
      ],
      "text/plain": [
       "                id  upscore  downscore     ces\n",
       "0  TCGA-D5-6531-01  -7.6179    12.6261  1.8834\n",
       "1  TCGA-DM-A28A-01 -15.5637    25.9099  6.4499\n",
       "2  TCGA-DC-5869-01  -9.0183    33.6345  7.8741\n",
       "3  TCGA-F4-6460-01 -25.3454    28.9109 -4.8967\n",
       "4  TCGA-DY-A1DC-01 -14.6653    20.8919  1.8764"
      ]
     },
     "execution_count": 138,
     "metadata": {},
     "output_type": "execute_result"
    }
   ],
   "source": [
    "results = mmr_scores.merge(patients,how='inner',on='id')\n",
    "results.head()"
   ]
  },
  {
   "cell_type": "markdown",
   "metadata": {},
   "source": [
    "\n",
    "\n",
    "Categorization of the patients/tumors. If the category is not obvious, we don't try to guess\n"
   ]
  },
  {
   "cell_type": "code",
   "execution_count": 139,
   "metadata": {},
   "outputs": [
    {
     "data": {
      "text/html": [
       "<div>\n",
       "<style>\n",
       "    .dataframe thead tr:only-child th {\n",
       "        text-align: right;\n",
       "    }\n",
       "\n",
       "    .dataframe thead th {\n",
       "        text-align: left;\n",
       "    }\n",
       "\n",
       "    .dataframe tbody tr th {\n",
       "        vertical-align: top;\n",
       "    }\n",
       "</style>\n",
       "<table border=\"1\" class=\"dataframe\">\n",
       "  <thead>\n",
       "    <tr style=\"text-align: right;\">\n",
       "      <th></th>\n",
       "      <th>id</th>\n",
       "      <th>upscore</th>\n",
       "      <th>downscore</th>\n",
       "      <th>ces</th>\n",
       "      <th>cat</th>\n",
       "      <th>label</th>\n",
       "    </tr>\n",
       "  </thead>\n",
       "  <tbody>\n",
       "    <tr>\n",
       "      <th>0</th>\n",
       "      <td>TCGA-D5-6531-01</td>\n",
       "      <td>-7.6179</td>\n",
       "      <td>12.6261</td>\n",
       "      <td>1.8834</td>\n",
       "      <td>mss</td>\n",
       "      <td>1.0</td>\n",
       "    </tr>\n",
       "    <tr>\n",
       "      <th>1</th>\n",
       "      <td>TCGA-DM-A28A-01</td>\n",
       "      <td>-15.5637</td>\n",
       "      <td>25.9099</td>\n",
       "      <td>6.4499</td>\n",
       "      <td>mss</td>\n",
       "      <td>1.0</td>\n",
       "    </tr>\n",
       "    <tr>\n",
       "      <th>2</th>\n",
       "      <td>TCGA-DC-5869-01</td>\n",
       "      <td>-9.0183</td>\n",
       "      <td>33.6345</td>\n",
       "      <td>7.8741</td>\n",
       "      <td>mss</td>\n",
       "      <td>1.0</td>\n",
       "    </tr>\n",
       "    <tr>\n",
       "      <th>3</th>\n",
       "      <td>TCGA-F4-6460-01</td>\n",
       "      <td>-25.3454</td>\n",
       "      <td>28.9109</td>\n",
       "      <td>-4.8967</td>\n",
       "      <td>mss</td>\n",
       "      <td>1.0</td>\n",
       "    </tr>\n",
       "    <tr>\n",
       "      <th>4</th>\n",
       "      <td>TCGA-DY-A1DC-01</td>\n",
       "      <td>-14.6653</td>\n",
       "      <td>20.8919</td>\n",
       "      <td>1.8764</td>\n",
       "      <td>mss</td>\n",
       "      <td>1.0</td>\n",
       "    </tr>\n",
       "  </tbody>\n",
       "</table>\n",
       "</div>"
      ],
      "text/plain": [
       "                id  upscore  downscore     ces  cat  label\n",
       "0  TCGA-D5-6531-01  -7.6179    12.6261  1.8834  mss    1.0\n",
       "1  TCGA-DM-A28A-01 -15.5637    25.9099  6.4499  mss    1.0\n",
       "2  TCGA-DC-5869-01  -9.0183    33.6345  7.8741  mss    1.0\n",
       "3  TCGA-F4-6460-01 -25.3454    28.9109 -4.8967  mss    1.0\n",
       "4  TCGA-DY-A1DC-01 -14.6653    20.8919  1.8764  mss    1.0"
      ]
     },
     "execution_count": 139,
     "metadata": {},
     "output_type": "execute_result"
    }
   ],
   "source": [
    "for ix,p in results.iterrows():\n",
    "    if p['upscore']>0 and p['downscore']<0:\n",
    "        cat = 'msi'\n",
    "        label = 0\n",
    "    elif p['upscore']<0 and p['downscore']>0:\n",
    "        cat = 'mss'\n",
    "        label = 1\n",
    "    else:\n",
    "        cat = 'unknown'\n",
    "        label = 2\n",
    "    results = results.set_value(ix,'cat',cat)\n",
    "    results = results.set_value(ix,'label',label)\n",
    "\n",
    "results.head()"
   ]
  },
  {
   "cell_type": "markdown",
   "metadata": {},
   "source": [
    "\n",
    "\n",
    "Only 10% of patients are not classified\n"
   ]
  },
  {
   "cell_type": "code",
   "execution_count": 140,
   "metadata": {},
   "outputs": [
    {
     "data": {
      "text/plain": [
       "0.10966057441253264"
      ]
     },
     "execution_count": 140,
     "metadata": {},
     "output_type": "execute_result"
    }
   ],
   "source": [
    "float(np.sum(results['label']==2))/float(len(results['label']))"
   ]
  },
  {
   "cell_type": "code",
   "execution_count": 141,
   "metadata": {},
   "outputs": [
    {
     "data": {
      "image/png": "[encoded data removed]",
      "text/plain": [
       "<matplotlib.figure.Figure at 0x7fe013d58f60>"
      ]
     },
     "metadata": {},
     "output_type": "display_data"
    }
   ],
   "source": [
    "fig, ax = plt.subplots()\n",
    "colors = ['red','green','blue']\n",
    "ax.scatter(results['upscore'], results['downscore'],c = results['label'],cmap = matplotlib.colors.ListedColormap(colors))\n",
    "plt.xlabel('Up score')\n",
    "plt.ylabel('Down score')\n",
    "ax.grid(True, which='both')\n",
    "\n",
    "ax.axhline(y=0, color='k')\n",
    "ax.axvline(x=0, color='k')\n",
    "plt.show()"
   ]
  },
  {
   "cell_type": "markdown",
   "metadata": {},
   "source": [
    "RED : MSI , GREEN : MSS"
   ]
  },
  {
   "cell_type": "markdown",
   "metadata": {},
   "source": [
    "# CNA"
   ]
  },
  {
   "cell_type": "markdown",
   "metadata": {},
   "source": [
    "Load the dataset"
   ]
  },
  {
   "cell_type": "code",
   "execution_count": 142,
   "metadata": {},
   "outputs": [
    {
     "data": {
      "text/html": [
       "<div>\n",
       "<style>\n",
       "    .dataframe thead tr:only-child th {\n",
       "        text-align: right;\n",
       "    }\n",
       "\n",
       "    .dataframe thead th {\n",
       "        text-align: left;\n",
       "    }\n",
       "\n",
       "    .dataframe tbody tr th {\n",
       "        vertical-align: top;\n",
       "    }\n",
       "</style>\n",
       "<table border=\"1\" class=\"dataframe\">\n",
       "  <thead>\n",
       "    <tr style=\"text-align: right;\">\n",
       "      <th></th>\n",
       "      <th>Sample ID</th>\n",
       "      <th>Mutation Count</th>\n",
       "      <th>CNA</th>\n",
       "    </tr>\n",
       "  </thead>\n",
       "  <tbody>\n",
       "    <tr>\n",
       "      <th>0</th>\n",
       "      <td>TCGA-A6-2675-01</td>\n",
       "      <td>NaN</td>\n",
       "      <td>0.220794</td>\n",
       "    </tr>\n",
       "    <tr>\n",
       "      <th>1</th>\n",
       "      <td>TCGA-A6-5667-01</td>\n",
       "      <td>NaN</td>\n",
       "      <td>0.546520</td>\n",
       "    </tr>\n",
       "    <tr>\n",
       "      <th>2</th>\n",
       "      <td>TCGA-AA-3655-01</td>\n",
       "      <td>NaN</td>\n",
       "      <td>0.139335</td>\n",
       "    </tr>\n",
       "    <tr>\n",
       "      <th>3</th>\n",
       "      <td>TCGA-AA-3660-01</td>\n",
       "      <td>NaN</td>\n",
       "      <td>0.338368</td>\n",
       "    </tr>\n",
       "    <tr>\n",
       "      <th>4</th>\n",
       "      <td>TCGA-AA-3662-01</td>\n",
       "      <td>NaN</td>\n",
       "      <td>0.441361</td>\n",
       "    </tr>\n",
       "  </tbody>\n",
       "</table>\n",
       "</div>"
      ],
      "text/plain": [
       "         Sample ID  Mutation Count       CNA\n",
       "0  TCGA-A6-2675-01             NaN  0.220794\n",
       "1  TCGA-A6-5667-01             NaN  0.546520\n",
       "2  TCGA-AA-3655-01             NaN  0.139335\n",
       "3  TCGA-AA-3660-01             NaN  0.338368\n",
       "4  TCGA-AA-3662-01             NaN  0.441361"
      ]
     },
     "execution_count": 142,
     "metadata": {},
     "output_type": "execute_result"
    }
   ],
   "source": [
    "cna_mut = pd.read_table('data/colorectal/Mutation Count vs. CNA.txt').drop(['Patient ID','Group'],axis=1)\n",
    "cna_mut.head()"
   ]
  },
  {
   "cell_type": "code",
   "execution_count": 143,
   "metadata": {},
   "outputs": [
    {
     "data": {
      "text/html": [
       "<div>\n",
       "<style>\n",
       "    .dataframe thead tr:only-child th {\n",
       "        text-align: right;\n",
       "    }\n",
       "\n",
       "    .dataframe thead th {\n",
       "        text-align: left;\n",
       "    }\n",
       "\n",
       "    .dataframe tbody tr th {\n",
       "        vertical-align: top;\n",
       "    }\n",
       "</style>\n",
       "<table border=\"1\" class=\"dataframe\">\n",
       "  <thead>\n",
       "    <tr style=\"text-align: right;\">\n",
       "      <th></th>\n",
       "      <th>id</th>\n",
       "      <th>upscore</th>\n",
       "      <th>downscore</th>\n",
       "      <th>ces</th>\n",
       "      <th>cat</th>\n",
       "      <th>label</th>\n",
       "      <th>Sample ID</th>\n",
       "      <th>Mutation Count</th>\n",
       "      <th>CNA</th>\n",
       "    </tr>\n",
       "  </thead>\n",
       "  <tbody>\n",
       "    <tr>\n",
       "      <th>0</th>\n",
       "      <td>TCGA-D5-6531-01</td>\n",
       "      <td>-7.6179</td>\n",
       "      <td>12.6261</td>\n",
       "      <td>1.8834</td>\n",
       "      <td>mss</td>\n",
       "      <td>1.0</td>\n",
       "      <td>TCGA-D5-6531-01</td>\n",
       "      <td>NaN</td>\n",
       "      <td>0.645299</td>\n",
       "    </tr>\n",
       "    <tr>\n",
       "      <th>1</th>\n",
       "      <td>TCGA-DM-A28A-01</td>\n",
       "      <td>-15.5637</td>\n",
       "      <td>25.9099</td>\n",
       "      <td>6.4499</td>\n",
       "      <td>mss</td>\n",
       "      <td>1.0</td>\n",
       "      <td>TCGA-DM-A28A-01</td>\n",
       "      <td>NaN</td>\n",
       "      <td>0.269859</td>\n",
       "    </tr>\n",
       "    <tr>\n",
       "      <th>2</th>\n",
       "      <td>TCGA-DC-5869-01</td>\n",
       "      <td>-9.0183</td>\n",
       "      <td>33.6345</td>\n",
       "      <td>7.8741</td>\n",
       "      <td>mss</td>\n",
       "      <td>1.0</td>\n",
       "      <td>TCGA-DC-5869-01</td>\n",
       "      <td>NaN</td>\n",
       "      <td>0.408536</td>\n",
       "    </tr>\n",
       "    <tr>\n",
       "      <th>3</th>\n",
       "      <td>TCGA-F4-6460-01</td>\n",
       "      <td>-25.3454</td>\n",
       "      <td>28.9109</td>\n",
       "      <td>-4.8967</td>\n",
       "      <td>mss</td>\n",
       "      <td>1.0</td>\n",
       "      <td>TCGA-F4-6460-01</td>\n",
       "      <td>NaN</td>\n",
       "      <td>0.594362</td>\n",
       "    </tr>\n",
       "    <tr>\n",
       "      <th>4</th>\n",
       "      <td>TCGA-DY-A1DC-01</td>\n",
       "      <td>-14.6653</td>\n",
       "      <td>20.8919</td>\n",
       "      <td>1.8764</td>\n",
       "      <td>mss</td>\n",
       "      <td>1.0</td>\n",
       "      <td>TCGA-DY-A1DC-01</td>\n",
       "      <td>NaN</td>\n",
       "      <td>0.274076</td>\n",
       "    </tr>\n",
       "  </tbody>\n",
       "</table>\n",
       "</div>"
      ],
      "text/plain": [
       "                id  upscore  downscore     ces  cat  label        Sample ID  \\\n",
       "0  TCGA-D5-6531-01  -7.6179    12.6261  1.8834  mss    1.0  TCGA-D5-6531-01   \n",
       "1  TCGA-DM-A28A-01 -15.5637    25.9099  6.4499  mss    1.0  TCGA-DM-A28A-01   \n",
       "2  TCGA-DC-5869-01  -9.0183    33.6345  7.8741  mss    1.0  TCGA-DC-5869-01   \n",
       "3  TCGA-F4-6460-01 -25.3454    28.9109 -4.8967  mss    1.0  TCGA-F4-6460-01   \n",
       "4  TCGA-DY-A1DC-01 -14.6653    20.8919  1.8764  mss    1.0  TCGA-DY-A1DC-01   \n",
       "\n",
       "   Mutation Count       CNA  \n",
       "0             NaN  0.645299  \n",
       "1             NaN  0.269859  \n",
       "2             NaN  0.408536  \n",
       "3             NaN  0.594362  \n",
       "4             NaN  0.274076  "
      ]
     },
     "execution_count": 143,
     "metadata": {},
     "output_type": "execute_result"
    }
   ],
   "source": [
    "results = results.merge(cna_mut, how='outer', left_on='id', right_on='Sample ID')\n",
    "results.head()"
   ]
  },
  {
   "cell_type": "markdown",
   "metadata": {},
   "source": [
    "\n",
    "\n",
    "CES / CNA correlation. Colors represent the MMR deficiency classification\n"
   ]
  },
  {
   "cell_type": "code",
   "execution_count": 144,
   "metadata": {},
   "outputs": [
    {
     "data": {
      "image/png": "[encoded data removed]",
      "text/plain": [
       "<matplotlib.figure.Figure at 0x7fe014a80978>"
      ]
     },
     "metadata": {},
     "output_type": "display_data"
    }
   ],
   "source": [
    "fig, ax = plt.subplots()\n",
    "colors = ['red','green','blue']\n",
    "ax.scatter(results['ces'], results['CNA'],c = results['label'],cmap = matplotlib.colors.ListedColormap(colors))\n",
    "ax.grid(True, which='both')\n",
    "\n",
    "ax.axhline(y=0, color='k')\n",
    "ax.axvline(x=0, color='k')\n",
    "plt.xlabel('CES')\n",
    "plt.ylabel('CNA')\n",
    "plt.show()"
   ]
  },
  {
   "cell_type": "markdown",
   "metadata": {},
   "source": [
    "RED: MSI, GREEN : MSS\n",
    "\n",
    "It appears the MSI patients have way less CNA than MSS patients\n"
   ]
  },
  {
   "cell_type": "code",
   "execution_count": 145,
   "metadata": {},
   "outputs": [
    {
     "data": {
      "image/png": "[encoded data removed]",
      "text/plain": [
       "<matplotlib.figure.Figure at 0x7fe013eb5b38>"
      ]
     },
     "metadata": {},
     "output_type": "display_data"
    }
   ],
   "source": [
    "plt.boxplot([results[results['label']==1]['CNA'].dropna(),results[results['label']==0]['CNA'].dropna()],labels=['MSS','MSI'])\n",
    "plt.ylabel('CNA')\n",
    "plt.title('Comparison of CNA distribution in MSS and MSI patients')\n",
    "plt.show()"
   ]
  },
  {
   "cell_type": "code",
   "execution_count": 146,
   "metadata": {},
   "outputs": [
    {
     "data": {
      "image/png": "[encoded data removed]",
      "text/plain": [
       "<matplotlib.figure.Figure at 0x7fe016b29a90>"
      ]
     },
     "metadata": {},
     "output_type": "display_data"
    }
   ],
   "source": [
    "plt.boxplot([results[results['cat']=='mss']['ces'],results[results['cat']=='msi']['ces']],labels=['MSS','MSI'])\n",
    "plt.ylabel('CES')\n",
    "plt.title('Comparison of CES distribution in MSS and MSI patients')\n",
    "plt.show()"
   ]
  },
  {
   "cell_type": "markdown",
   "metadata": {},
   "source": [
    "# Mutations"
   ]
  },
  {
   "cell_type": "code",
   "execution_count": 147,
   "metadata": {},
   "outputs": [
    {
     "data": {
      "image/png": "[encoded data removed]",
      "text/plain": [
       "<matplotlib.figure.Figure at 0x7fe01422db70>"
      ]
     },
     "metadata": {},
     "output_type": "display_data"
    }
   ],
   "source": [
    "fig, ax = plt.subplots()\n",
    "colors = ['red','green','blue']\n",
    "ax.scatter(results['ces'], results['Mutation Count'],c = results['label'],cmap = matplotlib.colors.ListedColormap(colors))\n",
    "plt.xlabel('CES')\n",
    "plt.ylabel('Mutation Count')\n",
    "plt.show()"
   ]
  },
  {
   "cell_type": "code",
   "execution_count": 148,
   "metadata": {},
   "outputs": [
    {
     "data": {
      "image/png": "[encoded data removed]",
      "text/plain": [
       "<matplotlib.figure.Figure at 0x7fe0147e92e8>"
      ]
     },
     "metadata": {},
     "output_type": "display_data"
    }
   ],
   "source": [
    "fig, ax = plt.subplots()\n",
    "colors = ['red','green','blue']\n",
    "ax.scatter(results['CNA'], results['Mutation Count'])#,c = results['label'],cmap = matplotlib.colors.ListedColormap(colors))\n",
    "plt.xlabel('CNA')\n",
    "plt.ylabel('Mutation Count')\n",
    "plt.show()"
   ]
  },
  {
   "cell_type": "markdown",
   "metadata": {},
   "source": [
    "# MLH1 study"
   ]
  },
  {
   "cell_type": "code",
   "execution_count": 149,
   "metadata": {},
   "outputs": [
    {
     "data": {
      "text/html": [
       "<div>\n",
       "<style>\n",
       "    .dataframe thead tr:only-child th {\n",
       "        text-align: right;\n",
       "    }\n",
       "\n",
       "    .dataframe thead th {\n",
       "        text-align: left;\n",
       "    }\n",
       "\n",
       "    .dataframe tbody tr th {\n",
       "        vertical-align: top;\n",
       "    }\n",
       "</style>\n",
       "<table border=\"1\" class=\"dataframe\">\n",
       "  <thead>\n",
       "    <tr style=\"text-align: right;\">\n",
       "      <th></th>\n",
       "      <th>mlh1</th>\n",
       "    </tr>\n",
       "  </thead>\n",
       "  <tbody>\n",
       "    <tr>\n",
       "      <th>TCGA-D5-6531-01</th>\n",
       "      <td>-0.6444</td>\n",
       "    </tr>\n",
       "    <tr>\n",
       "      <th>TCGA-DM-A28A-01</th>\n",
       "      <td>0.643</td>\n",
       "    </tr>\n",
       "    <tr>\n",
       "      <th>TCGA-DC-5869-01</th>\n",
       "      <td>2.5549</td>\n",
       "    </tr>\n",
       "    <tr>\n",
       "      <th>TCGA-F4-6460-01</th>\n",
       "      <td>0.0455</td>\n",
       "    </tr>\n",
       "    <tr>\n",
       "      <th>TCGA-DY-A1DC-01</th>\n",
       "      <td>0.2859</td>\n",
       "    </tr>\n",
       "  </tbody>\n",
       "</table>\n",
       "</div>"
      ],
      "text/plain": [
       "                   mlh1\n",
       "TCGA-D5-6531-01 -0.6444\n",
       "TCGA-DM-A28A-01   0.643\n",
       "TCGA-DC-5869-01  2.5549\n",
       "TCGA-F4-6460-01  0.0455\n",
       "TCGA-DY-A1DC-01  0.2859"
      ]
     },
     "execution_count": 149,
     "metadata": {},
     "output_type": "execute_result"
    }
   ],
   "source": [
    "df_expr = pd.read_table('data/colorectal/mmr_expr.txt')\n",
    "mlh1 = df_expr[df_expr['COMMON']=='MLH1'].transpose()[2:]\n",
    "mlh1.columns=['mlh1']\n",
    "mlh1.head()"
   ]
  },
  {
   "cell_type": "code",
   "execution_count": 150,
   "metadata": {},
   "outputs": [
    {
     "data": {
      "text/html": [
       "<div>\n",
       "<style>\n",
       "    .dataframe thead tr:only-child th {\n",
       "        text-align: right;\n",
       "    }\n",
       "\n",
       "    .dataframe thead th {\n",
       "        text-align: left;\n",
       "    }\n",
       "\n",
       "    .dataframe tbody tr th {\n",
       "        vertical-align: top;\n",
       "    }\n",
       "</style>\n",
       "<table border=\"1\" class=\"dataframe\">\n",
       "  <thead>\n",
       "    <tr style=\"text-align: right;\">\n",
       "      <th></th>\n",
       "      <th>mlh1_meth</th>\n",
       "    </tr>\n",
       "  </thead>\n",
       "  <tbody>\n",
       "    <tr>\n",
       "      <th>TCGA-AA-3860-01</th>\n",
       "      <td>NaN</td>\n",
       "    </tr>\n",
       "    <tr>\n",
       "      <th>TCGA-DM-A28A-01</th>\n",
       "      <td>0.0248725</td>\n",
       "    </tr>\n",
       "    <tr>\n",
       "      <th>TCGA-DC-5869-01</th>\n",
       "      <td>0.0623723</td>\n",
       "    </tr>\n",
       "    <tr>\n",
       "      <th>TCGA-F4-6460-01</th>\n",
       "      <td>0.0460492</td>\n",
       "    </tr>\n",
       "    <tr>\n",
       "      <th>TCGA-AA-A00N-01</th>\n",
       "      <td>NaN</td>\n",
       "    </tr>\n",
       "  </tbody>\n",
       "</table>\n",
       "</div>"
      ],
      "text/plain": [
       "                 mlh1_meth\n",
       "TCGA-AA-3860-01        NaN\n",
       "TCGA-DM-A28A-01  0.0248725\n",
       "TCGA-DC-5869-01  0.0623723\n",
       "TCGA-F4-6460-01  0.0460492\n",
       "TCGA-AA-A00N-01        NaN"
      ]
     },
     "execution_count": 150,
     "metadata": {},
     "output_type": "execute_result"
    }
   ],
   "source": [
    "df_meth = pd.read_table('data/colorectal/mmr_meth.txt')\n",
    "mlh1_meth = df_meth[df_meth['COMMON']=='MLH1'].transpose()[2:]\n",
    "mlh1_meth.columns=['mlh1_meth']\n",
    "mlh1_meth.head()"
   ]
  },
  {
   "cell_type": "code",
   "execution_count": 151,
   "metadata": {
    "scrolled": true
   },
   "outputs": [
    {
     "data": {
      "text/html": [
       "<div>\n",
       "<style>\n",
       "    .dataframe thead tr:only-child th {\n",
       "        text-align: right;\n",
       "    }\n",
       "\n",
       "    .dataframe thead th {\n",
       "        text-align: left;\n",
       "    }\n",
       "\n",
       "    .dataframe tbody tr th {\n",
       "        vertical-align: top;\n",
       "    }\n",
       "</style>\n",
       "<table border=\"1\" class=\"dataframe\">\n",
       "  <thead>\n",
       "    <tr style=\"text-align: right;\">\n",
       "      <th></th>\n",
       "      <th>id</th>\n",
       "      <th>upscore</th>\n",
       "      <th>downscore</th>\n",
       "      <th>ces</th>\n",
       "      <th>cat</th>\n",
       "      <th>label</th>\n",
       "      <th>Sample ID</th>\n",
       "      <th>Mutation Count</th>\n",
       "      <th>CNA</th>\n",
       "      <th>mlh1</th>\n",
       "      <th>mlh1_meth</th>\n",
       "    </tr>\n",
       "  </thead>\n",
       "  <tbody>\n",
       "    <tr>\n",
       "      <th>0</th>\n",
       "      <td>TCGA-D5-6531-01</td>\n",
       "      <td>-7.6179</td>\n",
       "      <td>12.6261</td>\n",
       "      <td>1.8834</td>\n",
       "      <td>mss</td>\n",
       "      <td>1.0</td>\n",
       "      <td>TCGA-D5-6531-01</td>\n",
       "      <td>NaN</td>\n",
       "      <td>0.645299</td>\n",
       "      <td>-0.6444</td>\n",
       "      <td>0.018947</td>\n",
       "    </tr>\n",
       "    <tr>\n",
       "      <th>1</th>\n",
       "      <td>TCGA-DM-A28A-01</td>\n",
       "      <td>-15.5637</td>\n",
       "      <td>25.9099</td>\n",
       "      <td>6.4499</td>\n",
       "      <td>mss</td>\n",
       "      <td>1.0</td>\n",
       "      <td>TCGA-DM-A28A-01</td>\n",
       "      <td>NaN</td>\n",
       "      <td>0.269859</td>\n",
       "      <td>0.643</td>\n",
       "      <td>0.0248725</td>\n",
       "    </tr>\n",
       "    <tr>\n",
       "      <th>2</th>\n",
       "      <td>TCGA-DC-5869-01</td>\n",
       "      <td>-9.0183</td>\n",
       "      <td>33.6345</td>\n",
       "      <td>7.8741</td>\n",
       "      <td>mss</td>\n",
       "      <td>1.0</td>\n",
       "      <td>TCGA-DC-5869-01</td>\n",
       "      <td>NaN</td>\n",
       "      <td>0.408536</td>\n",
       "      <td>2.5549</td>\n",
       "      <td>0.0623723</td>\n",
       "    </tr>\n",
       "    <tr>\n",
       "      <th>3</th>\n",
       "      <td>TCGA-F4-6460-01</td>\n",
       "      <td>-25.3454</td>\n",
       "      <td>28.9109</td>\n",
       "      <td>-4.8967</td>\n",
       "      <td>mss</td>\n",
       "      <td>1.0</td>\n",
       "      <td>TCGA-F4-6460-01</td>\n",
       "      <td>NaN</td>\n",
       "      <td>0.594362</td>\n",
       "      <td>0.0455</td>\n",
       "      <td>0.0460492</td>\n",
       "    </tr>\n",
       "    <tr>\n",
       "      <th>4</th>\n",
       "      <td>TCGA-DY-A1DC-01</td>\n",
       "      <td>-14.6653</td>\n",
       "      <td>20.8919</td>\n",
       "      <td>1.8764</td>\n",
       "      <td>mss</td>\n",
       "      <td>1.0</td>\n",
       "      <td>TCGA-DY-A1DC-01</td>\n",
       "      <td>NaN</td>\n",
       "      <td>0.274076</td>\n",
       "      <td>0.2859</td>\n",
       "      <td>0.0815832</td>\n",
       "    </tr>\n",
       "  </tbody>\n",
       "</table>\n",
       "</div>"
      ],
      "text/plain": [
       "                id  upscore  downscore     ces  cat  label        Sample ID  \\\n",
       "0  TCGA-D5-6531-01  -7.6179    12.6261  1.8834  mss    1.0  TCGA-D5-6531-01   \n",
       "1  TCGA-DM-A28A-01 -15.5637    25.9099  6.4499  mss    1.0  TCGA-DM-A28A-01   \n",
       "2  TCGA-DC-5869-01  -9.0183    33.6345  7.8741  mss    1.0  TCGA-DC-5869-01   \n",
       "3  TCGA-F4-6460-01 -25.3454    28.9109 -4.8967  mss    1.0  TCGA-F4-6460-01   \n",
       "4  TCGA-DY-A1DC-01 -14.6653    20.8919  1.8764  mss    1.0  TCGA-DY-A1DC-01   \n",
       "\n",
       "   Mutation Count       CNA    mlh1  mlh1_meth  \n",
       "0             NaN  0.645299 -0.6444   0.018947  \n",
       "1             NaN  0.269859   0.643  0.0248725  \n",
       "2             NaN  0.408536  2.5549  0.0623723  \n",
       "3             NaN  0.594362  0.0455  0.0460492  \n",
       "4             NaN  0.274076  0.2859  0.0815832  "
      ]
     },
     "execution_count": 151,
     "metadata": {},
     "output_type": "execute_result"
    }
   ],
   "source": [
    "results = results.merge(mlh1, how='outer', left_on='id', right_index=True)\n",
    "results = results.merge(mlh1_meth, how='outer', left_on='id', right_index=True)\n",
    "results.head()"
   ]
  },
  {
   "cell_type": "markdown",
   "metadata": {},
   "source": [
    "## Comparison CES/MLH1"
   ]
  },
  {
   "cell_type": "code",
   "execution_count": 152,
   "metadata": {},
   "outputs": [
    {
     "data": {
      "image/png": "[encoded data removed]",
      "text/plain": [
       "<matplotlib.figure.Figure at 0x7fe0148ad668>"
      ]
     },
     "metadata": {},
     "output_type": "display_data"
    }
   ],
   "source": [
    "fig , ax = plt.subplots()\n",
    "colors=['red','green','blue']\n",
    "ax.scatter(results['ces'],results['mlh1'],c = results['label'],cmap = matplotlib.colors.ListedColormap(colors))\n",
    "plt.xlabel('CES')\n",
    "plt.ylabel('Expression level')\n",
    "plt.title('CES in function of expression level of MLH1')\n",
    "plt.show()"
   ]
  },
  {
   "cell_type": "markdown",
   "metadata": {},
   "source": [
    "\n",
    "\n",
    "RED: MSI, GREEN : MSS, BLUE : unkown\n"
   ]
  },
  {
   "cell_type": "code",
   "execution_count": 153,
   "metadata": {},
   "outputs": [
    {
     "data": {
      "image/png": "[encoded data removed]",
      "text/plain": [
       "<matplotlib.figure.Figure at 0x7fe01424fd30>"
      ]
     },
     "metadata": {},
     "output_type": "display_data"
    }
   ],
   "source": [
    "fig, ax = plt.subplots()\n",
    "colors = ['red','green','blue']\n",
    "ax.scatter(results['mlh1_meth'],results['mlh1'] , c = results['label'],cmap = matplotlib.colors.ListedColormap(colors))\n",
    "plt.xlabel('Methylation')\n",
    "plt.ylabel('Expression level')\n",
    "plt.title('Expression level in function of methlyation of MLH1')\n",
    "plt.show()"
   ]
  },
  {
   "cell_type": "markdown",
   "metadata": {},
   "source": [
    "% of MSI tumors with an expression level of MLH1 under -1"
   ]
  },
  {
   "cell_type": "code",
   "execution_count": 154,
   "metadata": {},
   "outputs": [
    {
     "data": {
      "text/plain": [
       "0.5757575757575758"
      ]
     },
     "execution_count": 154,
     "metadata": {},
     "output_type": "execute_result"
    }
   ],
   "source": [
    "float(np.sum(results[results['cat']=='msi']['mlh1']<-1))/float(len(results[results['cat']=='msi']['mlh1'].dropna()))"
   ]
  },
  {
   "cell_type": "code",
   "execution_count": 155,
   "metadata": {
    "scrolled": true
   },
   "outputs": [
    {
     "data": {
      "image/png": "[encoded data removed]",
      "text/plain": [
       "<matplotlib.figure.Figure at 0x7fe016bd2c50>"
      ]
     },
     "metadata": {},
     "output_type": "display_data"
    }
   ],
   "source": [
    "l1  = list(results[results['cat']=='mss']['mlh1'])\n",
    "l2 = list(results[results['cat']=='msi']['mlh1'])\n",
    "plt.boxplot([l1,l2],labels=['MSS','MSI'])\n",
    "plt.ylabel('Expression level')\n",
    "plt.title('Comparison of MLH1 expression level in MSS and MSI patients')\n",
    "plt.show()"
   ]
  },
  {
   "cell_type": "markdown",
   "metadata": {},
   "source": [
    "# MSH2 study"
   ]
  },
  {
   "cell_type": "code",
   "execution_count": 156,
   "metadata": {},
   "outputs": [
    {
     "data": {
      "text/html": [
       "<div>\n",
       "<style>\n",
       "    .dataframe thead tr:only-child th {\n",
       "        text-align: right;\n",
       "    }\n",
       "\n",
       "    .dataframe thead th {\n",
       "        text-align: left;\n",
       "    }\n",
       "\n",
       "    .dataframe tbody tr th {\n",
       "        vertical-align: top;\n",
       "    }\n",
       "</style>\n",
       "<table border=\"1\" class=\"dataframe\">\n",
       "  <thead>\n",
       "    <tr style=\"text-align: right;\">\n",
       "      <th></th>\n",
       "      <th>msh2</th>\n",
       "    </tr>\n",
       "  </thead>\n",
       "  <tbody>\n",
       "    <tr>\n",
       "      <th>TCGA-D5-6531-01</th>\n",
       "      <td>0.313</td>\n",
       "    </tr>\n",
       "    <tr>\n",
       "      <th>TCGA-DM-A28A-01</th>\n",
       "      <td>0.5116</td>\n",
       "    </tr>\n",
       "    <tr>\n",
       "      <th>TCGA-DC-5869-01</th>\n",
       "      <td>2.7492</td>\n",
       "    </tr>\n",
       "    <tr>\n",
       "      <th>TCGA-F4-6460-01</th>\n",
       "      <td>-0.6859</td>\n",
       "    </tr>\n",
       "    <tr>\n",
       "      <th>TCGA-DY-A1DC-01</th>\n",
       "      <td>0.042</td>\n",
       "    </tr>\n",
       "  </tbody>\n",
       "</table>\n",
       "</div>"
      ],
      "text/plain": [
       "                   msh2\n",
       "TCGA-D5-6531-01   0.313\n",
       "TCGA-DM-A28A-01  0.5116\n",
       "TCGA-DC-5869-01  2.7492\n",
       "TCGA-F4-6460-01 -0.6859\n",
       "TCGA-DY-A1DC-01   0.042"
      ]
     },
     "execution_count": 156,
     "metadata": {},
     "output_type": "execute_result"
    }
   ],
   "source": [
    "df_expr = pd.read_table('data/colorectal/mmr_expr.txt')\n",
    "msh2 = df_expr[df_expr['COMMON']=='MSH2'].transpose()[2:]\n",
    "msh2.columns=['msh2']\n",
    "msh2.head()"
   ]
  },
  {
   "cell_type": "code",
   "execution_count": 157,
   "metadata": {},
   "outputs": [
    {
     "data": {
      "text/html": [
       "<div>\n",
       "<style>\n",
       "    .dataframe thead tr:only-child th {\n",
       "        text-align: right;\n",
       "    }\n",
       "\n",
       "    .dataframe thead th {\n",
       "        text-align: left;\n",
       "    }\n",
       "\n",
       "    .dataframe tbody tr th {\n",
       "        vertical-align: top;\n",
       "    }\n",
       "</style>\n",
       "<table border=\"1\" class=\"dataframe\">\n",
       "  <thead>\n",
       "    <tr style=\"text-align: right;\">\n",
       "      <th></th>\n",
       "      <th>msh2_meth</th>\n",
       "    </tr>\n",
       "  </thead>\n",
       "  <tbody>\n",
       "    <tr>\n",
       "      <th>TCGA-AA-3860-01</th>\n",
       "      <td>NaN</td>\n",
       "    </tr>\n",
       "    <tr>\n",
       "      <th>TCGA-DM-A28A-01</th>\n",
       "      <td>0.0179456</td>\n",
       "    </tr>\n",
       "    <tr>\n",
       "      <th>TCGA-DC-5869-01</th>\n",
       "      <td>0.0176133</td>\n",
       "    </tr>\n",
       "    <tr>\n",
       "      <th>TCGA-F4-6460-01</th>\n",
       "      <td>0.0131548</td>\n",
       "    </tr>\n",
       "    <tr>\n",
       "      <th>TCGA-AA-A00N-01</th>\n",
       "      <td>NaN</td>\n",
       "    </tr>\n",
       "  </tbody>\n",
       "</table>\n",
       "</div>"
      ],
      "text/plain": [
       "                 msh2_meth\n",
       "TCGA-AA-3860-01        NaN\n",
       "TCGA-DM-A28A-01  0.0179456\n",
       "TCGA-DC-5869-01  0.0176133\n",
       "TCGA-F4-6460-01  0.0131548\n",
       "TCGA-AA-A00N-01        NaN"
      ]
     },
     "execution_count": 157,
     "metadata": {},
     "output_type": "execute_result"
    }
   ],
   "source": [
    "df_meth = pd.read_table('data/colorectal/mmr_meth.txt')\n",
    "msh2_meth = df_meth[df_meth['COMMON']=='MSH2'].transpose()[2:]\n",
    "msh2_meth.columns=['msh2_meth']\n",
    "msh2_meth.head()"
   ]
  },
  {
   "cell_type": "code",
   "execution_count": 158,
   "metadata": {},
   "outputs": [
    {
     "data": {
      "text/html": [
       "<div>\n",
       "<style>\n",
       "    .dataframe thead tr:only-child th {\n",
       "        text-align: right;\n",
       "    }\n",
       "\n",
       "    .dataframe thead th {\n",
       "        text-align: left;\n",
       "    }\n",
       "\n",
       "    .dataframe tbody tr th {\n",
       "        vertical-align: top;\n",
       "    }\n",
       "</style>\n",
       "<table border=\"1\" class=\"dataframe\">\n",
       "  <thead>\n",
       "    <tr style=\"text-align: right;\">\n",
       "      <th></th>\n",
       "      <th>id</th>\n",
       "      <th>upscore</th>\n",
       "      <th>downscore</th>\n",
       "      <th>ces</th>\n",
       "      <th>cat</th>\n",
       "      <th>label</th>\n",
       "      <th>Sample ID</th>\n",
       "      <th>Mutation Count</th>\n",
       "      <th>CNA</th>\n",
       "      <th>mlh1</th>\n",
       "      <th>mlh1_meth</th>\n",
       "      <th>msh2</th>\n",
       "      <th>msh2_meth</th>\n",
       "    </tr>\n",
       "  </thead>\n",
       "  <tbody>\n",
       "    <tr>\n",
       "      <th>0</th>\n",
       "      <td>TCGA-D5-6531-01</td>\n",
       "      <td>-7.6179</td>\n",
       "      <td>12.6261</td>\n",
       "      <td>1.8834</td>\n",
       "      <td>mss</td>\n",
       "      <td>1.0</td>\n",
       "      <td>TCGA-D5-6531-01</td>\n",
       "      <td>NaN</td>\n",
       "      <td>0.645299</td>\n",
       "      <td>-0.6444</td>\n",
       "      <td>0.018947</td>\n",
       "      <td>0.313</td>\n",
       "      <td>0.0131708</td>\n",
       "    </tr>\n",
       "    <tr>\n",
       "      <th>1</th>\n",
       "      <td>TCGA-DM-A28A-01</td>\n",
       "      <td>-15.5637</td>\n",
       "      <td>25.9099</td>\n",
       "      <td>6.4499</td>\n",
       "      <td>mss</td>\n",
       "      <td>1.0</td>\n",
       "      <td>TCGA-DM-A28A-01</td>\n",
       "      <td>NaN</td>\n",
       "      <td>0.269859</td>\n",
       "      <td>0.643</td>\n",
       "      <td>0.0248725</td>\n",
       "      <td>0.5116</td>\n",
       "      <td>0.0179456</td>\n",
       "    </tr>\n",
       "    <tr>\n",
       "      <th>2</th>\n",
       "      <td>TCGA-DC-5869-01</td>\n",
       "      <td>-9.0183</td>\n",
       "      <td>33.6345</td>\n",
       "      <td>7.8741</td>\n",
       "      <td>mss</td>\n",
       "      <td>1.0</td>\n",
       "      <td>TCGA-DC-5869-01</td>\n",
       "      <td>NaN</td>\n",
       "      <td>0.408536</td>\n",
       "      <td>2.5549</td>\n",
       "      <td>0.0623723</td>\n",
       "      <td>2.7492</td>\n",
       "      <td>0.0176133</td>\n",
       "    </tr>\n",
       "    <tr>\n",
       "      <th>3</th>\n",
       "      <td>TCGA-F4-6460-01</td>\n",
       "      <td>-25.3454</td>\n",
       "      <td>28.9109</td>\n",
       "      <td>-4.8967</td>\n",
       "      <td>mss</td>\n",
       "      <td>1.0</td>\n",
       "      <td>TCGA-F4-6460-01</td>\n",
       "      <td>NaN</td>\n",
       "      <td>0.594362</td>\n",
       "      <td>0.0455</td>\n",
       "      <td>0.0460492</td>\n",
       "      <td>-0.6859</td>\n",
       "      <td>0.0131548</td>\n",
       "    </tr>\n",
       "    <tr>\n",
       "      <th>4</th>\n",
       "      <td>TCGA-DY-A1DC-01</td>\n",
       "      <td>-14.6653</td>\n",
       "      <td>20.8919</td>\n",
       "      <td>1.8764</td>\n",
       "      <td>mss</td>\n",
       "      <td>1.0</td>\n",
       "      <td>TCGA-DY-A1DC-01</td>\n",
       "      <td>NaN</td>\n",
       "      <td>0.274076</td>\n",
       "      <td>0.2859</td>\n",
       "      <td>0.0815832</td>\n",
       "      <td>0.042</td>\n",
       "      <td>0.0185002</td>\n",
       "    </tr>\n",
       "  </tbody>\n",
       "</table>\n",
       "</div>"
      ],
      "text/plain": [
       "                id  upscore  downscore     ces  cat  label        Sample ID  \\\n",
       "0  TCGA-D5-6531-01  -7.6179    12.6261  1.8834  mss    1.0  TCGA-D5-6531-01   \n",
       "1  TCGA-DM-A28A-01 -15.5637    25.9099  6.4499  mss    1.0  TCGA-DM-A28A-01   \n",
       "2  TCGA-DC-5869-01  -9.0183    33.6345  7.8741  mss    1.0  TCGA-DC-5869-01   \n",
       "3  TCGA-F4-6460-01 -25.3454    28.9109 -4.8967  mss    1.0  TCGA-F4-6460-01   \n",
       "4  TCGA-DY-A1DC-01 -14.6653    20.8919  1.8764  mss    1.0  TCGA-DY-A1DC-01   \n",
       "\n",
       "   Mutation Count       CNA    mlh1  mlh1_meth    msh2  msh2_meth  \n",
       "0             NaN  0.645299 -0.6444   0.018947   0.313  0.0131708  \n",
       "1             NaN  0.269859   0.643  0.0248725  0.5116  0.0179456  \n",
       "2             NaN  0.408536  2.5549  0.0623723  2.7492  0.0176133  \n",
       "3             NaN  0.594362  0.0455  0.0460492 -0.6859  0.0131548  \n",
       "4             NaN  0.274076  0.2859  0.0815832   0.042  0.0185002  "
      ]
     },
     "execution_count": 158,
     "metadata": {},
     "output_type": "execute_result"
    }
   ],
   "source": [
    "results = results.merge(msh2, how='outer', left_on='id', right_index=True)\n",
    "results = results.merge(msh2_meth, how='outer', left_on='id', right_index=True)\n",
    "results.head()"
   ]
  },
  {
   "cell_type": "markdown",
   "metadata": {},
   "source": [
    "## Comparison CES/MSH2"
   ]
  },
  {
   "cell_type": "code",
   "execution_count": 159,
   "metadata": {},
   "outputs": [
    {
     "data": {
      "image/png": "[encoded data removed]",
      "text/plain": [
       "<matplotlib.figure.Figure at 0x7fe013e35c88>"
      ]
     },
     "metadata": {},
     "output_type": "display_data"
    }
   ],
   "source": [
    "fig , ax = plt.subplots()\n",
    "colors=['red','green','blue']\n",
    "ax.scatter(results['ces'],results['msh2'],c = results['label'],cmap = matplotlib.colors.ListedColormap(colors))\n",
    "plt.xlabel('CES')\n",
    "plt.ylabel('Expression level')\n",
    "plt.title('CES in function of expression level of MSH2')\n",
    "plt.show()"
   ]
  },
  {
   "cell_type": "code",
   "execution_count": 164,
   "metadata": {},
   "outputs": [
    {
     "data": {
      "text/plain": [
       "1.8378781156248189e-25"
      ]
     },
     "execution_count": 164,
     "metadata": {},
     "output_type": "execute_result"
    }
   ],
   "source": [
    "import scipy\n",
    "tmp = results[['ces','msh2']].dropna()\n",
    "scipy.stats.spearmanr(tmp['ces'],tmp['msh2']).pvalue"
   ]
  },
  {
   "cell_type": "markdown",
   "metadata": {},
   "source": [
    "\n",
    "\n",
    "RED: MSI, GREEN : MSS, BLUE : unkown\n"
   ]
  },
  {
   "cell_type": "code",
   "execution_count": 160,
   "metadata": {
    "scrolled": true
   },
   "outputs": [
    {
     "data": {
      "image/png": "[encoded data removed]",
      "text/plain": [
       "<matplotlib.figure.Figure at 0x7fe014a41518>"
      ]
     },
     "metadata": {},
     "output_type": "display_data"
    }
   ],
   "source": [
    "fig, ax = plt.subplots()\n",
    "colors = ['red','green','blue']\n",
    "ax.scatter(results['msh2_meth'],results['msh2'] , c = results['label'],cmap = matplotlib.colors.ListedColormap(colors))\n",
    "plt.xlabel('Methylation')\n",
    "plt.ylabel('Expression level')\n",
    "plt.title('Expression level in function of methlyation of MSH2')\n",
    "plt.show()"
   ]
  },
  {
   "cell_type": "markdown",
   "metadata": {},
   "source": [
    "% of MSI tumors with an expression level of MLH1 under -1"
   ]
  },
  {
   "cell_type": "code",
   "execution_count": 165,
   "metadata": {},
   "outputs": [
    {
     "data": {
      "text/plain": [
       "0.19696969696969696"
      ]
     },
     "execution_count": 165,
     "metadata": {},
     "output_type": "execute_result"
    }
   ],
   "source": [
    "float(np.sum(results[results['cat']=='msi']['msh2']<-1))/float(len(results[results['cat']=='msi']['msh2'].dropna()))"
   ]
  },
  {
   "cell_type": "code",
   "execution_count": 162,
   "metadata": {
    "scrolled": false
   },
   "outputs": [
    {
     "data": {
      "image/png": "[encoded data removed]",
      "text/plain": [
       "<matplotlib.figure.Figure at 0x7fe0148a67f0>"
      ]
     },
     "metadata": {},
     "output_type": "display_data"
    }
   ],
   "source": [
    "l1  = list(results[results['cat']=='mss']['msh2'])\n",
    "l2 = list(results[results['cat']=='msi']['msh2'])\n",
    "plt.boxplot([l1,l2],labels=['MSS','MSI'])\n",
    "plt.ylabel('Expression level')\n",
    "plt.title('Comparison of MSH2 expression level in MSS and MSI patients')\n",
    "plt.show()"
   ]
  },
  {
   "cell_type": "markdown",
   "metadata": {},
   "source": [
    "# MSH6 study"
   ]
  },
  {
   "cell_type": "code",
   "execution_count": 175,
   "metadata": {},
   "outputs": [
    {
     "data": {
      "text/html": [
       "<div>\n",
       "<style>\n",
       "    .dataframe thead tr:only-child th {\n",
       "        text-align: right;\n",
       "    }\n",
       "\n",
       "    .dataframe thead th {\n",
       "        text-align: left;\n",
       "    }\n",
       "\n",
       "    .dataframe tbody tr th {\n",
       "        vertical-align: top;\n",
       "    }\n",
       "</style>\n",
       "<table border=\"1\" class=\"dataframe\">\n",
       "  <thead>\n",
       "    <tr style=\"text-align: right;\">\n",
       "      <th></th>\n",
       "      <th>pms2</th>\n",
       "    </tr>\n",
       "  </thead>\n",
       "  <tbody>\n",
       "    <tr>\n",
       "      <th>TCGA-D5-6531-01</th>\n",
       "      <td>1.62</td>\n",
       "    </tr>\n",
       "    <tr>\n",
       "      <th>TCGA-DM-A28A-01</th>\n",
       "      <td>1.7332</td>\n",
       "    </tr>\n",
       "    <tr>\n",
       "      <th>TCGA-DC-5869-01</th>\n",
       "      <td>1.3353</td>\n",
       "    </tr>\n",
       "    <tr>\n",
       "      <th>TCGA-F4-6460-01</th>\n",
       "      <td>1.8744</td>\n",
       "    </tr>\n",
       "    <tr>\n",
       "      <th>TCGA-DY-A1DC-01</th>\n",
       "      <td>0.9144</td>\n",
       "    </tr>\n",
       "  </tbody>\n",
       "</table>\n",
       "</div>"
      ],
      "text/plain": [
       "                   pms2\n",
       "TCGA-D5-6531-01    1.62\n",
       "TCGA-DM-A28A-01  1.7332\n",
       "TCGA-DC-5869-01  1.3353\n",
       "TCGA-F4-6460-01  1.8744\n",
       "TCGA-DY-A1DC-01  0.9144"
      ]
     },
     "execution_count": 175,
     "metadata": {},
     "output_type": "execute_result"
    }
   ],
   "source": [
    "df_expr = pd.read_table('data/colorectal/mmr_expr.txt')\n",
    "msh2 = df_expr[df_expr['COMMON']=='PMS2'].transpose()[2:]\n",
    "msh2.columns=['pms2']\n",
    "msh2.head()"
   ]
  },
  {
   "cell_type": "code",
   "execution_count": 176,
   "metadata": {},
   "outputs": [
    {
     "data": {
      "text/html": [
       "<div>\n",
       "<style>\n",
       "    .dataframe thead tr:only-child th {\n",
       "        text-align: right;\n",
       "    }\n",
       "\n",
       "    .dataframe thead th {\n",
       "        text-align: left;\n",
       "    }\n",
       "\n",
       "    .dataframe tbody tr th {\n",
       "        vertical-align: top;\n",
       "    }\n",
       "</style>\n",
       "<table border=\"1\" class=\"dataframe\">\n",
       "  <thead>\n",
       "    <tr style=\"text-align: right;\">\n",
       "      <th></th>\n",
       "      <th>pms2_meth</th>\n",
       "    </tr>\n",
       "  </thead>\n",
       "  <tbody>\n",
       "    <tr>\n",
       "      <th>TCGA-AA-3860-01</th>\n",
       "      <td>NaN</td>\n",
       "    </tr>\n",
       "    <tr>\n",
       "      <th>TCGA-DM-A28A-01</th>\n",
       "      <td>0.0642169</td>\n",
       "    </tr>\n",
       "    <tr>\n",
       "      <th>TCGA-DC-5869-01</th>\n",
       "      <td>0.0610065</td>\n",
       "    </tr>\n",
       "    <tr>\n",
       "      <th>TCGA-F4-6460-01</th>\n",
       "      <td>0.0384854</td>\n",
       "    </tr>\n",
       "    <tr>\n",
       "      <th>TCGA-AA-A00N-01</th>\n",
       "      <td>NaN</td>\n",
       "    </tr>\n",
       "  </tbody>\n",
       "</table>\n",
       "</div>"
      ],
      "text/plain": [
       "                 pms2_meth\n",
       "TCGA-AA-3860-01        NaN\n",
       "TCGA-DM-A28A-01  0.0642169\n",
       "TCGA-DC-5869-01  0.0610065\n",
       "TCGA-F4-6460-01  0.0384854\n",
       "TCGA-AA-A00N-01        NaN"
      ]
     },
     "execution_count": 176,
     "metadata": {},
     "output_type": "execute_result"
    }
   ],
   "source": [
    "df_meth = pd.read_table('data/colorectal/mmr_meth.txt')\n",
    "msh2_meth = df_meth[df_meth['COMMON']=='PMS2'].transpose()[2:]\n",
    "msh2_meth.columns=['pms2_meth']\n",
    "msh2_meth.head()"
   ]
  },
  {
   "cell_type": "code",
   "execution_count": 177,
   "metadata": {},
   "outputs": [
    {
     "data": {
      "text/html": [
       "<div>\n",
       "<style>\n",
       "    .dataframe thead tr:only-child th {\n",
       "        text-align: right;\n",
       "    }\n",
       "\n",
       "    .dataframe thead th {\n",
       "        text-align: left;\n",
       "    }\n",
       "\n",
       "    .dataframe tbody tr th {\n",
       "        vertical-align: top;\n",
       "    }\n",
       "</style>\n",
       "<table border=\"1\" class=\"dataframe\">\n",
       "  <thead>\n",
       "    <tr style=\"text-align: right;\">\n",
       "      <th></th>\n",
       "      <th>id</th>\n",
       "      <th>upscore</th>\n",
       "      <th>downscore</th>\n",
       "      <th>ces</th>\n",
       "      <th>cat</th>\n",
       "      <th>label</th>\n",
       "      <th>Sample ID</th>\n",
       "      <th>Mutation Count</th>\n",
       "      <th>CNA</th>\n",
       "      <th>mlh1</th>\n",
       "      <th>mlh1_meth</th>\n",
       "      <th>msh2</th>\n",
       "      <th>msh2_meth</th>\n",
       "      <th>msh6</th>\n",
       "      <th>msh6_meth</th>\n",
       "      <th>pms2</th>\n",
       "      <th>pms2_meth</th>\n",
       "    </tr>\n",
       "  </thead>\n",
       "  <tbody>\n",
       "    <tr>\n",
       "      <th>0</th>\n",
       "      <td>TCGA-D5-6531-01</td>\n",
       "      <td>-7.6179</td>\n",
       "      <td>12.6261</td>\n",
       "      <td>1.8834</td>\n",
       "      <td>mss</td>\n",
       "      <td>1.0</td>\n",
       "      <td>TCGA-D5-6531-01</td>\n",
       "      <td>NaN</td>\n",
       "      <td>0.645299</td>\n",
       "      <td>-0.6444</td>\n",
       "      <td>0.018947</td>\n",
       "      <td>0.313</td>\n",
       "      <td>0.0131708</td>\n",
       "      <td>1.2449</td>\n",
       "      <td>0.0512504</td>\n",
       "      <td>1.62</td>\n",
       "      <td>0.0430972</td>\n",
       "    </tr>\n",
       "    <tr>\n",
       "      <th>1</th>\n",
       "      <td>TCGA-DM-A28A-01</td>\n",
       "      <td>-15.5637</td>\n",
       "      <td>25.9099</td>\n",
       "      <td>6.4499</td>\n",
       "      <td>mss</td>\n",
       "      <td>1.0</td>\n",
       "      <td>TCGA-DM-A28A-01</td>\n",
       "      <td>NaN</td>\n",
       "      <td>0.269859</td>\n",
       "      <td>0.643</td>\n",
       "      <td>0.0248725</td>\n",
       "      <td>0.5116</td>\n",
       "      <td>0.0179456</td>\n",
       "      <td>0.4288</td>\n",
       "      <td>0.0621377</td>\n",
       "      <td>1.7332</td>\n",
       "      <td>0.0642169</td>\n",
       "    </tr>\n",
       "    <tr>\n",
       "      <th>2</th>\n",
       "      <td>TCGA-DC-5869-01</td>\n",
       "      <td>-9.0183</td>\n",
       "      <td>33.6345</td>\n",
       "      <td>7.8741</td>\n",
       "      <td>mss</td>\n",
       "      <td>1.0</td>\n",
       "      <td>TCGA-DC-5869-01</td>\n",
       "      <td>NaN</td>\n",
       "      <td>0.408536</td>\n",
       "      <td>2.5549</td>\n",
       "      <td>0.0623723</td>\n",
       "      <td>2.7492</td>\n",
       "      <td>0.0176133</td>\n",
       "      <td>1.2682</td>\n",
       "      <td>0.058207</td>\n",
       "      <td>1.3353</td>\n",
       "      <td>0.0610065</td>\n",
       "    </tr>\n",
       "    <tr>\n",
       "      <th>3</th>\n",
       "      <td>TCGA-F4-6460-01</td>\n",
       "      <td>-25.3454</td>\n",
       "      <td>28.9109</td>\n",
       "      <td>-4.8967</td>\n",
       "      <td>mss</td>\n",
       "      <td>1.0</td>\n",
       "      <td>TCGA-F4-6460-01</td>\n",
       "      <td>NaN</td>\n",
       "      <td>0.594362</td>\n",
       "      <td>0.0455</td>\n",
       "      <td>0.0460492</td>\n",
       "      <td>-0.6859</td>\n",
       "      <td>0.0131548</td>\n",
       "      <td>-1.2261</td>\n",
       "      <td>0.0694737</td>\n",
       "      <td>1.8744</td>\n",
       "      <td>0.0384854</td>\n",
       "    </tr>\n",
       "    <tr>\n",
       "      <th>4</th>\n",
       "      <td>TCGA-DY-A1DC-01</td>\n",
       "      <td>-14.6653</td>\n",
       "      <td>20.8919</td>\n",
       "      <td>1.8764</td>\n",
       "      <td>mss</td>\n",
       "      <td>1.0</td>\n",
       "      <td>TCGA-DY-A1DC-01</td>\n",
       "      <td>NaN</td>\n",
       "      <td>0.274076</td>\n",
       "      <td>0.2859</td>\n",
       "      <td>0.0815832</td>\n",
       "      <td>0.042</td>\n",
       "      <td>0.0185002</td>\n",
       "      <td>-1.1349</td>\n",
       "      <td>0.0867732</td>\n",
       "      <td>0.9144</td>\n",
       "      <td>0.0475658</td>\n",
       "    </tr>\n",
       "  </tbody>\n",
       "</table>\n",
       "</div>"
      ],
      "text/plain": [
       "                id  upscore  downscore     ces  cat  label        Sample ID  \\\n",
       "0  TCGA-D5-6531-01  -7.6179    12.6261  1.8834  mss    1.0  TCGA-D5-6531-01   \n",
       "1  TCGA-DM-A28A-01 -15.5637    25.9099  6.4499  mss    1.0  TCGA-DM-A28A-01   \n",
       "2  TCGA-DC-5869-01  -9.0183    33.6345  7.8741  mss    1.0  TCGA-DC-5869-01   \n",
       "3  TCGA-F4-6460-01 -25.3454    28.9109 -4.8967  mss    1.0  TCGA-F4-6460-01   \n",
       "4  TCGA-DY-A1DC-01 -14.6653    20.8919  1.8764  mss    1.0  TCGA-DY-A1DC-01   \n",
       "\n",
       "   Mutation Count       CNA    mlh1  mlh1_meth    msh2  msh2_meth    msh6  \\\n",
       "0             NaN  0.645299 -0.6444   0.018947   0.313  0.0131708  1.2449   \n",
       "1             NaN  0.269859   0.643  0.0248725  0.5116  0.0179456  0.4288   \n",
       "2             NaN  0.408536  2.5549  0.0623723  2.7492  0.0176133  1.2682   \n",
       "3             NaN  0.594362  0.0455  0.0460492 -0.6859  0.0131548 -1.2261   \n",
       "4             NaN  0.274076  0.2859  0.0815832   0.042  0.0185002 -1.1349   \n",
       "\n",
       "   msh6_meth    pms2  pms2_meth  \n",
       "0  0.0512504    1.62  0.0430972  \n",
       "1  0.0621377  1.7332  0.0642169  \n",
       "2   0.058207  1.3353  0.0610065  \n",
       "3  0.0694737  1.8744  0.0384854  \n",
       "4  0.0867732  0.9144  0.0475658  "
      ]
     },
     "execution_count": 177,
     "metadata": {},
     "output_type": "execute_result"
    }
   ],
   "source": [
    "results = results.merge(msh2, how='outer', left_on='id', right_index=True)\n",
    "results = results.merge(msh2_meth, how='outer', left_on='id', right_index=True)\n",
    "results.head()"
   ]
  },
  {
   "cell_type": "markdown",
   "metadata": {},
   "source": [
    "## Comparison CES/MSH2"
   ]
  },
  {
   "cell_type": "code",
   "execution_count": 178,
   "metadata": {},
   "outputs": [
    {
     "data": {
      "image/png": "[encoded data removed]",
      "text/plain": [
       "<matplotlib.figure.Figure at 0x7fe013b90470>"
      ]
     },
     "metadata": {},
     "output_type": "display_data"
    }
   ],
   "source": [
    "fig , ax = plt.subplots()\n",
    "colors=['red','green','blue']\n",
    "ax.scatter(results['ces'],results['pms2'],c = results['label'],cmap = matplotlib.colors.ListedColormap(colors))\n",
    "plt.xlabel('CES')\n",
    "plt.ylabel('Expression level')\n",
    "plt.title('CES in function of expression level of PMS2')\n",
    "plt.show()"
   ]
  },
  {
   "cell_type": "code",
   "execution_count": 179,
   "metadata": {},
   "outputs": [
    {
     "data": {
      "text/plain": [
       "0.98331750232144843"
      ]
     },
     "execution_count": 179,
     "metadata": {},
     "output_type": "execute_result"
    }
   ],
   "source": [
    "import scipy\n",
    "tmp = results[['ces','pms2']].dropna()\n",
    "scipy.stats.spearmanr(tmp['ces'],tmp['pms2']).pvalue"
   ]
  },
  {
   "cell_type": "markdown",
   "metadata": {},
   "source": [
    "\n",
    "\n",
    "RED: MSI, GREEN : MSS, BLUE : unkown\n"
   ]
  },
  {
   "cell_type": "code",
   "execution_count": 181,
   "metadata": {
    "scrolled": true
   },
   "outputs": [
    {
     "data": {
      "image/png": "[encoded data removed]",
      "text/plain": [
       "<matplotlib.figure.Figure at 0x7fe0144b2898>"
      ]
     },
     "metadata": {},
     "output_type": "display_data"
    }
   ],
   "source": [
    "fig, ax = plt.subplots()\n",
    "colors = ['red','green','blue']\n",
    "ax.scatter(results['pms2_meth'],results['pms2'] , c = results['label'],cmap = matplotlib.colors.ListedColormap(colors))\n",
    "plt.xlabel('Methylation')\n",
    "plt.ylabel('Expression level')\n",
    "plt.title('Expression level in function of methlyation of PMS2')\n",
    "plt.show()"
   ]
  },
  {
   "cell_type": "markdown",
   "metadata": {},
   "source": [
    "% of MSI tumors with an expression level of MLH1 under -1"
   ]
  },
  {
   "cell_type": "code",
   "execution_count": 165,
   "metadata": {},
   "outputs": [
    {
     "data": {
      "text/plain": [
       "0.19696969696969696"
      ]
     },
     "execution_count": 165,
     "metadata": {},
     "output_type": "execute_result"
    }
   ],
   "source": [
    "float(np.sum(results[results['cat']=='msi']['msh2']<-1))/float(len(results[results['cat']=='msi']['msh2'].dropna()))"
   ]
  },
  {
   "cell_type": "code",
   "execution_count": 183,
   "metadata": {
    "scrolled": false
   },
   "outputs": [
    {
     "data": {
      "image/png": "[encoded data removed]",
      "text/plain": [
       "<matplotlib.figure.Figure at 0x7fe0144b2748>"
      ]
     },
     "metadata": {},
     "output_type": "display_data"
    }
   ],
   "source": [
    "l1  = list(results[results['cat']=='mss']['pms2'])\n",
    "l2 = list(results[results['cat']=='msi']['pms2'])\n",
    "plt.boxplot([l1,l2],labels=['MSS','MSI'])\n",
    "plt.ylabel('Expression level')\n",
    "plt.title('Comparison of PMS2 expression level in MSS and MSI patients')\n",
    "plt.show()"
   ]
  },
  {
   "cell_type": "code",
   "execution_count": null,
   "metadata": {},
   "outputs": [],
   "source": []
  }
 ],
 "metadata": {
  "kernelspec": {
   "display_name": "Python 3",
   "language": "python",
   "name": "python3"
  },
  "language_info": {
   "codemirror_mode": {
    "name": "ipython",
    "version": 3
   },
   "file_extension": ".py",
   "mimetype": "text/x-python",
   "name": "python",
   "nbconvert_exporter": "python",
   "pygments_lexer": "ipython3",
   "version": "3.5.2"
  }
 },
 "nbformat": 4,
 "nbformat_minor": 2
}
