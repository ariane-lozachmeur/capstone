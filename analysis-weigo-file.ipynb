{
 "cells": [
  {
   "cell_type": "code",
   "execution_count": 6,
   "metadata": {},
   "outputs": [],
   "source": [
    "import pandas as pd\n",
    "import numpy as np\n",
    "from math import *\n",
    "import matplotlib.pyplot as plt\n",
    "import matplotlib\n",
    "import matplotlib\n",
    "import scipy.stats"
   ]
  },
  {
   "cell_type": "code",
   "execution_count": 16,
   "metadata": {},
   "outputs": [
    {
     "data": {
      "text/html": [
       "<div>\n",
       "<style>\n",
       "    .dataframe thead tr:only-child th {\n",
       "        text-align: right;\n",
       "    }\n",
       "\n",
       "    .dataframe thead th {\n",
       "        text-align: left;\n",
       "    }\n",
       "\n",
       "    .dataframe tbody tr th {\n",
       "        vertical-align: top;\n",
       "    }\n",
       "</style>\n",
       "<table border=\"1\" class=\"dataframe\">\n",
       "  <thead>\n",
       "    <tr style=\"text-align: right;\">\n",
       "      <th></th>\n",
       "      <th>SAMPLE ID</th>\n",
       "      <th>PATIENT ID</th>\n",
       "      <th>Adjuvant Postoperative Pharmaceutical Therapy Administered Indicator</th>\n",
       "      <th>American Joint Committee on Cancer Metastasis Stage Code</th>\n",
       "      <th>American Joint Committee on Cancer Tumor Stage Code</th>\n",
       "      <th>American Joint Committee on Cancer Publication Version Type</th>\n",
       "      <th>Birth from Initial Pathologic Diagnosis Date</th>\n",
       "      <th>CNA</th>\n",
       "      <th>Death from Initial Pathologic Diagnosis Date</th>\n",
       "      <th>Diagnosis Age</th>\n",
       "      <th>...</th>\n",
       "      <th>Primary Therapy Outcome Success Type</th>\n",
       "      <th>Prior Cancer Diagnosis Occurence</th>\n",
       "      <th>Race Category</th>\n",
       "      <th>Specimen Second Longest Dimension</th>\n",
       "      <th>Surgical Margin Resection Status</th>\n",
       "      <th>Tissue Prospective Collection Indicator</th>\n",
       "      <th>Tissue Retrospective Collection Indicator</th>\n",
       "      <th>Tissue Source Site</th>\n",
       "      <th>Tumor Disease Anatomic Site</th>\n",
       "      <th>Year Cancer Initial Diagnosis</th>\n",
       "    </tr>\n",
       "  </thead>\n",
       "  <tbody>\n",
       "    <tr>\n",
       "      <th>0</th>\n",
       "      <td>TCGA-3L-AA1B-01</td>\n",
       "      <td>TCGA-3L-AA1B</td>\n",
       "      <td>NO</td>\n",
       "      <td>M0</td>\n",
       "      <td>T2</td>\n",
       "      <td>7th</td>\n",
       "      <td>-22379.0</td>\n",
       "      <td>0.113</td>\n",
       "      <td>NaN</td>\n",
       "      <td>61.0</td>\n",
       "      <td>...</td>\n",
       "      <td>Complete Remission/Response</td>\n",
       "      <td>NO</td>\n",
       "      <td>BLACK OR AFRICAN AMERICAN</td>\n",
       "      <td>NaN</td>\n",
       "      <td>R0</td>\n",
       "      <td>YES</td>\n",
       "      <td>NO</td>\n",
       "      <td>3L</td>\n",
       "      <td>Colon</td>\n",
       "      <td>2013.0</td>\n",
       "    </tr>\n",
       "    <tr>\n",
       "      <th>1</th>\n",
       "      <td>TCGA-4N-A93T-01</td>\n",
       "      <td>TCGA-4N-A93T</td>\n",
       "      <td>NaN</td>\n",
       "      <td>NaN</td>\n",
       "      <td>NaN</td>\n",
       "      <td>NaN</td>\n",
       "      <td>NaN</td>\n",
       "      <td>0.313</td>\n",
       "      <td>NaN</td>\n",
       "      <td>NaN</td>\n",
       "      <td>...</td>\n",
       "      <td>NaN</td>\n",
       "      <td>NaN</td>\n",
       "      <td>NaN</td>\n",
       "      <td>NaN</td>\n",
       "      <td>NaN</td>\n",
       "      <td>NaN</td>\n",
       "      <td>NaN</td>\n",
       "      <td>NaN</td>\n",
       "      <td>NaN</td>\n",
       "      <td>NaN</td>\n",
       "    </tr>\n",
       "    <tr>\n",
       "      <th>2</th>\n",
       "      <td>TCGA-4T-AA8H-01</td>\n",
       "      <td>TCGA-4T-AA8H</td>\n",
       "      <td>NaN</td>\n",
       "      <td>NaN</td>\n",
       "      <td>NaN</td>\n",
       "      <td>NaN</td>\n",
       "      <td>NaN</td>\n",
       "      <td>0.282</td>\n",
       "      <td>NaN</td>\n",
       "      <td>NaN</td>\n",
       "      <td>...</td>\n",
       "      <td>NaN</td>\n",
       "      <td>NaN</td>\n",
       "      <td>NaN</td>\n",
       "      <td>NaN</td>\n",
       "      <td>NaN</td>\n",
       "      <td>NaN</td>\n",
       "      <td>NaN</td>\n",
       "      <td>NaN</td>\n",
       "      <td>NaN</td>\n",
       "      <td>NaN</td>\n",
       "    </tr>\n",
       "    <tr>\n",
       "      <th>3</th>\n",
       "      <td>TCGA-5M-AAT4-01</td>\n",
       "      <td>TCGA-5M-AAT4</td>\n",
       "      <td>NaN</td>\n",
       "      <td>NaN</td>\n",
       "      <td>NaN</td>\n",
       "      <td>NaN</td>\n",
       "      <td>NaN</td>\n",
       "      <td>0.409</td>\n",
       "      <td>NaN</td>\n",
       "      <td>NaN</td>\n",
       "      <td>...</td>\n",
       "      <td>NaN</td>\n",
       "      <td>NaN</td>\n",
       "      <td>NaN</td>\n",
       "      <td>NaN</td>\n",
       "      <td>NaN</td>\n",
       "      <td>NaN</td>\n",
       "      <td>NaN</td>\n",
       "      <td>NaN</td>\n",
       "      <td>NaN</td>\n",
       "      <td>NaN</td>\n",
       "    </tr>\n",
       "    <tr>\n",
       "      <th>4</th>\n",
       "      <td>TCGA-5M-AAT5-01</td>\n",
       "      <td>TCGA-5M-AAT5</td>\n",
       "      <td>NaN</td>\n",
       "      <td>NaN</td>\n",
       "      <td>NaN</td>\n",
       "      <td>NaN</td>\n",
       "      <td>NaN</td>\n",
       "      <td>0.343</td>\n",
       "      <td>NaN</td>\n",
       "      <td>NaN</td>\n",
       "      <td>...</td>\n",
       "      <td>NaN</td>\n",
       "      <td>NaN</td>\n",
       "      <td>NaN</td>\n",
       "      <td>NaN</td>\n",
       "      <td>NaN</td>\n",
       "      <td>NaN</td>\n",
       "      <td>NaN</td>\n",
       "      <td>NaN</td>\n",
       "      <td>NaN</td>\n",
       "      <td>NaN</td>\n",
       "    </tr>\n",
       "  </tbody>\n",
       "</table>\n",
       "<p>5 rows × 46 columns</p>\n",
       "</div>"
      ],
      "text/plain": [
       "         SAMPLE ID    PATIENT ID  \\\n",
       "0  TCGA-3L-AA1B-01  TCGA-3L-AA1B   \n",
       "1  TCGA-4N-A93T-01  TCGA-4N-A93T   \n",
       "2  TCGA-4T-AA8H-01  TCGA-4T-AA8H   \n",
       "3  TCGA-5M-AAT4-01  TCGA-5M-AAT4   \n",
       "4  TCGA-5M-AAT5-01  TCGA-5M-AAT5   \n",
       "\n",
       "  Adjuvant Postoperative Pharmaceutical Therapy Administered Indicator  \\\n",
       "0                                                 NO                     \n",
       "1                                                NaN                     \n",
       "2                                                NaN                     \n",
       "3                                                NaN                     \n",
       "4                                                NaN                     \n",
       "\n",
       "  American Joint Committee on Cancer Metastasis Stage Code  \\\n",
       "0                                                 M0         \n",
       "1                                                NaN         \n",
       "2                                                NaN         \n",
       "3                                                NaN         \n",
       "4                                                NaN         \n",
       "\n",
       "  American Joint Committee on Cancer Tumor Stage Code  \\\n",
       "0                                                 T2    \n",
       "1                                                NaN    \n",
       "2                                                NaN    \n",
       "3                                                NaN    \n",
       "4                                                NaN    \n",
       "\n",
       "  American Joint Committee on Cancer Publication Version Type  \\\n",
       "0                                                7th            \n",
       "1                                                NaN            \n",
       "2                                                NaN            \n",
       "3                                                NaN            \n",
       "4                                                NaN            \n",
       "\n",
       "   Birth from Initial Pathologic Diagnosis Date    CNA  \\\n",
       "0                                      -22379.0  0.113   \n",
       "1                                           NaN  0.313   \n",
       "2                                           NaN  0.282   \n",
       "3                                           NaN  0.409   \n",
       "4                                           NaN  0.343   \n",
       "\n",
       "   Death from Initial Pathologic Diagnosis Date  Diagnosis Age  \\\n",
       "0                                           NaN           61.0   \n",
       "1                                           NaN            NaN   \n",
       "2                                           NaN            NaN   \n",
       "3                                           NaN            NaN   \n",
       "4                                           NaN            NaN   \n",
       "\n",
       "               ...              Primary Therapy Outcome Success Type  \\\n",
       "0              ...                       Complete Remission/Response   \n",
       "1              ...                                               NaN   \n",
       "2              ...                                               NaN   \n",
       "3              ...                                               NaN   \n",
       "4              ...                                               NaN   \n",
       "\n",
       "   Prior Cancer Diagnosis Occurence              Race Category  \\\n",
       "0                                NO  BLACK OR AFRICAN AMERICAN   \n",
       "1                               NaN                        NaN   \n",
       "2                               NaN                        NaN   \n",
       "3                               NaN                        NaN   \n",
       "4                               NaN                        NaN   \n",
       "\n",
       "  Specimen Second Longest Dimension Surgical Margin Resection Status  \\\n",
       "0                               NaN                               R0   \n",
       "1                               NaN                              NaN   \n",
       "2                               NaN                              NaN   \n",
       "3                               NaN                              NaN   \n",
       "4                               NaN                              NaN   \n",
       "\n",
       "  Tissue Prospective Collection Indicator  \\\n",
       "0                                     YES   \n",
       "1                                     NaN   \n",
       "2                                     NaN   \n",
       "3                                     NaN   \n",
       "4                                     NaN   \n",
       "\n",
       "  Tissue Retrospective Collection Indicator  Tissue Source Site  \\\n",
       "0                                        NO                  3L   \n",
       "1                                       NaN                 NaN   \n",
       "2                                       NaN                 NaN   \n",
       "3                                       NaN                 NaN   \n",
       "4                                       NaN                 NaN   \n",
       "\n",
       "   Tumor Disease Anatomic Site Year Cancer Initial Diagnosis  \n",
       "0                        Colon                        2013.0  \n",
       "1                          NaN                           NaN  \n",
       "2                          NaN                           NaN  \n",
       "3                          NaN                           NaN  \n",
       "4                          NaN                           NaN  \n",
       "\n",
       "[5 rows x 46 columns]"
      ]
     },
     "execution_count": 16,
     "metadata": {},
     "output_type": "execute_result"
    }
   ],
   "source": [
    "colorectal = pd.read_csv('data/Colorectal TCGA.csv')\n",
    "colorectal.head()"
   ]
  },
  {
   "cell_type": "markdown",
   "metadata": {},
   "source": [
    "# Colorectal cancer"
   ]
  },
  {
   "cell_type": "code",
   "execution_count": 62,
   "metadata": {},
   "outputs": [
    {
     "data": {
      "image/png": "[encoded data removed]",
      "text/plain": [
       "<matplotlib.figure.Figure at 0x7fac60871d30>"
      ]
     },
     "metadata": {},
     "output_type": "display_data"
    }
   ],
   "source": [
    "fig, ax = plt.subplots()\n",
    "ax.scatter(colorectal['CNA'], colorectal['Mutation Count'])\n",
    "plt.xlabel('CNA')\n",
    "plt.ylabel('Mutation Count')\n",
    "plt.title('CNA and Mutation in colorectal cancer')\n",
    "plt.show()"
   ]
  },
  {
   "cell_type": "code",
   "execution_count": 35,
   "metadata": {},
   "outputs": [
    {
     "name": "stdout",
     "output_type": "stream",
     "text": [
      "383\n"
     ]
    },
    {
     "data": {
      "text/html": [
       "<div>\n",
       "<style>\n",
       "    .dataframe thead tr:only-child th {\n",
       "        text-align: right;\n",
       "    }\n",
       "\n",
       "    .dataframe thead th {\n",
       "        text-align: left;\n",
       "    }\n",
       "\n",
       "    .dataframe tbody tr th {\n",
       "        vertical-align: top;\n",
       "    }\n",
       "</style>\n",
       "<table border=\"1\" class=\"dataframe\">\n",
       "  <thead>\n",
       "    <tr style=\"text-align: right;\">\n",
       "      <th></th>\n",
       "      <th>id</th>\n",
       "      <th>ces</th>\n",
       "    </tr>\n",
       "  </thead>\n",
       "  <tbody>\n",
       "    <tr>\n",
       "      <th>0</th>\n",
       "      <td>TCGA-D5-6531-01</td>\n",
       "      <td>1.8834</td>\n",
       "    </tr>\n",
       "    <tr>\n",
       "      <th>1</th>\n",
       "      <td>TCGA-DM-A28A-01</td>\n",
       "      <td>6.4499</td>\n",
       "    </tr>\n",
       "    <tr>\n",
       "      <th>2</th>\n",
       "      <td>TCGA-DC-5869-01</td>\n",
       "      <td>7.8741</td>\n",
       "    </tr>\n",
       "    <tr>\n",
       "      <th>3</th>\n",
       "      <td>TCGA-F4-6460-01</td>\n",
       "      <td>-4.8967</td>\n",
       "    </tr>\n",
       "    <tr>\n",
       "      <th>4</th>\n",
       "      <td>TCGA-DY-A1DC-01</td>\n",
       "      <td>1.8764</td>\n",
       "    </tr>\n",
       "  </tbody>\n",
       "</table>\n",
       "</div>"
      ],
      "text/plain": [
       "                id     ces\n",
       "0  TCGA-D5-6531-01  1.8834\n",
       "1  TCGA-DM-A28A-01  6.4499\n",
       "2  TCGA-DC-5869-01  7.8741\n",
       "3  TCGA-F4-6460-01 -4.8967\n",
       "4  TCGA-DY-A1DC-01  1.8764"
      ]
     },
     "execution_count": 35,
     "metadata": {},
     "output_type": "execute_result"
    }
   ],
   "source": [
    "df_ces = pd.read_table('data/ces_data.txt')\n",
    "ces = []\n",
    "for p in df_ces.columns[2:]:\n",
    "    ces.append([p,df_ces[p].sum()])\n",
    "\n",
    "ces = pd.DataFrame(ces)\n",
    "ces.columns = ['id','ces']\n",
    "print(len(ces))\n",
    "ces.head()"
   ]
  },
  {
   "cell_type": "code",
   "execution_count": 36,
   "metadata": {},
   "outputs": [
    {
     "name": "stdout",
     "output_type": "stream",
     "text": [
      "381\n"
     ]
    }
   ],
   "source": [
    "df = colorectal.merge(ces,how='inner',left_on='SAMPLE ID', right_on='id')\n",
    "print(len(df))"
   ]
  },
  {
   "cell_type": "markdown",
   "metadata": {},
   "source": [
    "# CES and Mutation in Colorectal cancer"
   ]
  },
  {
   "cell_type": "code",
   "execution_count": 38,
   "metadata": {},
   "outputs": [
    {
     "data": {
      "image/png": "[encoded data removed]",
      "text/plain": [
       "<matplotlib.figure.Figure at 0x7fac606c1a90>"
      ]
     },
     "metadata": {},
     "output_type": "display_data"
    }
   ],
   "source": [
    "fig, ax = plt.subplots()\n",
    "ax.scatter(df['ces'], df['Mutation Count'])\n",
    "plt.xlabel('CES')\n",
    "plt.ylabel('Mutation Count')\n",
    "plt.title('CES and Mutation')\n",
    "plt.show()"
   ]
  },
  {
   "cell_type": "code",
   "execution_count": 44,
   "metadata": {},
   "outputs": [],
   "source": [
    "lung = pd.read_csv('data/Lung Adenocarcinoma (TCGA, Provisional).csv')\n",
    "lung_ces = pd.read_table('data/lung_ces_expr.txt')"
   ]
  },
  {
   "cell_type": "code",
   "execution_count": 47,
   "metadata": {},
   "outputs": [
    {
     "name": "stdout",
     "output_type": "stream",
     "text": [
      "518\n"
     ]
    },
    {
     "data": {
      "text/html": [
       "<div>\n",
       "<style>\n",
       "    .dataframe thead tr:only-child th {\n",
       "        text-align: right;\n",
       "    }\n",
       "\n",
       "    .dataframe thead th {\n",
       "        text-align: left;\n",
       "    }\n",
       "\n",
       "    .dataframe tbody tr th {\n",
       "        vertical-align: top;\n",
       "    }\n",
       "</style>\n",
       "<table border=\"1\" class=\"dataframe\">\n",
       "  <thead>\n",
       "    <tr style=\"text-align: right;\">\n",
       "      <th></th>\n",
       "      <th>id</th>\n",
       "      <th>ces</th>\n",
       "    </tr>\n",
       "  </thead>\n",
       "  <tbody>\n",
       "    <tr>\n",
       "      <th>0</th>\n",
       "      <td>TCGA-62-A46S-01</td>\n",
       "      <td>-11.1319</td>\n",
       "    </tr>\n",
       "    <tr>\n",
       "      <th>1</th>\n",
       "      <td>TCGA-67-3770-01</td>\n",
       "      <td>-7.4949</td>\n",
       "    </tr>\n",
       "    <tr>\n",
       "      <th>2</th>\n",
       "      <td>TCGA-64-1681-01</td>\n",
       "      <td>-7.7362</td>\n",
       "    </tr>\n",
       "    <tr>\n",
       "      <th>3</th>\n",
       "      <td>TCGA-MP-A4TF-01</td>\n",
       "      <td>0.1610</td>\n",
       "    </tr>\n",
       "    <tr>\n",
       "      <th>4</th>\n",
       "      <td>TCGA-86-A4D0-01</td>\n",
       "      <td>27.8214</td>\n",
       "    </tr>\n",
       "  </tbody>\n",
       "</table>\n",
       "</div>"
      ],
      "text/plain": [
       "                id      ces\n",
       "0  TCGA-62-A46S-01 -11.1319\n",
       "1  TCGA-67-3770-01  -7.4949\n",
       "2  TCGA-64-1681-01  -7.7362\n",
       "3  TCGA-MP-A4TF-01   0.1610\n",
       "4  TCGA-86-A4D0-01  27.8214"
      ]
     },
     "execution_count": 47,
     "metadata": {},
     "output_type": "execute_result"
    }
   ],
   "source": [
    "ces = []\n",
    "for p in lung_ces.columns[2:]:\n",
    "    ces.append([p,lung_ces[p].sum()])\n",
    "\n",
    "ces = pd.DataFrame(ces)\n",
    "ces.columns = ['id','ces']\n",
    "print(len(ces))\n",
    "ces.head()"
   ]
  },
  {
   "cell_type": "code",
   "execution_count": 48,
   "metadata": {},
   "outputs": [
    {
     "name": "stdout",
     "output_type": "stream",
     "text": [
      "517\n"
     ]
    }
   ],
   "source": [
    "df_lung = lung.merge(ces,how='inner',left_on='SAMPLE ID', right_on='id')\n",
    "print(len(df_lung))"
   ]
  },
  {
   "cell_type": "markdown",
   "metadata": {},
   "source": [
    "# CES and Mutation in Lung Adenocarcinoma"
   ]
  },
  {
   "cell_type": "code",
   "execution_count": 61,
   "metadata": {},
   "outputs": [
    {
     "data": {
      "image/png": "[encoded data removed]",
      "text/plain": [
       "<matplotlib.figure.Figure at 0x7fac60871048>"
      ]
     },
     "metadata": {},
     "output_type": "display_data"
    }
   ],
   "source": [
    "fig, ax = plt.subplots()\n",
    "ax.scatter(df_lung['ces'], df_lung['Mutation Count'])\n",
    "plt.xlabel('CES')\n",
    "plt.ylabel('Mutation Count')\n",
    "plt.ylim(0,1600)\n",
    "plt.title('CES and Mutation in lung adenocarcinoma cancer')\n",
    "plt.show()"
   ]
  },
  {
   "cell_type": "code",
   "execution_count": 54,
   "metadata": {},
   "outputs": [],
   "source": [
    "lung = pd.read_csv('data/Lung Squamous Cell Carcinoma (TCGA, Provisional).csv')\n",
    "lung_ces = pd.read_table('data/lung2_ces_expr.txt')"
   ]
  },
  {
   "cell_type": "markdown",
   "metadata": {},
   "source": [
    "# CES and Mutation in Lung Squamous Cell Carcinoma "
   ]
  },
  {
   "cell_type": "code",
   "execution_count": 60,
   "metadata": {},
   "outputs": [
    {
     "name": "stdout",
     "output_type": "stream",
     "text": [
      "502\n",
      "501\n"
     ]
    },
    {
     "data": {
      "image/png": "[encoded data removed]",
      "text/plain": [
       "<matplotlib.figure.Figure at 0x7fac600fff60>"
      ]
     },
     "metadata": {},
     "output_type": "display_data"
    }
   ],
   "source": [
    "ces = []\n",
    "for p in lung_ces.columns[2:]:\n",
    "    ces.append([p,lung_ces[p].sum()])\n",
    "\n",
    "ces = pd.DataFrame(ces)\n",
    "ces.columns = ['id','ces']\n",
    "print(len(ces))\n",
    "df_lung = lung.merge(ces,how='inner',left_on='SAMPLE ID', right_on='id')\n",
    "print(len(df_lung))\n",
    "fig, ax = plt.subplots()\n",
    "ax.scatter(df_lung['ces'], df_lung['Mutation Count'])\n",
    "plt.xlabel('CES')\n",
    "plt.ylabel('Mutation Count')\n",
    "plt.ylim(0,1300)\n",
    "plt.title('CES and Mutation in lung squamous cancer')\n",
    "plt.show()"
   ]
  },
  {
   "cell_type": "code",
   "execution_count": null,
   "metadata": {},
   "outputs": [],
   "source": []
  }
 ],
 "metadata": {
  "kernelspec": {
   "display_name": "Python 3",
   "language": "python",
   "name": "python3"
  },
  "language_info": {
   "codemirror_mode": {
    "name": "ipython",
    "version": 3
   },
   "file_extension": ".py",
   "mimetype": "text/x-python",
   "name": "python",
   "nbconvert_exporter": "python",
   "pygments_lexer": "ipython3",
   "version": "3.5.2"
  }
 },
 "nbformat": 4,
 "nbformat_minor": 2
}
