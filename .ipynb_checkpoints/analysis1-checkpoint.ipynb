{
 "cells": [
  {
   "cell_type": "code",
   "execution_count": null,
   "metadata": {
    "collapsed": true
   },
   "outputs": [],
   "source": [
    "import pandas as pd\n",
    "import numpy as np\n",
    "from math import *\n",
    "import matplotlib.pyplot as plt\n",
    "import matplotlib\n",
    "import matplotlib\n",
    "import scipy.stats"
   ]
  },
  {
   "cell_type": "markdown",
   "metadata": {},
   "source": [
    "# CES"
   ]
  },
  {
   "cell_type": "markdown",
   "metadata": {},
   "source": [
    "Load the dataset containing mRNA experession (Z-score) for the CES genes"
   ]
  },
  {
   "cell_type": "code",
   "execution_count": 2,
   "metadata": {
    "collapsed": false
   },
   "outputs": [
    {
     "data": {
      "text/html": [
       "<div>\n",
       "<style>\n",
       "    .dataframe thead tr:only-child th {\n",
       "        text-align: right;\n",
       "    }\n",
       "\n",
       "    .dataframe thead th {\n",
       "        text-align: left;\n",
       "    }\n",
       "\n",
       "    .dataframe tbody tr th {\n",
       "        vertical-align: top;\n",
       "    }\n",
       "</style>\n",
       "<table border=\"1\" class=\"dataframe\">\n",
       "  <thead>\n",
       "    <tr style=\"text-align: right;\">\n",
       "      <th></th>\n",
       "      <th>GENE_ID</th>\n",
       "      <th>COMMON</th>\n",
       "      <th>TCGA-D5-6531-01</th>\n",
       "      <th>TCGA-DM-A28A-01</th>\n",
       "      <th>TCGA-DC-5869-01</th>\n",
       "      <th>TCGA-F4-6460-01</th>\n",
       "      <th>TCGA-DY-A1DC-01</th>\n",
       "      <th>TCGA-CM-5862-01</th>\n",
       "      <th>TCGA-CK-4947-01</th>\n",
       "      <th>TCGA-AH-6544-01</th>\n",
       "      <th>...</th>\n",
       "      <th>TCGA-QG-A5YW-01</th>\n",
       "      <th>TCGA-AF-6672-01</th>\n",
       "      <th>TCGA-F5-6464-01</th>\n",
       "      <th>TCGA-AA-3663-01</th>\n",
       "      <th>TCGA-G4-6299-01</th>\n",
       "      <th>TCGA-5M-AAT6-01</th>\n",
       "      <th>TCGA-CK-4950-01</th>\n",
       "      <th>TCGA-G4-6314-01</th>\n",
       "      <th>TCGA-F5-6810-01</th>\n",
       "      <th>Unnamed: 384</th>\n",
       "    </tr>\n",
       "  </thead>\n",
       "  <tbody>\n",
       "    <tr>\n",
       "      <th>0</th>\n",
       "      <td>1058</td>\n",
       "      <td>CENPA</td>\n",
       "      <td>-0.0301</td>\n",
       "      <td>0.2179</td>\n",
       "      <td>1.4571</td>\n",
       "      <td>-0.7924</td>\n",
       "      <td>1.5764</td>\n",
       "      <td>0.3559</td>\n",
       "      <td>-0.0643</td>\n",
       "      <td>1.9212</td>\n",
       "      <td>...</td>\n",
       "      <td>-0.7800</td>\n",
       "      <td>-0.9124</td>\n",
       "      <td>-1.3433</td>\n",
       "      <td>0.1516</td>\n",
       "      <td>-0.4601</td>\n",
       "      <td>-0.5838</td>\n",
       "      <td>0.8886</td>\n",
       "      <td>-0.2891</td>\n",
       "      <td>0.4476</td>\n",
       "      <td>NaN</td>\n",
       "    </tr>\n",
       "    <tr>\n",
       "      <th>1</th>\n",
       "      <td>64105</td>\n",
       "      <td>CENPK</td>\n",
       "      <td>-0.5824</td>\n",
       "      <td>0.0206</td>\n",
       "      <td>1.2963</td>\n",
       "      <td>-0.0141</td>\n",
       "      <td>0.1650</td>\n",
       "      <td>-0.0158</td>\n",
       "      <td>0.0376</td>\n",
       "      <td>0.4544</td>\n",
       "      <td>...</td>\n",
       "      <td>-0.4578</td>\n",
       "      <td>-0.8575</td>\n",
       "      <td>-1.0678</td>\n",
       "      <td>0.6655</td>\n",
       "      <td>-0.2055</td>\n",
       "      <td>-0.2768</td>\n",
       "      <td>-0.5189</td>\n",
       "      <td>-0.0711</td>\n",
       "      <td>1.1868</td>\n",
       "      <td>NaN</td>\n",
       "    </tr>\n",
       "    <tr>\n",
       "      <th>2</th>\n",
       "      <td>91687</td>\n",
       "      <td>CENPL</td>\n",
       "      <td>0.1716</td>\n",
       "      <td>1.6052</td>\n",
       "      <td>0.9938</td>\n",
       "      <td>0.2612</td>\n",
       "      <td>-0.2121</td>\n",
       "      <td>1.4827</td>\n",
       "      <td>-0.2989</td>\n",
       "      <td>1.1545</td>\n",
       "      <td>...</td>\n",
       "      <td>-0.5931</td>\n",
       "      <td>-0.0485</td>\n",
       "      <td>-0.5470</td>\n",
       "      <td>0.8234</td>\n",
       "      <td>0.9041</td>\n",
       "      <td>0.6755</td>\n",
       "      <td>-0.0181</td>\n",
       "      <td>-0.3901</td>\n",
       "      <td>1.4739</td>\n",
       "      <td>NaN</td>\n",
       "    </tr>\n",
       "    <tr>\n",
       "      <th>3</th>\n",
       "      <td>79019</td>\n",
       "      <td>CENPM</td>\n",
       "      <td>0.1191</td>\n",
       "      <td>-0.7380</td>\n",
       "      <td>-0.5356</td>\n",
       "      <td>-0.7788</td>\n",
       "      <td>-0.1759</td>\n",
       "      <td>-0.9800</td>\n",
       "      <td>-0.3044</td>\n",
       "      <td>0.0333</td>\n",
       "      <td>...</td>\n",
       "      <td>-0.9764</td>\n",
       "      <td>-1.4288</td>\n",
       "      <td>-1.4406</td>\n",
       "      <td>3.3740</td>\n",
       "      <td>-0.0877</td>\n",
       "      <td>0.4225</td>\n",
       "      <td>0.7416</td>\n",
       "      <td>0.3123</td>\n",
       "      <td>-0.5262</td>\n",
       "      <td>NaN</td>\n",
       "    </tr>\n",
       "    <tr>\n",
       "      <th>4</th>\n",
       "      <td>55839</td>\n",
       "      <td>CENPN</td>\n",
       "      <td>1.2855</td>\n",
       "      <td>1.4574</td>\n",
       "      <td>1.3967</td>\n",
       "      <td>1.5256</td>\n",
       "      <td>0.1120</td>\n",
       "      <td>-0.3345</td>\n",
       "      <td>-0.9970</td>\n",
       "      <td>1.3151</td>\n",
       "      <td>...</td>\n",
       "      <td>-0.7026</td>\n",
       "      <td>-1.5847</td>\n",
       "      <td>-1.6145</td>\n",
       "      <td>0.6347</td>\n",
       "      <td>-1.1639</td>\n",
       "      <td>0.5376</td>\n",
       "      <td>-0.0977</td>\n",
       "      <td>-0.3397</td>\n",
       "      <td>2.9461</td>\n",
       "      <td>NaN</td>\n",
       "    </tr>\n",
       "  </tbody>\n",
       "</table>\n",
       "<p>5 rows × 385 columns</p>\n",
       "</div>"
      ],
      "text/plain": [
       "   GENE_ID COMMON  TCGA-D5-6531-01  TCGA-DM-A28A-01  TCGA-DC-5869-01  \\\n",
       "0     1058  CENPA          -0.0301           0.2179           1.4571   \n",
       "1    64105  CENPK          -0.5824           0.0206           1.2963   \n",
       "2    91687  CENPL           0.1716           1.6052           0.9938   \n",
       "3    79019  CENPM           0.1191          -0.7380          -0.5356   \n",
       "4    55839  CENPN           1.2855           1.4574           1.3967   \n",
       "\n",
       "   TCGA-F4-6460-01  TCGA-DY-A1DC-01  TCGA-CM-5862-01  TCGA-CK-4947-01  \\\n",
       "0          -0.7924           1.5764           0.3559          -0.0643   \n",
       "1          -0.0141           0.1650          -0.0158           0.0376   \n",
       "2           0.2612          -0.2121           1.4827          -0.2989   \n",
       "3          -0.7788          -0.1759          -0.9800          -0.3044   \n",
       "4           1.5256           0.1120          -0.3345          -0.9970   \n",
       "\n",
       "   TCGA-AH-6544-01      ...       TCGA-QG-A5YW-01  TCGA-AF-6672-01  \\\n",
       "0           1.9212      ...               -0.7800          -0.9124   \n",
       "1           0.4544      ...               -0.4578          -0.8575   \n",
       "2           1.1545      ...               -0.5931          -0.0485   \n",
       "3           0.0333      ...               -0.9764          -1.4288   \n",
       "4           1.3151      ...               -0.7026          -1.5847   \n",
       "\n",
       "   TCGA-F5-6464-01  TCGA-AA-3663-01  TCGA-G4-6299-01  TCGA-5M-AAT6-01  \\\n",
       "0          -1.3433           0.1516          -0.4601          -0.5838   \n",
       "1          -1.0678           0.6655          -0.2055          -0.2768   \n",
       "2          -0.5470           0.8234           0.9041           0.6755   \n",
       "3          -1.4406           3.3740          -0.0877           0.4225   \n",
       "4          -1.6145           0.6347          -1.1639           0.5376   \n",
       "\n",
       "   TCGA-CK-4950-01  TCGA-G4-6314-01  TCGA-F5-6810-01  Unnamed: 384  \n",
       "0           0.8886          -0.2891           0.4476           NaN  \n",
       "1          -0.5189          -0.0711           1.1868           NaN  \n",
       "2          -0.0181          -0.3901           1.4739           NaN  \n",
       "3           0.7416           0.3123          -0.5262           NaN  \n",
       "4          -0.0977          -0.3397           2.9461           NaN  \n",
       "\n",
       "[5 rows x 385 columns]"
      ]
     },
     "execution_count": 2,
     "metadata": {},
     "output_type": "execute_result"
    }
   ],
   "source": [
    "df_ces = pd.read_table('data/cBioPortal_data_ces.txt')\n",
    "df_ces.head()"
   ]
  },
  {
   "cell_type": "markdown",
   "metadata": {},
   "source": [
    "Calculate CES for each patient"
   ]
  },
  {
   "cell_type": "code",
   "execution_count": 3,
   "metadata": {
    "collapsed": false
   },
   "outputs": [
    {
     "data": {
      "text/html": [
       "<div>\n",
       "<style>\n",
       "    .dataframe thead tr:only-child th {\n",
       "        text-align: right;\n",
       "    }\n",
       "\n",
       "    .dataframe thead th {\n",
       "        text-align: left;\n",
       "    }\n",
       "\n",
       "    .dataframe tbody tr th {\n",
       "        vertical-align: top;\n",
       "    }\n",
       "</style>\n",
       "<table border=\"1\" class=\"dataframe\">\n",
       "  <thead>\n",
       "    <tr style=\"text-align: right;\">\n",
       "      <th></th>\n",
       "      <th>id</th>\n",
       "      <th>ces</th>\n",
       "    </tr>\n",
       "  </thead>\n",
       "  <tbody>\n",
       "    <tr>\n",
       "      <th>0</th>\n",
       "      <td>TCGA-D5-6531-01</td>\n",
       "      <td>1.8834</td>\n",
       "    </tr>\n",
       "    <tr>\n",
       "      <th>1</th>\n",
       "      <td>TCGA-DM-A28A-01</td>\n",
       "      <td>6.4499</td>\n",
       "    </tr>\n",
       "    <tr>\n",
       "      <th>2</th>\n",
       "      <td>TCGA-DC-5869-01</td>\n",
       "      <td>7.8741</td>\n",
       "    </tr>\n",
       "    <tr>\n",
       "      <th>3</th>\n",
       "      <td>TCGA-F4-6460-01</td>\n",
       "      <td>-4.8967</td>\n",
       "    </tr>\n",
       "    <tr>\n",
       "      <th>4</th>\n",
       "      <td>TCGA-DY-A1DC-01</td>\n",
       "      <td>1.8764</td>\n",
       "    </tr>\n",
       "  </tbody>\n",
       "</table>\n",
       "</div>"
      ],
      "text/plain": [
       "                id     ces\n",
       "0  TCGA-D5-6531-01  1.8834\n",
       "1  TCGA-DM-A28A-01  6.4499\n",
       "2  TCGA-DC-5869-01  7.8741\n",
       "3  TCGA-F4-6460-01 -4.8967\n",
       "4  TCGA-DY-A1DC-01  1.8764"
      ]
     },
     "execution_count": 3,
     "metadata": {},
     "output_type": "execute_result"
    }
   ],
   "source": [
    "patients = []\n",
    "for p in df_ces.columns[2:]:\n",
    "    patients.append([p,df_ces[p].sum()])\n",
    "\n",
    "patients = pd.DataFrame(patients)\n",
    "patients.columns = ['id','ces']\n",
    "patients.head()"
   ]
  },
  {
   "cell_type": "markdown",
   "metadata": {},
   "source": [
    "# MMR deficiency determination"
   ]
  },
  {
   "cell_type": "markdown",
   "metadata": {},
   "source": [
    "The genes upreg are upregulated in MSS tumors, downreg are downregulated in MSS tumors"
   ]
  },
  {
   "cell_type": "code",
   "execution_count": 4,
   "metadata": {
    "collapsed": true
   },
   "outputs": [],
   "source": [
    "upreg = ['ANG','TFF2','SRSF6','SET','EIF5A','RARRES1' ,'CRIP1','CD55','IQGAP2','P4HA1',\n",
    "         'TYMS','GLRX','NUCB2','FUT8','HNRNPL','PCCB','EIF5A','POLR2L','GTF2A2','GALNT1',\n",
    "         'NDUFA9','TNNT1','AHR','PRKAR2B','ATP5A1','AMFR','OSTF1','CALM1','MANF','EWSR1',\n",
    "         'SSR1','MFAP1','GNAQ','PPP2R5E','USP14','GCH1','KIF11','CASP2','SLC1A1','PGGT1B','RAB27B']\n",
    "downreg = ['FTO','PLAGL1','STK38','DMD','NONO','CSNK1E','TCF7','POFUT1','OCRL','ELF1','LRP1','MLH1',\n",
    "           'MARCKS','JUN','ELN','RAB32','TSC22D1','YWHAB','SEMA3C','GABRE','NEK3','PRKCI','TGFBR2',\n",
    "           'FCGRT','CFTR','SERINC3','HSPH1','TDGF1','CYP2B7P']"
   ]
  },
  {
   "cell_type": "code",
   "execution_count": 5,
   "metadata": {
    "collapsed": false
   },
   "outputs": [
    {
     "data": {
      "text/html": [
       "<div>\n",
       "<style>\n",
       "    .dataframe thead tr:only-child th {\n",
       "        text-align: right;\n",
       "    }\n",
       "\n",
       "    .dataframe thead th {\n",
       "        text-align: left;\n",
       "    }\n",
       "\n",
       "    .dataframe tbody tr th {\n",
       "        vertical-align: top;\n",
       "    }\n",
       "</style>\n",
       "<table border=\"1\" class=\"dataframe\">\n",
       "  <thead>\n",
       "    <tr style=\"text-align: right;\">\n",
       "      <th></th>\n",
       "      <th>GENE_ID</th>\n",
       "      <th>COMMON</th>\n",
       "      <th>TCGA-D5-6531-01</th>\n",
       "      <th>TCGA-DM-A28A-01</th>\n",
       "      <th>TCGA-DC-5869-01</th>\n",
       "      <th>TCGA-F4-6460-01</th>\n",
       "      <th>TCGA-DY-A1DC-01</th>\n",
       "      <th>TCGA-CM-5862-01</th>\n",
       "      <th>TCGA-CK-4947-01</th>\n",
       "      <th>TCGA-AH-6544-01</th>\n",
       "      <th>...</th>\n",
       "      <th>TCGA-QG-A5YW-01</th>\n",
       "      <th>TCGA-AF-6672-01</th>\n",
       "      <th>TCGA-F5-6464-01</th>\n",
       "      <th>TCGA-AA-3663-01</th>\n",
       "      <th>TCGA-G4-6299-01</th>\n",
       "      <th>TCGA-5M-AAT6-01</th>\n",
       "      <th>TCGA-CK-4950-01</th>\n",
       "      <th>TCGA-G4-6314-01</th>\n",
       "      <th>TCGA-F5-6810-01</th>\n",
       "      <th>Unnamed: 384</th>\n",
       "    </tr>\n",
       "  </thead>\n",
       "  <tbody>\n",
       "    <tr>\n",
       "      <th>0</th>\n",
       "      <td>196</td>\n",
       "      <td>AHR</td>\n",
       "      <td>-0.2984</td>\n",
       "      <td>-1.0773</td>\n",
       "      <td>0.3750</td>\n",
       "      <td>-0.3260</td>\n",
       "      <td>-0.4386</td>\n",
       "      <td>0.1220</td>\n",
       "      <td>-0.3814</td>\n",
       "      <td>-0.1834</td>\n",
       "      <td>...</td>\n",
       "      <td>-0.9691</td>\n",
       "      <td>0.2356</td>\n",
       "      <td>1.4572</td>\n",
       "      <td>2.6877</td>\n",
       "      <td>0.6835</td>\n",
       "      <td>0.5541</td>\n",
       "      <td>-0.8253</td>\n",
       "      <td>0.1854</td>\n",
       "      <td>0.0946</td>\n",
       "      <td>NaN</td>\n",
       "    </tr>\n",
       "    <tr>\n",
       "      <th>1</th>\n",
       "      <td>267</td>\n",
       "      <td>AMFR</td>\n",
       "      <td>-0.6495</td>\n",
       "      <td>-0.5238</td>\n",
       "      <td>-0.1860</td>\n",
       "      <td>0.6383</td>\n",
       "      <td>0.7650</td>\n",
       "      <td>0.7976</td>\n",
       "      <td>-0.6584</td>\n",
       "      <td>0.6131</td>\n",
       "      <td>...</td>\n",
       "      <td>-0.6123</td>\n",
       "      <td>-2.1334</td>\n",
       "      <td>0.3610</td>\n",
       "      <td>1.4784</td>\n",
       "      <td>-1.2680</td>\n",
       "      <td>-0.1026</td>\n",
       "      <td>0.1404</td>\n",
       "      <td>-0.5809</td>\n",
       "      <td>-0.2820</td>\n",
       "      <td>NaN</td>\n",
       "    </tr>\n",
       "    <tr>\n",
       "      <th>2</th>\n",
       "      <td>283</td>\n",
       "      <td>ANG</td>\n",
       "      <td>-0.8204</td>\n",
       "      <td>-0.5854</td>\n",
       "      <td>-0.6932</td>\n",
       "      <td>-0.3655</td>\n",
       "      <td>-0.4288</td>\n",
       "      <td>-0.6588</td>\n",
       "      <td>-0.2356</td>\n",
       "      <td>-0.2301</td>\n",
       "      <td>...</td>\n",
       "      <td>-0.1548</td>\n",
       "      <td>0.3685</td>\n",
       "      <td>-0.4977</td>\n",
       "      <td>0.5362</td>\n",
       "      <td>-0.5201</td>\n",
       "      <td>-0.6622</td>\n",
       "      <td>-0.1426</td>\n",
       "      <td>-0.5349</td>\n",
       "      <td>-0.2083</td>\n",
       "      <td>NaN</td>\n",
       "    </tr>\n",
       "    <tr>\n",
       "      <th>3</th>\n",
       "      <td>498</td>\n",
       "      <td>ATP5A1</td>\n",
       "      <td>0.9265</td>\n",
       "      <td>-2.0746</td>\n",
       "      <td>-1.7211</td>\n",
       "      <td>-2.3986</td>\n",
       "      <td>-1.8909</td>\n",
       "      <td>-1.9642</td>\n",
       "      <td>0.0254</td>\n",
       "      <td>-2.1067</td>\n",
       "      <td>...</td>\n",
       "      <td>1.0781</td>\n",
       "      <td>-2.7523</td>\n",
       "      <td>-1.0694</td>\n",
       "      <td>0.1599</td>\n",
       "      <td>0.9668</td>\n",
       "      <td>-0.2835</td>\n",
       "      <td>0.0748</td>\n",
       "      <td>-1.8582</td>\n",
       "      <td>-2.1273</td>\n",
       "      <td>NaN</td>\n",
       "    </tr>\n",
       "    <tr>\n",
       "      <th>4</th>\n",
       "      <td>801</td>\n",
       "      <td>CALM1</td>\n",
       "      <td>-1.7234</td>\n",
       "      <td>-0.7818</td>\n",
       "      <td>-1.3100</td>\n",
       "      <td>-0.5795</td>\n",
       "      <td>0.1764</td>\n",
       "      <td>-0.6586</td>\n",
       "      <td>0.1324</td>\n",
       "      <td>-0.0313</td>\n",
       "      <td>...</td>\n",
       "      <td>0.1410</td>\n",
       "      <td>-0.4145</td>\n",
       "      <td>-0.2971</td>\n",
       "      <td>-0.4164</td>\n",
       "      <td>-0.6538</td>\n",
       "      <td>-1.3549</td>\n",
       "      <td>1.4396</td>\n",
       "      <td>-0.2014</td>\n",
       "      <td>-0.8057</td>\n",
       "      <td>NaN</td>\n",
       "    </tr>\n",
       "  </tbody>\n",
       "</table>\n",
       "<p>5 rows × 385 columns</p>\n",
       "</div>"
      ],
      "text/plain": [
       "    GENE_ID  COMMON  TCGA-D5-6531-01  TCGA-DM-A28A-01  TCGA-DC-5869-01  \\\n",
       "0       196     AHR          -0.2984          -1.0773           0.3750   \n",
       "1       267    AMFR          -0.6495          -0.5238          -0.1860   \n",
       "2       283     ANG          -0.8204          -0.5854          -0.6932   \n",
       "3       498  ATP5A1           0.9265          -2.0746          -1.7211   \n",
       "4       801   CALM1          -1.7234          -0.7818          -1.3100   \n",
       "\n",
       "   TCGA-F4-6460-01  TCGA-DY-A1DC-01  TCGA-CM-5862-01  TCGA-CK-4947-01  \\\n",
       "0          -0.3260          -0.4386           0.1220          -0.3814   \n",
       "1           0.6383           0.7650           0.7976          -0.6584   \n",
       "2          -0.3655          -0.4288          -0.6588          -0.2356   \n",
       "3          -2.3986          -1.8909          -1.9642           0.0254   \n",
       "4          -0.5795           0.1764          -0.6586           0.1324   \n",
       "\n",
       "   TCGA-AH-6544-01      ...       TCGA-QG-A5YW-01  TCGA-AF-6672-01  \\\n",
       "0          -0.1834      ...               -0.9691           0.2356   \n",
       "1           0.6131      ...               -0.6123          -2.1334   \n",
       "2          -0.2301      ...               -0.1548           0.3685   \n",
       "3          -2.1067      ...                1.0781          -2.7523   \n",
       "4          -0.0313      ...                0.1410          -0.4145   \n",
       "\n",
       "   TCGA-F5-6464-01  TCGA-AA-3663-01  TCGA-G4-6299-01  TCGA-5M-AAT6-01  \\\n",
       "0           1.4572           2.6877           0.6835           0.5541   \n",
       "1           0.3610           1.4784          -1.2680          -0.1026   \n",
       "2          -0.4977           0.5362          -0.5201          -0.6622   \n",
       "3          -1.0694           0.1599           0.9668          -0.2835   \n",
       "4          -0.2971          -0.4164          -0.6538          -1.3549   \n",
       "\n",
       "   TCGA-CK-4950-01  TCGA-G4-6314-01  TCGA-F5-6810-01  Unnamed: 384  \n",
       "0          -0.8253           0.1854           0.0946           NaN  \n",
       "1           0.1404          -0.5809          -0.2820           NaN  \n",
       "2          -0.1426          -0.5349          -0.2083           NaN  \n",
       "3           0.0748          -1.8582          -2.1273           NaN  \n",
       "4           1.4396          -0.2014          -0.8057           NaN  \n",
       "\n",
       "[5 rows x 385 columns]"
      ]
     },
     "execution_count": 5,
     "metadata": {},
     "output_type": "execute_result"
    }
   ],
   "source": [
    "mmr_patients = pd.read_table('data/cBioPortal_data_mrr.txt')\n",
    "mmr_patients.head()"
   ]
  },
  {
   "cell_type": "markdown",
   "metadata": {},
   "source": [
    "Sum the expression scores for the upregulated and downregulated genes separately"
   ]
  },
  {
   "cell_type": "code",
   "execution_count": 6,
   "metadata": {
    "collapsed": false
   },
   "outputs": [
    {
     "data": {
      "text/html": [
       "<div>\n",
       "<style>\n",
       "    .dataframe thead tr:only-child th {\n",
       "        text-align: right;\n",
       "    }\n",
       "\n",
       "    .dataframe thead th {\n",
       "        text-align: left;\n",
       "    }\n",
       "\n",
       "    .dataframe tbody tr th {\n",
       "        vertical-align: top;\n",
       "    }\n",
       "</style>\n",
       "<table border=\"1\" class=\"dataframe\">\n",
       "  <thead>\n",
       "    <tr style=\"text-align: right;\">\n",
       "      <th></th>\n",
       "      <th>id</th>\n",
       "      <th>upscore</th>\n",
       "      <th>downscore</th>\n",
       "    </tr>\n",
       "  </thead>\n",
       "  <tbody>\n",
       "    <tr>\n",
       "      <th>0</th>\n",
       "      <td>TCGA-D5-6531-01</td>\n",
       "      <td>-7.6179</td>\n",
       "      <td>12.6261</td>\n",
       "    </tr>\n",
       "    <tr>\n",
       "      <th>1</th>\n",
       "      <td>TCGA-DM-A28A-01</td>\n",
       "      <td>-15.5637</td>\n",
       "      <td>25.9099</td>\n",
       "    </tr>\n",
       "    <tr>\n",
       "      <th>2</th>\n",
       "      <td>TCGA-DC-5869-01</td>\n",
       "      <td>-9.0183</td>\n",
       "      <td>33.6345</td>\n",
       "    </tr>\n",
       "    <tr>\n",
       "      <th>3</th>\n",
       "      <td>TCGA-F4-6460-01</td>\n",
       "      <td>-25.3454</td>\n",
       "      <td>28.9109</td>\n",
       "    </tr>\n",
       "    <tr>\n",
       "      <th>4</th>\n",
       "      <td>TCGA-DY-A1DC-01</td>\n",
       "      <td>-14.6653</td>\n",
       "      <td>20.8919</td>\n",
       "    </tr>\n",
       "  </tbody>\n",
       "</table>\n",
       "</div>"
      ],
      "text/plain": [
       "                id  upscore  downscore\n",
       "0  TCGA-D5-6531-01  -7.6179    12.6261\n",
       "1  TCGA-DM-A28A-01 -15.5637    25.9099\n",
       "2  TCGA-DC-5869-01  -9.0183    33.6345\n",
       "3  TCGA-F4-6460-01 -25.3454    28.9109\n",
       "4  TCGA-DY-A1DC-01 -14.6653    20.8919"
      ]
     },
     "execution_count": 6,
     "metadata": {},
     "output_type": "execute_result"
    }
   ],
   "source": [
    "mmr_scores = []\n",
    "for p in mmr_patients.columns[2:]:\n",
    "    up_score = 0\n",
    "    for g in upreg:\n",
    "        score = mmr_patients[mmr_patients['COMMON']==g][p]\n",
    "        if not len(score)==1:\n",
    "            score = np.mean(score)\n",
    "        else:\n",
    "            try:\n",
    "                score = float(score)\n",
    "            except:\n",
    "                print (score)\n",
    "        up_score += score\n",
    "        \n",
    "    down_score = 0\n",
    "    for g in downreg:\n",
    "        score = mmr_patients[mmr_patients['COMMON']==g][p]\n",
    "        if not len(score)==1:\n",
    "            score = np.mean(score)\n",
    "        else:\n",
    "            try:\n",
    "                score = float(score)\n",
    "            except:\n",
    "                print(score)\n",
    "        down_score+= score\n",
    "        \n",
    "    mmr_scores.append([p,up_score,down_score])  \n",
    "    \n",
    "mmr_scores = pd.DataFrame(mmr_scores)\n",
    "mmr_scores.columns = ['id','upscore','downscore']\n",
    "mmr_scores.head()"
   ]
  },
  {
   "cell_type": "code",
   "execution_count": 7,
   "metadata": {
    "collapsed": false
   },
   "outputs": [
    {
     "data": {
      "text/html": [
       "<div>\n",
       "<style>\n",
       "    .dataframe thead tr:only-child th {\n",
       "        text-align: right;\n",
       "    }\n",
       "\n",
       "    .dataframe thead th {\n",
       "        text-align: left;\n",
       "    }\n",
       "\n",
       "    .dataframe tbody tr th {\n",
       "        vertical-align: top;\n",
       "    }\n",
       "</style>\n",
       "<table border=\"1\" class=\"dataframe\">\n",
       "  <thead>\n",
       "    <tr style=\"text-align: right;\">\n",
       "      <th></th>\n",
       "      <th>id</th>\n",
       "      <th>upscore</th>\n",
       "      <th>downscore</th>\n",
       "      <th>ces</th>\n",
       "    </tr>\n",
       "  </thead>\n",
       "  <tbody>\n",
       "    <tr>\n",
       "      <th>0</th>\n",
       "      <td>TCGA-D5-6531-01</td>\n",
       "      <td>-7.6179</td>\n",
       "      <td>12.6261</td>\n",
       "      <td>1.8834</td>\n",
       "    </tr>\n",
       "    <tr>\n",
       "      <th>1</th>\n",
       "      <td>TCGA-DM-A28A-01</td>\n",
       "      <td>-15.5637</td>\n",
       "      <td>25.9099</td>\n",
       "      <td>6.4499</td>\n",
       "    </tr>\n",
       "    <tr>\n",
       "      <th>2</th>\n",
       "      <td>TCGA-DC-5869-01</td>\n",
       "      <td>-9.0183</td>\n",
       "      <td>33.6345</td>\n",
       "      <td>7.8741</td>\n",
       "    </tr>\n",
       "    <tr>\n",
       "      <th>3</th>\n",
       "      <td>TCGA-F4-6460-01</td>\n",
       "      <td>-25.3454</td>\n",
       "      <td>28.9109</td>\n",
       "      <td>-4.8967</td>\n",
       "    </tr>\n",
       "    <tr>\n",
       "      <th>4</th>\n",
       "      <td>TCGA-DY-A1DC-01</td>\n",
       "      <td>-14.6653</td>\n",
       "      <td>20.8919</td>\n",
       "      <td>1.8764</td>\n",
       "    </tr>\n",
       "  </tbody>\n",
       "</table>\n",
       "</div>"
      ],
      "text/plain": [
       "                id  upscore  downscore     ces\n",
       "0  TCGA-D5-6531-01  -7.6179    12.6261  1.8834\n",
       "1  TCGA-DM-A28A-01 -15.5637    25.9099  6.4499\n",
       "2  TCGA-DC-5869-01  -9.0183    33.6345  7.8741\n",
       "3  TCGA-F4-6460-01 -25.3454    28.9109 -4.8967\n",
       "4  TCGA-DY-A1DC-01 -14.6653    20.8919  1.8764"
      ]
     },
     "execution_count": 7,
     "metadata": {},
     "output_type": "execute_result"
    }
   ],
   "source": [
    "results = mmr_scores.merge(patients,how='inner',on='id')\n",
    "results.head()"
   ]
  },
  {
   "cell_type": "markdown",
   "metadata": {},
   "source": [
    "\n",
    "\n",
    "Categorization of the patients/tumors. If the category is not obvious, we don't try to guess\n"
   ]
  },
  {
   "cell_type": "code",
   "execution_count": 54,
   "metadata": {
    "collapsed": false
   },
   "outputs": [
    {
     "data": {
      "text/html": [
       "<div>\n",
       "<style>\n",
       "    .dataframe thead tr:only-child th {\n",
       "        text-align: right;\n",
       "    }\n",
       "\n",
       "    .dataframe thead th {\n",
       "        text-align: left;\n",
       "    }\n",
       "\n",
       "    .dataframe tbody tr th {\n",
       "        vertical-align: top;\n",
       "    }\n",
       "</style>\n",
       "<table border=\"1\" class=\"dataframe\">\n",
       "  <thead>\n",
       "    <tr style=\"text-align: right;\">\n",
       "      <th></th>\n",
       "      <th>id</th>\n",
       "      <th>upscore</th>\n",
       "      <th>downscore</th>\n",
       "      <th>ces</th>\n",
       "      <th>cat</th>\n",
       "      <th>label</th>\n",
       "      <th>mut_x</th>\n",
       "      <th>expr</th>\n",
       "      <th>meth</th>\n",
       "      <th>cna</th>\n",
       "      <th>mut_y</th>\n",
       "    </tr>\n",
       "  </thead>\n",
       "  <tbody>\n",
       "    <tr>\n",
       "      <th>0</th>\n",
       "      <td>TCGA-D5-6531-01</td>\n",
       "      <td>-7.6179</td>\n",
       "      <td>12.6261</td>\n",
       "      <td>1.8834</td>\n",
       "      <td>mss</td>\n",
       "      <td>1.0</td>\n",
       "      <td>24776</td>\n",
       "      <td>-0.6444</td>\n",
       "      <td>0.018947</td>\n",
       "      <td>15735</td>\n",
       "      <td>24776</td>\n",
       "    </tr>\n",
       "    <tr>\n",
       "      <th>1</th>\n",
       "      <td>TCGA-DM-A28A-01</td>\n",
       "      <td>-15.5637</td>\n",
       "      <td>25.9099</td>\n",
       "      <td>6.4499</td>\n",
       "      <td>mss</td>\n",
       "      <td>1.0</td>\n",
       "      <td>24776</td>\n",
       "      <td>0.643</td>\n",
       "      <td>0.0248725</td>\n",
       "      <td>8859</td>\n",
       "      <td>24776</td>\n",
       "    </tr>\n",
       "    <tr>\n",
       "      <th>2</th>\n",
       "      <td>TCGA-DC-5869-01</td>\n",
       "      <td>-9.0183</td>\n",
       "      <td>33.6345</td>\n",
       "      <td>7.8741</td>\n",
       "      <td>mss</td>\n",
       "      <td>1.0</td>\n",
       "      <td>24776</td>\n",
       "      <td>2.5549</td>\n",
       "      <td>0.0623723</td>\n",
       "      <td>18611</td>\n",
       "      <td>24776</td>\n",
       "    </tr>\n",
       "    <tr>\n",
       "      <th>3</th>\n",
       "      <td>TCGA-F4-6460-01</td>\n",
       "      <td>-25.3454</td>\n",
       "      <td>28.9109</td>\n",
       "      <td>-4.8967</td>\n",
       "      <td>mss</td>\n",
       "      <td>1.0</td>\n",
       "      <td>24776</td>\n",
       "      <td>0.0455</td>\n",
       "      <td>0.0460492</td>\n",
       "      <td>19624</td>\n",
       "      <td>24776</td>\n",
       "    </tr>\n",
       "    <tr>\n",
       "      <th>4</th>\n",
       "      <td>TCGA-DY-A1DC-01</td>\n",
       "      <td>-14.6653</td>\n",
       "      <td>20.8919</td>\n",
       "      <td>1.8764</td>\n",
       "      <td>mss</td>\n",
       "      <td>1.0</td>\n",
       "      <td>24776</td>\n",
       "      <td>0.2859</td>\n",
       "      <td>0.0815832</td>\n",
       "      <td>6452</td>\n",
       "      <td>24776</td>\n",
       "    </tr>\n",
       "  </tbody>\n",
       "</table>\n",
       "</div>"
      ],
      "text/plain": [
       "                id  upscore  downscore     ces  cat  label  mut_x    expr  \\\n",
       "0  TCGA-D5-6531-01  -7.6179    12.6261  1.8834  mss    1.0  24776 -0.6444   \n",
       "1  TCGA-DM-A28A-01 -15.5637    25.9099  6.4499  mss    1.0  24776   0.643   \n",
       "2  TCGA-DC-5869-01  -9.0183    33.6345  7.8741  mss    1.0  24776  2.5549   \n",
       "3  TCGA-F4-6460-01 -25.3454    28.9109 -4.8967  mss    1.0  24776  0.0455   \n",
       "4  TCGA-DY-A1DC-01 -14.6653    20.8919  1.8764  mss    1.0  24776  0.2859   \n",
       "\n",
       "        meth    cna  mut_y  \n",
       "0   0.018947  15735  24776  \n",
       "1  0.0248725   8859  24776  \n",
       "2  0.0623723  18611  24776  \n",
       "3  0.0460492  19624  24776  \n",
       "4  0.0815832   6452  24776  "
      ]
     },
     "execution_count": 54,
     "metadata": {},
     "output_type": "execute_result"
    }
   ],
   "source": [
    "for ix,p in results.iterrows():\n",
    "    if p['upscore']>0 and p['downscore']<0:\n",
    "        cat = 'msi'\n",
    "        label = 0\n",
    "    elif p['upscore']<0 and p['downscore']>0:\n",
    "        cat = 'mss'\n",
    "        label = 1\n",
    "    else:\n",
    "        cat = 'unknown'\n",
    "        label = 2\n",
    "    results = results.set_value(ix,'cat',cat)\n",
    "    results = results.set_value(ix,'label',label)\n",
    "\n",
    "results.head()"
   ]
  },
  {
   "cell_type": "markdown",
   "metadata": {},
   "source": [
    "\n",
    "\n",
    "Only 10% of patients are not classified\n"
   ]
  },
  {
   "cell_type": "code",
   "execution_count": 9,
   "metadata": {
    "collapsed": false
   },
   "outputs": [
    {
     "data": {
      "text/plain": [
       "0.10966057441253264"
      ]
     },
     "execution_count": 9,
     "metadata": {},
     "output_type": "execute_result"
    }
   ],
   "source": [
    "float(np.sum(results['label']==2))/float(len(results['label']))"
   ]
  },
  {
   "cell_type": "code",
   "execution_count": 48,
   "metadata": {
    "collapsed": false
   },
   "outputs": [
    {
     "data": {
      "image/png": "[encoded data removed]",
      "text/plain": [
       "<matplotlib.figure.Figure at 0x7f9dc34a9290>"
      ]
     },
     "metadata": {},
     "output_type": "display_data"
    }
   ],
   "source": [
    "fig, ax = plt.subplots()\n",
    "colors = ['red','green','blue']\n",
    "ax.scatter(results['upscore'], results['downscore'],c = results['label'],cmap = matplotlib.colors.ListedColormap(colors))\n",
    "plt.xlabel('Up score')\n",
    "plt.ylabel('Down score')\n",
    "ax.grid(True, which='both')\n",
    "\n",
    "ax.axhline(y=0, color='k')\n",
    "ax.axvline(x=0, color='k')\n",
    "plt.show()"
   ]
  },
  {
   "cell_type": "markdown",
   "metadata": {},
   "source": [
    "RED : MSI , GREEN : MSS"
   ]
  },
  {
   "cell_type": "markdown",
   "metadata": {},
   "source": [
    "# Mutations"
   ]
  },
  {
   "cell_type": "markdown",
   "metadata": {},
   "source": [
    "Load the dataset"
   ]
  },
  {
   "cell_type": "code",
   "execution_count": 49,
   "metadata": {
    "collapsed": false
   },
   "outputs": [
    {
     "name": "stdout",
     "output_type": "stream",
     "text": [
      "24776\n"
     ]
    },
    {
     "data": {
      "text/html": [
       "<div>\n",
       "<style>\n",
       "    .dataframe thead tr:only-child th {\n",
       "        text-align: right;\n",
       "    }\n",
       "\n",
       "    .dataframe thead th {\n",
       "        text-align: left;\n",
       "    }\n",
       "\n",
       "    .dataframe tbody tr th {\n",
       "        vertical-align: top;\n",
       "    }\n",
       "</style>\n",
       "<table border=\"1\" class=\"dataframe\">\n",
       "  <thead>\n",
       "    <tr style=\"text-align: right;\">\n",
       "      <th></th>\n",
       "      <th>Hugo_Symbol</th>\n",
       "      <th>Entrez_Gene_Id</th>\n",
       "      <th>TCGA-3L-AA1B-01</th>\n",
       "      <th>TCGA-4N-A93T-01</th>\n",
       "      <th>TCGA-4T-AA8H-01</th>\n",
       "      <th>TCGA-5M-AAT4-01</th>\n",
       "      <th>TCGA-5M-AAT5-01</th>\n",
       "      <th>TCGA-5M-AAT6-01</th>\n",
       "      <th>TCGA-5M-AATA-01</th>\n",
       "      <th>TCGA-5M-AATE-01</th>\n",
       "      <th>...</th>\n",
       "      <th>TCGA-QG-A5YV-01</th>\n",
       "      <th>TCGA-QG-A5YW-01</th>\n",
       "      <th>TCGA-QG-A5YX-01</th>\n",
       "      <th>TCGA-QG-A5Z1-01</th>\n",
       "      <th>TCGA-QG-A5Z2-01</th>\n",
       "      <th>TCGA-QL-A97D-01</th>\n",
       "      <th>TCGA-RU-A8FL-01</th>\n",
       "      <th>TCGA-SS-A7HO-01</th>\n",
       "      <th>TCGA-T9-A92H-01</th>\n",
       "      <th>TCGA-WS-AB45-01</th>\n",
       "    </tr>\n",
       "  </thead>\n",
       "  <tbody>\n",
       "    <tr>\n",
       "      <th>0</th>\n",
       "      <td>ACAP3</td>\n",
       "      <td>116983.0</td>\n",
       "      <td>0</td>\n",
       "      <td>-1</td>\n",
       "      <td>0</td>\n",
       "      <td>-1</td>\n",
       "      <td>-1</td>\n",
       "      <td>0</td>\n",
       "      <td>0</td>\n",
       "      <td>0</td>\n",
       "      <td>...</td>\n",
       "      <td>-1</td>\n",
       "      <td>0</td>\n",
       "      <td>0</td>\n",
       "      <td>0</td>\n",
       "      <td>0</td>\n",
       "      <td>0</td>\n",
       "      <td>-1</td>\n",
       "      <td>-1</td>\n",
       "      <td>-1</td>\n",
       "      <td>0</td>\n",
       "    </tr>\n",
       "    <tr>\n",
       "      <th>1</th>\n",
       "      <td>ACTRT2</td>\n",
       "      <td>140625.0</td>\n",
       "      <td>0</td>\n",
       "      <td>-1</td>\n",
       "      <td>0</td>\n",
       "      <td>-1</td>\n",
       "      <td>-1</td>\n",
       "      <td>0</td>\n",
       "      <td>0</td>\n",
       "      <td>0</td>\n",
       "      <td>...</td>\n",
       "      <td>-1</td>\n",
       "      <td>0</td>\n",
       "      <td>0</td>\n",
       "      <td>0</td>\n",
       "      <td>0</td>\n",
       "      <td>0</td>\n",
       "      <td>-1</td>\n",
       "      <td>-1</td>\n",
       "      <td>-1</td>\n",
       "      <td>0</td>\n",
       "    </tr>\n",
       "    <tr>\n",
       "      <th>2</th>\n",
       "      <td>AGRN</td>\n",
       "      <td>375790.0</td>\n",
       "      <td>0</td>\n",
       "      <td>-1</td>\n",
       "      <td>0</td>\n",
       "      <td>-1</td>\n",
       "      <td>-1</td>\n",
       "      <td>0</td>\n",
       "      <td>0</td>\n",
       "      <td>0</td>\n",
       "      <td>...</td>\n",
       "      <td>-1</td>\n",
       "      <td>0</td>\n",
       "      <td>0</td>\n",
       "      <td>0</td>\n",
       "      <td>0</td>\n",
       "      <td>0</td>\n",
       "      <td>-1</td>\n",
       "      <td>-1</td>\n",
       "      <td>-1</td>\n",
       "      <td>0</td>\n",
       "    </tr>\n",
       "    <tr>\n",
       "      <th>3</th>\n",
       "      <td>ANKRD65</td>\n",
       "      <td>441869.0</td>\n",
       "      <td>0</td>\n",
       "      <td>-1</td>\n",
       "      <td>0</td>\n",
       "      <td>-1</td>\n",
       "      <td>-1</td>\n",
       "      <td>0</td>\n",
       "      <td>0</td>\n",
       "      <td>0</td>\n",
       "      <td>...</td>\n",
       "      <td>-1</td>\n",
       "      <td>0</td>\n",
       "      <td>0</td>\n",
       "      <td>0</td>\n",
       "      <td>0</td>\n",
       "      <td>0</td>\n",
       "      <td>-1</td>\n",
       "      <td>-1</td>\n",
       "      <td>-1</td>\n",
       "      <td>0</td>\n",
       "    </tr>\n",
       "    <tr>\n",
       "      <th>4</th>\n",
       "      <td>ATAD3A</td>\n",
       "      <td>55210.0</td>\n",
       "      <td>0</td>\n",
       "      <td>-1</td>\n",
       "      <td>0</td>\n",
       "      <td>-1</td>\n",
       "      <td>-1</td>\n",
       "      <td>0</td>\n",
       "      <td>0</td>\n",
       "      <td>0</td>\n",
       "      <td>...</td>\n",
       "      <td>-1</td>\n",
       "      <td>0</td>\n",
       "      <td>0</td>\n",
       "      <td>0</td>\n",
       "      <td>0</td>\n",
       "      <td>0</td>\n",
       "      <td>-1</td>\n",
       "      <td>-1</td>\n",
       "      <td>-1</td>\n",
       "      <td>0</td>\n",
       "    </tr>\n",
       "  </tbody>\n",
       "</table>\n",
       "<p>5 rows × 618 columns</p>\n",
       "</div>"
      ],
      "text/plain": [
       "  Hugo_Symbol  Entrez_Gene_Id  TCGA-3L-AA1B-01  TCGA-4N-A93T-01  \\\n",
       "0       ACAP3        116983.0                0               -1   \n",
       "1      ACTRT2        140625.0                0               -1   \n",
       "2        AGRN        375790.0                0               -1   \n",
       "3     ANKRD65        441869.0                0               -1   \n",
       "4      ATAD3A         55210.0                0               -1   \n",
       "\n",
       "   TCGA-4T-AA8H-01  TCGA-5M-AAT4-01  TCGA-5M-AAT5-01  TCGA-5M-AAT6-01  \\\n",
       "0                0               -1               -1                0   \n",
       "1                0               -1               -1                0   \n",
       "2                0               -1               -1                0   \n",
       "3                0               -1               -1                0   \n",
       "4                0               -1               -1                0   \n",
       "\n",
       "   TCGA-5M-AATA-01  TCGA-5M-AATE-01       ...         TCGA-QG-A5YV-01  \\\n",
       "0                0                0       ...                      -1   \n",
       "1                0                0       ...                      -1   \n",
       "2                0                0       ...                      -1   \n",
       "3                0                0       ...                      -1   \n",
       "4                0                0       ...                      -1   \n",
       "\n",
       "   TCGA-QG-A5YW-01  TCGA-QG-A5YX-01  TCGA-QG-A5Z1-01  TCGA-QG-A5Z2-01  \\\n",
       "0                0                0                0                0   \n",
       "1                0                0                0                0   \n",
       "2                0                0                0                0   \n",
       "3                0                0                0                0   \n",
       "4                0                0                0                0   \n",
       "\n",
       "   TCGA-QL-A97D-01  TCGA-RU-A8FL-01  TCGA-SS-A7HO-01  TCGA-T9-A92H-01  \\\n",
       "0                0               -1               -1               -1   \n",
       "1                0               -1               -1               -1   \n",
       "2                0               -1               -1               -1   \n",
       "3                0               -1               -1               -1   \n",
       "4                0               -1               -1               -1   \n",
       "\n",
       "   TCGA-WS-AB45-01  \n",
       "0                0  \n",
       "1                0  \n",
       "2                0  \n",
       "3                0  \n",
       "4                0  \n",
       "\n",
       "[5 rows x 618 columns]"
      ]
     },
     "execution_count": 49,
     "metadata": {},
     "output_type": "execute_result"
    }
   ],
   "source": [
    "df_cna = pd.read_table('data/data_CNA.txt')\n",
    "print (len(df_cna))\n",
    "df_cna.head()"
   ]
  },
  {
   "cell_type": "code",
   "execution_count": 50,
   "metadata": {
    "collapsed": true
   },
   "outputs": [],
   "source": [
    "df_cna['Hugo_Symbol'].to_csv('data/gene_list.csv')"
   ]
  },
  {
   "cell_type": "code",
   "execution_count": 51,
   "metadata": {
    "collapsed": false
   },
   "outputs": [
    {
     "name": "stdout",
     "output_type": "stream",
     "text": [
      "376\n"
     ]
    },
    {
     "data": {
      "text/html": [
       "<div>\n",
       "<style>\n",
       "    .dataframe thead tr:only-child th {\n",
       "        text-align: right;\n",
       "    }\n",
       "\n",
       "    .dataframe thead th {\n",
       "        text-align: left;\n",
       "    }\n",
       "\n",
       "    .dataframe tbody tr th {\n",
       "        vertical-align: top;\n",
       "    }\n",
       "</style>\n",
       "<table border=\"1\" class=\"dataframe\">\n",
       "  <thead>\n",
       "    <tr style=\"text-align: right;\">\n",
       "      <th></th>\n",
       "      <th>id</th>\n",
       "      <th>upscore</th>\n",
       "      <th>downscore</th>\n",
       "      <th>ces</th>\n",
       "      <th>cat</th>\n",
       "      <th>label</th>\n",
       "      <th>mut</th>\n",
       "      <th>expr</th>\n",
       "      <th>meth</th>\n",
       "      <th>cna</th>\n",
       "    </tr>\n",
       "  </thead>\n",
       "  <tbody>\n",
       "    <tr>\n",
       "      <th>0</th>\n",
       "      <td>TCGA-D5-6531-01</td>\n",
       "      <td>-7.6179</td>\n",
       "      <td>12.6261</td>\n",
       "      <td>1.8834</td>\n",
       "      <td>msi</td>\n",
       "      <td>1.0</td>\n",
       "      <td>24776</td>\n",
       "      <td>-0.6444</td>\n",
       "      <td>0.018947</td>\n",
       "      <td>15735</td>\n",
       "    </tr>\n",
       "    <tr>\n",
       "      <th>1</th>\n",
       "      <td>TCGA-DM-A28A-01</td>\n",
       "      <td>-15.5637</td>\n",
       "      <td>25.9099</td>\n",
       "      <td>6.4499</td>\n",
       "      <td>msi</td>\n",
       "      <td>1.0</td>\n",
       "      <td>24776</td>\n",
       "      <td>0.643</td>\n",
       "      <td>0.0248725</td>\n",
       "      <td>8859</td>\n",
       "    </tr>\n",
       "    <tr>\n",
       "      <th>2</th>\n",
       "      <td>TCGA-DC-5869-01</td>\n",
       "      <td>-9.0183</td>\n",
       "      <td>33.6345</td>\n",
       "      <td>7.8741</td>\n",
       "      <td>msi</td>\n",
       "      <td>1.0</td>\n",
       "      <td>24776</td>\n",
       "      <td>2.5549</td>\n",
       "      <td>0.0623723</td>\n",
       "      <td>18611</td>\n",
       "    </tr>\n",
       "    <tr>\n",
       "      <th>3</th>\n",
       "      <td>TCGA-F4-6460-01</td>\n",
       "      <td>-25.3454</td>\n",
       "      <td>28.9109</td>\n",
       "      <td>-4.8967</td>\n",
       "      <td>msi</td>\n",
       "      <td>1.0</td>\n",
       "      <td>24776</td>\n",
       "      <td>0.0455</td>\n",
       "      <td>0.0460492</td>\n",
       "      <td>19624</td>\n",
       "    </tr>\n",
       "    <tr>\n",
       "      <th>4</th>\n",
       "      <td>TCGA-DY-A1DC-01</td>\n",
       "      <td>-14.6653</td>\n",
       "      <td>20.8919</td>\n",
       "      <td>1.8764</td>\n",
       "      <td>msi</td>\n",
       "      <td>1.0</td>\n",
       "      <td>24776</td>\n",
       "      <td>0.2859</td>\n",
       "      <td>0.0815832</td>\n",
       "      <td>6452</td>\n",
       "    </tr>\n",
       "  </tbody>\n",
       "</table>\n",
       "</div>"
      ],
      "text/plain": [
       "                id  upscore  downscore     ces  cat  label    mut    expr  \\\n",
       "0  TCGA-D5-6531-01  -7.6179    12.6261  1.8834  msi    1.0  24776 -0.6444   \n",
       "1  TCGA-DM-A28A-01 -15.5637    25.9099  6.4499  msi    1.0  24776   0.643   \n",
       "2  TCGA-DC-5869-01  -9.0183    33.6345  7.8741  msi    1.0  24776  2.5549   \n",
       "3  TCGA-F4-6460-01 -25.3454    28.9109 -4.8967  msi    1.0  24776  0.0455   \n",
       "4  TCGA-DY-A1DC-01 -14.6653    20.8919  1.8764  msi    1.0  24776  0.2859   \n",
       "\n",
       "        meth    cna  \n",
       "0   0.018947  15735  \n",
       "1  0.0248725   8859  \n",
       "2  0.0623723  18611  \n",
       "3  0.0460492  19624  \n",
       "4  0.0815832   6452  "
      ]
     },
     "execution_count": 51,
     "metadata": {},
     "output_type": "execute_result"
    }
   ],
   "source": [
    "cna = []\n",
    "for p in df_cna.columns[2:]:\n",
    "    nb_cna = np.count_nonzero(df_cna[p])\n",
    "    #nb_mut = np.sum(mutations[p])\n",
    "    cna.append([p,nb_cna])\n",
    "cna = pd.DataFrame(cna)\n",
    "cna.columns = ['id','cna']\n",
    "\n",
    "try:\n",
    "    results = results.drop(['cna'],axis=1)\n",
    "except:\n",
    "    pass\n",
    "results = results.merge(cna, how='inner', on='id')\n",
    "print (len(results))\n",
    "results.head()"
   ]
  },
  {
   "cell_type": "markdown",
   "metadata": {},
   "source": [
    "\n",
    "\n",
    "Attribute a mutation score to each patient\n"
   ]
  },
  {
   "cell_type": "code",
   "execution_count": 52,
   "metadata": {
    "collapsed": false
   },
   "outputs": [
    {
     "name": "stdout",
     "output_type": "stream",
     "text": [
      "376\n"
     ]
    },
    {
     "data": {
      "text/html": [
       "<div>\n",
       "<style>\n",
       "    .dataframe thead tr:only-child th {\n",
       "        text-align: right;\n",
       "    }\n",
       "\n",
       "    .dataframe thead th {\n",
       "        text-align: left;\n",
       "    }\n",
       "\n",
       "    .dataframe tbody tr th {\n",
       "        vertical-align: top;\n",
       "    }\n",
       "</style>\n",
       "<table border=\"1\" class=\"dataframe\">\n",
       "  <thead>\n",
       "    <tr style=\"text-align: right;\">\n",
       "      <th></th>\n",
       "      <th>id</th>\n",
       "      <th>upscore</th>\n",
       "      <th>downscore</th>\n",
       "      <th>ces</th>\n",
       "      <th>cat</th>\n",
       "      <th>label</th>\n",
       "      <th>mut_x</th>\n",
       "      <th>expr</th>\n",
       "      <th>meth</th>\n",
       "      <th>cna</th>\n",
       "      <th>mut_y</th>\n",
       "    </tr>\n",
       "  </thead>\n",
       "  <tbody>\n",
       "    <tr>\n",
       "      <th>0</th>\n",
       "      <td>TCGA-D5-6531-01</td>\n",
       "      <td>-7.6179</td>\n",
       "      <td>12.6261</td>\n",
       "      <td>1.8834</td>\n",
       "      <td>msi</td>\n",
       "      <td>1.0</td>\n",
       "      <td>24776</td>\n",
       "      <td>-0.6444</td>\n",
       "      <td>0.018947</td>\n",
       "      <td>15735</td>\n",
       "      <td>24776</td>\n",
       "    </tr>\n",
       "    <tr>\n",
       "      <th>1</th>\n",
       "      <td>TCGA-DM-A28A-01</td>\n",
       "      <td>-15.5637</td>\n",
       "      <td>25.9099</td>\n",
       "      <td>6.4499</td>\n",
       "      <td>msi</td>\n",
       "      <td>1.0</td>\n",
       "      <td>24776</td>\n",
       "      <td>0.643</td>\n",
       "      <td>0.0248725</td>\n",
       "      <td>8859</td>\n",
       "      <td>24776</td>\n",
       "    </tr>\n",
       "    <tr>\n",
       "      <th>2</th>\n",
       "      <td>TCGA-DC-5869-01</td>\n",
       "      <td>-9.0183</td>\n",
       "      <td>33.6345</td>\n",
       "      <td>7.8741</td>\n",
       "      <td>msi</td>\n",
       "      <td>1.0</td>\n",
       "      <td>24776</td>\n",
       "      <td>2.5549</td>\n",
       "      <td>0.0623723</td>\n",
       "      <td>18611</td>\n",
       "      <td>24776</td>\n",
       "    </tr>\n",
       "    <tr>\n",
       "      <th>3</th>\n",
       "      <td>TCGA-F4-6460-01</td>\n",
       "      <td>-25.3454</td>\n",
       "      <td>28.9109</td>\n",
       "      <td>-4.8967</td>\n",
       "      <td>msi</td>\n",
       "      <td>1.0</td>\n",
       "      <td>24776</td>\n",
       "      <td>0.0455</td>\n",
       "      <td>0.0460492</td>\n",
       "      <td>19624</td>\n",
       "      <td>24776</td>\n",
       "    </tr>\n",
       "    <tr>\n",
       "      <th>4</th>\n",
       "      <td>TCGA-DY-A1DC-01</td>\n",
       "      <td>-14.6653</td>\n",
       "      <td>20.8919</td>\n",
       "      <td>1.8764</td>\n",
       "      <td>msi</td>\n",
       "      <td>1.0</td>\n",
       "      <td>24776</td>\n",
       "      <td>0.2859</td>\n",
       "      <td>0.0815832</td>\n",
       "      <td>6452</td>\n",
       "      <td>24776</td>\n",
       "    </tr>\n",
       "  </tbody>\n",
       "</table>\n",
       "</div>"
      ],
      "text/plain": [
       "                id  upscore  downscore     ces  cat  label  mut_x    expr  \\\n",
       "0  TCGA-D5-6531-01  -7.6179    12.6261  1.8834  msi    1.0  24776 -0.6444   \n",
       "1  TCGA-DM-A28A-01 -15.5637    25.9099  6.4499  msi    1.0  24776   0.643   \n",
       "2  TCGA-DC-5869-01  -9.0183    33.6345  7.8741  msi    1.0  24776  2.5549   \n",
       "3  TCGA-F4-6460-01 -25.3454    28.9109 -4.8967  msi    1.0  24776  0.0455   \n",
       "4  TCGA-DY-A1DC-01 -14.6653    20.8919  1.8764  msi    1.0  24776  0.2859   \n",
       "\n",
       "        meth    cna  mut_y  \n",
       "0   0.018947  15735  24776  \n",
       "1  0.0248725   8859  24776  \n",
       "2  0.0623723  18611  24776  \n",
       "3  0.0460492  19624  24776  \n",
       "4  0.0815832   6452  24776  "
      ]
     },
     "execution_count": 52,
     "metadata": {},
     "output_type": "execute_result"
    }
   ],
   "source": [
    "mut = []\n",
    "for p in df_cna.columns[2:]:\n",
    "    nb_mut = np.count_nonzero(~pd.isnull(df_cna[p]))\n",
    "    #nb_mut = np.sum(mutations[p])\n",
    "    mut.append([p,nb_mut])\n",
    "mut = pd.DataFrame(mut)\n",
    "mut.columns = ['id','mut']\n",
    "\n",
    "#results = results.drop(['mut'],axis=1)\n",
    "results = results.merge(mut, how='inner', on='id')\n",
    "print (len(results))\n",
    "results.head()"
   ]
  },
  {
   "cell_type": "markdown",
   "metadata": {},
   "source": [
    "\n",
    "\n",
    "CES / CNA correlation. Colors represent the MMR deficiency classification\n"
   ]
  },
  {
   "cell_type": "code",
   "execution_count": 53,
   "metadata": {
    "collapsed": false
   },
   "outputs": [
    {
     "data": {
      "image/png": "[encoded data removed]",
      "text/plain": [
       "<matplotlib.figure.Figure at 0x7f9dc254f990>"
      ]
     },
     "metadata": {},
     "output_type": "display_data"
    }
   ],
   "source": [
    "fig, ax = plt.subplots()\n",
    "colors = ['red','green','blue']\n",
    "ax.scatter(results['cna'], results['ces'],c = results['label'],cmap = matplotlib.colors.ListedColormap(colors))\n",
    "ax.grid(True, which='both')\n",
    "\n",
    "ax.axhline(y=0, color='k')\n",
    "ax.axvline(x=0, color='k')\n",
    "plt.xlabel('CNA rate')\n",
    "plt.ylabel('CES')\n",
    "plt.show()"
   ]
  },
  {
   "cell_type": "markdown",
   "metadata": {},
   "source": [
    "RED: MSI, GREEN : MSS\n",
    "\n",
    "It appears the MSI patients have way less CNA than MSS patients\n"
   ]
  },
  {
   "cell_type": "markdown",
   "metadata": {},
   "source": [
    "# MLH1 study"
   ]
  },
  {
   "cell_type": "code",
   "execution_count": 16,
   "metadata": {
    "collapsed": true
   },
   "outputs": [],
   "source": [
    "df_expr = pd.read_table('data/cBioPortal_data_mlh1_expr.txt').transpose()\n",
    "df_meth = pd.read_table('data/cBioPortal_data_mlh1_meth.txt').transpose()"
   ]
  },
  {
   "cell_type": "code",
   "execution_count": 17,
   "metadata": {
    "collapsed": false
   },
   "outputs": [
    {
     "data": {
      "text/html": [
       "<div>\n",
       "<style>\n",
       "    .dataframe thead tr:only-child th {\n",
       "        text-align: right;\n",
       "    }\n",
       "\n",
       "    .dataframe thead th {\n",
       "        text-align: left;\n",
       "    }\n",
       "\n",
       "    .dataframe tbody tr th {\n",
       "        vertical-align: top;\n",
       "    }\n",
       "</style>\n",
       "<table border=\"1\" class=\"dataframe\">\n",
       "  <thead>\n",
       "    <tr style=\"text-align: right;\">\n",
       "      <th></th>\n",
       "      <th>expr</th>\n",
       "      <th>meth</th>\n",
       "    </tr>\n",
       "  </thead>\n",
       "  <tbody>\n",
       "    <tr>\n",
       "      <th>TCGA-D5-6531-01</th>\n",
       "      <td>-0.6444</td>\n",
       "      <td>0.018947</td>\n",
       "    </tr>\n",
       "    <tr>\n",
       "      <th>TCGA-DM-A28A-01</th>\n",
       "      <td>0.643</td>\n",
       "      <td>0.0248725</td>\n",
       "    </tr>\n",
       "    <tr>\n",
       "      <th>TCGA-DC-5869-01</th>\n",
       "      <td>2.5549</td>\n",
       "      <td>0.0623723</td>\n",
       "    </tr>\n",
       "    <tr>\n",
       "      <th>TCGA-F4-6460-01</th>\n",
       "      <td>0.0455</td>\n",
       "      <td>0.0460492</td>\n",
       "    </tr>\n",
       "    <tr>\n",
       "      <th>TCGA-DY-A1DC-01</th>\n",
       "      <td>0.2859</td>\n",
       "      <td>0.0815832</td>\n",
       "    </tr>\n",
       "  </tbody>\n",
       "</table>\n",
       "</div>"
      ],
      "text/plain": [
       "                   expr       meth\n",
       "TCGA-D5-6531-01 -0.6444   0.018947\n",
       "TCGA-DM-A28A-01   0.643  0.0248725\n",
       "TCGA-DC-5869-01  2.5549  0.0623723\n",
       "TCGA-F4-6460-01  0.0455  0.0460492\n",
       "TCGA-DY-A1DC-01  0.2859  0.0815832"
      ]
     },
     "execution_count": 17,
     "metadata": {},
     "output_type": "execute_result"
    }
   ],
   "source": [
    "df_mlh1 = df_expr.merge(df_meth, how='inner', left_index=True, right_index=True)[2:]\n",
    "df_mlh1.columns = ['expr','meth']\n",
    "df_mlh1.head()"
   ]
  },
  {
   "cell_type": "code",
   "execution_count": 18,
   "metadata": {
    "collapsed": false
   },
   "outputs": [
    {
     "data": {
      "image/png": "[encoded data removed]",
      "text/plain": [
       "<matplotlib.figure.Figure at 0x7f9dc3baf9d0>"
      ]
     },
     "metadata": {},
     "output_type": "display_data"
    }
   ],
   "source": [
    "plt.figure()\n",
    "plt.scatter(df_mlh1['expr'],df_mlh1['meth'],marker='o')\n",
    "plt.xlabel('Expression level')\n",
    "plt.ylabel('Methylation')\n",
    "plt.title('Expression level of MLH1 in function of its methylation level')\n",
    "plt.show()"
   ]
  },
  {
   "cell_type": "markdown",
   "metadata": {},
   "source": [
    "# Comparison CES/MLH1"
   ]
  },
  {
   "cell_type": "code",
   "execution_count": 19,
   "metadata": {
    "collapsed": false
   },
   "outputs": [
    {
     "data": {
      "text/html": [
       "<div>\n",
       "<style>\n",
       "    .dataframe thead tr:only-child th {\n",
       "        text-align: right;\n",
       "    }\n",
       "\n",
       "    .dataframe thead th {\n",
       "        text-align: left;\n",
       "    }\n",
       "\n",
       "    .dataframe tbody tr th {\n",
       "        vertical-align: top;\n",
       "    }\n",
       "</style>\n",
       "<table border=\"1\" class=\"dataframe\">\n",
       "  <thead>\n",
       "    <tr style=\"text-align: right;\">\n",
       "      <th></th>\n",
       "      <th>ces</th>\n",
       "      <th>expr</th>\n",
       "      <th>meth</th>\n",
       "    </tr>\n",
       "    <tr>\n",
       "      <th>id</th>\n",
       "      <th></th>\n",
       "      <th></th>\n",
       "      <th></th>\n",
       "    </tr>\n",
       "  </thead>\n",
       "  <tbody>\n",
       "    <tr>\n",
       "      <th>TCGA-D5-6531-01</th>\n",
       "      <td>1.8834</td>\n",
       "      <td>-0.6444</td>\n",
       "      <td>0.018947</td>\n",
       "    </tr>\n",
       "    <tr>\n",
       "      <th>TCGA-DM-A28A-01</th>\n",
       "      <td>6.4499</td>\n",
       "      <td>0.643</td>\n",
       "      <td>0.0248725</td>\n",
       "    </tr>\n",
       "    <tr>\n",
       "      <th>TCGA-DC-5869-01</th>\n",
       "      <td>7.8741</td>\n",
       "      <td>2.5549</td>\n",
       "      <td>0.0623723</td>\n",
       "    </tr>\n",
       "    <tr>\n",
       "      <th>TCGA-F4-6460-01</th>\n",
       "      <td>-4.8967</td>\n",
       "      <td>0.0455</td>\n",
       "      <td>0.0460492</td>\n",
       "    </tr>\n",
       "    <tr>\n",
       "      <th>TCGA-DY-A1DC-01</th>\n",
       "      <td>1.8764</td>\n",
       "      <td>0.2859</td>\n",
       "      <td>0.0815832</td>\n",
       "    </tr>\n",
       "  </tbody>\n",
       "</table>\n",
       "</div>"
      ],
      "text/plain": [
       "                    ces    expr       meth\n",
       "id                                        \n",
       "TCGA-D5-6531-01  1.8834 -0.6444   0.018947\n",
       "TCGA-DM-A28A-01  6.4499   0.643  0.0248725\n",
       "TCGA-DC-5869-01  7.8741  2.5549  0.0623723\n",
       "TCGA-F4-6460-01 -4.8967  0.0455  0.0460492\n",
       "TCGA-DY-A1DC-01  1.8764  0.2859  0.0815832"
      ]
     },
     "execution_count": 19,
     "metadata": {},
     "output_type": "execute_result"
    }
   ],
   "source": [
    "patients.index = patients['id']\n",
    "patients = patients.drop(['id'],axis=1)\n",
    "df_comp = patients.merge(df_mlh1, left_index=True, right_index=True,how = 'inner')\n",
    "df_comp.head()"
   ]
  },
  {
   "cell_type": "code",
   "execution_count": 62,
   "metadata": {
    "collapsed": false
   },
   "outputs": [
    {
     "data": {
      "image/png": "[encoded data removed]",
      "text/plain": [
       "<matplotlib.figure.Figure at 0x7f9dc5f19bd0>"
      ]
     },
     "metadata": {},
     "output_type": "display_data"
    }
   ],
   "source": [
    "fig , ax = plt.subplots()\n",
    "ax.scatter(df_comp['ces'],df_comp['expr'],marker='o')\n",
    "plt.xlabel('CES')\n",
    "plt.ylabel('Expression level')\n",
    "plt.title('CES in function of expression level of MLH1')\n",
    "plt.show()"
   ]
  },
  {
   "cell_type": "code",
   "execution_count": 21,
   "metadata": {
    "collapsed": false
   },
   "outputs": [
    {
     "data": {
      "image/png": "[encoded data removed]",
      "text/plain": [
       "<matplotlib.figure.Figure at 0x7f9dc3d71050>"
      ]
     },
     "metadata": {},
     "output_type": "display_data"
    }
   ],
   "source": [
    "plt.figure()\n",
    "plt.scatter(df_comp['ces'],df_comp['meth'],marker='o')\n",
    "plt.xlabel('CES')\n",
    "plt.ylabel('Methylation')\n",
    "plt.title('CES in function of methylation of MLH1')\n",
    "plt.show()"
   ]
  },
  {
   "cell_type": "code",
   "execution_count": 22,
   "metadata": {
    "collapsed": false
   },
   "outputs": [
    {
     "data": {
      "text/plain": [
       "[-0.270275, 0.1573, 0.584325]"
      ]
     },
     "execution_count": 22,
     "metadata": {},
     "output_type": "execute_result"
    }
   ],
   "source": [
    "quantile = []\n",
    "for i in [0.25,0.5,0.75]:\n",
    "    quantile.append(float(df_comp['expr'].quantile(i)))\n",
    "    \n",
    "quantile"
   ]
  },
  {
   "cell_type": "code",
   "execution_count": 23,
   "metadata": {
    "collapsed": false
   },
   "outputs": [
    {
     "data": {
      "text/html": [
       "<div>\n",
       "<style>\n",
       "    .dataframe thead tr:only-child th {\n",
       "        text-align: right;\n",
       "    }\n",
       "\n",
       "    .dataframe thead th {\n",
       "        text-align: left;\n",
       "    }\n",
       "\n",
       "    .dataframe tbody tr th {\n",
       "        vertical-align: top;\n",
       "    }\n",
       "</style>\n",
       "<table border=\"1\" class=\"dataframe\">\n",
       "  <thead>\n",
       "    <tr style=\"text-align: right;\">\n",
       "      <th></th>\n",
       "      <th>ces</th>\n",
       "      <th>expr</th>\n",
       "      <th>meth</th>\n",
       "      <th>expr_cat</th>\n",
       "    </tr>\n",
       "    <tr>\n",
       "      <th>id</th>\n",
       "      <th></th>\n",
       "      <th></th>\n",
       "      <th></th>\n",
       "      <th></th>\n",
       "    </tr>\n",
       "  </thead>\n",
       "  <tbody>\n",
       "    <tr>\n",
       "      <th>TCGA-D5-6531-01</th>\n",
       "      <td>1.8834</td>\n",
       "      <td>-0.6444</td>\n",
       "      <td>0.018947</td>\n",
       "      <td>0.0</td>\n",
       "    </tr>\n",
       "    <tr>\n",
       "      <th>TCGA-DM-A28A-01</th>\n",
       "      <td>6.4499</td>\n",
       "      <td>0.643</td>\n",
       "      <td>0.0248725</td>\n",
       "      <td>3.0</td>\n",
       "    </tr>\n",
       "    <tr>\n",
       "      <th>TCGA-DC-5869-01</th>\n",
       "      <td>7.8741</td>\n",
       "      <td>2.5549</td>\n",
       "      <td>0.0623723</td>\n",
       "      <td>3.0</td>\n",
       "    </tr>\n",
       "    <tr>\n",
       "      <th>TCGA-F4-6460-01</th>\n",
       "      <td>-4.8967</td>\n",
       "      <td>0.0455</td>\n",
       "      <td>0.0460492</td>\n",
       "      <td>1.0</td>\n",
       "    </tr>\n",
       "    <tr>\n",
       "      <th>TCGA-DY-A1DC-01</th>\n",
       "      <td>1.8764</td>\n",
       "      <td>0.2859</td>\n",
       "      <td>0.0815832</td>\n",
       "      <td>2.0</td>\n",
       "    </tr>\n",
       "  </tbody>\n",
       "</table>\n",
       "</div>"
      ],
      "text/plain": [
       "                    ces    expr       meth  expr_cat\n",
       "id                                                  \n",
       "TCGA-D5-6531-01  1.8834 -0.6444   0.018947       0.0\n",
       "TCGA-DM-A28A-01  6.4499   0.643  0.0248725       3.0\n",
       "TCGA-DC-5869-01  7.8741  2.5549  0.0623723       3.0\n",
       "TCGA-F4-6460-01 -4.8967  0.0455  0.0460492       1.0\n",
       "TCGA-DY-A1DC-01  1.8764  0.2859  0.0815832       2.0"
      ]
     },
     "execution_count": 23,
     "metadata": {},
     "output_type": "execute_result"
    }
   ],
   "source": [
    "for ix,row in df_comp.iterrows():\n",
    "    if row['expr']<quantile[0]:\n",
    "        df_comp = df_comp.set_value(ix,'expr_cat',0)\n",
    "    elif row['expr']<quantile[1]:\n",
    "        df_comp = df_comp.set_value(ix,'expr_cat',1)\n",
    "    elif row['expr']<quantile[2]:\n",
    "        df_comp = df_comp.set_value(ix,'expr_cat',2)\n",
    "    else: \n",
    "        df_comp = df_comp.set_value(ix,'expr_cat',3)\n",
    "        \n",
    "df_comp.head()"
   ]
  },
  {
   "cell_type": "code",
   "execution_count": 24,
   "metadata": {
    "collapsed": false
   },
   "outputs": [
    {
     "data": {
      "image/png": "[encoded data removed]",
      "text/plain": [
       "<matplotlib.figure.Figure at 0x7f9dc395e9d0>"
      ]
     },
     "metadata": {},
     "output_type": "display_data"
    }
   ],
   "source": [
    "plt.figure()\n",
    "plt.scatter(df_comp['ces'],df_comp['expr_cat'],marker='o')\n",
    "plt.xlabel('CES')\n",
    "plt.ylabel('Expression level')\n",
    "plt.title('CES in function of expression level of MLH1 per quartile')\n",
    "plt.show()"
   ]
  },
  {
   "cell_type": "markdown",
   "metadata": {},
   "source": [
    "\n",
    "\n",
    "the CES values are NOT signi ficantly different between the top and bottom MLH1 quartiles\n"
   ]
  },
  {
   "cell_type": "code",
   "execution_count": 25,
   "metadata": {
    "collapsed": false,
    "scrolled": true
   },
   "outputs": [
    {
     "name": "stdout",
     "output_type": "stream",
     "text": [
      "376\n"
     ]
    },
    {
     "data": {
      "text/html": [
       "<div>\n",
       "<style>\n",
       "    .dataframe thead tr:only-child th {\n",
       "        text-align: right;\n",
       "    }\n",
       "\n",
       "    .dataframe thead th {\n",
       "        text-align: left;\n",
       "    }\n",
       "\n",
       "    .dataframe tbody tr th {\n",
       "        vertical-align: top;\n",
       "    }\n",
       "</style>\n",
       "<table border=\"1\" class=\"dataframe\">\n",
       "  <thead>\n",
       "    <tr style=\"text-align: right;\">\n",
       "      <th></th>\n",
       "      <th>id</th>\n",
       "      <th>upscore</th>\n",
       "      <th>downscore</th>\n",
       "      <th>ces</th>\n",
       "      <th>cat</th>\n",
       "      <th>label</th>\n",
       "      <th>cna</th>\n",
       "      <th>mut</th>\n",
       "      <th>expr</th>\n",
       "      <th>meth</th>\n",
       "    </tr>\n",
       "  </thead>\n",
       "  <tbody>\n",
       "    <tr>\n",
       "      <th>0</th>\n",
       "      <td>TCGA-D5-6531-01</td>\n",
       "      <td>-7.6179</td>\n",
       "      <td>12.6261</td>\n",
       "      <td>1.8834</td>\n",
       "      <td>mss</td>\n",
       "      <td>1.0</td>\n",
       "      <td>15735</td>\n",
       "      <td>24776</td>\n",
       "      <td>-0.6444</td>\n",
       "      <td>0.018947</td>\n",
       "    </tr>\n",
       "    <tr>\n",
       "      <th>1</th>\n",
       "      <td>TCGA-DM-A28A-01</td>\n",
       "      <td>-15.5637</td>\n",
       "      <td>25.9099</td>\n",
       "      <td>6.4499</td>\n",
       "      <td>mss</td>\n",
       "      <td>1.0</td>\n",
       "      <td>8859</td>\n",
       "      <td>24776</td>\n",
       "      <td>0.643</td>\n",
       "      <td>0.0248725</td>\n",
       "    </tr>\n",
       "    <tr>\n",
       "      <th>2</th>\n",
       "      <td>TCGA-DC-5869-01</td>\n",
       "      <td>-9.0183</td>\n",
       "      <td>33.6345</td>\n",
       "      <td>7.8741</td>\n",
       "      <td>mss</td>\n",
       "      <td>1.0</td>\n",
       "      <td>18611</td>\n",
       "      <td>24776</td>\n",
       "      <td>2.5549</td>\n",
       "      <td>0.0623723</td>\n",
       "    </tr>\n",
       "    <tr>\n",
       "      <th>3</th>\n",
       "      <td>TCGA-F4-6460-01</td>\n",
       "      <td>-25.3454</td>\n",
       "      <td>28.9109</td>\n",
       "      <td>-4.8967</td>\n",
       "      <td>mss</td>\n",
       "      <td>1.0</td>\n",
       "      <td>19624</td>\n",
       "      <td>24776</td>\n",
       "      <td>0.0455</td>\n",
       "      <td>0.0460492</td>\n",
       "    </tr>\n",
       "    <tr>\n",
       "      <th>4</th>\n",
       "      <td>TCGA-DY-A1DC-01</td>\n",
       "      <td>-14.6653</td>\n",
       "      <td>20.8919</td>\n",
       "      <td>1.8764</td>\n",
       "      <td>mss</td>\n",
       "      <td>1.0</td>\n",
       "      <td>6452</td>\n",
       "      <td>24776</td>\n",
       "      <td>0.2859</td>\n",
       "      <td>0.0815832</td>\n",
       "    </tr>\n",
       "  </tbody>\n",
       "</table>\n",
       "</div>"
      ],
      "text/plain": [
       "                id  upscore  downscore     ces  cat  label    cna    mut  \\\n",
       "0  TCGA-D5-6531-01  -7.6179    12.6261  1.8834  mss    1.0  15735  24776   \n",
       "1  TCGA-DM-A28A-01 -15.5637    25.9099  6.4499  mss    1.0   8859  24776   \n",
       "2  TCGA-DC-5869-01  -9.0183    33.6345  7.8741  mss    1.0  18611  24776   \n",
       "3  TCGA-F4-6460-01 -25.3454    28.9109 -4.8967  mss    1.0  19624  24776   \n",
       "4  TCGA-DY-A1DC-01 -14.6653    20.8919  1.8764  mss    1.0   6452  24776   \n",
       "\n",
       "     expr       meth  \n",
       "0 -0.6444   0.018947  \n",
       "1   0.643  0.0248725  \n",
       "2  2.5549  0.0623723  \n",
       "3  0.0455  0.0460492  \n",
       "4  0.2859  0.0815832  "
      ]
     },
     "execution_count": 25,
     "metadata": {},
     "output_type": "execute_result"
    }
   ],
   "source": [
    "results = results.merge(df_mlh1,how='inner',right_index=True,left_on='id')\n",
    "print(len(results))\n",
    "results.head()"
   ]
  },
  {
   "cell_type": "code",
   "execution_count": 26,
   "metadata": {
    "collapsed": false
   },
   "outputs": [
    {
     "data": {
      "image/png": "[encoded data removed]",
      "text/plain": [
       "<matplotlib.figure.Figure at 0x7f9dc3856f90>"
      ]
     },
     "metadata": {},
     "output_type": "display_data"
    }
   ],
   "source": [
    "fig, ax = plt.subplots()\n",
    "colors = ['red','green','blue']\n",
    "ax.scatter(results['ces'],results['expr'],c = results['label'],cmap = matplotlib.colors.ListedColormap(colors))\n",
    "plt.xlabel('CES')\n",
    "plt.ylabel('Expression level')\n",
    "plt.title('CES in function of expression level of MLH1 per quartile')\n",
    "plt.show()"
   ]
  },
  {
   "cell_type": "markdown",
   "metadata": {},
   "source": [
    "\n",
    "\n",
    "RED: MSI, GREEN : MSS, BLUE : unkown\n"
   ]
  },
  {
   "cell_type": "code",
   "execution_count": 70,
   "metadata": {
    "collapsed": false
   },
   "outputs": [
    {
     "data": {
      "image/png": "[encoded data removed]",
      "text/plain": [
       "<matplotlib.figure.Figure at 0x7f9dc3047910>"
      ]
     },
     "metadata": {},
     "output_type": "display_data"
    }
   ],
   "source": [
    "fig, ax = plt.subplots()\n",
    "colors = ['red','green','blue']\n",
    "ax.scatter(results['meth'],results['expr'] , c = results['label'],cmap = matplotlib.colors.ListedColormap(colors))\n",
    "plt.xlabel('Methylation')\n",
    "plt.ylabel('Expression level')\n",
    "plt.title('Expression level in function of methlyation of MLH1')\n",
    "plt.show()"
   ]
  },
  {
   "cell_type": "code",
   "execution_count": 84,
   "metadata": {
    "collapsed": false
   },
   "outputs": [
    {
     "data": {
      "image/png": "[encoded data removed]",
      "text/plain": [
       "<matplotlib.figure.Figure at 0x7f9dc3862250>"
      ]
     },
     "metadata": {},
     "output_type": "display_data"
    }
   ],
   "source": [
    "plt.boxplot([results[results['cat']=='mss']['ces'],results[results['cat']=='msi']['ces']],labels=['MSS','MSI'])\n",
    "plt.ylabel('CES')\n",
    "plt.title('Comparison of CES distribution in MSS and MSI patients')\n",
    "plt.show()"
   ]
  },
  {
   "cell_type": "code",
   "execution_count": 121,
   "metadata": {
    "collapsed": false
   },
   "outputs": [
    {
     "data": {
      "image/png": "[encoded data removed]",
      "text/plain": [
       "<matplotlib.figure.Figure at 0x7f9dac5ff510>"
      ]
     },
     "metadata": {},
     "output_type": "display_data"
    }
   ],
   "source": [
    "plt.hist(results[results['cat']=='mss']['ces'],bins='auto')\n",
    "plt.title('Distribution of CES for MSS patients')\n",
    "plt.show()"
   ]
  },
  {
   "cell_type": "code",
   "execution_count": 122,
   "metadata": {
    "collapsed": false
   },
   "outputs": [
    {
     "data": {
      "image/png": "[encoded data removed]",
      "text/plain": [
       "<matplotlib.figure.Figure at 0x7f9dac482290>"
      ]
     },
     "metadata": {},
     "output_type": "display_data"
    }
   ],
   "source": [
    "plt.hist(results[results['cat']=='msi']['ces'],bins='auto')\n",
    "plt.title('Distribution of CES for MSI patients')\n",
    "\n",
    "plt.show()"
   ]
  },
  {
   "cell_type": "code",
   "execution_count": 86,
   "metadata": {
    "collapsed": false
   },
   "outputs": [
    {
     "name": "stdout",
     "output_type": "stream",
     "text": [
      "Mean of CES for MSS patients:\n",
      "-2.97471148148\n",
      "Mean of CES for MSI patients:\n",
      "5.01184545455\n"
     ]
    }
   ],
   "source": [
    "print('Mean of CES for MSS patients:')\n",
    "print(results[results['cat']=='mss']['ces'].mean())\n",
    "print('Mean of CES for MSI patients:')\n",
    "print(results[results['cat']=='msi']['ces'].mean())"
   ]
  },
  {
   "cell_type": "markdown",
   "metadata": {},
   "source": [
    "p-value of T-test"
   ]
  },
  {
   "cell_type": "code",
   "execution_count": 123,
   "metadata": {
    "collapsed": false
   },
   "outputs": [
    {
     "data": {
      "text/plain": [
       "1.0871722028608636e-08"
      ]
     },
     "execution_count": 123,
     "metadata": {},
     "output_type": "execute_result"
    }
   ],
   "source": [
    "scipy.stats.ranksums(results[results['cat']=='mss']['ces'],results[results['cat']=='msi']['ces']).pvalue"
   ]
  },
  {
   "cell_type": "markdown",
   "metadata": {},
   "source": [
    "# FoxM1"
   ]
  },
  {
   "cell_type": "code",
   "execution_count": null,
   "metadata": {
    "collapsed": true
   },
   "outputs": [],
   "source": [
    "def get_stats(data_file,gene_name):\n",
    "    df = pd.read_table('data/cBioPortal_data_expr_foxm1.txt').transpose()[2:]\n",
    "    df.columns = [gene_name]\n",
    "    "
   ]
  },
  {
   "cell_type": "code",
   "execution_count": 94,
   "metadata": {
    "collapsed": false
   },
   "outputs": [
    {
     "data": {
      "text/html": [
       "<div>\n",
       "<style>\n",
       "    .dataframe thead tr:only-child th {\n",
       "        text-align: right;\n",
       "    }\n",
       "\n",
       "    .dataframe thead th {\n",
       "        text-align: left;\n",
       "    }\n",
       "\n",
       "    .dataframe tbody tr th {\n",
       "        vertical-align: top;\n",
       "    }\n",
       "</style>\n",
       "<table border=\"1\" class=\"dataframe\">\n",
       "  <thead>\n",
       "    <tr style=\"text-align: right;\">\n",
       "      <th></th>\n",
       "      <th>foxm1</th>\n",
       "    </tr>\n",
       "  </thead>\n",
       "  <tbody>\n",
       "    <tr>\n",
       "      <th>TCGA-AA-3860-01</th>\n",
       "      <td>NaN</td>\n",
       "    </tr>\n",
       "    <tr>\n",
       "      <th>TCGA-DM-A28A-01</th>\n",
       "      <td>0.5014</td>\n",
       "    </tr>\n",
       "    <tr>\n",
       "      <th>TCGA-DC-5869-01</th>\n",
       "      <td>0.5448</td>\n",
       "    </tr>\n",
       "    <tr>\n",
       "      <th>TCGA-F4-6460-01</th>\n",
       "      <td>0.4142</td>\n",
       "    </tr>\n",
       "    <tr>\n",
       "      <th>TCGA-AA-A00N-01</th>\n",
       "      <td>-0.5903</td>\n",
       "    </tr>\n",
       "  </tbody>\n",
       "</table>\n",
       "</div>"
      ],
      "text/plain": [
       "                  foxm1\n",
       "TCGA-AA-3860-01     NaN\n",
       "TCGA-DM-A28A-01  0.5014\n",
       "TCGA-DC-5869-01  0.5448\n",
       "TCGA-F4-6460-01  0.4142\n",
       "TCGA-AA-A00N-01 -0.5903"
      ]
     },
     "execution_count": 94,
     "metadata": {},
     "output_type": "execute_result"
    }
   ],
   "source": [
    "df_fox = pd.read_table('data/cBioPortal_data_expr_foxm1.txt').transpose()[2:]\n",
    "df_fox.columns = ['foxm1']\n",
    "df_fox.head()"
   ]
  },
  {
   "cell_type": "code",
   "execution_count": 99,
   "metadata": {
    "collapsed": false
   },
   "outputs": [
    {
     "data": {
      "text/html": [
       "<div>\n",
       "<style>\n",
       "    .dataframe thead tr:only-child th {\n",
       "        text-align: right;\n",
       "    }\n",
       "\n",
       "    .dataframe thead th {\n",
       "        text-align: left;\n",
       "    }\n",
       "\n",
       "    .dataframe tbody tr th {\n",
       "        vertical-align: top;\n",
       "    }\n",
       "</style>\n",
       "<table border=\"1\" class=\"dataframe\">\n",
       "  <thead>\n",
       "    <tr style=\"text-align: right;\">\n",
       "      <th></th>\n",
       "      <th>id</th>\n",
       "      <th>upscore</th>\n",
       "      <th>downscore</th>\n",
       "      <th>ces</th>\n",
       "      <th>cat</th>\n",
       "      <th>label</th>\n",
       "      <th>mut_x</th>\n",
       "      <th>expr</th>\n",
       "      <th>meth</th>\n",
       "      <th>cna</th>\n",
       "      <th>mut_y</th>\n",
       "      <th>foxm1_x</th>\n",
       "      <th>foxm1_y</th>\n",
       "    </tr>\n",
       "  </thead>\n",
       "  <tbody>\n",
       "    <tr>\n",
       "      <th>0</th>\n",
       "      <td>TCGA-D5-6531-01</td>\n",
       "      <td>-7.6179</td>\n",
       "      <td>12.6261</td>\n",
       "      <td>1.8834</td>\n",
       "      <td>mss</td>\n",
       "      <td>1.0</td>\n",
       "      <td>24776</td>\n",
       "      <td>-0.6444</td>\n",
       "      <td>0.018947</td>\n",
       "      <td>15735</td>\n",
       "      <td>24776</td>\n",
       "      <td>0.0113</td>\n",
       "      <td>0.0113</td>\n",
       "    </tr>\n",
       "    <tr>\n",
       "      <th>1</th>\n",
       "      <td>TCGA-DM-A28A-01</td>\n",
       "      <td>-15.5637</td>\n",
       "      <td>25.9099</td>\n",
       "      <td>6.4499</td>\n",
       "      <td>mss</td>\n",
       "      <td>1.0</td>\n",
       "      <td>24776</td>\n",
       "      <td>0.643</td>\n",
       "      <td>0.0248725</td>\n",
       "      <td>8859</td>\n",
       "      <td>24776</td>\n",
       "      <td>0.5014</td>\n",
       "      <td>0.5014</td>\n",
       "    </tr>\n",
       "    <tr>\n",
       "      <th>2</th>\n",
       "      <td>TCGA-DC-5869-01</td>\n",
       "      <td>-9.0183</td>\n",
       "      <td>33.6345</td>\n",
       "      <td>7.8741</td>\n",
       "      <td>mss</td>\n",
       "      <td>1.0</td>\n",
       "      <td>24776</td>\n",
       "      <td>2.5549</td>\n",
       "      <td>0.0623723</td>\n",
       "      <td>18611</td>\n",
       "      <td>24776</td>\n",
       "      <td>0.5448</td>\n",
       "      <td>0.5448</td>\n",
       "    </tr>\n",
       "    <tr>\n",
       "      <th>3</th>\n",
       "      <td>TCGA-F4-6460-01</td>\n",
       "      <td>-25.3454</td>\n",
       "      <td>28.9109</td>\n",
       "      <td>-4.8967</td>\n",
       "      <td>mss</td>\n",
       "      <td>1.0</td>\n",
       "      <td>24776</td>\n",
       "      <td>0.0455</td>\n",
       "      <td>0.0460492</td>\n",
       "      <td>19624</td>\n",
       "      <td>24776</td>\n",
       "      <td>0.4142</td>\n",
       "      <td>0.4142</td>\n",
       "    </tr>\n",
       "    <tr>\n",
       "      <th>4</th>\n",
       "      <td>TCGA-DY-A1DC-01</td>\n",
       "      <td>-14.6653</td>\n",
       "      <td>20.8919</td>\n",
       "      <td>1.8764</td>\n",
       "      <td>mss</td>\n",
       "      <td>1.0</td>\n",
       "      <td>24776</td>\n",
       "      <td>0.2859</td>\n",
       "      <td>0.0815832</td>\n",
       "      <td>6452</td>\n",
       "      <td>24776</td>\n",
       "      <td>-0.5759</td>\n",
       "      <td>-0.5759</td>\n",
       "    </tr>\n",
       "  </tbody>\n",
       "</table>\n",
       "</div>"
      ],
      "text/plain": [
       "                id  upscore  downscore     ces  cat  label  mut_x    expr  \\\n",
       "0  TCGA-D5-6531-01  -7.6179    12.6261  1.8834  mss    1.0  24776 -0.6444   \n",
       "1  TCGA-DM-A28A-01 -15.5637    25.9099  6.4499  mss    1.0  24776   0.643   \n",
       "2  TCGA-DC-5869-01  -9.0183    33.6345  7.8741  mss    1.0  24776  2.5549   \n",
       "3  TCGA-F4-6460-01 -25.3454    28.9109 -4.8967  mss    1.0  24776  0.0455   \n",
       "4  TCGA-DY-A1DC-01 -14.6653    20.8919  1.8764  mss    1.0  24776  0.2859   \n",
       "\n",
       "        meth    cna  mut_y foxm1_x foxm1_y  \n",
       "0   0.018947  15735  24776  0.0113  0.0113  \n",
       "1  0.0248725   8859  24776  0.5014  0.5014  \n",
       "2  0.0623723  18611  24776  0.5448  0.5448  \n",
       "3  0.0460492  19624  24776  0.4142  0.4142  \n",
       "4  0.0815832   6452  24776 -0.5759 -0.5759  "
      ]
     },
     "execution_count": 99,
     "metadata": {},
     "output_type": "execute_result"
    }
   ],
   "source": [
    "results = results.merge(df_fox,how='inner',left_on='id',right_index=True)\n",
    "results.head()"
   ]
  },
  {
   "cell_type": "code",
   "execution_count": 107,
   "metadata": {
    "collapsed": false
   },
   "outputs": [
    {
     "data": {
      "image/png": "[encoded data removed]",
      "text/plain": [
       "<matplotlib.figure.Figure at 0x7f9dc343f410>"
      ]
     },
     "metadata": {},
     "output_type": "display_data"
    }
   ],
   "source": [
    "plt.boxplot([results[results['cat']=='mss'].dropna()['foxm1_x'],results[results['cat']=='msi'].dropna()['foxm1_x']],\n",
    "             labels=['MSS','MSI'])\n",
    "plt.ylabel('FoxM1 expression')\n",
    "plt.title('Comparison of FoxM1 expression in MSS and MSI patients')\n",
    "plt.show()"
   ]
  },
  {
   "cell_type": "code",
   "execution_count": 108,
   "metadata": {
    "collapsed": false
   },
   "outputs": [
    {
     "name": "stdout",
     "output_type": "stream",
     "text": [
      "Mean of FoxM1 expression for MSS patients:\n",
      "-0.015452293578\n",
      "Mean of FoxM1 expression for MSI patients:\n",
      "-0.015452293578\n"
     ]
    }
   ],
   "source": [
    "print('Mean of FoxM1 expression for MSS patients:')\n",
    "print(results[results['cat']=='mss'].dropna()['foxm1_x'].mean())\n",
    "print('Mean of FoxM1 expression for MSI patients:')\n",
    "print(results[results['cat']=='mss'].dropna()['foxm1_x'].mean())"
   ]
  },
  {
   "cell_type": "markdown",
   "metadata": {},
   "source": [
    "p-value of t-test"
   ]
  },
  {
   "cell_type": "code",
   "execution_count": 115,
   "metadata": {
    "collapsed": false
   },
   "outputs": [
    {
     "data": {
      "text/plain": [
       "0.19495915303462069"
      ]
     },
     "execution_count": 115,
     "metadata": {},
     "output_type": "execute_result"
    }
   ],
   "source": [
    "scipy.stats.ttest_ind(results[results['cat']=='mss'].dropna()['foxm1_x'],results[results['cat']=='msi'].dropna()['foxm1_x']).pvalue"
   ]
  },
  {
   "cell_type": "markdown",
   "metadata": {},
   "source": [
    "mYC, p53, egfr,"
   ]
  },
  {
   "cell_type": "code",
   "execution_count": 157,
   "metadata": {
    "collapsed": true,
    "scrolled": true
   },
   "outputs": [],
   "source": [
    "mut = pd.read_table('data/study_view_clinical_data.txt')"
   ]
  },
  {
   "cell_type": "code",
   "execution_count": 173,
   "metadata": {
    "collapsed": true
   },
   "outputs": [],
   "source": [
    "for ix,row in mut.iterrows():\n",
    "    if row['KRAS Mutation'] == 'YES':\n",
    "        mut = mut.set_value(ix,'kras',2)\n",
    "    elif row['KRAS Mutation'] == 'NO':\n",
    "        mut = mut.set_value(ix,'kras',1)\n",
    "    else:\n",
    "        mut = mut.set_value(ix,'kras',0)"
   ]
  },
  {
   "cell_type": "code",
   "execution_count": 175,
   "metadata": {
    "collapsed": true
   },
   "outputs": [],
   "source": [
    "results = results.merge(mut[['Sample ID','kras']],how='inner',left_on='id',right_on='Sample ID')"
   ]
  },
  {
   "cell_type": "code",
   "execution_count": 176,
   "metadata": {
    "collapsed": false,
    "scrolled": true
   },
   "outputs": [
    {
     "data": {
      "image/png": "[encoded data removed]",
      "text/plain": [
       "<matplotlib.figure.Figure at 0x7f9dac5bfb90>"
      ]
     },
     "metadata": {},
     "output_type": "display_data"
    }
   ],
   "source": [
    "plt.boxplot([results[results['kras']==1]['ces'],results[results['kras']==2]['ces']],\n",
    "             labels=['KRAS NO','KRAS YES'])\n",
    "plt.ylabel('CES')\n",
    "plt.title('Comparison of FoxM1 expression in MSS and MSI patients')\n",
    "plt.show()"
   ]
  },
  {
   "cell_type": "code",
   "execution_count": null,
   "metadata": {
    "collapsed": true
   },
   "outputs": [],
   "source": []
  }
 ],
 "metadata": {
  "kernelspec": {
   "display_name": "Python [default]",
   "language": "python",
   "name": "python3"
  },
  "language_info": {
   "codemirror_mode": {
    "name": "ipython",
    "version": 3
   },
   "file_extension": ".py",
   "mimetype": "text/x-python",
   "name": "python",
   "nbconvert_exporter": "python",
   "pygments_lexer": "ipython3",
   "version": "3.5.2"
  }
 },
 "nbformat": 4,
 "nbformat_minor": 2
}
