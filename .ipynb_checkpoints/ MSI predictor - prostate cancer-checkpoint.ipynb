{
 "cells": [
  {
   "cell_type": "code",
   "execution_count": 2,
   "metadata": {},
   "outputs": [],
   "source": [
    "import pandas as pd\n",
    "import numpy as np\n",
    "from math import *\n",
    "import matplotlib.pyplot as plt\n",
    "import matplotlib\n",
    "import matplotlib\n",
    "import scipy.stats"
   ]
  },
  {
   "cell_type": "code",
   "execution_count": 3,
   "metadata": {},
   "outputs": [],
   "source": [
    "def load_ces(file):\n",
    "    df_ces = pd.read_table(file)\n",
    "    ces = df_ces.sum()[2:]\n",
    "    return pd.DataFrame(ces,columns=['ces'])\n",
    "\n",
    "def load_data(file, cat=None):    \n",
    "    df = pd.read_table(file)\n",
    "    patients = df['COMMON']\n",
    "    df = df.transpose()[2:]\n",
    "    df.columns = [s + '_' +cat for s in patients]\n",
    "    return df\n",
    "\n",
    "def load_mutation(file):\n",
    "    df = pd.read_table(file)[['Sample ID', 'Mutation Count', 'CNA']]\n",
    "    return df"
   ]
  },
  {
   "cell_type": "code",
   "execution_count": 4,
   "metadata": {
    "scrolled": false
   },
   "outputs": [],
   "source": [
    "from pylab import plot, show, savefig, xlim, figure, \\\n",
    "                hold, ylim, legend, boxplot, setp, axes\n",
    "\n",
    "# function for setting the colors of the box plots pairs\n",
    "def setBoxColors(bp):\n",
    "    setp(bp['boxes'][0], color='blue')\n",
    "    setp(bp['caps'][0], color='blue')\n",
    "    setp(bp['caps'][1], color='blue')\n",
    "    setp(bp['whiskers'][0], color='blue')\n",
    "    setp(bp['whiskers'][1], color='blue')\n",
    "    setp(bp['fliers'][0], color='blue')\n",
    "    setp(bp['fliers'][1], color='blue')\n",
    "    setp(bp['medians'][0], color='blue')\n",
    "\n",
    "    setp(bp['boxes'][1], color='red')\n",
    "    setp(bp['caps'][2], color='red')\n",
    "    setp(bp['caps'][3], color='red')\n",
    "    setp(bp['whiskers'][2], color='red')\n",
    "    setp(bp['whiskers'][3], color='red')\n",
    "#     setp(bp['fliers'][2], color='red')\n",
    "#     setp(bp['fliers'][3], color='red')\n",
    "    setp(bp['medians'][1], color='red')"
   ]
  },
  {
   "cell_type": "code",
   "execution_count": 5,
   "metadata": {},
   "outputs": [],
   "source": [
    "def boxplotcomp(selectedgene=None):\n",
    "    d = {}\n",
    "    for g in genes:\n",
    "        if selectedgene == None:\n",
    "            d[g] = [list(df[df['msi_status']==0][g+'_expr']),list(df[df['msi_status']==1][g+'_expr'])]\n",
    "        else:\n",
    "            li = []\n",
    "            for ix,row in df.iterrows():\n",
    "                if selectedgene in row['msi_deficiency']:\n",
    "                    li.append(True)\n",
    "                else:\n",
    "                    li.append(False)\n",
    "\n",
    "            d[g] = [list(df[li][g+'_expr']),list(df[df['msi_status']==1][g+'_expr'])]\n",
    "    figlen = 20\n",
    "    figheigth = 12\n",
    "\n",
    "    fig = figure(figsize=(figlen, figheigth))\n",
    "    ax = axes()\n",
    "    hold(True)\n",
    "\n",
    "    i = 0\n",
    "    for g in genes:\n",
    "        bp = boxplot(d[g], positions=[i+1,i+2],widths=0.6)\n",
    "        setBoxColors(bp)\n",
    "        i+=2\n",
    "\n",
    "    # set axes limits and labels\n",
    "    plt.xticks(range(0, (len(genes)+1) * 2, 2), [''] + genes)\n",
    "    if selectedgene == None:\n",
    "        plt.title('MSS and MSI tumors comparison')\n",
    "\n",
    "    else:\n",
    "        plt.title(selectedgene+' deficient ('+str(len(d[selectedgene][0]))+' tumors) and MSI tumors comparison')\n",
    "    # draw temporary red and blue lines and use them to create a legend\n",
    "    hR, = plot([1,1],'r-')\n",
    "    hB, = plot([1,1],'b-')\n",
    "    if selectedgene == None:\n",
    "        legend((hR, hB),('MSI tumors','MSS'))\n",
    "    else:\n",
    "        legend((hR, hB),('MSI tumors',selectedgene+' deficient tumors'))\n",
    "    hB.set_visible(False)\n",
    "    hR.set_visible(False)\n",
    "\n",
    "    if selectedgene == None:\n",
    "        savefig('results/MSS and MSI tumors comparison.png')\n",
    "    else:\n",
    "        savefig('results/'+selectedgene+' deficient and MSI tumors comparison.png')\n",
    "    show()"
   ]
  },
  {
   "cell_type": "code",
   "execution_count": 42,
   "metadata": {},
   "outputs": [
    {
     "data": {
      "text/plain": [
       "['MLH1', 'MLH3', 'MSH2', 'MSH3', 'MSH6', 'PCNA', 'PMS2', 'RFC1']"
      ]
     },
     "execution_count": 42,
     "metadata": {},
     "output_type": "execute_result"
    }
   ],
   "source": [
    "genes = list(pd.read_table('data/prostate/mmr_mutation.txt')['COMMON'])\n",
    "genes"
   ]
  },
  {
   "cell_type": "code",
   "execution_count": 8,
   "metadata": {},
   "outputs": [],
   "source": [
    "# df1 = load_data('data/stomach/mrr_methylation.txt', cat='meth')\n",
    "# df1.head()"
   ]
  },
  {
   "cell_type": "code",
   "execution_count": 43,
   "metadata": {},
   "outputs": [
    {
     "data": {
      "text/html": [
       "<div>\n",
       "<style>\n",
       "    .dataframe thead tr:only-child th {\n",
       "        text-align: right;\n",
       "    }\n",
       "\n",
       "    .dataframe thead th {\n",
       "        text-align: left;\n",
       "    }\n",
       "\n",
       "    .dataframe tbody tr th {\n",
       "        vertical-align: top;\n",
       "    }\n",
       "</style>\n",
       "<table border=\"1\" class=\"dataframe\">\n",
       "  <thead>\n",
       "    <tr style=\"text-align: right;\">\n",
       "      <th></th>\n",
       "      <th>ces</th>\n",
       "    </tr>\n",
       "  </thead>\n",
       "  <tbody>\n",
       "    <tr>\n",
       "      <th>TCGA-V1-A9OQ-01</th>\n",
       "      <td>-2.4242</td>\n",
       "    </tr>\n",
       "    <tr>\n",
       "      <th>TCGA-V1-A8MK-01</th>\n",
       "      <td>-6.8332</td>\n",
       "    </tr>\n",
       "    <tr>\n",
       "      <th>TCGA-XK-AAJT-01</th>\n",
       "      <td>-4.3832</td>\n",
       "    </tr>\n",
       "    <tr>\n",
       "      <th>TCGA-EJ-5502-01</th>\n",
       "      <td>-4.1643</td>\n",
       "    </tr>\n",
       "    <tr>\n",
       "      <th>TCGA-YJ-A8SW-01</th>\n",
       "      <td>5.5462</td>\n",
       "    </tr>\n",
       "  </tbody>\n",
       "</table>\n",
       "</div>"
      ],
      "text/plain": [
       "                    ces\n",
       "TCGA-V1-A9OQ-01 -2.4242\n",
       "TCGA-V1-A8MK-01 -6.8332\n",
       "TCGA-XK-AAJT-01 -4.3832\n",
       "TCGA-EJ-5502-01 -4.1643\n",
       "TCGA-YJ-A8SW-01  5.5462"
      ]
     },
     "execution_count": 43,
     "metadata": {},
     "output_type": "execute_result"
    }
   ],
   "source": [
    "df2 = load_ces('data/prostate/ces_expr.txt')\n",
    "df2.head()"
   ]
  },
  {
   "cell_type": "code",
   "execution_count": 44,
   "metadata": {},
   "outputs": [
    {
     "data": {
      "text/html": [
       "<div>\n",
       "<style>\n",
       "    .dataframe thead tr:only-child th {\n",
       "        text-align: right;\n",
       "    }\n",
       "\n",
       "    .dataframe thead th {\n",
       "        text-align: left;\n",
       "    }\n",
       "\n",
       "    .dataframe tbody tr th {\n",
       "        vertical-align: top;\n",
       "    }\n",
       "</style>\n",
       "<table border=\"1\" class=\"dataframe\">\n",
       "  <thead>\n",
       "    <tr style=\"text-align: right;\">\n",
       "      <th></th>\n",
       "      <th>MLH1_expr</th>\n",
       "      <th>MLH3_expr</th>\n",
       "      <th>MSH2_expr</th>\n",
       "      <th>MSH3_expr</th>\n",
       "      <th>MSH6_expr</th>\n",
       "      <th>PCNA_expr</th>\n",
       "      <th>PMS2_expr</th>\n",
       "      <th>RFC1_expr</th>\n",
       "    </tr>\n",
       "  </thead>\n",
       "  <tbody>\n",
       "    <tr>\n",
       "      <th>TCGA-V1-A9OQ-01</th>\n",
       "      <td>0.1439</td>\n",
       "      <td>-0.1586</td>\n",
       "      <td>-0.7158</td>\n",
       "      <td>-0.2413</td>\n",
       "      <td>-1.2654</td>\n",
       "      <td>-0.7657</td>\n",
       "      <td>0.2599</td>\n",
       "      <td>-0.4647</td>\n",
       "    </tr>\n",
       "    <tr>\n",
       "      <th>TCGA-V1-A8MK-01</th>\n",
       "      <td>0.1684</td>\n",
       "      <td>0.6646</td>\n",
       "      <td>-0.9184</td>\n",
       "      <td>-0.9696</td>\n",
       "      <td>-0.6699</td>\n",
       "      <td>-0.7658</td>\n",
       "      <td>-0.8535</td>\n",
       "      <td>-0.3696</td>\n",
       "    </tr>\n",
       "    <tr>\n",
       "      <th>TCGA-XK-AAJT-01</th>\n",
       "      <td>-1.4272</td>\n",
       "      <td>0.3901</td>\n",
       "      <td>-1.3734</td>\n",
       "      <td>-1.9476</td>\n",
       "      <td>-0.3506</td>\n",
       "      <td>-0.5896</td>\n",
       "      <td>-0.397</td>\n",
       "      <td>-0.785</td>\n",
       "    </tr>\n",
       "    <tr>\n",
       "      <th>TCGA-EJ-5502-01</th>\n",
       "      <td>-0.3286</td>\n",
       "      <td>-0.1384</td>\n",
       "      <td>-0.096</td>\n",
       "      <td>0.0736</td>\n",
       "      <td>0.0553</td>\n",
       "      <td>-0.7634</td>\n",
       "      <td>-0.7136</td>\n",
       "      <td>0.442</td>\n",
       "    </tr>\n",
       "    <tr>\n",
       "      <th>TCGA-YJ-A8SW-01</th>\n",
       "      <td>-0.3374</td>\n",
       "      <td>1.2038</td>\n",
       "      <td>-0.367</td>\n",
       "      <td>0.0213</td>\n",
       "      <td>-0.1554</td>\n",
       "      <td>0.1864</td>\n",
       "      <td>-0.237</td>\n",
       "      <td>2.0963</td>\n",
       "    </tr>\n",
       "  </tbody>\n",
       "</table>\n",
       "</div>"
      ],
      "text/plain": [
       "                MLH1_expr MLH3_expr MSH2_expr MSH3_expr MSH6_expr PCNA_expr  \\\n",
       "TCGA-V1-A9OQ-01    0.1439   -0.1586   -0.7158   -0.2413   -1.2654   -0.7657   \n",
       "TCGA-V1-A8MK-01    0.1684    0.6646   -0.9184   -0.9696   -0.6699   -0.7658   \n",
       "TCGA-XK-AAJT-01   -1.4272    0.3901   -1.3734   -1.9476   -0.3506   -0.5896   \n",
       "TCGA-EJ-5502-01   -0.3286   -0.1384    -0.096    0.0736    0.0553   -0.7634   \n",
       "TCGA-YJ-A8SW-01   -0.3374    1.2038    -0.367    0.0213   -0.1554    0.1864   \n",
       "\n",
       "                PMS2_expr RFC1_expr  \n",
       "TCGA-V1-A9OQ-01    0.2599   -0.4647  \n",
       "TCGA-V1-A8MK-01   -0.8535   -0.3696  \n",
       "TCGA-XK-AAJT-01    -0.397    -0.785  \n",
       "TCGA-EJ-5502-01   -0.7136     0.442  \n",
       "TCGA-YJ-A8SW-01    -0.237    2.0963  "
      ]
     },
     "execution_count": 44,
     "metadata": {},
     "output_type": "execute_result"
    }
   ],
   "source": [
    "df3 = load_data('data/prostate/mmr_expr.txt', cat='expr')\n",
    "df3.head()"
   ]
  },
  {
   "cell_type": "code",
   "execution_count": 45,
   "metadata": {},
   "outputs": [
    {
     "data": {
      "text/html": [
       "<div>\n",
       "<style>\n",
       "    .dataframe thead tr:only-child th {\n",
       "        text-align: right;\n",
       "    }\n",
       "\n",
       "    .dataframe thead th {\n",
       "        text-align: left;\n",
       "    }\n",
       "\n",
       "    .dataframe tbody tr th {\n",
       "        vertical-align: top;\n",
       "    }\n",
       "</style>\n",
       "<table border=\"1\" class=\"dataframe\">\n",
       "  <thead>\n",
       "    <tr style=\"text-align: right;\">\n",
       "      <th></th>\n",
       "      <th>MLH1_mut</th>\n",
       "      <th>MLH3_mut</th>\n",
       "      <th>MSH2_mut</th>\n",
       "      <th>MSH3_mut</th>\n",
       "      <th>MSH6_mut</th>\n",
       "      <th>PCNA_mut</th>\n",
       "      <th>PMS2_mut</th>\n",
       "      <th>RFC1_mut</th>\n",
       "    </tr>\n",
       "  </thead>\n",
       "  <tbody>\n",
       "    <tr>\n",
       "      <th>TCGA-V1-A9OQ-01</th>\n",
       "      <td>NaN</td>\n",
       "      <td>NaN</td>\n",
       "      <td>NaN</td>\n",
       "      <td>NaN</td>\n",
       "      <td>NaN</td>\n",
       "      <td>NaN</td>\n",
       "      <td>NaN</td>\n",
       "      <td>NaN</td>\n",
       "    </tr>\n",
       "    <tr>\n",
       "      <th>TCGA-V1-A8MK-01</th>\n",
       "      <td>NaN</td>\n",
       "      <td>NaN</td>\n",
       "      <td>NaN</td>\n",
       "      <td>NaN</td>\n",
       "      <td>NaN</td>\n",
       "      <td>NaN</td>\n",
       "      <td>NaN</td>\n",
       "      <td>NaN</td>\n",
       "    </tr>\n",
       "    <tr>\n",
       "      <th>TCGA-XK-AAJT-01</th>\n",
       "      <td>NaN</td>\n",
       "      <td>NaN</td>\n",
       "      <td>NaN</td>\n",
       "      <td>NaN</td>\n",
       "      <td>NaN</td>\n",
       "      <td>NaN</td>\n",
       "      <td>NaN</td>\n",
       "      <td>NaN</td>\n",
       "    </tr>\n",
       "    <tr>\n",
       "      <th>TCGA-EJ-5502-01</th>\n",
       "      <td>NaN</td>\n",
       "      <td>NaN</td>\n",
       "      <td>NaN</td>\n",
       "      <td>NaN</td>\n",
       "      <td>NaN</td>\n",
       "      <td>NaN</td>\n",
       "      <td>NaN</td>\n",
       "      <td>NaN</td>\n",
       "    </tr>\n",
       "    <tr>\n",
       "      <th>TCGA-YJ-A8SW-01</th>\n",
       "      <td>NaN</td>\n",
       "      <td>NaN</td>\n",
       "      <td>NaN</td>\n",
       "      <td>NaN</td>\n",
       "      <td>NaN</td>\n",
       "      <td>NaN</td>\n",
       "      <td>NaN</td>\n",
       "      <td>NaN</td>\n",
       "    </tr>\n",
       "  </tbody>\n",
       "</table>\n",
       "</div>"
      ],
      "text/plain": [
       "                MLH1_mut MLH3_mut MSH2_mut MSH3_mut MSH6_mut PCNA_mut  \\\n",
       "TCGA-V1-A9OQ-01      NaN      NaN      NaN      NaN      NaN      NaN   \n",
       "TCGA-V1-A8MK-01      NaN      NaN      NaN      NaN      NaN      NaN   \n",
       "TCGA-XK-AAJT-01      NaN      NaN      NaN      NaN      NaN      NaN   \n",
       "TCGA-EJ-5502-01      NaN      NaN      NaN      NaN      NaN      NaN   \n",
       "TCGA-YJ-A8SW-01      NaN      NaN      NaN      NaN      NaN      NaN   \n",
       "\n",
       "                PMS2_mut RFC1_mut  \n",
       "TCGA-V1-A9OQ-01      NaN      NaN  \n",
       "TCGA-V1-A8MK-01      NaN      NaN  \n",
       "TCGA-XK-AAJT-01      NaN      NaN  \n",
       "TCGA-EJ-5502-01      NaN      NaN  \n",
       "TCGA-YJ-A8SW-01      NaN      NaN  "
      ]
     },
     "execution_count": 45,
     "metadata": {},
     "output_type": "execute_result"
    }
   ],
   "source": [
    "df4 = load_data('data/prostate/mmr_mutation.txt', cat='mut')\n",
    "df4.head()"
   ]
  },
  {
   "cell_type": "code",
   "execution_count": 46,
   "metadata": {},
   "outputs": [
    {
     "data": {
      "text/html": [
       "<div>\n",
       "<style>\n",
       "    .dataframe thead tr:only-child th {\n",
       "        text-align: right;\n",
       "    }\n",
       "\n",
       "    .dataframe thead th {\n",
       "        text-align: left;\n",
       "    }\n",
       "\n",
       "    .dataframe tbody tr th {\n",
       "        vertical-align: top;\n",
       "    }\n",
       "</style>\n",
       "<table border=\"1\" class=\"dataframe\">\n",
       "  <thead>\n",
       "    <tr style=\"text-align: right;\">\n",
       "      <th></th>\n",
       "      <th>Sample ID</th>\n",
       "      <th>Mutation Count</th>\n",
       "      <th>CNA</th>\n",
       "    </tr>\n",
       "  </thead>\n",
       "  <tbody>\n",
       "    <tr>\n",
       "      <th>0</th>\n",
       "      <td>TCGA-CH-5767-01</td>\n",
       "      <td>44</td>\n",
       "      <td>0.083612</td>\n",
       "    </tr>\n",
       "    <tr>\n",
       "      <th>1</th>\n",
       "      <td>TCGA-G9-6332-01</td>\n",
       "      <td>30</td>\n",
       "      <td>0.065655</td>\n",
       "    </tr>\n",
       "    <tr>\n",
       "      <th>2</th>\n",
       "      <td>TCGA-G9-6336-01</td>\n",
       "      <td>20</td>\n",
       "      <td>0.000110</td>\n",
       "    </tr>\n",
       "    <tr>\n",
       "      <th>3</th>\n",
       "      <td>TCGA-G9-6348-01</td>\n",
       "      <td>45</td>\n",
       "      <td>0.082028</td>\n",
       "    </tr>\n",
       "    <tr>\n",
       "      <th>4</th>\n",
       "      <td>TCGA-G9-6356-01</td>\n",
       "      <td>35</td>\n",
       "      <td>0.002082</td>\n",
       "    </tr>\n",
       "  </tbody>\n",
       "</table>\n",
       "</div>"
      ],
      "text/plain": [
       "         Sample ID  Mutation Count       CNA\n",
       "0  TCGA-CH-5767-01              44  0.083612\n",
       "1  TCGA-G9-6332-01              30  0.065655\n",
       "2  TCGA-G9-6336-01              20  0.000110\n",
       "3  TCGA-G9-6348-01              45  0.082028\n",
       "4  TCGA-G9-6356-01              35  0.002082"
      ]
     },
     "execution_count": 46,
     "metadata": {},
     "output_type": "execute_result"
    }
   ],
   "source": [
    "df5 = load_mutation('data/prostate/cna_mutation.txt')\n",
    "df5.head()"
   ]
  },
  {
   "cell_type": "code",
   "execution_count": 48,
   "metadata": {},
   "outputs": [
    {
     "data": {
      "text/html": [
       "<div>\n",
       "<style>\n",
       "    .dataframe thead tr:only-child th {\n",
       "        text-align: right;\n",
       "    }\n",
       "\n",
       "    .dataframe thead th {\n",
       "        text-align: left;\n",
       "    }\n",
       "\n",
       "    .dataframe tbody tr th {\n",
       "        vertical-align: top;\n",
       "    }\n",
       "</style>\n",
       "<table border=\"1\" class=\"dataframe\">\n",
       "  <thead>\n",
       "    <tr style=\"text-align: right;\">\n",
       "      <th></th>\n",
       "      <th>ces</th>\n",
       "      <th>MLH1_expr</th>\n",
       "      <th>MLH3_expr</th>\n",
       "      <th>MSH2_expr</th>\n",
       "      <th>MSH3_expr</th>\n",
       "      <th>MSH6_expr</th>\n",
       "      <th>PCNA_expr</th>\n",
       "      <th>PMS2_expr</th>\n",
       "      <th>RFC1_expr</th>\n",
       "      <th>MLH1_mut</th>\n",
       "      <th>MLH3_mut</th>\n",
       "      <th>MSH2_mut</th>\n",
       "      <th>MSH3_mut</th>\n",
       "      <th>MSH6_mut</th>\n",
       "      <th>PCNA_mut</th>\n",
       "      <th>PMS2_mut</th>\n",
       "      <th>RFC1_mut</th>\n",
       "      <th>Sample ID</th>\n",
       "      <th>Mutation Count</th>\n",
       "      <th>CNA</th>\n",
       "    </tr>\n",
       "  </thead>\n",
       "  <tbody>\n",
       "    <tr>\n",
       "      <th>TCGA-2A-A8VL-01</th>\n",
       "      <td>-8.1267</td>\n",
       "      <td>0.1317</td>\n",
       "      <td>-0.4904</td>\n",
       "      <td>-0.9745</td>\n",
       "      <td>-1.2503</td>\n",
       "      <td>-1.1539</td>\n",
       "      <td>-0.5898</td>\n",
       "      <td>-0.7304</td>\n",
       "      <td>-0.677</td>\n",
       "      <td>NaN</td>\n",
       "      <td>NaN</td>\n",
       "      <td>NaN</td>\n",
       "      <td>NaN</td>\n",
       "      <td>NaN</td>\n",
       "      <td>NaN</td>\n",
       "      <td>NaN</td>\n",
       "      <td>NaN</td>\n",
       "      <td>NaN</td>\n",
       "      <td>NaN</td>\n",
       "      <td>NaN</td>\n",
       "    </tr>\n",
       "    <tr>\n",
       "      <th>TCGA-2A-A8VO-01</th>\n",
       "      <td>-5.1121</td>\n",
       "      <td>-0.5324</td>\n",
       "      <td>-0.1786</td>\n",
       "      <td>-0.8702</td>\n",
       "      <td>-0.3605</td>\n",
       "      <td>-1.3979</td>\n",
       "      <td>-0.6563</td>\n",
       "      <td>-0.5128</td>\n",
       "      <td>-0.4589</td>\n",
       "      <td>NaN</td>\n",
       "      <td>NaN</td>\n",
       "      <td>NaN</td>\n",
       "      <td>NaN</td>\n",
       "      <td>NaN</td>\n",
       "      <td>NaN</td>\n",
       "      <td>NaN</td>\n",
       "      <td>NaN</td>\n",
       "      <td>NaN</td>\n",
       "      <td>NaN</td>\n",
       "      <td>NaN</td>\n",
       "    </tr>\n",
       "    <tr>\n",
       "      <th>TCGA-2A-A8VT-01</th>\n",
       "      <td>-2.9796</td>\n",
       "      <td>0.5787</td>\n",
       "      <td>1.1407</td>\n",
       "      <td>1.3846</td>\n",
       "      <td>1.0856</td>\n",
       "      <td>0.1158</td>\n",
       "      <td>-0.3714</td>\n",
       "      <td>3.0219</td>\n",
       "      <td>-0.0021</td>\n",
       "      <td>NaN</td>\n",
       "      <td>NaN</td>\n",
       "      <td>NaN</td>\n",
       "      <td>NaN</td>\n",
       "      <td>NaN</td>\n",
       "      <td>NaN</td>\n",
       "      <td>NaN</td>\n",
       "      <td>NaN</td>\n",
       "      <td>NaN</td>\n",
       "      <td>NaN</td>\n",
       "      <td>NaN</td>\n",
       "    </tr>\n",
       "    <tr>\n",
       "      <th>TCGA-2A-A8VV-01</th>\n",
       "      <td>-2.5221</td>\n",
       "      <td>-0.8304</td>\n",
       "      <td>0.2894</td>\n",
       "      <td>0.3227</td>\n",
       "      <td>0.0703</td>\n",
       "      <td>-0.8954</td>\n",
       "      <td>-0.6155</td>\n",
       "      <td>0.8496</td>\n",
       "      <td>-0.6687</td>\n",
       "      <td>NaN</td>\n",
       "      <td>NaN</td>\n",
       "      <td>NaN</td>\n",
       "      <td>NaN</td>\n",
       "      <td>NaN</td>\n",
       "      <td>NaN</td>\n",
       "      <td>NaN</td>\n",
       "      <td>NaN</td>\n",
       "      <td>NaN</td>\n",
       "      <td>NaN</td>\n",
       "      <td>NaN</td>\n",
       "    </tr>\n",
       "    <tr>\n",
       "      <th>TCGA-2A-A8VX-01</th>\n",
       "      <td>11.0921</td>\n",
       "      <td>-0.8645</td>\n",
       "      <td>0.3305</td>\n",
       "      <td>0.5187</td>\n",
       "      <td>0.1103</td>\n",
       "      <td>-0.6489</td>\n",
       "      <td>0.6253</td>\n",
       "      <td>1.6657</td>\n",
       "      <td>-0.7972</td>\n",
       "      <td>NaN</td>\n",
       "      <td>NaN</td>\n",
       "      <td>NaN</td>\n",
       "      <td>NaN</td>\n",
       "      <td>NaN</td>\n",
       "      <td>NaN</td>\n",
       "      <td>NaN</td>\n",
       "      <td>NaN</td>\n",
       "      <td>NaN</td>\n",
       "      <td>NaN</td>\n",
       "      <td>NaN</td>\n",
       "    </tr>\n",
       "  </tbody>\n",
       "</table>\n",
       "</div>"
      ],
      "text/plain": [
       "                     ces MLH1_expr MLH3_expr MSH2_expr MSH3_expr MSH6_expr  \\\n",
       "TCGA-2A-A8VL-01  -8.1267    0.1317   -0.4904   -0.9745   -1.2503   -1.1539   \n",
       "TCGA-2A-A8VO-01  -5.1121   -0.5324   -0.1786   -0.8702   -0.3605   -1.3979   \n",
       "TCGA-2A-A8VT-01  -2.9796    0.5787    1.1407    1.3846    1.0856    0.1158   \n",
       "TCGA-2A-A8VV-01  -2.5221   -0.8304    0.2894    0.3227    0.0703   -0.8954   \n",
       "TCGA-2A-A8VX-01  11.0921   -0.8645    0.3305    0.5187    0.1103   -0.6489   \n",
       "\n",
       "                PCNA_expr PMS2_expr RFC1_expr MLH1_mut MLH3_mut MSH2_mut  \\\n",
       "TCGA-2A-A8VL-01   -0.5898   -0.7304    -0.677      NaN      NaN      NaN   \n",
       "TCGA-2A-A8VO-01   -0.6563   -0.5128   -0.4589      NaN      NaN      NaN   \n",
       "TCGA-2A-A8VT-01   -0.3714    3.0219   -0.0021      NaN      NaN      NaN   \n",
       "TCGA-2A-A8VV-01   -0.6155    0.8496   -0.6687      NaN      NaN      NaN   \n",
       "TCGA-2A-A8VX-01    0.6253    1.6657   -0.7972      NaN      NaN      NaN   \n",
       "\n",
       "                MSH3_mut MSH6_mut PCNA_mut PMS2_mut RFC1_mut Sample ID  \\\n",
       "TCGA-2A-A8VL-01      NaN      NaN      NaN      NaN      NaN       NaN   \n",
       "TCGA-2A-A8VO-01      NaN      NaN      NaN      NaN      NaN       NaN   \n",
       "TCGA-2A-A8VT-01      NaN      NaN      NaN      NaN      NaN       NaN   \n",
       "TCGA-2A-A8VV-01      NaN      NaN      NaN      NaN      NaN       NaN   \n",
       "TCGA-2A-A8VX-01      NaN      NaN      NaN      NaN      NaN       NaN   \n",
       "\n",
       "                 Mutation Count  CNA  \n",
       "TCGA-2A-A8VL-01             NaN  NaN  \n",
       "TCGA-2A-A8VO-01             NaN  NaN  \n",
       "TCGA-2A-A8VT-01             NaN  NaN  \n",
       "TCGA-2A-A8VV-01             NaN  NaN  \n",
       "TCGA-2A-A8VX-01             NaN  NaN  "
      ]
     },
     "execution_count": 48,
     "metadata": {},
     "output_type": "execute_result"
    }
   ],
   "source": [
    "df = df2.merge(df3, right_index=True, left_index=True, how='outer')\n",
    "df = df.merge(df4, left_index=True, right_index=True, how='outer')\n",
    "df = df.merge(df5, left_index=True, right_index=True, how='outer')\n",
    "# df = df.merge(df4, left_on='Sample ID', right_index=True)\n",
    "df.head()"
   ]
  },
  {
   "cell_type": "code",
   "execution_count": 57,
   "metadata": {},
   "outputs": [
    {
     "data": {
      "image/png": "[encoded data removed]",
      "text/plain": [
       "<matplotlib.figure.Figure at 0x7f8666643710>"
      ]
     },
     "metadata": {},
     "output_type": "display_data"
    }
   ],
   "source": [
    "plt.scatter(df['ces'],df['Mutation Count'])\n",
    "plt.xlabel('CES')\n",
    "plt.ylabel('Mutation Count')\n",
    "plt.show()"
   ]
  },
  {
   "cell_type": "markdown",
   "metadata": {},
   "source": [
    "# MSI status in function of gene expression"
   ]
  },
  {
   "cell_type": "markdown",
   "metadata": {},
   "source": [
    "If the tumor is is in the lower 10% for one gene expression, it is labelled as MSI."
   ]
  },
  {
   "cell_type": "code",
   "execution_count": 49,
   "metadata": {},
   "outputs": [
    {
     "data": {
      "text/html": [
       "<div>\n",
       "<style>\n",
       "    .dataframe thead tr:only-child th {\n",
       "        text-align: right;\n",
       "    }\n",
       "\n",
       "    .dataframe thead th {\n",
       "        text-align: left;\n",
       "    }\n",
       "\n",
       "    .dataframe tbody tr th {\n",
       "        vertical-align: top;\n",
       "    }\n",
       "</style>\n",
       "<table border=\"1\" class=\"dataframe\">\n",
       "  <thead>\n",
       "    <tr style=\"text-align: right;\">\n",
       "      <th></th>\n",
       "      <th>ces</th>\n",
       "      <th>MLH1_expr</th>\n",
       "      <th>MLH3_expr</th>\n",
       "      <th>MSH2_expr</th>\n",
       "      <th>MSH3_expr</th>\n",
       "      <th>MSH6_expr</th>\n",
       "      <th>PCNA_expr</th>\n",
       "      <th>PMS2_expr</th>\n",
       "      <th>RFC1_expr</th>\n",
       "      <th>MLH1_mut</th>\n",
       "      <th>...</th>\n",
       "      <th>MSH3_mut</th>\n",
       "      <th>MSH6_mut</th>\n",
       "      <th>PCNA_mut</th>\n",
       "      <th>PMS2_mut</th>\n",
       "      <th>RFC1_mut</th>\n",
       "      <th>Sample ID</th>\n",
       "      <th>Mutation Count</th>\n",
       "      <th>CNA</th>\n",
       "      <th>msi_status</th>\n",
       "      <th>msi_deficiency</th>\n",
       "    </tr>\n",
       "  </thead>\n",
       "  <tbody>\n",
       "    <tr>\n",
       "      <th>TCGA-2A-A8VL-01</th>\n",
       "      <td>-8.1267</td>\n",
       "      <td>0.1317</td>\n",
       "      <td>-0.4904</td>\n",
       "      <td>-0.9745</td>\n",
       "      <td>-1.2503</td>\n",
       "      <td>-1.1539</td>\n",
       "      <td>-0.5898</td>\n",
       "      <td>-0.7304</td>\n",
       "      <td>-0.677</td>\n",
       "      <td>NaN</td>\n",
       "      <td>...</td>\n",
       "      <td>NaN</td>\n",
       "      <td>NaN</td>\n",
       "      <td>NaN</td>\n",
       "      <td>NaN</td>\n",
       "      <td>NaN</td>\n",
       "      <td>NaN</td>\n",
       "      <td>NaN</td>\n",
       "      <td>NaN</td>\n",
       "      <td>0.0</td>\n",
       "      <td>[]</td>\n",
       "    </tr>\n",
       "    <tr>\n",
       "      <th>TCGA-2A-A8VO-01</th>\n",
       "      <td>-5.1121</td>\n",
       "      <td>-0.5324</td>\n",
       "      <td>-0.1786</td>\n",
       "      <td>-0.8702</td>\n",
       "      <td>-0.3605</td>\n",
       "      <td>-1.3979</td>\n",
       "      <td>-0.6563</td>\n",
       "      <td>-0.5128</td>\n",
       "      <td>-0.4589</td>\n",
       "      <td>NaN</td>\n",
       "      <td>...</td>\n",
       "      <td>NaN</td>\n",
       "      <td>NaN</td>\n",
       "      <td>NaN</td>\n",
       "      <td>NaN</td>\n",
       "      <td>NaN</td>\n",
       "      <td>NaN</td>\n",
       "      <td>NaN</td>\n",
       "      <td>NaN</td>\n",
       "      <td>0.0</td>\n",
       "      <td>[]</td>\n",
       "    </tr>\n",
       "    <tr>\n",
       "      <th>TCGA-2A-A8VT-01</th>\n",
       "      <td>-2.9796</td>\n",
       "      <td>0.5787</td>\n",
       "      <td>1.1407</td>\n",
       "      <td>1.3846</td>\n",
       "      <td>1.0856</td>\n",
       "      <td>0.1158</td>\n",
       "      <td>-0.3714</td>\n",
       "      <td>3.0219</td>\n",
       "      <td>-0.0021</td>\n",
       "      <td>NaN</td>\n",
       "      <td>...</td>\n",
       "      <td>NaN</td>\n",
       "      <td>NaN</td>\n",
       "      <td>NaN</td>\n",
       "      <td>NaN</td>\n",
       "      <td>NaN</td>\n",
       "      <td>NaN</td>\n",
       "      <td>NaN</td>\n",
       "      <td>NaN</td>\n",
       "      <td>0.0</td>\n",
       "      <td>[]</td>\n",
       "    </tr>\n",
       "    <tr>\n",
       "      <th>TCGA-2A-A8VV-01</th>\n",
       "      <td>-2.5221</td>\n",
       "      <td>-0.8304</td>\n",
       "      <td>0.2894</td>\n",
       "      <td>0.3227</td>\n",
       "      <td>0.0703</td>\n",
       "      <td>-0.8954</td>\n",
       "      <td>-0.6155</td>\n",
       "      <td>0.8496</td>\n",
       "      <td>-0.6687</td>\n",
       "      <td>NaN</td>\n",
       "      <td>...</td>\n",
       "      <td>NaN</td>\n",
       "      <td>NaN</td>\n",
       "      <td>NaN</td>\n",
       "      <td>NaN</td>\n",
       "      <td>NaN</td>\n",
       "      <td>NaN</td>\n",
       "      <td>NaN</td>\n",
       "      <td>NaN</td>\n",
       "      <td>0.0</td>\n",
       "      <td>[]</td>\n",
       "    </tr>\n",
       "    <tr>\n",
       "      <th>TCGA-2A-A8VX-01</th>\n",
       "      <td>11.0921</td>\n",
       "      <td>-0.8645</td>\n",
       "      <td>0.3305</td>\n",
       "      <td>0.5187</td>\n",
       "      <td>0.1103</td>\n",
       "      <td>-0.6489</td>\n",
       "      <td>0.6253</td>\n",
       "      <td>1.6657</td>\n",
       "      <td>-0.7972</td>\n",
       "      <td>NaN</td>\n",
       "      <td>...</td>\n",
       "      <td>NaN</td>\n",
       "      <td>NaN</td>\n",
       "      <td>NaN</td>\n",
       "      <td>NaN</td>\n",
       "      <td>NaN</td>\n",
       "      <td>NaN</td>\n",
       "      <td>NaN</td>\n",
       "      <td>NaN</td>\n",
       "      <td>0.0</td>\n",
       "      <td>[]</td>\n",
       "    </tr>\n",
       "  </tbody>\n",
       "</table>\n",
       "<p>5 rows × 22 columns</p>\n",
       "</div>"
      ],
      "text/plain": [
       "                     ces MLH1_expr MLH3_expr MSH2_expr MSH3_expr MSH6_expr  \\\n",
       "TCGA-2A-A8VL-01  -8.1267    0.1317   -0.4904   -0.9745   -1.2503   -1.1539   \n",
       "TCGA-2A-A8VO-01  -5.1121   -0.5324   -0.1786   -0.8702   -0.3605   -1.3979   \n",
       "TCGA-2A-A8VT-01  -2.9796    0.5787    1.1407    1.3846    1.0856    0.1158   \n",
       "TCGA-2A-A8VV-01  -2.5221   -0.8304    0.2894    0.3227    0.0703   -0.8954   \n",
       "TCGA-2A-A8VX-01  11.0921   -0.8645    0.3305    0.5187    0.1103   -0.6489   \n",
       "\n",
       "                PCNA_expr PMS2_expr RFC1_expr MLH1_mut       ...        \\\n",
       "TCGA-2A-A8VL-01   -0.5898   -0.7304    -0.677      NaN       ...         \n",
       "TCGA-2A-A8VO-01   -0.6563   -0.5128   -0.4589      NaN       ...         \n",
       "TCGA-2A-A8VT-01   -0.3714    3.0219   -0.0021      NaN       ...         \n",
       "TCGA-2A-A8VV-01   -0.6155    0.8496   -0.6687      NaN       ...         \n",
       "TCGA-2A-A8VX-01    0.6253    1.6657   -0.7972      NaN       ...         \n",
       "\n",
       "                MSH3_mut MSH6_mut PCNA_mut PMS2_mut RFC1_mut Sample ID  \\\n",
       "TCGA-2A-A8VL-01      NaN      NaN      NaN      NaN      NaN       NaN   \n",
       "TCGA-2A-A8VO-01      NaN      NaN      NaN      NaN      NaN       NaN   \n",
       "TCGA-2A-A8VT-01      NaN      NaN      NaN      NaN      NaN       NaN   \n",
       "TCGA-2A-A8VV-01      NaN      NaN      NaN      NaN      NaN       NaN   \n",
       "TCGA-2A-A8VX-01      NaN      NaN      NaN      NaN      NaN       NaN   \n",
       "\n",
       "                Mutation Count CNA  msi_status  msi_deficiency  \n",
       "TCGA-2A-A8VL-01            NaN NaN         0.0              []  \n",
       "TCGA-2A-A8VO-01            NaN NaN         0.0              []  \n",
       "TCGA-2A-A8VT-01            NaN NaN         0.0              []  \n",
       "TCGA-2A-A8VV-01            NaN NaN         0.0              []  \n",
       "TCGA-2A-A8VX-01            NaN NaN         0.0              []  \n",
       "\n",
       "[5 rows x 22 columns]"
      ]
     },
     "execution_count": 49,
     "metadata": {},
     "output_type": "execute_result"
    }
   ],
   "source": [
    "df['msi_status'] = np.zeros(len(df))\n",
    "df['msi_deficiency'] = [list() for x in range(len(df.index))]\n",
    "for g in genes:\n",
    "    limit = df[g+'_expr'].quantile(0.05)\n",
    "    limit2 = df[g+'_expr'].quantile(0.1)\n",
    "    for ix in df[df[g+'_expr']<limit]['msi_status'].index:\n",
    "        df = df.set_value(ix,'msi_status',1)\n",
    "        df = df.set_value(ix,'msi_deficiency',df['msi_deficiency'][ix]+[g])\n",
    "        \n",
    "    for ix in df[df[g+'_expr']<limit2]['msi_status'].index:\n",
    "        try:\n",
    "            status = float(df[ix:ix+1]['msi_status'])\n",
    "        except:\n",
    "            status = -1\n",
    "        \n",
    "        if status == 0.:\n",
    "            df = df.set_value(ix,'msi_status',0.5)\n",
    "        elif status == 0.5:\n",
    "            df = df.set_value(ix,'msi_status',0.1)\n",
    "\n",
    "df.head()"
   ]
  },
  {
   "cell_type": "markdown",
   "metadata": {},
   "source": [
    "# MSI status in function of mutation"
   ]
  },
  {
   "cell_type": "markdown",
   "metadata": {},
   "source": [
    "If one the the gene in the pathway is mutated, the tumor is classified as MSI."
   ]
  },
  {
   "cell_type": "code",
   "execution_count": 50,
   "metadata": {},
   "outputs": [],
   "source": [
    "for g in genes:\n",
    "    no_mutations = pd.isnull(df[g+'_mut'])\n",
    "    for ix in no_mutations[no_mutations==False].index:\n",
    "        df = df.set_value(ix,'msi_status',1)"
   ]
  },
  {
   "cell_type": "code",
   "execution_count": 51,
   "metadata": {},
   "outputs": [
    {
     "name": "stdout",
     "output_type": "stream",
     "text": [
      "14.2% of tumors are presumed MSI tumors\n",
      "Usually 15% of colorectal cancers are MMR deficient.\n",
      "0.0% of presumed MSI tumors have more than 400 mutations\n",
      "0.0% of tumors with more than 400 mutations are presumably MSI.\n",
      "0.0% of tumors are MSI because they have 2 underexpressed genes.\n"
     ]
    }
   ],
   "source": [
    "msi = df[df['msi_status']>=0.9]\n",
    "print(str(len(msi)/float(len(df))*100) + '% of tumors are presumed MSI tumors')\n",
    "print('Usually 15% of colorectal cancers are MMR deficient.')\n",
    "print(str(float(np.sum(msi['Mutation Count']>400))/float(len(msi))*100) + '% of presumed MSI tumors have more than 400 mutations')\n",
    "print(str(float(np.sum(msi['Mutation Count']>400))*100./len(df[df['Mutation Count']>400]))+'% of tumors with more than 400 mutations are presumably MSI.')\n",
    "print(str(float(np.sum(df['msi_status']==0.99))*100./len(msi))+'% of tumors are MSI because they have 2 underexpressed genes.')"
   ]
  },
  {
   "cell_type": "markdown",
   "metadata": {},
   "source": [
    "# CES, Mutations and MRR status"
   ]
  },
  {
   "cell_type": "code",
   "execution_count": 52,
   "metadata": {},
   "outputs": [
    {
     "data": {
      "image/png": "[encoded data removed]",
      "text/plain": [
       "<matplotlib.figure.Figure at 0x7f8666528f60>"
      ]
     },
     "metadata": {},
     "output_type": "display_data"
    }
   ],
   "source": [
    "plt.scatter(df['ces'],df['Mutation Count'],c=df['msi_status'],cmap=plt.cm.Set1,marker='o')\n",
    "plt.xlabel('CES')\n",
    "plt.ylabel('Mutation Count')\n",
    "plt.show()"
   ]
  },
  {
   "cell_type": "code",
   "execution_count": 53,
   "metadata": {},
   "outputs": [
    {
     "data": {
      "image/png": "[encoded data removed]",
      "text/plain": [
       "<matplotlib.figure.Figure at 0x7f8666478b00>"
      ]
     },
     "metadata": {},
     "output_type": "display_data"
    }
   ],
   "source": [
    "plt.scatter(df['ces'],df['Mutation Count'],c=df['msi_status'],cmap=plt.cm.Set1,marker='o')\n",
    "plt.xlabel('CES')\n",
    "plt.ylim(0,400)\n",
    "plt.ylabel('Mutation Count')\n",
    "plt.show()"
   ]
  },
  {
   "cell_type": "code",
   "execution_count": 40,
   "metadata": {
    "scrolled": false
   },
   "outputs": [
    {
     "name": "stdout",
     "output_type": "stream",
     "text": [
      "Spearman Correlation P-value between CES and mutation for:\n",
      "MSS tumors\n"
     ]
    },
    {
     "name": "stderr",
     "output_type": "stream",
     "text": [
      "/usr/local/lib/python3.5/dist-packages/scipy/stats/stats.py:253: RuntimeWarning: The input array could not be properly checked for nan values. nan values will be ignored.\n",
      "  \"values. nan values will be ignored.\", RuntimeWarning)\n"
     ]
    },
    {
     "ename": "TypeError",
     "evalue": "unorderable types: NoneType() > float()",
     "output_type": "error",
     "traceback": [
      "\u001b[0;31m---------------------------------------------------------------------------\u001b[0m",
      "\u001b[0;31mTypeError\u001b[0m                                 Traceback (most recent call last)",
      "\u001b[0;32m/usr/local/lib/python3.5/dist-packages/numpy/core/fromnumeric.py\u001b[0m in \u001b[0;36m_wrapfunc\u001b[0;34m(obj, method, *args, **kwds)\u001b[0m\n\u001b[1;32m     56\u001b[0m     \u001b[0;32mtry\u001b[0m\u001b[0;34m:\u001b[0m\u001b[0;34m\u001b[0m\u001b[0m\n\u001b[0;32m---> 57\u001b[0;31m         \u001b[0;32mreturn\u001b[0m \u001b[0mgetattr\u001b[0m\u001b[0;34m(\u001b[0m\u001b[0mobj\u001b[0m\u001b[0;34m,\u001b[0m \u001b[0mmethod\u001b[0m\u001b[0;34m)\u001b[0m\u001b[0;34m(\u001b[0m\u001b[0;34m*\u001b[0m\u001b[0margs\u001b[0m\u001b[0;34m,\u001b[0m \u001b[0;34m**\u001b[0m\u001b[0mkwds\u001b[0m\u001b[0;34m)\u001b[0m\u001b[0;34m\u001b[0m\u001b[0m\n\u001b[0m\u001b[1;32m     58\u001b[0m \u001b[0;34m\u001b[0m\u001b[0m\n",
      "\u001b[0;31mTypeError\u001b[0m: unorderable types: NoneType() > float()",
      "\nDuring handling of the above exception, another exception occurred:\n",
      "\u001b[0;31mTypeError\u001b[0m                                 Traceback (most recent call last)",
      "\u001b[0;32m<ipython-input-40-0beda449b98f>\u001b[0m in \u001b[0;36m<module>\u001b[0;34m()\u001b[0m\n\u001b[1;32m      1\u001b[0m \u001b[0mprint\u001b[0m\u001b[0;34m(\u001b[0m\u001b[0;34m'Spearman Correlation P-value between CES and mutation for:'\u001b[0m\u001b[0;34m)\u001b[0m\u001b[0;34m\u001b[0m\u001b[0m\n\u001b[1;32m      2\u001b[0m \u001b[0mprint\u001b[0m\u001b[0;34m(\u001b[0m\u001b[0;34m'MSS tumors'\u001b[0m\u001b[0;34m)\u001b[0m\u001b[0;34m\u001b[0m\u001b[0m\n\u001b[0;32m----> 3\u001b[0;31m \u001b[0mprint\u001b[0m\u001b[0;34m(\u001b[0m\u001b[0mscipy\u001b[0m\u001b[0;34m.\u001b[0m\u001b[0mstats\u001b[0m\u001b[0;34m.\u001b[0m\u001b[0mspearmanr\u001b[0m\u001b[0;34m(\u001b[0m\u001b[0mdf\u001b[0m\u001b[0;34m[\u001b[0m\u001b[0mdf\u001b[0m\u001b[0;34m[\u001b[0m\u001b[0;34m'msi_status'\u001b[0m\u001b[0;34m]\u001b[0m\u001b[0;34m==\u001b[0m\u001b[0;36m0\u001b[0m\u001b[0;34m]\u001b[0m\u001b[0;34m[\u001b[0m\u001b[0;34m'ces'\u001b[0m\u001b[0;34m]\u001b[0m\u001b[0;34m,\u001b[0m \u001b[0mdf\u001b[0m\u001b[0;34m[\u001b[0m\u001b[0mdf\u001b[0m\u001b[0;34m[\u001b[0m\u001b[0;34m'msi_status'\u001b[0m\u001b[0;34m]\u001b[0m\u001b[0;34m==\u001b[0m\u001b[0;36m0\u001b[0m\u001b[0;34m]\u001b[0m\u001b[0;34m[\u001b[0m\u001b[0;34m'Mutation Count'\u001b[0m\u001b[0;34m]\u001b[0m\u001b[0;34m)\u001b[0m\u001b[0;34m.\u001b[0m\u001b[0mpvalue\u001b[0m\u001b[0;34m)\u001b[0m\u001b[0;34m\u001b[0m\u001b[0m\n\u001b[0m\u001b[1;32m      4\u001b[0m \u001b[0mprint\u001b[0m\u001b[0;34m(\u001b[0m\u001b[0;34m'MSI tumors'\u001b[0m\u001b[0;34m)\u001b[0m\u001b[0;34m\u001b[0m\u001b[0m\n\u001b[1;32m      5\u001b[0m \u001b[0mprint\u001b[0m\u001b[0;34m(\u001b[0m\u001b[0mscipy\u001b[0m\u001b[0;34m.\u001b[0m\u001b[0mstats\u001b[0m\u001b[0;34m.\u001b[0m\u001b[0mspearmanr\u001b[0m\u001b[0;34m(\u001b[0m\u001b[0mdf\u001b[0m\u001b[0;34m[\u001b[0m\u001b[0mdf\u001b[0m\u001b[0;34m[\u001b[0m\u001b[0;34m'msi_status'\u001b[0m\u001b[0;34m]\u001b[0m\u001b[0;34m==\u001b[0m\u001b[0;36m1\u001b[0m\u001b[0;34m]\u001b[0m\u001b[0;34m[\u001b[0m\u001b[0;34m'ces'\u001b[0m\u001b[0;34m]\u001b[0m\u001b[0;34m,\u001b[0m \u001b[0mdf\u001b[0m\u001b[0;34m[\u001b[0m\u001b[0mdf\u001b[0m\u001b[0;34m[\u001b[0m\u001b[0;34m'msi_status'\u001b[0m\u001b[0;34m]\u001b[0m\u001b[0;34m==\u001b[0m\u001b[0;36m1\u001b[0m\u001b[0;34m]\u001b[0m\u001b[0;34m[\u001b[0m\u001b[0;34m'Mutation Count'\u001b[0m\u001b[0;34m]\u001b[0m\u001b[0;34m)\u001b[0m\u001b[0;34m.\u001b[0m\u001b[0mpvalue\u001b[0m\u001b[0;34m)\u001b[0m\u001b[0;34m\u001b[0m\u001b[0m\n",
      "\u001b[0;32m/usr/local/lib/python3.5/dist-packages/scipy/stats/stats.py\u001b[0m in \u001b[0;36mspearmanr\u001b[0;34m(a, b, axis, nan_policy)\u001b[0m\n\u001b[1;32m   3305\u001b[0m         \u001b[0;32mreturn\u001b[0m \u001b[0mSpearmanrResult\u001b[0m\u001b[0;34m(\u001b[0m\u001b[0mnp\u001b[0m\u001b[0;34m.\u001b[0m\u001b[0mnan\u001b[0m\u001b[0;34m,\u001b[0m \u001b[0mnp\u001b[0m\u001b[0;34m.\u001b[0m\u001b[0mnan\u001b[0m\u001b[0;34m)\u001b[0m\u001b[0;34m\u001b[0m\u001b[0m\n\u001b[1;32m   3306\u001b[0m \u001b[0;34m\u001b[0m\u001b[0m\n\u001b[0;32m-> 3307\u001b[0;31m     \u001b[0mar\u001b[0m \u001b[0;34m=\u001b[0m \u001b[0mnp\u001b[0m\u001b[0;34m.\u001b[0m\u001b[0mapply_along_axis\u001b[0m\u001b[0;34m(\u001b[0m\u001b[0mrankdata\u001b[0m\u001b[0;34m,\u001b[0m \u001b[0maxisout\u001b[0m\u001b[0;34m,\u001b[0m \u001b[0ma\u001b[0m\u001b[0;34m)\u001b[0m\u001b[0;34m\u001b[0m\u001b[0m\n\u001b[0m\u001b[1;32m   3308\u001b[0m \u001b[0;34m\u001b[0m\u001b[0m\n\u001b[1;32m   3309\u001b[0m     \u001b[0mbr\u001b[0m \u001b[0;34m=\u001b[0m \u001b[0;32mNone\u001b[0m\u001b[0;34m\u001b[0m\u001b[0m\n",
      "\u001b[0;32m/usr/local/lib/python3.5/dist-packages/numpy/lib/shape_base.py\u001b[0m in \u001b[0;36mapply_along_axis\u001b[0;34m(func1d, axis, arr, *args, **kwargs)\u001b[0m\n\u001b[1;32m    114\u001b[0m     \u001b[0;32mexcept\u001b[0m \u001b[0mStopIteration\u001b[0m\u001b[0;34m:\u001b[0m\u001b[0;34m\u001b[0m\u001b[0m\n\u001b[1;32m    115\u001b[0m         \u001b[0;32mraise\u001b[0m \u001b[0mValueError\u001b[0m\u001b[0;34m(\u001b[0m\u001b[0;34m'Cannot apply_along_axis when any iteration dimensions are 0'\u001b[0m\u001b[0;34m)\u001b[0m\u001b[0;34m\u001b[0m\u001b[0m\n\u001b[0;32m--> 116\u001b[0;31m     \u001b[0mres\u001b[0m \u001b[0;34m=\u001b[0m \u001b[0masanyarray\u001b[0m\u001b[0;34m(\u001b[0m\u001b[0mfunc1d\u001b[0m\u001b[0;34m(\u001b[0m\u001b[0minarr_view\u001b[0m\u001b[0;34m[\u001b[0m\u001b[0mind0\u001b[0m\u001b[0;34m]\u001b[0m\u001b[0;34m,\u001b[0m \u001b[0;34m*\u001b[0m\u001b[0margs\u001b[0m\u001b[0;34m,\u001b[0m \u001b[0;34m**\u001b[0m\u001b[0mkwargs\u001b[0m\u001b[0;34m)\u001b[0m\u001b[0;34m)\u001b[0m\u001b[0;34m\u001b[0m\u001b[0m\n\u001b[0m\u001b[1;32m    117\u001b[0m \u001b[0;34m\u001b[0m\u001b[0m\n\u001b[1;32m    118\u001b[0m     \u001b[0;31m# build a buffer for storing evaluations of func1d.\u001b[0m\u001b[0;34m\u001b[0m\u001b[0;34m\u001b[0m\u001b[0m\n",
      "\u001b[0;32m/usr/local/lib/python3.5/dist-packages/scipy/stats/stats.py\u001b[0m in \u001b[0;36mrankdata\u001b[0;34m(a, method)\u001b[0m\n\u001b[1;32m   5561\u001b[0m     \u001b[0marr\u001b[0m \u001b[0;34m=\u001b[0m \u001b[0mnp\u001b[0m\u001b[0;34m.\u001b[0m\u001b[0mravel\u001b[0m\u001b[0;34m(\u001b[0m\u001b[0mnp\u001b[0m\u001b[0;34m.\u001b[0m\u001b[0masarray\u001b[0m\u001b[0;34m(\u001b[0m\u001b[0ma\u001b[0m\u001b[0;34m)\u001b[0m\u001b[0;34m)\u001b[0m\u001b[0;34m\u001b[0m\u001b[0m\n\u001b[1;32m   5562\u001b[0m     \u001b[0malgo\u001b[0m \u001b[0;34m=\u001b[0m \u001b[0;34m'mergesort'\u001b[0m \u001b[0;32mif\u001b[0m \u001b[0mmethod\u001b[0m \u001b[0;34m==\u001b[0m \u001b[0;34m'ordinal'\u001b[0m \u001b[0;32melse\u001b[0m \u001b[0;34m'quicksort'\u001b[0m\u001b[0;34m\u001b[0m\u001b[0m\n\u001b[0;32m-> 5563\u001b[0;31m     \u001b[0msorter\u001b[0m \u001b[0;34m=\u001b[0m \u001b[0mnp\u001b[0m\u001b[0;34m.\u001b[0m\u001b[0margsort\u001b[0m\u001b[0;34m(\u001b[0m\u001b[0marr\u001b[0m\u001b[0;34m,\u001b[0m \u001b[0mkind\u001b[0m\u001b[0;34m=\u001b[0m\u001b[0malgo\u001b[0m\u001b[0;34m)\u001b[0m\u001b[0;34m\u001b[0m\u001b[0m\n\u001b[0m\u001b[1;32m   5564\u001b[0m \u001b[0;34m\u001b[0m\u001b[0m\n\u001b[1;32m   5565\u001b[0m     \u001b[0minv\u001b[0m \u001b[0;34m=\u001b[0m \u001b[0mnp\u001b[0m\u001b[0;34m.\u001b[0m\u001b[0mempty\u001b[0m\u001b[0;34m(\u001b[0m\u001b[0msorter\u001b[0m\u001b[0;34m.\u001b[0m\u001b[0msize\u001b[0m\u001b[0;34m,\u001b[0m \u001b[0mdtype\u001b[0m\u001b[0;34m=\u001b[0m\u001b[0mnp\u001b[0m\u001b[0;34m.\u001b[0m\u001b[0mintp\u001b[0m\u001b[0;34m)\u001b[0m\u001b[0;34m\u001b[0m\u001b[0m\n",
      "\u001b[0;32m/usr/local/lib/python3.5/dist-packages/numpy/core/fromnumeric.py\u001b[0m in \u001b[0;36margsort\u001b[0;34m(a, axis, kind, order)\u001b[0m\n\u001b[1;32m    905\u001b[0m \u001b[0;34m\u001b[0m\u001b[0m\n\u001b[1;32m    906\u001b[0m     \"\"\"\n\u001b[0;32m--> 907\u001b[0;31m     \u001b[0;32mreturn\u001b[0m \u001b[0m_wrapfunc\u001b[0m\u001b[0;34m(\u001b[0m\u001b[0ma\u001b[0m\u001b[0;34m,\u001b[0m \u001b[0;34m'argsort'\u001b[0m\u001b[0;34m,\u001b[0m \u001b[0maxis\u001b[0m\u001b[0;34m=\u001b[0m\u001b[0maxis\u001b[0m\u001b[0;34m,\u001b[0m \u001b[0mkind\u001b[0m\u001b[0;34m=\u001b[0m\u001b[0mkind\u001b[0m\u001b[0;34m,\u001b[0m \u001b[0morder\u001b[0m\u001b[0;34m=\u001b[0m\u001b[0morder\u001b[0m\u001b[0;34m)\u001b[0m\u001b[0;34m\u001b[0m\u001b[0m\n\u001b[0m\u001b[1;32m    908\u001b[0m \u001b[0;34m\u001b[0m\u001b[0m\n\u001b[1;32m    909\u001b[0m \u001b[0;34m\u001b[0m\u001b[0m\n",
      "\u001b[0;32m/usr/local/lib/python3.5/dist-packages/numpy/core/fromnumeric.py\u001b[0m in \u001b[0;36m_wrapfunc\u001b[0;34m(obj, method, *args, **kwds)\u001b[0m\n\u001b[1;32m     65\u001b[0m     \u001b[0;31m# a downstream library like 'pandas'.\u001b[0m\u001b[0;34m\u001b[0m\u001b[0;34m\u001b[0m\u001b[0m\n\u001b[1;32m     66\u001b[0m     \u001b[0;32mexcept\u001b[0m \u001b[0;34m(\u001b[0m\u001b[0mAttributeError\u001b[0m\u001b[0;34m,\u001b[0m \u001b[0mTypeError\u001b[0m\u001b[0;34m)\u001b[0m\u001b[0;34m:\u001b[0m\u001b[0;34m\u001b[0m\u001b[0m\n\u001b[0;32m---> 67\u001b[0;31m         \u001b[0;32mreturn\u001b[0m \u001b[0m_wrapit\u001b[0m\u001b[0;34m(\u001b[0m\u001b[0mobj\u001b[0m\u001b[0;34m,\u001b[0m \u001b[0mmethod\u001b[0m\u001b[0;34m,\u001b[0m \u001b[0;34m*\u001b[0m\u001b[0margs\u001b[0m\u001b[0;34m,\u001b[0m \u001b[0;34m**\u001b[0m\u001b[0mkwds\u001b[0m\u001b[0;34m)\u001b[0m\u001b[0;34m\u001b[0m\u001b[0m\n\u001b[0m\u001b[1;32m     68\u001b[0m \u001b[0;34m\u001b[0m\u001b[0m\n\u001b[1;32m     69\u001b[0m \u001b[0;34m\u001b[0m\u001b[0m\n",
      "\u001b[0;32m/usr/local/lib/python3.5/dist-packages/numpy/core/fromnumeric.py\u001b[0m in \u001b[0;36m_wrapit\u001b[0;34m(obj, method, *args, **kwds)\u001b[0m\n\u001b[1;32m     45\u001b[0m     \u001b[0;32mexcept\u001b[0m \u001b[0mAttributeError\u001b[0m\u001b[0;34m:\u001b[0m\u001b[0;34m\u001b[0m\u001b[0m\n\u001b[1;32m     46\u001b[0m         \u001b[0mwrap\u001b[0m \u001b[0;34m=\u001b[0m \u001b[0;32mNone\u001b[0m\u001b[0;34m\u001b[0m\u001b[0m\n\u001b[0;32m---> 47\u001b[0;31m     \u001b[0mresult\u001b[0m \u001b[0;34m=\u001b[0m \u001b[0mgetattr\u001b[0m\u001b[0;34m(\u001b[0m\u001b[0masarray\u001b[0m\u001b[0;34m(\u001b[0m\u001b[0mobj\u001b[0m\u001b[0;34m)\u001b[0m\u001b[0;34m,\u001b[0m \u001b[0mmethod\u001b[0m\u001b[0;34m)\u001b[0m\u001b[0;34m(\u001b[0m\u001b[0;34m*\u001b[0m\u001b[0margs\u001b[0m\u001b[0;34m,\u001b[0m \u001b[0;34m**\u001b[0m\u001b[0mkwds\u001b[0m\u001b[0;34m)\u001b[0m\u001b[0;34m\u001b[0m\u001b[0m\n\u001b[0m\u001b[1;32m     48\u001b[0m     \u001b[0;32mif\u001b[0m \u001b[0mwrap\u001b[0m\u001b[0;34m:\u001b[0m\u001b[0;34m\u001b[0m\u001b[0m\n\u001b[1;32m     49\u001b[0m         \u001b[0;32mif\u001b[0m \u001b[0;32mnot\u001b[0m \u001b[0misinstance\u001b[0m\u001b[0;34m(\u001b[0m\u001b[0mresult\u001b[0m\u001b[0;34m,\u001b[0m \u001b[0mmu\u001b[0m\u001b[0;34m.\u001b[0m\u001b[0mndarray\u001b[0m\u001b[0;34m)\u001b[0m\u001b[0;34m:\u001b[0m\u001b[0;34m\u001b[0m\u001b[0m\n",
      "\u001b[0;31mTypeError\u001b[0m: unorderable types: NoneType() > float()"
     ]
    }
   ],
   "source": [
    "print('Spearman Correlation P-value between CES and mutation for:')\n",
    "print('MSS tumors')\n",
    "print(scipy.stats.spearmanr(df[df['msi_status']==0]['ces'], df[df['msi_status']==0]['Mutation Count']).pvalue)\n",
    "print('MSI tumors')\n",
    "print(scipy.stats.spearmanr(df[df['msi_status']==1]['ces'], df[df['msi_status']==1]['Mutation Count']).pvalue)\n",
    "print('All tumors')\n",
    "print(scipy.stats.spearmanr(df['ces'], df['Mutation Count']).pvalue)"
   ]
  },
  {
   "cell_type": "code",
   "execution_count": 41,
   "metadata": {},
   "outputs": [
    {
     "data": {
      "image/png": "[encoded data removed]",
      "text/plain": [
       "<matplotlib.figure.Figure at 0x7f86665dc400>"
      ]
     },
     "metadata": {},
     "output_type": "display_data"
    }
   ],
   "source": [
    "plt.scatter(df['ces'],df['CNA'],c=df['msi_status'],cmap=plt.cm.Set1,marker='o')\n",
    "plt.xlabel('CES')\n",
    "plt.ylabel('CNA')\n",
    "plt.show()"
   ]
  },
  {
   "cell_type": "code",
   "execution_count": 26,
   "metadata": {
    "scrolled": false
   },
   "outputs": [
    {
     "name": "stderr",
     "output_type": "stream",
     "text": [
      "/home/ariane/.local/lib/python3.5/site-packages/ipykernel_launcher.py:20: MatplotlibDeprecationWarning: pyplot.hold is deprecated.\n",
      "    Future behavior will be consistent with the long-time default:\n",
      "    plot commands add elements without first clearing the\n",
      "    Axes and/or Figure.\n",
      "/usr/local/lib/python3.5/dist-packages/matplotlib/__init__.py:917: UserWarning: axes.hold is deprecated. Please remove it from your matplotlibrc and/or style files.\n",
      "  warnings.warn(self.msg_depr_set % key)\n",
      "/usr/local/lib/python3.5/dist-packages/matplotlib/rcsetup.py:152: UserWarning: axes.hold is deprecated, will be removed in 3.0\n",
      "  warnings.warn(\"axes.hold is deprecated, will be removed in 3.0\")\n"
     ]
    },
    {
     "data": {
      "image/png": "[encoded data removed]",
      "text/plain": [
       "<matplotlib.figure.Figure at 0x7fc993febe48>"
      ]
     },
     "metadata": {},
     "output_type": "display_data"
    },
    {
     "data": {
      "image/png": "[encoded data removed]",
      "text/plain": [
       "<matplotlib.figure.Figure at 0x7fc993dfdc50>"
      ]
     },
     "metadata": {},
     "output_type": "display_data"
    },
    {
     "data": {
      "image/png": "[encoded data removed]",
      "text/plain": [
       "<matplotlib.figure.Figure at 0x7fc994110588>"
      ]
     },
     "metadata": {},
     "output_type": "display_data"
    },
    {
     "data": {
      "image/png": "[encoded data removed]",
      "text/plain": [
       "<matplotlib.figure.Figure at 0x7fc9940781d0>"
      ]
     },
     "metadata": {},
     "output_type": "display_data"
    },
    {
     "data": {
      "image/png": "[encoded data removed]",
      "text/plain": [
       "<matplotlib.figure.Figure at 0x7fc99408fb38>"
      ]
     },
     "metadata": {},
     "output_type": "display_data"
    },
    {
     "data": {
      "image/png": "[encoded data removed]",
      "text/plain": [
       "<matplotlib.figure.Figure at 0x7fc993cdbe80>"
      ]
     },
     "metadata": {},
     "output_type": "display_data"
    },
    {
     "data": {
      "image/png": "[encoded data removed]",
      "text/plain": [
       "<matplotlib.figure.Figure at 0x7fc993b3f5f8>"
      ]
     },
     "metadata": {},
     "output_type": "display_data"
    },
    {
     "data": {
      "image/png": "[encoded data removed]",
      "text/plain": [
       "<matplotlib.figure.Figure at 0x7fc9941dd9e8>"
      ]
     },
     "metadata": {},
     "output_type": "display_data"
    },
    {
     "data": {
      "image/png": "[encoded data removed]",
      "text/plain": [
       "<matplotlib.figure.Figure at 0x7fc993d30c50>"
      ]
     },
     "metadata": {},
     "output_type": "display_data"
    }
   ],
   "source": [
    "boxplotcomp()\n",
    "for g in genes:\n",
    "    boxplotcomp(g)"
   ]
  },
  {
   "cell_type": "markdown",
   "metadata": {},
   "source": [
    "# Clustering "
   ]
  },
  {
   "cell_type": "code",
   "execution_count": 91,
   "metadata": {},
   "outputs": [
    {
     "data": {
      "text/html": [
       "<div>\n",
       "<style>\n",
       "    .dataframe thead tr:only-child th {\n",
       "        text-align: right;\n",
       "    }\n",
       "\n",
       "    .dataframe thead th {\n",
       "        text-align: left;\n",
       "    }\n",
       "\n",
       "    .dataframe tbody tr th {\n",
       "        vertical-align: top;\n",
       "    }\n",
       "</style>\n",
       "<table border=\"1\" class=\"dataframe\">\n",
       "  <thead>\n",
       "    <tr style=\"text-align: right;\">\n",
       "      <th></th>\n",
       "      <th>Sample ID</th>\n",
       "      <th>Mutation Count</th>\n",
       "      <th>CNA</th>\n",
       "      <th>MLH1_meth</th>\n",
       "      <th>MLH3_meth</th>\n",
       "      <th>MSH2_meth</th>\n",
       "      <th>MSH3_meth</th>\n",
       "      <th>MSH6_meth</th>\n",
       "      <th>PCNA_meth</th>\n",
       "      <th>PMS2_meth</th>\n",
       "      <th>...</th>\n",
       "      <th>msi_status</th>\n",
       "      <th>msi_deficiency</th>\n",
       "      <th>MLH1_m</th>\n",
       "      <th>MLH3_m</th>\n",
       "      <th>MSH2_m</th>\n",
       "      <th>MSH3_m</th>\n",
       "      <th>MSH6_m</th>\n",
       "      <th>PCNA_m</th>\n",
       "      <th>PMS2_m</th>\n",
       "      <th>RFC1_m</th>\n",
       "    </tr>\n",
       "  </thead>\n",
       "  <tbody>\n",
       "    <tr>\n",
       "      <th>0</th>\n",
       "      <td>TCGA-BR-6452-01</td>\n",
       "      <td>6545.0</td>\n",
       "      <td>0.050651</td>\n",
       "      <td>0.48308</td>\n",
       "      <td>0.042466</td>\n",
       "      <td>0.0222332</td>\n",
       "      <td>0.0871269</td>\n",
       "      <td>0.0232892</td>\n",
       "      <td>0.0351302</td>\n",
       "      <td>0.0213428</td>\n",
       "      <td>...</td>\n",
       "      <td>1.0</td>\n",
       "      <td>[]</td>\n",
       "      <td>0.0</td>\n",
       "      <td>1.0</td>\n",
       "      <td>0.0</td>\n",
       "      <td>0.0</td>\n",
       "      <td>0.0</td>\n",
       "      <td>0.0</td>\n",
       "      <td>0.0</td>\n",
       "      <td>1.0</td>\n",
       "    </tr>\n",
       "    <tr>\n",
       "      <th>1</th>\n",
       "      <td>TCGA-BR-6453-01</td>\n",
       "      <td>165.0</td>\n",
       "      <td>0.049998</td>\n",
       "      <td>0.0218543</td>\n",
       "      <td>0.0565447</td>\n",
       "      <td>0.0195032</td>\n",
       "      <td>0.0833771</td>\n",
       "      <td>0.0199644</td>\n",
       "      <td>0.0489193</td>\n",
       "      <td>0.0275883</td>\n",
       "      <td>...</td>\n",
       "      <td>0.5</td>\n",
       "      <td>[]</td>\n",
       "      <td>0.0</td>\n",
       "      <td>0.0</td>\n",
       "      <td>0.0</td>\n",
       "      <td>0.0</td>\n",
       "      <td>0.0</td>\n",
       "      <td>0.0</td>\n",
       "      <td>0.0</td>\n",
       "      <td>0.0</td>\n",
       "    </tr>\n",
       "    <tr>\n",
       "      <th>2</th>\n",
       "      <td>TCGA-BR-6454-01</td>\n",
       "      <td>123.0</td>\n",
       "      <td>0.181488</td>\n",
       "      <td>0.019822</td>\n",
       "      <td>0.0490996</td>\n",
       "      <td>0.0166467</td>\n",
       "      <td>0.0768036</td>\n",
       "      <td>0.0211339</td>\n",
       "      <td>0.0418918</td>\n",
       "      <td>0.0199929</td>\n",
       "      <td>...</td>\n",
       "      <td>0.5</td>\n",
       "      <td>[]</td>\n",
       "      <td>0.0</td>\n",
       "      <td>0.0</td>\n",
       "      <td>0.0</td>\n",
       "      <td>0.0</td>\n",
       "      <td>0.0</td>\n",
       "      <td>0.0</td>\n",
       "      <td>0.0</td>\n",
       "      <td>0.0</td>\n",
       "    </tr>\n",
       "    <tr>\n",
       "      <th>3</th>\n",
       "      <td>TCGA-BR-6455-01</td>\n",
       "      <td>77.0</td>\n",
       "      <td>0.117506</td>\n",
       "      <td>0.0229177</td>\n",
       "      <td>0.0517937</td>\n",
       "      <td>0.0169772</td>\n",
       "      <td>0.0921804</td>\n",
       "      <td>0.0194734</td>\n",
       "      <td>0.0489449</td>\n",
       "      <td>0.0217387</td>\n",
       "      <td>...</td>\n",
       "      <td>0.0</td>\n",
       "      <td>[]</td>\n",
       "      <td>0.0</td>\n",
       "      <td>0.0</td>\n",
       "      <td>0.0</td>\n",
       "      <td>0.0</td>\n",
       "      <td>0.0</td>\n",
       "      <td>0.0</td>\n",
       "      <td>0.0</td>\n",
       "      <td>0.0</td>\n",
       "    </tr>\n",
       "    <tr>\n",
       "      <th>4</th>\n",
       "      <td>TCGA-BR-6456-01</td>\n",
       "      <td>35.0</td>\n",
       "      <td>0.386722</td>\n",
       "      <td>0.0221793</td>\n",
       "      <td>0.0509518</td>\n",
       "      <td>0.0239083</td>\n",
       "      <td>0.0884377</td>\n",
       "      <td>0.0239651</td>\n",
       "      <td>0.041369</td>\n",
       "      <td>0.0157891</td>\n",
       "      <td>...</td>\n",
       "      <td>0.1</td>\n",
       "      <td>[]</td>\n",
       "      <td>0.0</td>\n",
       "      <td>0.0</td>\n",
       "      <td>0.0</td>\n",
       "      <td>0.0</td>\n",
       "      <td>0.0</td>\n",
       "      <td>0.0</td>\n",
       "      <td>0.0</td>\n",
       "      <td>0.0</td>\n",
       "    </tr>\n",
       "  </tbody>\n",
       "</table>\n",
       "<p>5 rows × 38 columns</p>\n",
       "</div>"
      ],
      "text/plain": [
       "         Sample ID  Mutation Count       CNA  MLH1_meth  MLH3_meth  MSH2_meth  \\\n",
       "0  TCGA-BR-6452-01          6545.0  0.050651    0.48308   0.042466  0.0222332   \n",
       "1  TCGA-BR-6453-01           165.0  0.049998  0.0218543  0.0565447  0.0195032   \n",
       "2  TCGA-BR-6454-01           123.0  0.181488   0.019822  0.0490996  0.0166467   \n",
       "3  TCGA-BR-6455-01            77.0  0.117506  0.0229177  0.0517937  0.0169772   \n",
       "4  TCGA-BR-6456-01            35.0  0.386722  0.0221793  0.0509518  0.0239083   \n",
       "\n",
       "   MSH3_meth  MSH6_meth  PCNA_meth  PMS2_meth  ...   msi_status  \\\n",
       "0  0.0871269  0.0232892  0.0351302  0.0213428  ...          1.0   \n",
       "1  0.0833771  0.0199644  0.0489193  0.0275883  ...          0.5   \n",
       "2  0.0768036  0.0211339  0.0418918  0.0199929  ...          0.5   \n",
       "3  0.0921804  0.0194734  0.0489449  0.0217387  ...          0.0   \n",
       "4  0.0884377  0.0239651   0.041369  0.0157891  ...          0.1   \n",
       "\n",
       "  msi_deficiency MLH1_m MLH3_m MSH2_m MSH3_m MSH6_m PCNA_m PMS2_m RFC1_m  \n",
       "0             []    0.0    1.0    0.0    0.0    0.0    0.0    0.0    1.0  \n",
       "1             []    0.0    0.0    0.0    0.0    0.0    0.0    0.0    0.0  \n",
       "2             []    0.0    0.0    0.0    0.0    0.0    0.0    0.0    0.0  \n",
       "3             []    0.0    0.0    0.0    0.0    0.0    0.0    0.0    0.0  \n",
       "4             []    0.0    0.0    0.0    0.0    0.0    0.0    0.0    0.0  \n",
       "\n",
       "[5 rows x 38 columns]"
      ]
     },
     "execution_count": 91,
     "metadata": {},
     "output_type": "execute_result"
    }
   ],
   "source": [
    "for g in genes:\n",
    "    df[g+'_m']=np.zeros(len(df))\n",
    "    for ix,row in df.iterrows():\n",
    "        if type(df.loc[ix,g+'_mut']) is str:\n",
    "            df.loc[ix,g+'_m'] = 1  \n",
    "df.head()"
   ]
  },
  {
   "cell_type": "code",
   "execution_count": 103,
   "metadata": {},
   "outputs": [],
   "source": [
    "import sklearn.cluster as cl\n",
    "li = [s+'_expr' for s in genes] + [s+'_m' for s in genes] + [s+'_meth' for s in genes] + ['msi_status']\n",
    "dataset = df[li].dropna()\n",
    "kmeans = cl.KMeans(n_clusters=2, random_state=0).fit(dataset.drop(['msi_status'],axis=1))\n",
    "dataset['cluster_status'] = kmeans.labels_"
   ]
  },
  {
   "cell_type": "code",
   "execution_count": 107,
   "metadata": {
    "scrolled": true
   },
   "outputs": [],
   "source": [
    "dataset['benchmark'] = np.zeros(len(dataset))\n",
    "for ix,row in dataset.iterrows():\n",
    "    if row['msi_status'] == 0:\n",
    "        if row['cluster_status'] == 0:\n",
    "            dataset.loc[ix,'benchmark'] = 'TN'\n",
    "        elif row['cluster_status'] == 1:\n",
    "            dataset.loc[ix, 'benchmark'] = 'FP'\n",
    "            \n",
    "    elif row['msi_status'] == 1:\n",
    "        if row['cluster_status'] == 0:\n",
    "            dataset.loc[ix,'benchmark'] = 'FN'\n",
    "        elif row['cluster_status'] == 1:\n",
    "            dataset.loc[ix, 'benchmark'] = 'TP'"
   ]
  },
  {
   "cell_type": "code",
   "execution_count": 113,
   "metadata": {},
   "outputs": [
    {
     "name": "stdout",
     "output_type": "stream",
     "text": [
      "221 tumors classified by both algorithm\n",
      "Recall = 0.44\n",
      "Precision = 0.217821782178\n"
     ]
    }
   ],
   "source": [
    "bench = dataset['benchmark'].value_counts()\n",
    "print(str(len(dataset)-bench[0]) + ' tumors classified by both algorithm')\n",
    "print('Recall = '+str(bench['TP']/(bench['TP']+bench['FN'] )))\n",
    "print('Precision = '+str(bench['TP']/(bench['TP']+bench['FP'] )))"
   ]
  },
  {
   "cell_type": "code",
   "execution_count": null,
   "metadata": {},
   "outputs": [],
   "source": []
  }
 ],
 "metadata": {
  "anaconda-cloud": {},
  "kernelspec": {
   "display_name": "Python 3",
   "language": "python",
   "name": "python3"
  },
  "language_info": {
   "codemirror_mode": {
    "name": "ipython",
    "version": 3
   },
   "file_extension": ".py",
   "mimetype": "text/x-python",
   "name": "python",
   "nbconvert_exporter": "python",
   "pygments_lexer": "ipython3",
   "version": "3.5.2"
  }
 },
 "nbformat": 4,
 "nbformat_minor": 2
}
