{
 "cells": [
  {
   "cell_type": "code",
   "execution_count": 55,
   "metadata": {},
   "outputs": [],
   "source": [
    "import pandas as pd\n",
    "import numpy as np\n",
    "from math import *\n",
    "import matplotlib.pyplot as plt\n",
    "import matplotlib\n",
    "import scipy.stats\n",
    "import tools"
   ]
  },
  {
   "cell_type": "code",
   "execution_count": 69,
   "metadata": {},
   "outputs": [],
   "source": [
    "def boxplot(column1, column2='ces'):\n",
    "    tmp = df[[column1, column2]].dropna()\n",
    "    low_q = np.percentile(tmp[column2],25)\n",
    "    high_q = np.percentile(tmp[column2],75)\n",
    "    low = tmp[tmp[column2]<low_q]\n",
    "    high = tmp[tmp[column2]>high_q]\n",
    "    plt.boxplot([low[column1].dropna(),high[column1].dropna()])\n",
    "    plt.ylim(-100,1500)\n",
    "    plt.title(str(column1)+' for low and high '+column2+' tumors')\n",
    "    print('Pvalue of t-test on high and low: ', scipy.stats.ttest_ind(low[column1], high[column1]).pvalue)\n",
    "    plt.show()"
   ]
  },
  {
   "cell_type": "code",
   "execution_count": 57,
   "metadata": {},
   "outputs": [],
   "source": [
    "cancers = ['lung_adenocarcinoma','skin','head_neck_SCC','lung_scc' ]\n",
    "cancer = cancers[1]"
   ]
  },
  {
   "cell_type": "code",
   "execution_count": 58,
   "metadata": {},
   "outputs": [],
   "source": [
    "df1 = tools.load_aggr('data/'+cancer+'/ces.txt', column='ces')\n",
    "df2 = tools.load_data('data/'+cancer+'/mmr.txt', cat='mmr')\n",
    "df3 = tools.load_data('data/'+cancer+'/infl.txt', cat='infl')\n",
    "df6 = tools.load_data('data/'+cancer+'/cgas.txt', cat='cgas')\n",
    "df4 = tools.load_mutation('data/'+cancer+'/mutation.txt')\n",
    "df5 = tools.load_aggr('data/'+cancer+'/infl.txt', column='infl')\n",
    "df7 = tools.load_aggr('data/'+cancer+'/cgas.txt', column='cgas')"
   ]
  },
  {
   "cell_type": "code",
   "execution_count": 59,
   "metadata": {
    "scrolled": true
   },
   "outputs": [
    {
     "data": {
      "text/html": [
       "<div>\n",
       "<style>\n",
       "    .dataframe thead tr:only-child th {\n",
       "        text-align: right;\n",
       "    }\n",
       "\n",
       "    .dataframe thead th {\n",
       "        text-align: left;\n",
       "    }\n",
       "\n",
       "    .dataframe tbody tr th {\n",
       "        vertical-align: top;\n",
       "    }\n",
       "</style>\n",
       "<table border=\"1\" class=\"dataframe\">\n",
       "  <thead>\n",
       "    <tr style=\"text-align: right;\">\n",
       "      <th></th>\n",
       "      <th>Sample ID</th>\n",
       "      <th>Mutation Count</th>\n",
       "      <th>CNA</th>\n",
       "      <th>ces</th>\n",
       "      <th>MLH1_mmr</th>\n",
       "      <th>MLH3_mmr</th>\n",
       "      <th>MSH2_mmr</th>\n",
       "      <th>MSH3_mmr</th>\n",
       "      <th>MSH6_mmr</th>\n",
       "      <th>PCNA_mmr</th>\n",
       "      <th>...</th>\n",
       "      <th>PYCARD_cgas</th>\n",
       "      <th>RELA_cgas</th>\n",
       "      <th>RIPK1_cgas</th>\n",
       "      <th>RIPK3_cgas</th>\n",
       "      <th>SPTB_cgas</th>\n",
       "      <th>TBK1_cgas</th>\n",
       "      <th>TMEM173_cgas</th>\n",
       "      <th>TREX1_cgas</th>\n",
       "      <th>ZBP1_cgas</th>\n",
       "      <th>cgas</th>\n",
       "    </tr>\n",
       "  </thead>\n",
       "  <tbody>\n",
       "    <tr>\n",
       "      <th>0</th>\n",
       "      <td>TCGA-3N-A9WC-06</td>\n",
       "      <td>NaN</td>\n",
       "      <td>0.350241</td>\n",
       "      <td>2968.47</td>\n",
       "      <td>826.257</td>\n",
       "      <td>170.631</td>\n",
       "      <td>806.584</td>\n",
       "      <td>539.175</td>\n",
       "      <td>1115.73</td>\n",
       "      <td>1956.44</td>\n",
       "      <td>...</td>\n",
       "      <td>382.616</td>\n",
       "      <td>1363.85</td>\n",
       "      <td>1409.21</td>\n",
       "      <td>91.9402</td>\n",
       "      <td>28.907</td>\n",
       "      <td>751.982</td>\n",
       "      <td>1158.29</td>\n",
       "      <td>547.506</td>\n",
       "      <td>144.535</td>\n",
       "      <td>42087.8</td>\n",
       "    </tr>\n",
       "    <tr>\n",
       "      <th>1</th>\n",
       "      <td>TCGA-3N-A9WD-06</td>\n",
       "      <td>NaN</td>\n",
       "      <td>0.252234</td>\n",
       "      <td>3720.01</td>\n",
       "      <td>567.376</td>\n",
       "      <td>373.759</td>\n",
       "      <td>592.199</td>\n",
       "      <td>290.206</td>\n",
       "      <td>999.291</td>\n",
       "      <td>2922.7</td>\n",
       "      <td>...</td>\n",
       "      <td>1119.86</td>\n",
       "      <td>2270.21</td>\n",
       "      <td>902.128</td>\n",
       "      <td>67.3759</td>\n",
       "      <td>52.4823</td>\n",
       "      <td>373.05</td>\n",
       "      <td>703.546</td>\n",
       "      <td>561.241</td>\n",
       "      <td>81.5603</td>\n",
       "      <td>24647.2</td>\n",
       "    </tr>\n",
       "    <tr>\n",
       "      <th>2</th>\n",
       "      <td>TCGA-BF-A1PU-01</td>\n",
       "      <td>73.0</td>\n",
       "      <td>0.682543</td>\n",
       "      <td>4544.35</td>\n",
       "      <td>1467.21</td>\n",
       "      <td>358.442</td>\n",
       "      <td>369.805</td>\n",
       "      <td>316.438</td>\n",
       "      <td>746.429</td>\n",
       "      <td>3877.27</td>\n",
       "      <td>...</td>\n",
       "      <td>1358.12</td>\n",
       "      <td>4066.23</td>\n",
       "      <td>1081.17</td>\n",
       "      <td>14.6104</td>\n",
       "      <td>256.818</td>\n",
       "      <td>133.442</td>\n",
       "      <td>705.519</td>\n",
       "      <td>515.052</td>\n",
       "      <td>0.6494</td>\n",
       "      <td>26318.8</td>\n",
       "    </tr>\n",
       "    <tr>\n",
       "      <th>3</th>\n",
       "      <td>TCGA-BF-A1PV-01</td>\n",
       "      <td>253.0</td>\n",
       "      <td>0.186543</td>\n",
       "      <td>4006.68</td>\n",
       "      <td>770.771</td>\n",
       "      <td>762.702</td>\n",
       "      <td>1142.86</td>\n",
       "      <td>487.46</td>\n",
       "      <td>1510.76</td>\n",
       "      <td>2852.06</td>\n",
       "      <td>...</td>\n",
       "      <td>334.728</td>\n",
       "      <td>2316.2</td>\n",
       "      <td>1395.4</td>\n",
       "      <td>11.9546</td>\n",
       "      <td>102.51</td>\n",
       "      <td>543.634</td>\n",
       "      <td>983.861</td>\n",
       "      <td>291.157</td>\n",
       "      <td>5.0807</td>\n",
       "      <td>20010.5</td>\n",
       "    </tr>\n",
       "    <tr>\n",
       "      <th>4</th>\n",
       "      <td>TCGA-BF-A1PX-01</td>\n",
       "      <td>309.0</td>\n",
       "      <td>0.000762</td>\n",
       "      <td>4895.79</td>\n",
       "      <td>1044.84</td>\n",
       "      <td>171.359</td>\n",
       "      <td>641.641</td>\n",
       "      <td>239.659</td>\n",
       "      <td>1376.78</td>\n",
       "      <td>3324.99</td>\n",
       "      <td>...</td>\n",
       "      <td>1327.42</td>\n",
       "      <td>2682.31</td>\n",
       "      <td>1529.37</td>\n",
       "      <td>210.288</td>\n",
       "      <td>51.0949</td>\n",
       "      <td>330.205</td>\n",
       "      <td>1336.11</td>\n",
       "      <td>563</td>\n",
       "      <td>115.05</td>\n",
       "      <td>38796.9</td>\n",
       "    </tr>\n",
       "  </tbody>\n",
       "</table>\n",
       "<p>5 rows × 95 columns</p>\n",
       "</div>"
      ],
      "text/plain": [
       "         Sample ID  Mutation Count       CNA      ces MLH1_mmr MLH3_mmr  \\\n",
       "0  TCGA-3N-A9WC-06             NaN  0.350241  2968.47  826.257  170.631   \n",
       "1  TCGA-3N-A9WD-06             NaN  0.252234  3720.01  567.376  373.759   \n",
       "2  TCGA-BF-A1PU-01            73.0  0.682543  4544.35  1467.21  358.442   \n",
       "3  TCGA-BF-A1PV-01           253.0  0.186543  4006.68  770.771  762.702   \n",
       "4  TCGA-BF-A1PX-01           309.0  0.000762  4895.79  1044.84  171.359   \n",
       "\n",
       "  MSH2_mmr MSH3_mmr MSH6_mmr PCNA_mmr   ...    PYCARD_cgas RELA_cgas  \\\n",
       "0  806.584  539.175  1115.73  1956.44   ...        382.616   1363.85   \n",
       "1  592.199  290.206  999.291   2922.7   ...        1119.86   2270.21   \n",
       "2  369.805  316.438  746.429  3877.27   ...        1358.12   4066.23   \n",
       "3  1142.86   487.46  1510.76  2852.06   ...        334.728    2316.2   \n",
       "4  641.641  239.659  1376.78  3324.99   ...        1327.42   2682.31   \n",
       "\n",
       "  RIPK1_cgas RIPK3_cgas SPTB_cgas TBK1_cgas TMEM173_cgas TREX1_cgas ZBP1_cgas  \\\n",
       "0    1409.21    91.9402    28.907   751.982      1158.29    547.506   144.535   \n",
       "1    902.128    67.3759   52.4823    373.05      703.546    561.241   81.5603   \n",
       "2    1081.17    14.6104   256.818   133.442      705.519    515.052    0.6494   \n",
       "3     1395.4    11.9546    102.51   543.634      983.861    291.157    5.0807   \n",
       "4    1529.37    210.288   51.0949   330.205      1336.11        563    115.05   \n",
       "\n",
       "      cgas  \n",
       "0  42087.8  \n",
       "1  24647.2  \n",
       "2  26318.8  \n",
       "3  20010.5  \n",
       "4  38796.9  \n",
       "\n",
       "[5 rows x 95 columns]"
      ]
     },
     "execution_count": 59,
     "metadata": {},
     "output_type": "execute_result"
    }
   ],
   "source": [
    "df = df4.merge(df1, how='outer', left_on='Sample ID', right_index=True)\n",
    "df = df.merge(df2, how='outer', left_on='Sample ID', right_index=True)\n",
    "df = df.merge(df3, how='outer', left_on='Sample ID', right_index=True)\n",
    "df = df.merge(df5, how='outer', left_on='Sample ID', right_index=True)\n",
    "df = df.merge(df6, how='outer', left_on='Sample ID', right_index=True)\n",
    "df = df.merge(df7, how='outer', left_on='Sample ID', right_index=True)\n",
    "df.head()"
   ]
  },
  {
   "cell_type": "code",
   "execution_count": 60,
   "metadata": {
    "scrolled": true
   },
   "outputs": [
    {
     "name": "stdout",
     "output_type": "stream",
     "text": [
      "Correlation with  ADIPOQ_infl  :  -0.0359614513296\n",
      "Correlation with  AXL_infl  :  -0.125604858174\n",
      "Correlation with  CCL13_infl  :  -0.0213067729557\n",
      "Correlation with  CCL25_infl  :  -0.0282025794114\n",
      "Correlation with  CCL5_infl  :  -0.0855725534241\n",
      "Correlation with  CXCL13_infl  :  -0.00772025187848\n",
      "Correlation with  FAS_infl  :  -0.00879593481443\n",
      "Correlation with  FGF7_infl  :  -0.0272632097647\n",
      "Correlation with  GDNF_infl  :  -0.0282004434733\n",
      "Correlation with  HGF_infl  :  -0.07066103239\n",
      "Correlation with  IFNAR2_infl  :  -0.0229667510309\n",
      "Correlation with  IGFBP4_infl  :  -0.125193574016\n",
      "Correlation with  IGFBP7_infl  :  -0.130376393476\n",
      "Correlation with  IL15_infl  :  0.00157358419005\n",
      "Correlation with  MMP14_infl  :  -0.0188319986379\n",
      "Correlation with  PLAT_infl  :  -0.0497513465448\n",
      "Correlation with  PLAU_infl  :  -0.0850619859091\n",
      "Correlation with  SERPINE1_infl  :  -0.0279417601547\n",
      "Correlation with  SMAD3_infl  :  -0.188478046295\n",
      "Correlation with  TIMP1_infl  :  -0.147430763553\n",
      "Correlation with  TNFRSF10C_infl  :  -0.00501198390126\n",
      "Correlation with  TNFRSF18_infl  :  -0.0863280198859\n",
      "Correlation with  infl  :  -0.0713848476252\n"
     ]
    },
    {
     "data": {
      "text/html": [
       "<div>\n",
       "<style>\n",
       "    .dataframe thead tr:only-child th {\n",
       "        text-align: right;\n",
       "    }\n",
       "\n",
       "    .dataframe thead th {\n",
       "        text-align: left;\n",
       "    }\n",
       "\n",
       "    .dataframe tbody tr th {\n",
       "        vertical-align: top;\n",
       "    }\n",
       "</style>\n",
       "<table border=\"1\" class=\"dataframe\">\n",
       "  <thead>\n",
       "    <tr style=\"text-align: right;\">\n",
       "      <th></th>\n",
       "      <th>gene</th>\n",
       "      <th>correlation</th>\n",
       "      <th>pvalue</th>\n",
       "    </tr>\n",
       "  </thead>\n",
       "  <tbody>\n",
       "    <tr>\n",
       "      <th>0</th>\n",
       "      <td>ADIPOQ_infl</td>\n",
       "      <td>-0.035961</td>\n",
       "      <td>0.435707</td>\n",
       "    </tr>\n",
       "    <tr>\n",
       "      <th>1</th>\n",
       "      <td>AXL_infl</td>\n",
       "      <td>-0.125605</td>\n",
       "      <td>0.006287</td>\n",
       "    </tr>\n",
       "    <tr>\n",
       "      <th>2</th>\n",
       "      <td>CCL1_infl</td>\n",
       "      <td>0.052934</td>\n",
       "      <td>0.251057</td>\n",
       "    </tr>\n",
       "    <tr>\n",
       "      <th>3</th>\n",
       "      <td>CCL13_infl</td>\n",
       "      <td>-0.021307</td>\n",
       "      <td>0.644277</td>\n",
       "    </tr>\n",
       "    <tr>\n",
       "      <th>4</th>\n",
       "      <td>CCL16_infl</td>\n",
       "      <td>0.016750</td>\n",
       "      <td>0.716627</td>\n",
       "    </tr>\n",
       "  </tbody>\n",
       "</table>\n",
       "</div>"
      ],
      "text/plain": [
       "          gene  correlation    pvalue\n",
       "0  ADIPOQ_infl    -0.035961  0.435707\n",
       "1     AXL_infl    -0.125605  0.006287\n",
       "2    CCL1_infl     0.052934  0.251057\n",
       "3   CCL13_infl    -0.021307  0.644277\n",
       "4   CCL16_infl     0.016750  0.716627"
      ]
     },
     "execution_count": 60,
     "metadata": {},
     "output_type": "execute_result"
    }
   ],
   "source": [
    "corr = pd.DataFrame([])\n",
    "for c in df.columns.values:\n",
    "    if 'inf' in c:\n",
    "        tmp = df[['ces',c]].dropna()\n",
    "        correlation, pvalue = scipy.stats.spearmanr(tmp['ces'], tmp[c])\n",
    "        corr = corr.append(pd.Series([c, correlation, pvalue]), ignore_index=True)\n",
    "        if correlation<0.005:\n",
    "            print('Correlation with ',c ,' : ',correlation)\n",
    "#             plt.figure()\n",
    "#             plt.scatter(df['ces'],df[c],marker='.')\n",
    "#             plt.xlabel('CES')\n",
    "#             plt.ylabel(c)\n",
    "#             plt.show()\n",
    "        \n",
    "corr.columns=['gene', 'correlation', 'pvalue']\n",
    "corr.to_csv('data/'+cancer+'/correlation_with_ces.csv')\n",
    "corr.head()"
   ]
  },
  {
   "cell_type": "code",
   "execution_count": 61,
   "metadata": {
    "scrolled": true
   },
   "outputs": [
    {
     "name": "stdout",
     "output_type": "stream",
     "text": [
      "Correlation with  ADAR_cgas  :  -0.114955519915\n",
      "Correlation with  CASP1_cgas  :  -0.072605005844\n",
      "Correlation with  CCL4_cgas  :  -0.0107488498537\n",
      "Correlation with  CCL5_cgas  :  -0.0855725534241\n",
      "Correlation with  DDX58_cgas  :  -0.00921509317001\n",
      "Correlation with  IFNA2_cgas  :  -0.00973462872395\n",
      "Correlation with  IKBKE_cgas  :  -0.0467964684339\n",
      "Correlation with  IKBKG_cgas  :  -0.114191722781\n",
      "Correlation with  IL18_cgas  :  -0.108582099005\n",
      "Correlation with  IL33_cgas  :  -0.0521430483734\n",
      "Correlation with  IRF3_cgas  :  -0.053723822003\n",
      "Correlation with  IRF7_cgas  :  -0.0714661002114\n",
      "Correlation with  MAVS_cgas  :  -0.21681408153\n",
      "Correlation with  NFKB1_cgas  :  -0.0322497448874\n",
      "Correlation with  PYCARD_cgas  :  -0.0854022881733\n",
      "Correlation with  RELA_cgas  :  -0.275612081894\n",
      "Correlation with  RIPK3_cgas  :  -0.11586481852\n",
      "Correlation with  SPTB_cgas  :  -0.0810356463769\n",
      "Correlation with  TMEM173_cgas  :  -0.241775058606\n",
      "Correlation with  TREX1_cgas  :  -0.0364888018644\n",
      "Correlation with  ZBP1_cgas  :  -0.0522155450955\n",
      "Correlation with  cgas  :  -0.196502646757\n"
     ]
    }
   ],
   "source": [
    "corr_gas = pd.DataFrame([])\n",
    "for c in df.columns.values:\n",
    "    if 'cgas' in c:\n",
    "        tmp = df[['ces',c]].dropna()\n",
    "        correlation, pvalue = scipy.stats.spearmanr(tmp['ces'], tmp[c])\n",
    "        corr_gas = corr_gas.append(pd.Series([c, correlation,  pvalue]), ignore_index=True)\n",
    "        if correlation<0.000005:\n",
    "            print('Correlation with ',c ,' : ',correlation)\n",
    "#             plt.figure()\n",
    "#             plt.scatter(df['ces'],df[c],marker='.')\n",
    "#             plt.xlabel('CES')\n",
    "#             plt.ylabel(c)\n",
    "#             plt.show()\n",
    "        \n",
    "corr_gas.columns=['gene', 'correlation','pvalue']\n",
    "corr_gas.to_csv('data/'+cancer+'/correlation_cgas_with_ces.csv')"
   ]
  },
  {
   "cell_type": "code",
   "execution_count": 62,
   "metadata": {
    "scrolled": true
   },
   "outputs": [],
   "source": [
    "df['infl'] = np.zeros(len(df))\n",
    "selected_genes = corr[corr['pvalue']<0.005]['gene']\n",
    "corr.index=corr['gene']\n",
    "for g in selected_genes:\n",
    "    if corr.loc[g]['correlation']<0:\n",
    "        sign = -1\n",
    "    else:\n",
    "        sign = 1\n",
    "    df['infl'] += sign*df[g]"
   ]
  },
  {
   "cell_type": "code",
   "execution_count": 63,
   "metadata": {},
   "outputs": [
    {
     "data": {
      "image/png": "[encoded data removed]",
      "text/plain": [
       "<matplotlib.figure.Figure at 0x7fd608a216a0>"
      ]
     },
     "metadata": {},
     "output_type": "display_data"
    },
    {
     "name": "stdout",
     "output_type": "stream",
     "text": [
      "Correlation: \n",
      "SpearmanrResult(correlation=0.24159920153357414, pvalue=1.0731491259353382e-07)\n"
     ]
    }
   ],
   "source": [
    "plt.figure()\n",
    "plt.scatter(df['ces'],df['infl'])\n",
    "plt.xlabel('CES')\n",
    "plt.ylabel('Inflammation score')\n",
    "plt.show()\n",
    "print('Correlation: ')\n",
    "tmp = df[['ces','infl']].dropna()\n",
    "print(scipy.stats.spearmanr(tmp['ces'], tmp['infl']))"
   ]
  },
  {
   "cell_type": "code",
   "execution_count": 70,
   "metadata": {},
   "outputs": [
    {
     "name": "stdout",
     "output_type": "stream",
     "text": [
      "Pvalue of t-test on high and low:  0.0127227944108\n"
     ]
    },
    {
     "data": {
      "image/png": "[encoded data removed]",
      "text/plain": [
       "<matplotlib.figure.Figure at 0x7fd608c381d0>"
      ]
     },
     "metadata": {},
     "output_type": "display_data"
    }
   ],
   "source": [
    "boxplot('Mutation Count')"
   ]
  },
  {
   "cell_type": "code",
   "execution_count": 65,
   "metadata": {
    "scrolled": true
   },
   "outputs": [
    {
     "name": "stdout",
     "output_type": "stream",
     "text": [
      "Pvalue of t-test on high and low:  0.260516516026\n"
     ]
    },
    {
     "data": {
      "image/png": "[encoded data removed]",
      "text/plain": [
       "<matplotlib.figure.Figure at 0x7fd6084e2748>"
      ]
     },
     "metadata": {},
     "output_type": "display_data"
    }
   ],
   "source": [
    "boxplot('Mutation Count','infl')"
   ]
  },
  {
   "cell_type": "code",
   "execution_count": null,
   "metadata": {},
   "outputs": [],
   "source": []
  },
  {
   "cell_type": "code",
   "execution_count": null,
   "metadata": {},
   "outputs": [],
   "source": []
  }
 ],
 "metadata": {
  "anaconda-cloud": {},
  "kernelspec": {
   "display_name": "Python 3",
   "language": "python",
   "name": "python3"
  },
  "language_info": {
   "codemirror_mode": {
    "name": "ipython",
    "version": 3
   },
   "file_extension": ".py",
   "mimetype": "text/x-python",
   "name": "python",
   "nbconvert_exporter": "python",
   "pygments_lexer": "ipython3",
   "version": "3.5.2"
  }
 },
 "nbformat": 4,
 "nbformat_minor": 2
}
