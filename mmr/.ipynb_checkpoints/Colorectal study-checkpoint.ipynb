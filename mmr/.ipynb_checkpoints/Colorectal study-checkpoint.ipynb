{
 "cells": [
  {
   "cell_type": "code",
   "execution_count": 1,
   "metadata": {},
   "outputs": [],
   "source": [
    "import pandas as pd\n",
    "import numpy as np\n",
    "from math import *\n",
    "import matplotlib.pyplot as plt\n",
    "import matplotlib\n",
    "import matplotlib\n",
    "import scipy.stats"
   ]
  },
  {
   "cell_type": "markdown",
   "metadata": {},
   "source": [
    "# CES"
   ]
  },
  {
   "cell_type": "markdown",
   "metadata": {},
   "source": [
    "Load the dataset containing mRNA experession (Z-score) for the CES genes"
   ]
  },
  {
   "cell_type": "code",
   "execution_count": 4,
   "metadata": {},
   "outputs": [
    {
     "data": {
      "text/html": [
       "<div>\n",
       "<style>\n",
       "    .dataframe thead tr:only-child th {\n",
       "        text-align: right;\n",
       "    }\n",
       "\n",
       "    .dataframe thead th {\n",
       "        text-align: left;\n",
       "    }\n",
       "\n",
       "    .dataframe tbody tr th {\n",
       "        vertical-align: top;\n",
       "    }\n",
       "</style>\n",
       "<table border=\"1\" class=\"dataframe\">\n",
       "  <thead>\n",
       "    <tr style=\"text-align: right;\">\n",
       "      <th></th>\n",
       "      <th>GENE_ID</th>\n",
       "      <th>COMMON</th>\n",
       "      <th>TCGA-A6-2675-01</th>\n",
       "      <th>TCGA-A6-5667-01</th>\n",
       "      <th>TCGA-AA-3655-01</th>\n",
       "      <th>TCGA-AA-3660-01</th>\n",
       "      <th>TCGA-AA-3662-01</th>\n",
       "      <th>TCGA-AA-3663-01</th>\n",
       "      <th>TCGA-AA-3697-01</th>\n",
       "      <th>TCGA-AA-3712-01</th>\n",
       "      <th>...</th>\n",
       "      <th>TCGA-AG-3586-01</th>\n",
       "      <th>TCGA-AG-A00Y-01</th>\n",
       "      <th>TCGA-AG-3599-01</th>\n",
       "      <th>TCGA-AF-6136-01</th>\n",
       "      <th>TCGA-EF-5831-01</th>\n",
       "      <th>TCGA-DY-A1DD-01</th>\n",
       "      <th>TCGA-G4-6317-02</th>\n",
       "      <th>TCGA-NH-A8F7-06</th>\n",
       "      <th>TCGA-NH-A6GC-06</th>\n",
       "      <th>Unnamed: 635</th>\n",
       "    </tr>\n",
       "  </thead>\n",
       "  <tbody>\n",
       "    <tr>\n",
       "      <th>0</th>\n",
       "      <td>1058</td>\n",
       "      <td>CENPA</td>\n",
       "      <td>118.1389</td>\n",
       "      <td>317.9650</td>\n",
       "      <td>312.4710</td>\n",
       "      <td>462.3188</td>\n",
       "      <td>271.3924</td>\n",
       "      <td>254.9451</td>\n",
       "      <td>266.2539</td>\n",
       "      <td>319.5952</td>\n",
       "      <td>...</td>\n",
       "      <td>NaN</td>\n",
       "      <td>NaN</td>\n",
       "      <td>NaN</td>\n",
       "      <td>145.1005</td>\n",
       "      <td>290.2193</td>\n",
       "      <td>183.3082</td>\n",
       "      <td>173.7452</td>\n",
       "      <td>220.1391</td>\n",
       "      <td>NaN</td>\n",
       "      <td>NaN</td>\n",
       "    </tr>\n",
       "    <tr>\n",
       "      <th>1</th>\n",
       "      <td>64105</td>\n",
       "      <td>CENPK</td>\n",
       "      <td>58.7997</td>\n",
       "      <td>249.7085</td>\n",
       "      <td>338.4330</td>\n",
       "      <td>225.1208</td>\n",
       "      <td>259.2405</td>\n",
       "      <td>376.9231</td>\n",
       "      <td>190.0929</td>\n",
       "      <td>260.5671</td>\n",
       "      <td>...</td>\n",
       "      <td>NaN</td>\n",
       "      <td>NaN</td>\n",
       "      <td>NaN</td>\n",
       "      <td>370.6030</td>\n",
       "      <td>239.0041</td>\n",
       "      <td>104.1751</td>\n",
       "      <td>178.1577</td>\n",
       "      <td>232.2347</td>\n",
       "      <td>NaN</td>\n",
       "      <td>NaN</td>\n",
       "    </tr>\n",
       "    <tr>\n",
       "      <th>2</th>\n",
       "      <td>91687</td>\n",
       "      <td>CENPL</td>\n",
       "      <td>118.1389</td>\n",
       "      <td>191.2030</td>\n",
       "      <td>216.0408</td>\n",
       "      <td>324.6377</td>\n",
       "      <td>213.1646</td>\n",
       "      <td>232.4176</td>\n",
       "      <td>210.5263</td>\n",
       "      <td>263.9401</td>\n",
       "      <td>...</td>\n",
       "      <td>NaN</td>\n",
       "      <td>NaN</td>\n",
       "      <td>NaN</td>\n",
       "      <td>270.1005</td>\n",
       "      <td>257.4985</td>\n",
       "      <td>128.2156</td>\n",
       "      <td>65.6371</td>\n",
       "      <td>201.5926</td>\n",
       "      <td>NaN</td>\n",
       "      <td>NaN</td>\n",
       "    </tr>\n",
       "    <tr>\n",
       "      <th>3</th>\n",
       "      <td>79019</td>\n",
       "      <td>CENPM</td>\n",
       "      <td>135.9407</td>\n",
       "      <td>326.4441</td>\n",
       "      <td>544.7381</td>\n",
       "      <td>520.7729</td>\n",
       "      <td>143.7975</td>\n",
       "      <td>1159.3407</td>\n",
       "      <td>377.0898</td>\n",
       "      <td>428.7973</td>\n",
       "      <td>...</td>\n",
       "      <td>NaN</td>\n",
       "      <td>NaN</td>\n",
       "      <td>NaN</td>\n",
       "      <td>172.1106</td>\n",
       "      <td>167.8720</td>\n",
       "      <td>437.7359</td>\n",
       "      <td>184.7766</td>\n",
       "      <td>316.0972</td>\n",
       "      <td>NaN</td>\n",
       "      <td>NaN</td>\n",
       "    </tr>\n",
       "    <tr>\n",
       "      <th>4</th>\n",
       "      <td>55839</td>\n",
       "      <td>CENPN</td>\n",
       "      <td>332.2508</td>\n",
       "      <td>650.0689</td>\n",
       "      <td>616.8150</td>\n",
       "      <td>647.8068</td>\n",
       "      <td>697.0987</td>\n",
       "      <td>734.6264</td>\n",
       "      <td>599.5046</td>\n",
       "      <td>832.5287</td>\n",
       "      <td>...</td>\n",
       "      <td>NaN</td>\n",
       "      <td>NaN</td>\n",
       "      <td>NaN</td>\n",
       "      <td>882.4937</td>\n",
       "      <td>680.1280</td>\n",
       "      <td>602.9287</td>\n",
       "      <td>506.5747</td>\n",
       "      <td>751.9444</td>\n",
       "      <td>NaN</td>\n",
       "      <td>NaN</td>\n",
       "    </tr>\n",
       "  </tbody>\n",
       "</table>\n",
       "<p>5 rows × 636 columns</p>\n",
       "</div>"
      ],
      "text/plain": [
       "   GENE_ID COMMON  TCGA-A6-2675-01  TCGA-A6-5667-01  TCGA-AA-3655-01  \\\n",
       "0     1058  CENPA         118.1389         317.9650         312.4710   \n",
       "1    64105  CENPK          58.7997         249.7085         338.4330   \n",
       "2    91687  CENPL         118.1389         191.2030         216.0408   \n",
       "3    79019  CENPM         135.9407         326.4441         544.7381   \n",
       "4    55839  CENPN         332.2508         650.0689         616.8150   \n",
       "\n",
       "   TCGA-AA-3660-01  TCGA-AA-3662-01  TCGA-AA-3663-01  TCGA-AA-3697-01  \\\n",
       "0         462.3188         271.3924         254.9451         266.2539   \n",
       "1         225.1208         259.2405         376.9231         190.0929   \n",
       "2         324.6377         213.1646         232.4176         210.5263   \n",
       "3         520.7729         143.7975        1159.3407         377.0898   \n",
       "4         647.8068         697.0987         734.6264         599.5046   \n",
       "\n",
       "   TCGA-AA-3712-01      ...       TCGA-AG-3586-01  TCGA-AG-A00Y-01  \\\n",
       "0         319.5952      ...                   NaN              NaN   \n",
       "1         260.5671      ...                   NaN              NaN   \n",
       "2         263.9401      ...                   NaN              NaN   \n",
       "3         428.7973      ...                   NaN              NaN   \n",
       "4         832.5287      ...                   NaN              NaN   \n",
       "\n",
       "   TCGA-AG-3599-01  TCGA-AF-6136-01  TCGA-EF-5831-01  TCGA-DY-A1DD-01  \\\n",
       "0              NaN         145.1005         290.2193         183.3082   \n",
       "1              NaN         370.6030         239.0041         104.1751   \n",
       "2              NaN         270.1005         257.4985         128.2156   \n",
       "3              NaN         172.1106         167.8720         437.7359   \n",
       "4              NaN         882.4937         680.1280         602.9287   \n",
       "\n",
       "   TCGA-G4-6317-02  TCGA-NH-A8F7-06  TCGA-NH-A6GC-06  Unnamed: 635  \n",
       "0         173.7452         220.1391              NaN           NaN  \n",
       "1         178.1577         232.2347              NaN           NaN  \n",
       "2          65.6371         201.5926              NaN           NaN  \n",
       "3         184.7766         316.0972              NaN           NaN  \n",
       "4         506.5747         751.9444              NaN           NaN  \n",
       "\n",
       "[5 rows x 636 columns]"
      ]
     },
     "execution_count": 4,
     "metadata": {},
     "output_type": "execute_result"
    }
   ],
   "source": [
    "df_ces = pd.read_table('../data/colorectal/ces.txt')\n",
    "df_ces.head()"
   ]
  },
  {
   "cell_type": "markdown",
   "metadata": {},
   "source": [
    "Calculate CES for each patient"
   ]
  },
  {
   "cell_type": "code",
   "execution_count": 5,
   "metadata": {},
   "outputs": [
    {
     "data": {
      "text/html": [
       "<div>\n",
       "<style>\n",
       "    .dataframe thead tr:only-child th {\n",
       "        text-align: right;\n",
       "    }\n",
       "\n",
       "    .dataframe thead th {\n",
       "        text-align: left;\n",
       "    }\n",
       "\n",
       "    .dataframe tbody tr th {\n",
       "        vertical-align: top;\n",
       "    }\n",
       "</style>\n",
       "<table border=\"1\" class=\"dataframe\">\n",
       "  <thead>\n",
       "    <tr style=\"text-align: right;\">\n",
       "      <th></th>\n",
       "      <th>id</th>\n",
       "      <th>ces</th>\n",
       "    </tr>\n",
       "  </thead>\n",
       "  <tbody>\n",
       "    <tr>\n",
       "      <th>0</th>\n",
       "      <td>TCGA-A6-2675-01</td>\n",
       "      <td>2249.6452</td>\n",
       "    </tr>\n",
       "    <tr>\n",
       "      <th>1</th>\n",
       "      <td>TCGA-A6-5667-01</td>\n",
       "      <td>4956.4514</td>\n",
       "    </tr>\n",
       "    <tr>\n",
       "      <th>2</th>\n",
       "      <td>TCGA-AA-3655-01</td>\n",
       "      <td>6215.7117</td>\n",
       "    </tr>\n",
       "    <tr>\n",
       "      <th>3</th>\n",
       "      <td>TCGA-AA-3660-01</td>\n",
       "      <td>6201.6134</td>\n",
       "    </tr>\n",
       "    <tr>\n",
       "      <th>4</th>\n",
       "      <td>TCGA-AA-3662-01</td>\n",
       "      <td>5130.7139</td>\n",
       "    </tr>\n",
       "  </tbody>\n",
       "</table>\n",
       "</div>"
      ],
      "text/plain": [
       "                id        ces\n",
       "0  TCGA-A6-2675-01  2249.6452\n",
       "1  TCGA-A6-5667-01  4956.4514\n",
       "2  TCGA-AA-3655-01  6215.7117\n",
       "3  TCGA-AA-3660-01  6201.6134\n",
       "4  TCGA-AA-3662-01  5130.7139"
      ]
     },
     "execution_count": 5,
     "metadata": {},
     "output_type": "execute_result"
    }
   ],
   "source": [
    "patients = []\n",
    "for p in df_ces.columns[2:]:\n",
    "    patients.append([p,df_ces[p].sum()])\n",
    "\n",
    "patients = pd.DataFrame(patients)\n",
    "patients.columns = ['id','ces']\n",
    "patients.head()"
   ]
  },
  {
   "cell_type": "markdown",
   "metadata": {},
   "source": [
    "# MMR deficiency determination"
   ]
  },
  {
   "cell_type": "markdown",
   "metadata": {},
   "source": [
    "The genes upreg are upregulated in MSS tumors, downreg are downregulated in MSS tumors"
   ]
  },
  {
   "cell_type": "code",
   "execution_count": 6,
   "metadata": {},
   "outputs": [],
   "source": [
    "upreg = ['ANG','TFF2','SRSF6','SET','EIF5A','RARRES1' ,'CRIP1','CD55','IQGAP2','P4HA1',\n",
    "         'TYMS','GLRX','NUCB2','FUT8','HNRNPL','PCCB','EIF5A','POLR2L','GTF2A2','GALNT1',\n",
    "         'NDUFA9','TNNT1','AHR','PRKAR2B','ATP5A1','AMFR','OSTF1','CALM1','MANF','EWSR1',\n",
    "         'SSR1','MFAP1','GNAQ','PPP2R5E','USP14','GCH1','KIF11','CASP2','SLC1A1','PGGT1B','RAB27B']\n",
    "downreg = ['FTO','PLAGL1','STK38','DMD','NONO','CSNK1E','TCF7','POFUT1','OCRL','ELF1','LRP1','MLH1',\n",
    "           'MARCKS','JUN','ELN','RAB32','TSC22D1','YWHAB','SEMA3C','GABRE','NEK3','PRKCI','TGFBR2',\n",
    "           'FCGRT','CFTR','SERINC3','HSPH1','TDGF1','CYP2B7P']"
   ]
  },
  {
   "cell_type": "code",
   "execution_count": 8,
   "metadata": {},
   "outputs": [
    {
     "data": {
      "text/html": [
       "<div>\n",
       "<style>\n",
       "    .dataframe thead tr:only-child th {\n",
       "        text-align: right;\n",
       "    }\n",
       "\n",
       "    .dataframe thead th {\n",
       "        text-align: left;\n",
       "    }\n",
       "\n",
       "    .dataframe tbody tr th {\n",
       "        vertical-align: top;\n",
       "    }\n",
       "</style>\n",
       "<table border=\"1\" class=\"dataframe\">\n",
       "  <thead>\n",
       "    <tr style=\"text-align: right;\">\n",
       "      <th></th>\n",
       "      <th>GENE_ID</th>\n",
       "      <th>COMMON</th>\n",
       "      <th>TCGA-D5-6531-01</th>\n",
       "      <th>TCGA-DM-A28A-01</th>\n",
       "      <th>TCGA-DC-5869-01</th>\n",
       "      <th>TCGA-F4-6460-01</th>\n",
       "      <th>TCGA-DY-A1DC-01</th>\n",
       "      <th>TCGA-CM-5862-01</th>\n",
       "      <th>TCGA-CK-4947-01</th>\n",
       "      <th>TCGA-AH-6544-01</th>\n",
       "      <th>...</th>\n",
       "      <th>TCGA-QG-A5YW-01</th>\n",
       "      <th>TCGA-AF-6672-01</th>\n",
       "      <th>TCGA-F5-6464-01</th>\n",
       "      <th>TCGA-AA-3663-01</th>\n",
       "      <th>TCGA-G4-6299-01</th>\n",
       "      <th>TCGA-5M-AAT6-01</th>\n",
       "      <th>TCGA-CK-4950-01</th>\n",
       "      <th>TCGA-G4-6314-01</th>\n",
       "      <th>TCGA-F5-6810-01</th>\n",
       "      <th>Unnamed: 384</th>\n",
       "    </tr>\n",
       "  </thead>\n",
       "  <tbody>\n",
       "    <tr>\n",
       "      <th>0</th>\n",
       "      <td>4292</td>\n",
       "      <td>MLH1</td>\n",
       "      <td>-0.6444</td>\n",
       "      <td>0.6430</td>\n",
       "      <td>2.5549</td>\n",
       "      <td>0.0455</td>\n",
       "      <td>0.2859</td>\n",
       "      <td>-0.6856</td>\n",
       "      <td>1.2145</td>\n",
       "      <td>-0.7659</td>\n",
       "      <td>...</td>\n",
       "      <td>0.0743</td>\n",
       "      <td>-0.5902</td>\n",
       "      <td>-0.3142</td>\n",
       "      <td>-2.2311</td>\n",
       "      <td>-0.0654</td>\n",
       "      <td>0.0457</td>\n",
       "      <td>0.8024</td>\n",
       "      <td>1.9059</td>\n",
       "      <td>0.6958</td>\n",
       "      <td>NaN</td>\n",
       "    </tr>\n",
       "    <tr>\n",
       "      <th>1</th>\n",
       "      <td>27030</td>\n",
       "      <td>MLH3</td>\n",
       "      <td>-0.4025</td>\n",
       "      <td>1.5304</td>\n",
       "      <td>-0.9405</td>\n",
       "      <td>0.0484</td>\n",
       "      <td>-1.0844</td>\n",
       "      <td>0.5904</td>\n",
       "      <td>-0.8670</td>\n",
       "      <td>-0.7483</td>\n",
       "      <td>...</td>\n",
       "      <td>-0.2161</td>\n",
       "      <td>3.6458</td>\n",
       "      <td>0.1934</td>\n",
       "      <td>-1.5420</td>\n",
       "      <td>-0.1282</td>\n",
       "      <td>-1.2747</td>\n",
       "      <td>-1.7482</td>\n",
       "      <td>-0.1349</td>\n",
       "      <td>-1.2631</td>\n",
       "      <td>NaN</td>\n",
       "    </tr>\n",
       "    <tr>\n",
       "      <th>2</th>\n",
       "      <td>4436</td>\n",
       "      <td>MSH2</td>\n",
       "      <td>0.3130</td>\n",
       "      <td>0.5116</td>\n",
       "      <td>2.7492</td>\n",
       "      <td>-0.6859</td>\n",
       "      <td>0.0420</td>\n",
       "      <td>0.2577</td>\n",
       "      <td>1.5517</td>\n",
       "      <td>1.1196</td>\n",
       "      <td>...</td>\n",
       "      <td>-0.2916</td>\n",
       "      <td>-0.3317</td>\n",
       "      <td>-0.9564</td>\n",
       "      <td>-0.6980</td>\n",
       "      <td>1.6207</td>\n",
       "      <td>-0.5009</td>\n",
       "      <td>0.8594</td>\n",
       "      <td>-0.2281</td>\n",
       "      <td>1.6499</td>\n",
       "      <td>NaN</td>\n",
       "    </tr>\n",
       "    <tr>\n",
       "      <th>3</th>\n",
       "      <td>4437</td>\n",
       "      <td>MSH3</td>\n",
       "      <td>0.1619</td>\n",
       "      <td>-1.5667</td>\n",
       "      <td>0.4600</td>\n",
       "      <td>0.0013</td>\n",
       "      <td>-0.1862</td>\n",
       "      <td>-0.8603</td>\n",
       "      <td>0.8837</td>\n",
       "      <td>0.4701</td>\n",
       "      <td>...</td>\n",
       "      <td>-0.2429</td>\n",
       "      <td>0.2490</td>\n",
       "      <td>-0.8090</td>\n",
       "      <td>-3.0072</td>\n",
       "      <td>0.6312</td>\n",
       "      <td>-0.7238</td>\n",
       "      <td>-1.0278</td>\n",
       "      <td>0.0033</td>\n",
       "      <td>-0.1210</td>\n",
       "      <td>NaN</td>\n",
       "    </tr>\n",
       "    <tr>\n",
       "      <th>4</th>\n",
       "      <td>2956</td>\n",
       "      <td>MSH6</td>\n",
       "      <td>1.2449</td>\n",
       "      <td>0.4288</td>\n",
       "      <td>1.2682</td>\n",
       "      <td>-1.2261</td>\n",
       "      <td>-1.1349</td>\n",
       "      <td>-0.6852</td>\n",
       "      <td>0.2927</td>\n",
       "      <td>1.7300</td>\n",
       "      <td>...</td>\n",
       "      <td>-0.3467</td>\n",
       "      <td>-0.3567</td>\n",
       "      <td>-0.7693</td>\n",
       "      <td>-0.5260</td>\n",
       "      <td>-0.4068</td>\n",
       "      <td>0.8173</td>\n",
       "      <td>1.6196</td>\n",
       "      <td>0.1003</td>\n",
       "      <td>0.6348</td>\n",
       "      <td>NaN</td>\n",
       "    </tr>\n",
       "  </tbody>\n",
       "</table>\n",
       "<p>5 rows × 385 columns</p>\n",
       "</div>"
      ],
      "text/plain": [
       "   GENE_ID COMMON  TCGA-D5-6531-01  TCGA-DM-A28A-01  TCGA-DC-5869-01  \\\n",
       "0     4292   MLH1          -0.6444           0.6430           2.5549   \n",
       "1    27030   MLH3          -0.4025           1.5304          -0.9405   \n",
       "2     4436   MSH2           0.3130           0.5116           2.7492   \n",
       "3     4437   MSH3           0.1619          -1.5667           0.4600   \n",
       "4     2956   MSH6           1.2449           0.4288           1.2682   \n",
       "\n",
       "   TCGA-F4-6460-01  TCGA-DY-A1DC-01  TCGA-CM-5862-01  TCGA-CK-4947-01  \\\n",
       "0           0.0455           0.2859          -0.6856           1.2145   \n",
       "1           0.0484          -1.0844           0.5904          -0.8670   \n",
       "2          -0.6859           0.0420           0.2577           1.5517   \n",
       "3           0.0013          -0.1862          -0.8603           0.8837   \n",
       "4          -1.2261          -1.1349          -0.6852           0.2927   \n",
       "\n",
       "   TCGA-AH-6544-01      ...       TCGA-QG-A5YW-01  TCGA-AF-6672-01  \\\n",
       "0          -0.7659      ...                0.0743          -0.5902   \n",
       "1          -0.7483      ...               -0.2161           3.6458   \n",
       "2           1.1196      ...               -0.2916          -0.3317   \n",
       "3           0.4701      ...               -0.2429           0.2490   \n",
       "4           1.7300      ...               -0.3467          -0.3567   \n",
       "\n",
       "   TCGA-F5-6464-01  TCGA-AA-3663-01  TCGA-G4-6299-01  TCGA-5M-AAT6-01  \\\n",
       "0          -0.3142          -2.2311          -0.0654           0.0457   \n",
       "1           0.1934          -1.5420          -0.1282          -1.2747   \n",
       "2          -0.9564          -0.6980           1.6207          -0.5009   \n",
       "3          -0.8090          -3.0072           0.6312          -0.7238   \n",
       "4          -0.7693          -0.5260          -0.4068           0.8173   \n",
       "\n",
       "   TCGA-CK-4950-01  TCGA-G4-6314-01  TCGA-F5-6810-01  Unnamed: 384  \n",
       "0           0.8024           1.9059           0.6958           NaN  \n",
       "1          -1.7482          -0.1349          -1.2631           NaN  \n",
       "2           0.8594          -0.2281           1.6499           NaN  \n",
       "3          -1.0278           0.0033          -0.1210           NaN  \n",
       "4           1.6196           0.1003           0.6348           NaN  \n",
       "\n",
       "[5 rows x 385 columns]"
      ]
     },
     "execution_count": 8,
     "metadata": {},
     "output_type": "execute_result"
    }
   ],
   "source": [
    "mmr_patients = pd.read_table('../data/colorectal/mmr_expr.txt')\n",
    "mmr_patients.head()"
   ]
  },
  {
   "cell_type": "markdown",
   "metadata": {},
   "source": [
    "Sum the expression scores for the upregulated and downregulated genes separately"
   ]
  },
  {
   "cell_type": "code",
   "execution_count": 9,
   "metadata": {},
   "outputs": [
    {
     "data": {
      "text/html": [
       "<div>\n",
       "<style>\n",
       "    .dataframe thead tr:only-child th {\n",
       "        text-align: right;\n",
       "    }\n",
       "\n",
       "    .dataframe thead th {\n",
       "        text-align: left;\n",
       "    }\n",
       "\n",
       "    .dataframe tbody tr th {\n",
       "        vertical-align: top;\n",
       "    }\n",
       "</style>\n",
       "<table border=\"1\" class=\"dataframe\">\n",
       "  <thead>\n",
       "    <tr style=\"text-align: right;\">\n",
       "      <th></th>\n",
       "      <th>id</th>\n",
       "      <th>upscore</th>\n",
       "      <th>downscore</th>\n",
       "      <th>msi_score</th>\n",
       "    </tr>\n",
       "  </thead>\n",
       "  <tbody>\n",
       "    <tr>\n",
       "      <th>0</th>\n",
       "      <td>TCGA-D5-6531-01</td>\n",
       "      <td>NaN</td>\n",
       "      <td>NaN</td>\n",
       "      <td>NaN</td>\n",
       "    </tr>\n",
       "    <tr>\n",
       "      <th>1</th>\n",
       "      <td>TCGA-DM-A28A-01</td>\n",
       "      <td>NaN</td>\n",
       "      <td>NaN</td>\n",
       "      <td>NaN</td>\n",
       "    </tr>\n",
       "    <tr>\n",
       "      <th>2</th>\n",
       "      <td>TCGA-DC-5869-01</td>\n",
       "      <td>NaN</td>\n",
       "      <td>NaN</td>\n",
       "      <td>NaN</td>\n",
       "    </tr>\n",
       "    <tr>\n",
       "      <th>3</th>\n",
       "      <td>TCGA-F4-6460-01</td>\n",
       "      <td>NaN</td>\n",
       "      <td>NaN</td>\n",
       "      <td>NaN</td>\n",
       "    </tr>\n",
       "    <tr>\n",
       "      <th>4</th>\n",
       "      <td>TCGA-DY-A1DC-01</td>\n",
       "      <td>NaN</td>\n",
       "      <td>NaN</td>\n",
       "      <td>NaN</td>\n",
       "    </tr>\n",
       "  </tbody>\n",
       "</table>\n",
       "</div>"
      ],
      "text/plain": [
       "                id  upscore  downscore  msi_score\n",
       "0  TCGA-D5-6531-01      NaN        NaN        NaN\n",
       "1  TCGA-DM-A28A-01      NaN        NaN        NaN\n",
       "2  TCGA-DC-5869-01      NaN        NaN        NaN\n",
       "3  TCGA-F4-6460-01      NaN        NaN        NaN\n",
       "4  TCGA-DY-A1DC-01      NaN        NaN        NaN"
      ]
     },
     "execution_count": 9,
     "metadata": {},
     "output_type": "execute_result"
    }
   ],
   "source": [
    "mmr_scores = []\n",
    "for p in mmr_patients.columns[2:]:\n",
    "    up_score = 0\n",
    "    for g in upreg:\n",
    "        score = mmr_patients[mmr_patients['COMMON']==g][p]\n",
    "        if not len(score)==1:\n",
    "            score = np.mean(score)\n",
    "        else:\n",
    "            try:\n",
    "                score = float(score)\n",
    "            except:\n",
    "                print (score)\n",
    "        up_score += score\n",
    "        \n",
    "    down_score = 0\n",
    "    for g in downreg:\n",
    "        score = mmr_patients[mmr_patients['COMMON']==g][p]\n",
    "        if not len(score)==1:\n",
    "            score = np.mean(score)\n",
    "        else:\n",
    "            try:\n",
    "                score = float(score)\n",
    "            except:\n",
    "                print(score)\n",
    "        down_score+= score\n",
    "        \n",
    "    mmr_scores.append([p,up_score,down_score])  \n",
    "    \n",
    "mmr_scores = pd.DataFrame(mmr_scores)\n",
    "mmr_scores.columns = ['id','upscore','downscore']\n",
    "mmr_scores['msi_score'] = mmr_scores['upscore'] - mmr_scores['downscore']\n",
    "mmr_scores.head()"
   ]
  },
  {
   "cell_type": "code",
   "execution_count": 10,
   "metadata": {},
   "outputs": [
    {
     "data": {
      "text/html": [
       "<div>\n",
       "<style>\n",
       "    .dataframe thead tr:only-child th {\n",
       "        text-align: right;\n",
       "    }\n",
       "\n",
       "    .dataframe thead th {\n",
       "        text-align: left;\n",
       "    }\n",
       "\n",
       "    .dataframe tbody tr th {\n",
       "        vertical-align: top;\n",
       "    }\n",
       "</style>\n",
       "<table border=\"1\" class=\"dataframe\">\n",
       "  <thead>\n",
       "    <tr style=\"text-align: right;\">\n",
       "      <th></th>\n",
       "      <th>id</th>\n",
       "      <th>upscore</th>\n",
       "      <th>downscore</th>\n",
       "      <th>msi_score</th>\n",
       "      <th>ces</th>\n",
       "    </tr>\n",
       "  </thead>\n",
       "  <tbody>\n",
       "    <tr>\n",
       "      <th>0</th>\n",
       "      <td>TCGA-D5-6531-01</td>\n",
       "      <td>NaN</td>\n",
       "      <td>NaN</td>\n",
       "      <td>NaN</td>\n",
       "      <td>6016.3981</td>\n",
       "    </tr>\n",
       "    <tr>\n",
       "      <th>1</th>\n",
       "      <td>TCGA-DM-A28A-01</td>\n",
       "      <td>NaN</td>\n",
       "      <td>NaN</td>\n",
       "      <td>NaN</td>\n",
       "      <td>6701.2242</td>\n",
       "    </tr>\n",
       "    <tr>\n",
       "      <th>2</th>\n",
       "      <td>TCGA-DC-5869-01</td>\n",
       "      <td>NaN</td>\n",
       "      <td>NaN</td>\n",
       "      <td>NaN</td>\n",
       "      <td>6909.5322</td>\n",
       "    </tr>\n",
       "    <tr>\n",
       "      <th>3</th>\n",
       "      <td>TCGA-F4-6460-01</td>\n",
       "      <td>NaN</td>\n",
       "      <td>NaN</td>\n",
       "      <td>NaN</td>\n",
       "      <td>4800.8761</td>\n",
       "    </tr>\n",
       "    <tr>\n",
       "      <th>4</th>\n",
       "      <td>TCGA-DY-A1DC-01</td>\n",
       "      <td>NaN</td>\n",
       "      <td>NaN</td>\n",
       "      <td>NaN</td>\n",
       "      <td>6244.2262</td>\n",
       "    </tr>\n",
       "  </tbody>\n",
       "</table>\n",
       "</div>"
      ],
      "text/plain": [
       "                id  upscore  downscore  msi_score        ces\n",
       "0  TCGA-D5-6531-01      NaN        NaN        NaN  6016.3981\n",
       "1  TCGA-DM-A28A-01      NaN        NaN        NaN  6701.2242\n",
       "2  TCGA-DC-5869-01      NaN        NaN        NaN  6909.5322\n",
       "3  TCGA-F4-6460-01      NaN        NaN        NaN  4800.8761\n",
       "4  TCGA-DY-A1DC-01      NaN        NaN        NaN  6244.2262"
      ]
     },
     "execution_count": 10,
     "metadata": {},
     "output_type": "execute_result"
    }
   ],
   "source": [
    "results = mmr_scores.merge(patients,how='inner',on='id')\n",
    "results.head()"
   ]
  },
  {
   "cell_type": "code",
   "execution_count": 11,
   "metadata": {},
   "outputs": [
    {
     "ename": "IndexError",
     "evalue": "cannot do a non-empty take from an empty axes.",
     "output_type": "error",
     "traceback": [
      "\u001b[0;31m---------------------------------------------------------------------------\u001b[0m",
      "\u001b[0;31mIndexError\u001b[0m                                Traceback (most recent call last)",
      "\u001b[0;32m<ipython-input-11-41bf851e2462>\u001b[0m in \u001b[0;36m<module>\u001b[0;34m()\u001b[0m\n\u001b[1;32m      1\u001b[0m \u001b[0mtmp\u001b[0m \u001b[0;34m=\u001b[0m \u001b[0mresults\u001b[0m\u001b[0;34m[\u001b[0m\u001b[0;34m[\u001b[0m\u001b[0;34m'ces'\u001b[0m\u001b[0;34m,\u001b[0m\u001b[0;34m'msi_score'\u001b[0m\u001b[0;34m]\u001b[0m\u001b[0;34m]\u001b[0m\u001b[0;34m.\u001b[0m\u001b[0mdropna\u001b[0m\u001b[0;34m(\u001b[0m\u001b[0;34m)\u001b[0m\u001b[0;34m\u001b[0m\u001b[0m\n\u001b[0;32m----> 2\u001b[0;31m \u001b[0mlow\u001b[0m \u001b[0;34m=\u001b[0m \u001b[0mnp\u001b[0m\u001b[0;34m.\u001b[0m\u001b[0mpercentile\u001b[0m\u001b[0;34m(\u001b[0m\u001b[0mtmp\u001b[0m\u001b[0;34m[\u001b[0m\u001b[0;34m'ces'\u001b[0m\u001b[0;34m]\u001b[0m\u001b[0;34m,\u001b[0m\u001b[0;36m25\u001b[0m\u001b[0;34m)\u001b[0m\u001b[0;34m\u001b[0m\u001b[0m\n\u001b[0m\u001b[1;32m      3\u001b[0m \u001b[0mhigh\u001b[0m \u001b[0;34m=\u001b[0m \u001b[0mnp\u001b[0m\u001b[0;34m.\u001b[0m\u001b[0mpercentile\u001b[0m\u001b[0;34m(\u001b[0m\u001b[0mtmp\u001b[0m\u001b[0;34m[\u001b[0m\u001b[0;34m'ces'\u001b[0m\u001b[0;34m]\u001b[0m\u001b[0;34m,\u001b[0m\u001b[0;36m75\u001b[0m\u001b[0;34m)\u001b[0m\u001b[0;34m\u001b[0m\u001b[0m\n\u001b[1;32m      4\u001b[0m \u001b[0ml1\u001b[0m  \u001b[0;34m=\u001b[0m \u001b[0mlist\u001b[0m\u001b[0;34m(\u001b[0m\u001b[0mtmp\u001b[0m\u001b[0;34m[\u001b[0m\u001b[0mtmp\u001b[0m\u001b[0;34m[\u001b[0m\u001b[0;34m'ces'\u001b[0m\u001b[0;34m]\u001b[0m\u001b[0;34m<\u001b[0m\u001b[0mlow\u001b[0m\u001b[0;34m]\u001b[0m\u001b[0;34m[\u001b[0m\u001b[0;34m'msi_score'\u001b[0m\u001b[0;34m]\u001b[0m\u001b[0;34m)\u001b[0m\u001b[0;34m\u001b[0m\u001b[0m\n\u001b[1;32m      5\u001b[0m \u001b[0ml2\u001b[0m  \u001b[0;34m=\u001b[0m \u001b[0mlist\u001b[0m\u001b[0;34m(\u001b[0m\u001b[0mtmp\u001b[0m\u001b[0;34m[\u001b[0m\u001b[0mtmp\u001b[0m\u001b[0;34m[\u001b[0m\u001b[0;34m'ces'\u001b[0m\u001b[0;34m]\u001b[0m\u001b[0;34m>\u001b[0m\u001b[0mhigh\u001b[0m\u001b[0;34m]\u001b[0m\u001b[0;34m[\u001b[0m\u001b[0;34m'msi_score'\u001b[0m\u001b[0;34m]\u001b[0m\u001b[0;34m)\u001b[0m\u001b[0;34m\u001b[0m\u001b[0m\n",
      "\u001b[0;32m/usr/local/lib/python3.5/dist-packages/numpy/lib/function_base.py\u001b[0m in \u001b[0;36mpercentile\u001b[0;34m(a, q, axis, out, overwrite_input, interpolation, keepdims)\u001b[0m\n\u001b[1;32m   4272\u001b[0m     r, k = _ureduce(a, func=_percentile, q=q, axis=axis, out=out,\n\u001b[1;32m   4273\u001b[0m                     \u001b[0moverwrite_input\u001b[0m\u001b[0;34m=\u001b[0m\u001b[0moverwrite_input\u001b[0m\u001b[0;34m,\u001b[0m\u001b[0;34m\u001b[0m\u001b[0m\n\u001b[0;32m-> 4274\u001b[0;31m                     interpolation=interpolation)\n\u001b[0m\u001b[1;32m   4275\u001b[0m     \u001b[0;32mif\u001b[0m \u001b[0mkeepdims\u001b[0m\u001b[0;34m:\u001b[0m\u001b[0;34m\u001b[0m\u001b[0m\n\u001b[1;32m   4276\u001b[0m         \u001b[0;32mif\u001b[0m \u001b[0mq\u001b[0m\u001b[0;34m.\u001b[0m\u001b[0mndim\u001b[0m \u001b[0;34m==\u001b[0m \u001b[0;36m0\u001b[0m\u001b[0;34m:\u001b[0m\u001b[0;34m\u001b[0m\u001b[0m\n",
      "\u001b[0;32m/usr/local/lib/python3.5/dist-packages/numpy/lib/function_base.py\u001b[0m in \u001b[0;36m_ureduce\u001b[0;34m(a, func, **kwargs)\u001b[0m\n\u001b[1;32m   4014\u001b[0m         \u001b[0mkeepdim\u001b[0m \u001b[0;34m=\u001b[0m \u001b[0;34m[\u001b[0m\u001b[0;36m1\u001b[0m\u001b[0;34m]\u001b[0m \u001b[0;34m*\u001b[0m \u001b[0ma\u001b[0m\u001b[0;34m.\u001b[0m\u001b[0mndim\u001b[0m\u001b[0;34m\u001b[0m\u001b[0m\n\u001b[1;32m   4015\u001b[0m \u001b[0;34m\u001b[0m\u001b[0m\n\u001b[0;32m-> 4016\u001b[0;31m     \u001b[0mr\u001b[0m \u001b[0;34m=\u001b[0m \u001b[0mfunc\u001b[0m\u001b[0;34m(\u001b[0m\u001b[0ma\u001b[0m\u001b[0;34m,\u001b[0m \u001b[0;34m**\u001b[0m\u001b[0mkwargs\u001b[0m\u001b[0;34m)\u001b[0m\u001b[0;34m\u001b[0m\u001b[0m\n\u001b[0m\u001b[1;32m   4017\u001b[0m     \u001b[0;32mreturn\u001b[0m \u001b[0mr\u001b[0m\u001b[0;34m,\u001b[0m \u001b[0mkeepdim\u001b[0m\u001b[0;34m\u001b[0m\u001b[0m\n\u001b[1;32m   4018\u001b[0m \u001b[0;34m\u001b[0m\u001b[0m\n",
      "\u001b[0;32m/usr/local/lib/python3.5/dist-packages/numpy/lib/function_base.py\u001b[0m in \u001b[0;36m_percentile\u001b[0;34m(a, q, axis, out, overwrite_input, interpolation, keepdims)\u001b[0m\n\u001b[1;32m   4389\u001b[0m             \u001b[0mn\u001b[0m \u001b[0;34m=\u001b[0m \u001b[0mnp\u001b[0m\u001b[0;34m.\u001b[0m\u001b[0misnan\u001b[0m\u001b[0;34m(\u001b[0m\u001b[0map\u001b[0m\u001b[0;34m[\u001b[0m\u001b[0;34m-\u001b[0m\u001b[0;36m1\u001b[0m\u001b[0;34m:\u001b[0m\u001b[0;34m,\u001b[0m \u001b[0;34m...\u001b[0m\u001b[0;34m]\u001b[0m\u001b[0;34m)\u001b[0m\u001b[0;34m\u001b[0m\u001b[0m\n\u001b[1;32m   4390\u001b[0m \u001b[0;34m\u001b[0m\u001b[0m\n\u001b[0;32m-> 4391\u001b[0;31m         \u001b[0mx1\u001b[0m \u001b[0;34m=\u001b[0m \u001b[0mtake\u001b[0m\u001b[0;34m(\u001b[0m\u001b[0map\u001b[0m\u001b[0;34m,\u001b[0m \u001b[0mindices_below\u001b[0m\u001b[0;34m,\u001b[0m \u001b[0maxis\u001b[0m\u001b[0;34m=\u001b[0m\u001b[0maxis\u001b[0m\u001b[0;34m)\u001b[0m \u001b[0;34m*\u001b[0m \u001b[0mweights_below\u001b[0m\u001b[0;34m\u001b[0m\u001b[0m\n\u001b[0m\u001b[1;32m   4392\u001b[0m         \u001b[0mx2\u001b[0m \u001b[0;34m=\u001b[0m \u001b[0mtake\u001b[0m\u001b[0;34m(\u001b[0m\u001b[0map\u001b[0m\u001b[0;34m,\u001b[0m \u001b[0mindices_above\u001b[0m\u001b[0;34m,\u001b[0m \u001b[0maxis\u001b[0m\u001b[0;34m=\u001b[0m\u001b[0maxis\u001b[0m\u001b[0;34m)\u001b[0m \u001b[0;34m*\u001b[0m \u001b[0mweights_above\u001b[0m\u001b[0;34m\u001b[0m\u001b[0m\n\u001b[1;32m   4393\u001b[0m \u001b[0;34m\u001b[0m\u001b[0m\n",
      "\u001b[0;32m/usr/local/lib/python3.5/dist-packages/numpy/core/fromnumeric.py\u001b[0m in \u001b[0;36mtake\u001b[0;34m(a, indices, axis, out, mode)\u001b[0m\n\u001b[1;32m    132\u001b[0m            [5, 7]])\n\u001b[1;32m    133\u001b[0m     \"\"\"\n\u001b[0;32m--> 134\u001b[0;31m     \u001b[0;32mreturn\u001b[0m \u001b[0m_wrapfunc\u001b[0m\u001b[0;34m(\u001b[0m\u001b[0ma\u001b[0m\u001b[0;34m,\u001b[0m \u001b[0;34m'take'\u001b[0m\u001b[0;34m,\u001b[0m \u001b[0mindices\u001b[0m\u001b[0;34m,\u001b[0m \u001b[0maxis\u001b[0m\u001b[0;34m=\u001b[0m\u001b[0maxis\u001b[0m\u001b[0;34m,\u001b[0m \u001b[0mout\u001b[0m\u001b[0;34m=\u001b[0m\u001b[0mout\u001b[0m\u001b[0;34m,\u001b[0m \u001b[0mmode\u001b[0m\u001b[0;34m=\u001b[0m\u001b[0mmode\u001b[0m\u001b[0;34m)\u001b[0m\u001b[0;34m\u001b[0m\u001b[0m\n\u001b[0m\u001b[1;32m    135\u001b[0m \u001b[0;34m\u001b[0m\u001b[0m\n\u001b[1;32m    136\u001b[0m \u001b[0;34m\u001b[0m\u001b[0m\n",
      "\u001b[0;32m/usr/local/lib/python3.5/dist-packages/numpy/core/fromnumeric.py\u001b[0m in \u001b[0;36m_wrapfunc\u001b[0;34m(obj, method, *args, **kwds)\u001b[0m\n\u001b[1;32m     55\u001b[0m \u001b[0;32mdef\u001b[0m \u001b[0m_wrapfunc\u001b[0m\u001b[0;34m(\u001b[0m\u001b[0mobj\u001b[0m\u001b[0;34m,\u001b[0m \u001b[0mmethod\u001b[0m\u001b[0;34m,\u001b[0m \u001b[0;34m*\u001b[0m\u001b[0margs\u001b[0m\u001b[0;34m,\u001b[0m \u001b[0;34m**\u001b[0m\u001b[0mkwds\u001b[0m\u001b[0;34m)\u001b[0m\u001b[0;34m:\u001b[0m\u001b[0;34m\u001b[0m\u001b[0m\n\u001b[1;32m     56\u001b[0m     \u001b[0;32mtry\u001b[0m\u001b[0;34m:\u001b[0m\u001b[0;34m\u001b[0m\u001b[0m\n\u001b[0;32m---> 57\u001b[0;31m         \u001b[0;32mreturn\u001b[0m \u001b[0mgetattr\u001b[0m\u001b[0;34m(\u001b[0m\u001b[0mobj\u001b[0m\u001b[0;34m,\u001b[0m \u001b[0mmethod\u001b[0m\u001b[0;34m)\u001b[0m\u001b[0;34m(\u001b[0m\u001b[0;34m*\u001b[0m\u001b[0margs\u001b[0m\u001b[0;34m,\u001b[0m \u001b[0;34m**\u001b[0m\u001b[0mkwds\u001b[0m\u001b[0;34m)\u001b[0m\u001b[0;34m\u001b[0m\u001b[0m\n\u001b[0m\u001b[1;32m     58\u001b[0m \u001b[0;34m\u001b[0m\u001b[0m\n\u001b[1;32m     59\u001b[0m     \u001b[0;31m# An AttributeError occurs if the object does not have\u001b[0m\u001b[0;34m\u001b[0m\u001b[0;34m\u001b[0m\u001b[0m\n",
      "\u001b[0;31mIndexError\u001b[0m: cannot do a non-empty take from an empty axes."
     ]
    }
   ],
   "source": [
    "tmp = results[['ces','msi_score']].dropna()\n",
    "low = np.percentile(tmp['ces'],25)\n",
    "high = np.percentile(tmp['ces'],75)\n",
    "l1  = list(tmp[tmp['ces']<low]['msi_score'])\n",
    "l2  = list(tmp[tmp['ces']>high]['msi_score'])\n",
    "plt.boxplot([l1,l2],labels=['Low CES','High CES'])\n",
    "plt.ylabel('MMR score')\n",
    "plt.title('Comparison of MMR score in low and high CES patients')\n",
    "plt.show()\n"
   ]
  },
  {
   "cell_type": "markdown",
   "metadata": {},
   "source": [
    "\n",
    "\n",
    "Categorization of the patients/tumors. If the category is not obvious, we don't try to guess\n"
   ]
  },
  {
   "cell_type": "code",
   "execution_count": null,
   "metadata": {},
   "outputs": [],
   "source": [
    "for ix,p in results.iterrows():\n",
    "    if p['upscore']>0 and p['downscore']<0:\n",
    "        cat = 'msi'\n",
    "        label = 0\n",
    "    elif p['upscore']<0 and p['downscore']>0:\n",
    "        cat = 'mss'\n",
    "        label = 1\n",
    "    else:\n",
    "        cat = 'unknown'\n",
    "        label = 2\n",
    "    results = results.set_value(ix,'cat',cat)\n",
    "    results = results.set_value(ix,'label',label)\n",
    "\n",
    "results.head()"
   ]
  },
  {
   "cell_type": "markdown",
   "metadata": {},
   "source": [
    "\n",
    "\n",
    "Only 10% of patients are not classified\n"
   ]
  },
  {
   "cell_type": "code",
   "execution_count": null,
   "metadata": {},
   "outputs": [],
   "source": [
    "float(np.sum(results['label']==2))/float(len(results['label']))"
   ]
  },
  {
   "cell_type": "code",
   "execution_count": null,
   "metadata": {},
   "outputs": [],
   "source": [
    "fig, ax = plt.subplots()\n",
    "colors = ['red','green','blue']\n",
    "ax.scatter(results['upscore'], results['downscore'],c = results['label'],cmap = matplotlib.colors.ListedColormap(colors))\n",
    "plt.xlabel('Up score')\n",
    "plt.ylabel('Down score')\n",
    "ax.grid(True, which='both')\n",
    "\n",
    "ax.axhline(y=0, color='k')\n",
    "ax.axvline(x=0, color='k')\n",
    "plt.show()"
   ]
  },
  {
   "cell_type": "markdown",
   "metadata": {},
   "source": [
    "RED : MSI , GREEN : MSS"
   ]
  },
  {
   "cell_type": "raw",
   "metadata": {},
   "source": []
  },
  {
   "cell_type": "markdown",
   "metadata": {},
   "source": [
    "# CNA"
   ]
  },
  {
   "cell_type": "markdown",
   "metadata": {},
   "source": [
    "Load the dataset"
   ]
  },
  {
   "cell_type": "code",
   "execution_count": null,
   "metadata": {},
   "outputs": [],
   "source": [
    "cna_mut = pd.read_table('data/colorectal/Mutation Count vs. CNA.txt').drop(['Patient ID','Group'],axis=1)\n",
    "cna_mut.head()"
   ]
  },
  {
   "cell_type": "code",
   "execution_count": null,
   "metadata": {},
   "outputs": [],
   "source": [
    "results = results.merge(cna_mut, how='outer', left_on='id', right_on='Sample ID')\n",
    "results.head()"
   ]
  },
  {
   "cell_type": "markdown",
   "metadata": {},
   "source": [
    "\n",
    "\n",
    "CES / CNA correlation. Colors represent the MMR deficiency classification\n"
   ]
  },
  {
   "cell_type": "code",
   "execution_count": null,
   "metadata": {},
   "outputs": [],
   "source": [
    "fig, ax = plt.subplots()\n",
    "colors = ['red','green','blue']\n",
    "ax.scatter(results['ces'], results['CNA'],c = results['label'],cmap = matplotlib.colors.ListedColormap(colors))\n",
    "ax.grid(True, which='both')\n",
    "\n",
    "ax.axhline(y=0, color='k')\n",
    "ax.axvline(x=0, color='k')\n",
    "plt.xlabel('CES')\n",
    "plt.ylabel('CNA')\n",
    "plt.show()"
   ]
  },
  {
   "cell_type": "markdown",
   "metadata": {},
   "source": [
    "RED: MSI, GREEN : MSS\n",
    "\n",
    "It appears the MSI patients have way less CNA than MSS patients\n"
   ]
  },
  {
   "cell_type": "code",
   "execution_count": null,
   "metadata": {},
   "outputs": [],
   "source": [
    "plt.boxplot([results[results['label']==1]['CNA'].dropna(),results[results['label']==0]['CNA'].dropna()],labels=['MSS','MSI'])\n",
    "plt.ylabel('CNA')\n",
    "plt.title('Comparison of CNA distribution in MSS and MSI patients')\n",
    "plt.show()"
   ]
  },
  {
   "cell_type": "code",
   "execution_count": null,
   "metadata": {},
   "outputs": [],
   "source": [
    "plt.boxplot([results[results['cat']=='mss']['ces'],results[results['cat']=='msi']['ces']],labels=['MSS','MSI'])\n",
    "plt.ylabel('CES')\n",
    "plt.title('Comparison of CES distribution in MSS and MSI patients')\n",
    "plt.show()"
   ]
  },
  {
   "cell_type": "markdown",
   "metadata": {},
   "source": [
    "# Mutations"
   ]
  },
  {
   "cell_type": "code",
   "execution_count": null,
   "metadata": {},
   "outputs": [],
   "source": [
    "fig, ax = plt.subplots()\n",
    "colors = ['red','green','blue']\n",
    "ax.scatter(results['ces'], results['Mutation Count'],c = results['label'],cmap = matplotlib.colors.ListedColormap(colors))\n",
    "plt.xlabel('CES')\n",
    "plt.ylabel('Mutation Count')\n",
    "plt.show()"
   ]
  },
  {
   "cell_type": "code",
   "execution_count": null,
   "metadata": {},
   "outputs": [],
   "source": [
    "fig, ax = plt.subplots()\n",
    "colors = ['red','green','blue']\n",
    "ax.scatter(results['CNA'], results['Mutation Count'])#,c = results['label'],cmap = matplotlib.colors.ListedColormap(colors))\n",
    "plt.xlabel('CNA')\n",
    "plt.ylabel('Mutation Count')\n",
    "plt.show()"
   ]
  },
  {
   "cell_type": "markdown",
   "metadata": {},
   "source": [
    "# MLH1 study"
   ]
  },
  {
   "cell_type": "code",
   "execution_count": null,
   "metadata": {},
   "outputs": [],
   "source": [
    "df_expr = pd.read_table('data/colorectal/mmr_expr.txt')\n",
    "mlh1 = df_expr[df_expr['COMMON']=='MLH1'].transpose()[2:]\n",
    "mlh1.columns=['mlh1']\n",
    "mlh1.head()"
   ]
  },
  {
   "cell_type": "code",
   "execution_count": null,
   "metadata": {},
   "outputs": [],
   "source": [
    "df_meth = pd.read_table('data/colorectal/mmr_meth.txt')\n",
    "mlh1_meth = df_meth[df_meth['COMMON']=='MLH1'].transpose()[2:]\n",
    "mlh1_meth.columns=['mlh1_meth']\n",
    "mlh1_meth.head()"
   ]
  },
  {
   "cell_type": "code",
   "execution_count": null,
   "metadata": {
    "scrolled": true
   },
   "outputs": [],
   "source": [
    "results = results.merge(mlh1, how='outer', left_on='id', right_index=True)\n",
    "results = results.merge(mlh1_meth, how='outer', left_on='id', right_index=True)\n",
    "results.head()"
   ]
  },
  {
   "cell_type": "markdown",
   "metadata": {},
   "source": [
    "## Comparison CES/MLH1"
   ]
  },
  {
   "cell_type": "code",
   "execution_count": null,
   "metadata": {},
   "outputs": [],
   "source": [
    "fig , ax = plt.subplots()\n",
    "colors=['red','green','blue']\n",
    "ax.scatter(results['ces'],results['mlh1'],c = results['label'],cmap = matplotlib.colors.ListedColormap(colors))\n",
    "plt.xlabel('CES')\n",
    "plt.ylabel('Expression level')\n",
    "plt.title('CES in function of expression level of MLH1')\n",
    "plt.show()"
   ]
  },
  {
   "cell_type": "markdown",
   "metadata": {},
   "source": [
    "\n",
    "\n",
    "RED: MSI, GREEN : MSS, BLUE : unkown\n"
   ]
  },
  {
   "cell_type": "code",
   "execution_count": null,
   "metadata": {},
   "outputs": [],
   "source": [
    "low = np.percentile(results['ces'].dropna(),0.3)\n",
    "high = np.percentile(results['ces'].dropna(),0.7)\n",
    "l1  = list(results[results['ces']<low]['msh2'])\n",
    "l2 = list(results[results['ces']>high]['msh2'])\n",
    "plt.boxplot([l1,l2],labels=['Low CES','High CES'])\n",
    "plt.ylabel('Expression level')\n",
    "plt.title('Comparison of MLH1 expression level in low and high CES patients')\n",
    "plt.show()\n",
    "print('Pvalue of t-test on high and low: ', scipy.stats.ttest_ind(l1, l2))"
   ]
  },
  {
   "cell_type": "code",
   "execution_count": null,
   "metadata": {},
   "outputs": [],
   "source": [
    "fig, ax = plt.subplots()\n",
    "colors = ['red','green','blue']\n",
    "ax.scatter(results['mlh1_meth'],results['mlh1'] , c = results['label'],cmap = matplotlib.colors.ListedColormap(colors))\n",
    "plt.xlabel('Methylation')\n",
    "plt.ylabel('Expression level')\n",
    "plt.title('Expression level in function of methlyation of MLH1')\n",
    "plt.show()"
   ]
  },
  {
   "cell_type": "markdown",
   "metadata": {},
   "source": [
    "% of MSI tumors with an expression level of MLH1 under -1"
   ]
  },
  {
   "cell_type": "code",
   "execution_count": null,
   "metadata": {},
   "outputs": [],
   "source": [
    "float(np.sum(results[results['cat']=='msi']['mlh1']<-1))/float(len(results[results['cat']=='msi']['mlh1'].dropna()))"
   ]
  },
  {
   "cell_type": "code",
   "execution_count": null,
   "metadata": {
    "scrolled": true
   },
   "outputs": [],
   "source": [
    "l1  = list(results[results['cat']=='mss']['mlh1'])\n",
    "l2 = list(results[results['cat']=='msi']['mlh1'])\n",
    "plt.boxplot([l1,l2],labels=['MSS','MSI'])\n",
    "plt.ylabel('Expression level')\n",
    "plt.title('Comparison of MLH1 expression level in MSS and MSI patients')\n",
    "plt.show()"
   ]
  },
  {
   "cell_type": "markdown",
   "metadata": {},
   "source": [
    "# MSH2 study"
   ]
  },
  {
   "cell_type": "code",
   "execution_count": null,
   "metadata": {},
   "outputs": [],
   "source": [
    "df_expr = pd.read_table('data/colorectal/mmr_expr.txt')\n",
    "msh2 = df_expr[df_expr['COMMON']=='MSH2'].transpose()[2:]\n",
    "msh2.columns=['msh2']\n",
    "msh2.head()"
   ]
  },
  {
   "cell_type": "code",
   "execution_count": null,
   "metadata": {},
   "outputs": [],
   "source": [
    "df_meth = pd.read_table('data/colorectal/mmr_meth.txt')\n",
    "msh2_meth = df_meth[df_meth['COMMON']=='MSH2'].transpose()[2:]\n",
    "msh2_meth.columns=['msh2_meth']\n",
    "msh2_meth.head()"
   ]
  },
  {
   "cell_type": "code",
   "execution_count": null,
   "metadata": {},
   "outputs": [],
   "source": [
    "results = results.merge(msh2, how='outer', left_on='id', right_index=True)\n",
    "results = results.merge(msh2_meth, how='outer', left_on='id', right_index=True)\n",
    "results.head()"
   ]
  },
  {
   "cell_type": "markdown",
   "metadata": {},
   "source": [
    "## Comparison CES/MSH2"
   ]
  },
  {
   "cell_type": "code",
   "execution_count": null,
   "metadata": {},
   "outputs": [],
   "source": [
    "fig , ax = plt.subplots()\n",
    "colors=['red','green','blue']\n",
    "ax.scatter(results['ces'],results['msh2'],c = results['label'],cmap = matplotlib.colors.ListedColormap(colors))\n",
    "plt.xlabel('CES')\n",
    "plt.ylabel('Expression level')\n",
    "plt.title('CES in function of expression level of MSH2')\n",
    "plt.show()"
   ]
  },
  {
   "cell_type": "code",
   "execution_count": null,
   "metadata": {},
   "outputs": [],
   "source": [
    "import scipy\n",
    "tmp = results[['ces','msh2']].dropna()\n",
    "scipy.stats.spearmanr(tmp['ces'],tmp['msh2']).pvalue"
   ]
  },
  {
   "cell_type": "markdown",
   "metadata": {},
   "source": [
    "\n",
    "\n",
    "RED: MSI, GREEN : MSS, BLUE : unkown\n"
   ]
  },
  {
   "cell_type": "code",
   "execution_count": null,
   "metadata": {
    "scrolled": true
   },
   "outputs": [],
   "source": [
    "fig, ax = plt.subplots()\n",
    "colors = ['red','green','blue']\n",
    "ax.scatter(results['msh2_meth'],results['msh2'] , c = results['label'],cmap = matplotlib.colors.ListedColormap(colors))\n",
    "plt.xlabel('Methylation')\n",
    "plt.ylabel('Expression level')\n",
    "plt.title('Expression level in function of methlyation of MSH2')\n",
    "plt.show()"
   ]
  },
  {
   "cell_type": "markdown",
   "metadata": {},
   "source": [
    "% of MSI tumors with an expression level of MLH1 under -1"
   ]
  },
  {
   "cell_type": "code",
   "execution_count": null,
   "metadata": {},
   "outputs": [],
   "source": [
    "float(np.sum(results[results['cat']=='msi']['msh2']<-1))/float(len(results[results['cat']=='msi']['msh2'].dropna()))"
   ]
  },
  {
   "cell_type": "code",
   "execution_count": null,
   "metadata": {
    "scrolled": false
   },
   "outputs": [],
   "source": [
    "l1  = list(results[results['cat']=='mss']['msh2'])\n",
    "l2 = list(results[results['cat']=='msi']['msh2'])\n",
    "plt.boxplot([l1,l2],labels=['MSS','MSI'])\n",
    "plt.ylabel('Expression level')\n",
    "plt.title('Comparison of MSH2 expression level in MSS and MSI patients')\n",
    "plt.show()"
   ]
  },
  {
   "cell_type": "markdown",
   "metadata": {},
   "source": [
    "# MSH6 study"
   ]
  },
  {
   "cell_type": "code",
   "execution_count": null,
   "metadata": {},
   "outputs": [],
   "source": [
    "df_expr = pd.read_table('data/colorectal/mmr_expr.txt')\n",
    "msh2 = df_expr[df_expr['COMMON']=='PMS2'].transpose()[2:]\n",
    "msh2.columns=['pms2']\n",
    "msh2.head()"
   ]
  },
  {
   "cell_type": "code",
   "execution_count": null,
   "metadata": {},
   "outputs": [],
   "source": [
    "df_meth = pd.read_table('data/colorectal/mmr_meth.txt')\n",
    "msh2_meth = df_meth[df_meth['COMMON']=='PMS2'].transpose()[2:]\n",
    "msh2_meth.columns=['pms2_meth']\n",
    "msh2_meth.head()"
   ]
  },
  {
   "cell_type": "code",
   "execution_count": null,
   "metadata": {},
   "outputs": [],
   "source": [
    "results = results.merge(msh2, how='outer', left_on='id', right_index=True)\n",
    "results = results.merge(msh2_meth, how='outer', left_on='id', right_index=True)\n",
    "results.head()"
   ]
  },
  {
   "cell_type": "markdown",
   "metadata": {},
   "source": [
    "## Comparison CES/MSH2"
   ]
  },
  {
   "cell_type": "code",
   "execution_count": null,
   "metadata": {},
   "outputs": [],
   "source": [
    "fig , ax = plt.subplots()\n",
    "colors=['red','green','blue']\n",
    "ax.scatter(results['ces'],results['pms2'],c = results['label'],cmap = matplotlib.colors.ListedColormap(colors))\n",
    "plt.xlabel('CES')\n",
    "plt.ylabel('Expression level')\n",
    "plt.title('CES in function of expression level of PMS2')\n",
    "plt.show()"
   ]
  },
  {
   "cell_type": "code",
   "execution_count": null,
   "metadata": {},
   "outputs": [],
   "source": [
    "import scipy\n",
    "tmp = results[['ces','pms2']].dropna()\n",
    "scipy.stats.spearmanr(tmp['ces'],tmp['pms2']).pvalue"
   ]
  },
  {
   "cell_type": "markdown",
   "metadata": {},
   "source": [
    "\n",
    "\n",
    "RED: MSI, GREEN : MSS, BLUE : unkown\n"
   ]
  },
  {
   "cell_type": "code",
   "execution_count": null,
   "metadata": {
    "scrolled": true
   },
   "outputs": [],
   "source": [
    "fig, ax = plt.subplots()\n",
    "colors = ['red','green','blue']\n",
    "ax.scatter(results['pms2_meth'],results['pms2'] , c = results['label'],cmap = matplotlib.colors.ListedColormap(colors))\n",
    "plt.xlabel('Methylation')\n",
    "plt.ylabel('Expression level')\n",
    "plt.title('Expression level in function of methlyation of PMS2')\n",
    "plt.show()"
   ]
  },
  {
   "cell_type": "markdown",
   "metadata": {},
   "source": [
    "% of MSI tumors with an expression level of MLH1 under -1"
   ]
  },
  {
   "cell_type": "code",
   "execution_count": null,
   "metadata": {},
   "outputs": [],
   "source": [
    "float(np.sum(results[results['cat']=='msi']['msh2']<-1))/float(len(results[results['cat']=='msi']['msh2'].dropna()))"
   ]
  },
  {
   "cell_type": "code",
   "execution_count": null,
   "metadata": {
    "scrolled": false
   },
   "outputs": [],
   "source": [
    "l1  = list(results[results['cat']=='mss']['pms2'])\n",
    "l2 = list(results[results['cat']=='msi']['pms2'])\n",
    "plt.boxplot([l1,l2],labels=['MSS','MSI'])\n",
    "plt.ylabel('Expression level')\n",
    "plt.title('Comparison of PMS2 expression level in MSS and MSI patients')\n",
    "plt.show()"
   ]
  },
  {
   "cell_type": "code",
   "execution_count": null,
   "metadata": {},
   "outputs": [],
   "source": [
    "df_ces = pd.read_table('data/broad_colorectal_ rnaseqv2/colorectal.txt')\n",
    "df_ces.head()"
   ]
  },
  {
   "cell_type": "code",
   "execution_count": null,
   "metadata": {},
   "outputs": [],
   "source": [
    "df_ces['Hybridization REF'].unique()"
   ]
  },
  {
   "cell_type": "code",
   "execution_count": null,
   "metadata": {},
   "outputs": [],
   "source": [
    "genes = pd.read_csv('data/gene_list.csv')\n",
    "mmr_genes = genes['MMR pathway'].dropna()\n",
    "mmr_genes"
   ]
  },
  {
   "cell_type": "code",
   "execution_count": null,
   "metadata": {},
   "outputs": [],
   "source": [
    "l = []\n",
    "for ix in df_ces['Hybridization REF'].unique():\n",
    "    l.append(ix)\n",
    "\n",
    "    print(len(pd.Series(l)))\n",
    "len(pd.Series(l).unique())"
   ]
  },
  {
   "cell_type": "code",
   "execution_count": null,
   "metadata": {},
   "outputs": [],
   "source": [
    "l1  = list(results[results['cat']=='mss']['ces'])\n",
    "l2 = list(results[results['cat']=='msi']['ces'])\n",
    "plt.boxplot([l1,l2],labels=['MSS','MSI'])\n",
    "plt.ylabel('CES')\n",
    "plt.title('Comparison of CES score in MSS and MSI patients')\n",
    "plt.show()"
   ]
  },
  {
   "cell_type": "code",
   "execution_count": null,
   "metadata": {},
   "outputs": [],
   "source": [
    "print('Pvalue of t-test on high and low: ', scipy.stats.ttest_ind(l1, l2))"
   ]
  },
  {
   "cell_type": "code",
   "execution_count": null,
   "metadata": {},
   "outputs": [],
   "source": []
  }
 ],
 "metadata": {
  "kernelspec": {
   "display_name": "Python 3",
   "language": "python",
   "name": "python3"
  },
  "language_info": {
   "codemirror_mode": {
    "name": "ipython",
    "version": 3
   },
   "file_extension": ".py",
   "mimetype": "text/x-python",
   "name": "python",
   "nbconvert_exporter": "python",
   "pygments_lexer": "ipython3",
   "version": "3.5.2"
  }
 },
 "nbformat": 4,
 "nbformat_minor": 2
}
