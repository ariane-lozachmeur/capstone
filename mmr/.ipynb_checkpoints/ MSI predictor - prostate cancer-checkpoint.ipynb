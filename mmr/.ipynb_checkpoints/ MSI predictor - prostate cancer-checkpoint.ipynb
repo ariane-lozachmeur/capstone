{
 "cells": [
  {
   "cell_type": "code",
   "execution_count": 1,
   "metadata": {},
   "outputs": [],
   "source": [
    "import pandas as pd\n",
    "import numpy as np\n",
    "from math import *\n",
    "import matplotlib.pyplot as plt\n",
    "import matplotlib\n",
    "import matplotlib\n",
    "import scipy.stats"
   ]
  },
  {
   "cell_type": "code",
   "execution_count": 2,
   "metadata": {},
   "outputs": [],
   "source": [
    "def load_ces(file):\n",
    "    df_ces = pd.read_table(file)\n",
    "    ces = df_ces.sum()[2:]\n",
    "    return pd.DataFrame(ces,columns=['ces'])\n",
    "\n",
    "def load_data(file, cat=None):    \n",
    "    df = pd.read_table(file)\n",
    "    patients = df['COMMON']\n",
    "    df = df.transpose()[2:]\n",
    "    df.columns = [s + '_' +cat for s in patients]\n",
    "    return df\n",
    "\n",
    "def load_mutation(file):\n",
    "    df = pd.read_table(file)[['Sample ID', 'Mutation Count', 'CNA']]\n",
    "    return df"
   ]
  },
  {
   "cell_type": "code",
   "execution_count": 3,
   "metadata": {
    "scrolled": false
   },
   "outputs": [],
   "source": [
    "from pylab import plot, show, savefig, xlim, figure, \\\n",
    "                hold, ylim, legend, boxplot, setp, axes\n",
    "\n",
    "# function for setting the colors of the box plots pairs\n",
    "def setBoxColors(bp):\n",
    "    setp(bp['boxes'][0], color='blue')\n",
    "    setp(bp['caps'][0], color='blue')\n",
    "    setp(bp['caps'][1], color='blue')\n",
    "    setp(bp['whiskers'][0], color='blue')\n",
    "    setp(bp['whiskers'][1], color='blue')\n",
    "    setp(bp['fliers'][0], color='blue')\n",
    "    setp(bp['fliers'][1], color='blue')\n",
    "    setp(bp['medians'][0], color='blue')\n",
    "\n",
    "    setp(bp['boxes'][1], color='red')\n",
    "    setp(bp['caps'][2], color='red')\n",
    "    setp(bp['caps'][3], color='red')\n",
    "    setp(bp['whiskers'][2], color='red')\n",
    "    setp(bp['whiskers'][3], color='red')\n",
    "#     setp(bp['fliers'][2], color='red')\n",
    "#     setp(bp['fliers'][3], color='red')\n",
    "    setp(bp['medians'][1], color='red')"
   ]
  },
  {
   "cell_type": "code",
   "execution_count": 4,
   "metadata": {},
   "outputs": [],
   "source": [
    "def boxplotcomp(selectedgene=None):\n",
    "    d = {}\n",
    "    for g in genes:\n",
    "        if selectedgene == None:\n",
    "            d[g] = [list(df[df['msi_status']==0][g+'_expr']),list(df[df['msi_status']==1][g+'_expr'])]\n",
    "        else:\n",
    "            li = []\n",
    "            for ix,row in df.iterrows():\n",
    "                if selectedgene in row['msi_deficiency']:\n",
    "                    li.append(True)\n",
    "                else:\n",
    "                    li.append(False)\n",
    "\n",
    "            d[g] = [list(df[li][g+'_expr']),list(df[df['msi_status']==1][g+'_expr'])]\n",
    "    figlen = 20\n",
    "    figheigth = 12\n",
    "\n",
    "    fig = figure(figsize=(figlen, figheigth))\n",
    "    ax = axes()\n",
    "    hold(True)\n",
    "\n",
    "    i = 0\n",
    "    for g in genes:\n",
    "        bp = boxplot(d[g], positions=[i+1,i+2],widths=0.6)\n",
    "        setBoxColors(bp)\n",
    "        i+=2\n",
    "\n",
    "    # set axes limits and labels\n",
    "    plt.xticks(range(0, (len(genes)+1) * 2, 2), [''] + genes)\n",
    "    if selectedgene == None:\n",
    "        plt.title('MSS and MSI tumors comparison')\n",
    "\n",
    "    else:\n",
    "        plt.title(selectedgene+' deficient ('+str(len(d[selectedgene][0]))+' tumors) and MSI tumors comparison')\n",
    "    # draw temporary red and blue lines and use them to create a legend\n",
    "    hR, = plot([1,1],'r-')\n",
    "    hB, = plot([1,1],'b-')\n",
    "    if selectedgene == None:\n",
    "        legend((hR, hB),('MSI tumors','MSS'))\n",
    "    else:\n",
    "        legend((hR, hB),('MSI tumors',selectedgene+' deficient tumors'))\n",
    "    hB.set_visible(False)\n",
    "    hR.set_visible(False)\n",
    "\n",
    "    if selectedgene == None:\n",
    "        savefig('results/MSS and MSI tumors comparison.png')\n",
    "    else:\n",
    "        savefig('results/'+selectedgene+' deficient and MSI tumors comparison.png')\n",
    "    show()"
   ]
  },
  {
   "cell_type": "code",
   "execution_count": 5,
   "metadata": {},
   "outputs": [
    {
     "ename": "FileNotFoundError",
     "evalue": "File b'data/prostate/mmr_mutation.txt' does not exist",
     "output_type": "error",
     "traceback": [
      "\u001b[0;31m---------------------------------------------------------------------------\u001b[0m",
      "\u001b[0;31mFileNotFoundError\u001b[0m                         Traceback (most recent call last)",
      "\u001b[0;32m<ipython-input-5-f7f77c975d13>\u001b[0m in \u001b[0;36m<module>\u001b[0;34m()\u001b[0m\n\u001b[0;32m----> 1\u001b[0;31m \u001b[0mgenes\u001b[0m \u001b[0;34m=\u001b[0m \u001b[0mlist\u001b[0m\u001b[0;34m(\u001b[0m\u001b[0mpd\u001b[0m\u001b[0;34m.\u001b[0m\u001b[0mread_table\u001b[0m\u001b[0;34m(\u001b[0m\u001b[0;34m'data/prostate/mmr_mutation.txt'\u001b[0m\u001b[0;34m)\u001b[0m\u001b[0;34m[\u001b[0m\u001b[0;34m'COMMON'\u001b[0m\u001b[0;34m]\u001b[0m\u001b[0;34m)\u001b[0m\u001b[0;34m\u001b[0m\u001b[0m\n\u001b[0m\u001b[1;32m      2\u001b[0m \u001b[0mgenes\u001b[0m\u001b[0;34m\u001b[0m\u001b[0m\n",
      "\u001b[0;32m/usr/local/lib/python3.5/dist-packages/pandas/io/parsers.py\u001b[0m in \u001b[0;36mparser_f\u001b[0;34m(filepath_or_buffer, sep, delimiter, header, names, index_col, usecols, squeeze, prefix, mangle_dupe_cols, dtype, engine, converters, true_values, false_values, skipinitialspace, skiprows, nrows, na_values, keep_default_na, na_filter, verbose, skip_blank_lines, parse_dates, infer_datetime_format, keep_date_col, date_parser, dayfirst, iterator, chunksize, compression, thousands, decimal, lineterminator, quotechar, quoting, escapechar, comment, encoding, dialect, tupleize_cols, error_bad_lines, warn_bad_lines, skipfooter, skip_footer, doublequote, delim_whitespace, as_recarray, compact_ints, use_unsigned, low_memory, buffer_lines, memory_map, float_precision)\u001b[0m\n\u001b[1;32m    653\u001b[0m                     skip_blank_lines=skip_blank_lines)\n\u001b[1;32m    654\u001b[0m \u001b[0;34m\u001b[0m\u001b[0m\n\u001b[0;32m--> 655\u001b[0;31m         \u001b[0;32mreturn\u001b[0m \u001b[0m_read\u001b[0m\u001b[0;34m(\u001b[0m\u001b[0mfilepath_or_buffer\u001b[0m\u001b[0;34m,\u001b[0m \u001b[0mkwds\u001b[0m\u001b[0;34m)\u001b[0m\u001b[0;34m\u001b[0m\u001b[0m\n\u001b[0m\u001b[1;32m    656\u001b[0m \u001b[0;34m\u001b[0m\u001b[0m\n\u001b[1;32m    657\u001b[0m     \u001b[0mparser_f\u001b[0m\u001b[0;34m.\u001b[0m\u001b[0m__name__\u001b[0m \u001b[0;34m=\u001b[0m \u001b[0mname\u001b[0m\u001b[0;34m\u001b[0m\u001b[0m\n",
      "\u001b[0;32m/usr/local/lib/python3.5/dist-packages/pandas/io/parsers.py\u001b[0m in \u001b[0;36m_read\u001b[0;34m(filepath_or_buffer, kwds)\u001b[0m\n\u001b[1;32m    403\u001b[0m \u001b[0;34m\u001b[0m\u001b[0m\n\u001b[1;32m    404\u001b[0m     \u001b[0;31m# Create the parser.\u001b[0m\u001b[0;34m\u001b[0m\u001b[0;34m\u001b[0m\u001b[0m\n\u001b[0;32m--> 405\u001b[0;31m     \u001b[0mparser\u001b[0m \u001b[0;34m=\u001b[0m \u001b[0mTextFileReader\u001b[0m\u001b[0;34m(\u001b[0m\u001b[0mfilepath_or_buffer\u001b[0m\u001b[0;34m,\u001b[0m \u001b[0;34m**\u001b[0m\u001b[0mkwds\u001b[0m\u001b[0;34m)\u001b[0m\u001b[0;34m\u001b[0m\u001b[0m\n\u001b[0m\u001b[1;32m    406\u001b[0m \u001b[0;34m\u001b[0m\u001b[0m\n\u001b[1;32m    407\u001b[0m     \u001b[0;32mif\u001b[0m \u001b[0mchunksize\u001b[0m \u001b[0;32mor\u001b[0m \u001b[0miterator\u001b[0m\u001b[0;34m:\u001b[0m\u001b[0;34m\u001b[0m\u001b[0m\n",
      "\u001b[0;32m/usr/local/lib/python3.5/dist-packages/pandas/io/parsers.py\u001b[0m in \u001b[0;36m__init__\u001b[0;34m(self, f, engine, **kwds)\u001b[0m\n\u001b[1;32m    762\u001b[0m             \u001b[0mself\u001b[0m\u001b[0;34m.\u001b[0m\u001b[0moptions\u001b[0m\u001b[0;34m[\u001b[0m\u001b[0;34m'has_index_names'\u001b[0m\u001b[0;34m]\u001b[0m \u001b[0;34m=\u001b[0m \u001b[0mkwds\u001b[0m\u001b[0;34m[\u001b[0m\u001b[0;34m'has_index_names'\u001b[0m\u001b[0;34m]\u001b[0m\u001b[0;34m\u001b[0m\u001b[0m\n\u001b[1;32m    763\u001b[0m \u001b[0;34m\u001b[0m\u001b[0m\n\u001b[0;32m--> 764\u001b[0;31m         \u001b[0mself\u001b[0m\u001b[0;34m.\u001b[0m\u001b[0m_make_engine\u001b[0m\u001b[0;34m(\u001b[0m\u001b[0mself\u001b[0m\u001b[0;34m.\u001b[0m\u001b[0mengine\u001b[0m\u001b[0;34m)\u001b[0m\u001b[0;34m\u001b[0m\u001b[0m\n\u001b[0m\u001b[1;32m    765\u001b[0m \u001b[0;34m\u001b[0m\u001b[0m\n\u001b[1;32m    766\u001b[0m     \u001b[0;32mdef\u001b[0m \u001b[0mclose\u001b[0m\u001b[0;34m(\u001b[0m\u001b[0mself\u001b[0m\u001b[0;34m)\u001b[0m\u001b[0;34m:\u001b[0m\u001b[0;34m\u001b[0m\u001b[0m\n",
      "\u001b[0;32m/usr/local/lib/python3.5/dist-packages/pandas/io/parsers.py\u001b[0m in \u001b[0;36m_make_engine\u001b[0;34m(self, engine)\u001b[0m\n\u001b[1;32m    983\u001b[0m     \u001b[0;32mdef\u001b[0m \u001b[0m_make_engine\u001b[0m\u001b[0;34m(\u001b[0m\u001b[0mself\u001b[0m\u001b[0;34m,\u001b[0m \u001b[0mengine\u001b[0m\u001b[0;34m=\u001b[0m\u001b[0;34m'c'\u001b[0m\u001b[0;34m)\u001b[0m\u001b[0;34m:\u001b[0m\u001b[0;34m\u001b[0m\u001b[0m\n\u001b[1;32m    984\u001b[0m         \u001b[0;32mif\u001b[0m \u001b[0mengine\u001b[0m \u001b[0;34m==\u001b[0m \u001b[0;34m'c'\u001b[0m\u001b[0;34m:\u001b[0m\u001b[0;34m\u001b[0m\u001b[0m\n\u001b[0;32m--> 985\u001b[0;31m             \u001b[0mself\u001b[0m\u001b[0;34m.\u001b[0m\u001b[0m_engine\u001b[0m \u001b[0;34m=\u001b[0m \u001b[0mCParserWrapper\u001b[0m\u001b[0;34m(\u001b[0m\u001b[0mself\u001b[0m\u001b[0;34m.\u001b[0m\u001b[0mf\u001b[0m\u001b[0;34m,\u001b[0m \u001b[0;34m**\u001b[0m\u001b[0mself\u001b[0m\u001b[0;34m.\u001b[0m\u001b[0moptions\u001b[0m\u001b[0;34m)\u001b[0m\u001b[0;34m\u001b[0m\u001b[0m\n\u001b[0m\u001b[1;32m    986\u001b[0m         \u001b[0;32melse\u001b[0m\u001b[0;34m:\u001b[0m\u001b[0;34m\u001b[0m\u001b[0m\n\u001b[1;32m    987\u001b[0m             \u001b[0;32mif\u001b[0m \u001b[0mengine\u001b[0m \u001b[0;34m==\u001b[0m \u001b[0;34m'python'\u001b[0m\u001b[0;34m:\u001b[0m\u001b[0;34m\u001b[0m\u001b[0m\n",
      "\u001b[0;32m/usr/local/lib/python3.5/dist-packages/pandas/io/parsers.py\u001b[0m in \u001b[0;36m__init__\u001b[0;34m(self, src, **kwds)\u001b[0m\n\u001b[1;32m   1603\u001b[0m         \u001b[0mkwds\u001b[0m\u001b[0;34m[\u001b[0m\u001b[0;34m'allow_leading_cols'\u001b[0m\u001b[0;34m]\u001b[0m \u001b[0;34m=\u001b[0m \u001b[0mself\u001b[0m\u001b[0;34m.\u001b[0m\u001b[0mindex_col\u001b[0m \u001b[0;32mis\u001b[0m \u001b[0;32mnot\u001b[0m \u001b[0;32mFalse\u001b[0m\u001b[0;34m\u001b[0m\u001b[0m\n\u001b[1;32m   1604\u001b[0m \u001b[0;34m\u001b[0m\u001b[0m\n\u001b[0;32m-> 1605\u001b[0;31m         \u001b[0mself\u001b[0m\u001b[0;34m.\u001b[0m\u001b[0m_reader\u001b[0m \u001b[0;34m=\u001b[0m \u001b[0mparsers\u001b[0m\u001b[0;34m.\u001b[0m\u001b[0mTextReader\u001b[0m\u001b[0;34m(\u001b[0m\u001b[0msrc\u001b[0m\u001b[0;34m,\u001b[0m \u001b[0;34m**\u001b[0m\u001b[0mkwds\u001b[0m\u001b[0;34m)\u001b[0m\u001b[0;34m\u001b[0m\u001b[0m\n\u001b[0m\u001b[1;32m   1606\u001b[0m \u001b[0;34m\u001b[0m\u001b[0m\n\u001b[1;32m   1607\u001b[0m         \u001b[0;31m# XXX\u001b[0m\u001b[0;34m\u001b[0m\u001b[0;34m\u001b[0m\u001b[0m\n",
      "\u001b[0;32mpandas/_libs/parsers.pyx\u001b[0m in \u001b[0;36mpandas._libs.parsers.TextReader.__cinit__ (pandas/_libs/parsers.c:4209)\u001b[0;34m()\u001b[0m\n",
      "\u001b[0;32mpandas/_libs/parsers.pyx\u001b[0m in \u001b[0;36mpandas._libs.parsers.TextReader._setup_parser_source (pandas/_libs/parsers.c:8873)\u001b[0;34m()\u001b[0m\n",
      "\u001b[0;31mFileNotFoundError\u001b[0m: File b'data/prostate/mmr_mutation.txt' does not exist"
     ]
    }
   ],
   "source": [
    "genes = list(pd.read_table('data/prostate/mmr_mutation.txt')['COMMON'])\n",
    "genes"
   ]
  },
  {
   "cell_type": "code",
   "execution_count": null,
   "metadata": {},
   "outputs": [],
   "source": [
    "# df1 = load_data('data/stomach/mrr_methylation.txt', cat='meth')\n",
    "# df1.head()"
   ]
  },
  {
   "cell_type": "code",
   "execution_count": null,
   "metadata": {},
   "outputs": [],
   "source": [
    "df2 = load_ces('data/prostate/ces_expr.txt')\n",
    "df2.head()"
   ]
  },
  {
   "cell_type": "code",
   "execution_count": null,
   "metadata": {},
   "outputs": [],
   "source": [
    "df3 = load_data('data/prostate/mmr_expr.txt', cat='expr')\n",
    "df3.head()"
   ]
  },
  {
   "cell_type": "code",
   "execution_count": null,
   "metadata": {},
   "outputs": [],
   "source": [
    "df4 = load_data('data/prostate/mmr_mutation.txt', cat='mut')\n",
    "df4.head()"
   ]
  },
  {
   "cell_type": "code",
   "execution_count": null,
   "metadata": {},
   "outputs": [],
   "source": [
    "df5 = load_mutation('data/prostate/cna_mutation.txt')\n",
    "df5.head()"
   ]
  },
  {
   "cell_type": "code",
   "execution_count": null,
   "metadata": {},
   "outputs": [],
   "source": [
    "df = df2.merge(df3, right_index=True, left_index=True, how='outer')\n",
    "df = df.merge(df4, left_index=True, right_index=True, how='outer')\n",
    "df = df.merge(df5, left_index=True, right_index=True, how='outer')\n",
    "# df = df.merge(df4, left_on='Sample ID', right_index=True)\n",
    "df.head()"
   ]
  },
  {
   "cell_type": "code",
   "execution_count": null,
   "metadata": {},
   "outputs": [],
   "source": [
    "plt.scatter(df['ces'],df['Mutation Count'])\n",
    "plt.xlabel('CES')\n",
    "plt.ylabel('Mutation Count')\n",
    "plt.show()"
   ]
  },
  {
   "cell_type": "markdown",
   "metadata": {},
   "source": [
    "# MSI status in function of gene expression"
   ]
  },
  {
   "cell_type": "markdown",
   "metadata": {},
   "source": [
    "If the tumor is is in the lower 10% for one gene expression, it is labelled as MSI."
   ]
  },
  {
   "cell_type": "code",
   "execution_count": null,
   "metadata": {},
   "outputs": [],
   "source": [
    "df['msi_status'] = np.zeros(len(df))\n",
    "df['msi_deficiency'] = [list() for x in range(len(df.index))]\n",
    "for g in genes:\n",
    "    limit = df[g+'_expr'].quantile(0.05)\n",
    "    limit2 = df[g+'_expr'].quantile(0.1)\n",
    "    for ix in df[df[g+'_expr']<limit]['msi_status'].index:\n",
    "        df = df.set_value(ix,'msi_status',1)\n",
    "        df = df.set_value(ix,'msi_deficiency',df['msi_deficiency'][ix]+[g])\n",
    "        \n",
    "    for ix in df[df[g+'_expr']<limit2]['msi_status'].index:\n",
    "        try:\n",
    "            status = float(df[ix:ix+1]['msi_status'])\n",
    "        except:\n",
    "            status = -1\n",
    "        \n",
    "        if status == 0.:\n",
    "            df = df.set_value(ix,'msi_status',0.5)\n",
    "        elif status == 0.5:\n",
    "            df = df.set_value(ix,'msi_status',0.1)\n",
    "\n",
    "df.head()"
   ]
  },
  {
   "cell_type": "markdown",
   "metadata": {},
   "source": [
    "# MSI status in function of mutation"
   ]
  },
  {
   "cell_type": "markdown",
   "metadata": {},
   "source": [
    "If one the the gene in the pathway is mutated, the tumor is classified as MSI."
   ]
  },
  {
   "cell_type": "code",
   "execution_count": null,
   "metadata": {},
   "outputs": [],
   "source": [
    "for g in genes:\n",
    "    no_mutations = pd.isnull(df[g+'_mut'])\n",
    "    for ix in no_mutations[no_mutations==False].index:\n",
    "        df = df.set_value(ix,'msi_status',1)"
   ]
  },
  {
   "cell_type": "code",
   "execution_count": null,
   "metadata": {},
   "outputs": [],
   "source": [
    "msi = df[df['msi_status']>=0.9]\n",
    "print(str(len(msi)/float(len(df))*100) + '% of tumors are presumed MSI tumors')\n",
    "print('Usually 15% of colorectal cancers are MMR deficient.')\n",
    "print(str(float(np.sum(msi['Mutation Count']>400))/float(len(msi))*100) + '% of presumed MSI tumors have more than 400 mutations')\n",
    "print(str(float(np.sum(msi['Mutation Count']>400))*100./len(df[df['Mutation Count']>400]))+'% of tumors with more than 400 mutations are presumably MSI.')\n",
    "print(str(float(np.sum(df['msi_status']==0.99))*100./len(msi))+'% of tumors are MSI because they have 2 underexpressed genes.')"
   ]
  },
  {
   "cell_type": "markdown",
   "metadata": {},
   "source": [
    "# CES, Mutations and MRR status"
   ]
  },
  {
   "cell_type": "code",
   "execution_count": null,
   "metadata": {},
   "outputs": [],
   "source": [
    "plt.scatter(df['ces'],df['Mutation Count'],c=df['msi_status'],cmap=plt.cm.Set1,marker='o')\n",
    "plt.xlabel('CES')\n",
    "plt.ylabel('Mutation Count')\n",
    "plt.show()"
   ]
  },
  {
   "cell_type": "code",
   "execution_count": null,
   "metadata": {},
   "outputs": [],
   "source": [
    "plt.scatter(df['ces'],df['Mutation Count'],c=df['msi_status'],cmap=plt.cm.Set1,marker='o')\n",
    "plt.xlabel('CES')\n",
    "plt.ylim(0,400)\n",
    "plt.ylabel('Mutation Count')\n",
    "plt.show()"
   ]
  },
  {
   "cell_type": "code",
   "execution_count": null,
   "metadata": {
    "scrolled": false
   },
   "outputs": [],
   "source": [
    "print('Spearman Correlation P-value between CES and mutation for:')\n",
    "print('MSS tumors')\n",
    "print(scipy.stats.spearmanr(df[df['msi_status']==0]['ces'], df[df['msi_status']==0]['Mutation Count']).pvalue)\n",
    "print('MSI tumors')\n",
    "print(scipy.stats.spearmanr(df[df['msi_status']==1]['ces'], df[df['msi_status']==1]['Mutation Count']).pvalue)\n",
    "print('All tumors')\n",
    "print(scipy.stats.spearmanr(df['ces'], df['Mutation Count']).pvalue)"
   ]
  },
  {
   "cell_type": "code",
   "execution_count": null,
   "metadata": {},
   "outputs": [],
   "source": [
    "plt.scatter(df['ces'],df['CNA'],c=df['msi_status'],cmap=plt.cm.Set1,marker='o')\n",
    "plt.xlabel('CES')\n",
    "plt.ylabel('CNA')\n",
    "plt.show()"
   ]
  },
  {
   "cell_type": "code",
   "execution_count": null,
   "metadata": {
    "scrolled": false
   },
   "outputs": [],
   "source": [
    "boxplotcomp()\n",
    "for g in genes:\n",
    "    boxplotcomp(g)"
   ]
  },
  {
   "cell_type": "markdown",
   "metadata": {},
   "source": [
    "# Clustering "
   ]
  },
  {
   "cell_type": "code",
   "execution_count": null,
   "metadata": {},
   "outputs": [],
   "source": [
    "for g in genes:\n",
    "    df[g+'_m']=np.zeros(len(df))\n",
    "    for ix,row in df.iterrows():\n",
    "        if type(df.loc[ix,g+'_mut']) is str:\n",
    "            df.loc[ix,g+'_m'] = 1  \n",
    "df.head()"
   ]
  },
  {
   "cell_type": "code",
   "execution_count": null,
   "metadata": {},
   "outputs": [],
   "source": [
    "import sklearn.cluster as cl\n",
    "li = [s+'_expr' for s in genes] + [s+'_m' for s in genes] + [s+'_meth' for s in genes] + ['msi_status']\n",
    "dataset = df[li].dropna()\n",
    "kmeans = cl.KMeans(n_clusters=2, random_state=0).fit(dataset.drop(['msi_status'],axis=1))\n",
    "dataset['cluster_status'] = kmeans.labels_"
   ]
  },
  {
   "cell_type": "code",
   "execution_count": null,
   "metadata": {
    "scrolled": true
   },
   "outputs": [],
   "source": [
    "dataset['benchmark'] = np.zeros(len(dataset))\n",
    "for ix,row in dataset.iterrows():\n",
    "    if row['msi_status'] == 0:\n",
    "        if row['cluster_status'] == 0:\n",
    "            dataset.loc[ix,'benchmark'] = 'TN'\n",
    "        elif row['cluster_status'] == 1:\n",
    "            dataset.loc[ix, 'benchmark'] = 'FP'\n",
    "            \n",
    "    elif row['msi_status'] == 1:\n",
    "        if row['cluster_status'] == 0:\n",
    "            dataset.loc[ix,'benchmark'] = 'FN'\n",
    "        elif row['cluster_status'] == 1:\n",
    "            dataset.loc[ix, 'benchmark'] = 'TP'"
   ]
  },
  {
   "cell_type": "code",
   "execution_count": null,
   "metadata": {},
   "outputs": [],
   "source": [
    "bench = dataset['benchmark'].value_counts()\n",
    "print(str(len(dataset)-bench[0]) + ' tumors classified by both algorithm')\n",
    "print('Recall = '+str(bench['TP']/(bench['TP']+bench['FN'] )))\n",
    "print('Precision = '+str(bench['TP']/(bench['TP']+bench['FP'] )))"
   ]
  },
  {
   "cell_type": "code",
   "execution_count": null,
   "metadata": {},
   "outputs": [],
   "source": []
  }
 ],
 "metadata": {
  "anaconda-cloud": {},
  "kernelspec": {
   "display_name": "Python 3",
   "language": "python",
   "name": "python3"
  },
  "language_info": {
   "codemirror_mode": {
    "name": "ipython",
    "version": 3
   },
   "file_extension": ".py",
   "mimetype": "text/x-python",
   "name": "python",
   "nbconvert_exporter": "python",
   "pygments_lexer": "ipython3",
   "version": "3.5.2"
  }
 },
 "nbformat": 4,
 "nbformat_minor": 2
}
